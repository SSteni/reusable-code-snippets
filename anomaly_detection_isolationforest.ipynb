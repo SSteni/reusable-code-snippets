{
 "cells": [
  {
   "cell_type": "code",
   "execution_count": 1,
   "metadata": {},
   "outputs": [],
   "source": [
    "import pandas as pd \n",
    "import numpy as np\n",
    "import plotly.graph_objects as go\n",
    "import matplotlib.pyplot as plt\n",
    "import seaborn as sns\n",
    "import sklearn"
   ]
  },
  {
   "cell_type": "code",
   "execution_count": 70,
   "metadata": {},
   "outputs": [],
   "source": [
    "# Load data\n",
    "df = pd.read_csv('C:/Users/249881/Desktop/unilever/data/new_data.csv')\n",
    "df.shape\n",
    "\n",
    "#Convert Period to Datetime-object\n",
    "df['Period'] = pd.to_datetime(df['Period'], dayfirst=True)"
   ]
  },
  {
   "cell_type": "code",
   "execution_count": 71,
   "metadata": {},
   "outputs": [],
   "source": [
    "df.isnull().sum().to_clipboard()"
   ]
  },
  {
   "cell_type": "code",
   "execution_count": 72,
   "metadata": {},
   "outputs": [],
   "source": [
    "# Ignoring columns with higher number of missing values\n",
    "df_sub = df[['Period', 'Target_SodaAshLightChinaSpotExportAverageFOBChinaUSperMetricTon', 'InvescoTAN_Price', 'ICLN_Price', 'CCFI', 'CSCFI', 'BDI', 'China_Production_000_MT', 'China_Demand_Total_000_MT', 'US_Production_000_MT', 'US_Demand_Total_000_MT', 'US_Export_000_MT', 'EU_Production_000_MT', 'EU_Demand_Total_000_MT', 'EU_Export_000_MT', 'Coke', 'NaturalGasIndex', 'CoalIndex', 'shanghai_pm25', 'shanghai_pm10', 'beijing_pm25', 'beijing_pm10', 'BRA_CPI', 'CHN_CPI', 'DEU_CPI', 'FRA_CPI', 'GBR_CPI', 'IND_CPI', 'JPN_CPI', 'KOR_CPI', 'MEX_CPI', 'USA_CPI', 'US_SI', 'China_SI', 'UK_SI', 'Germany_SI', 'India_SI', 'Brazil_SI', 'Indonesia_SI', 'SouthKorea_SI', 'Japan_SI', 'Mexico_SI']]"
   ]
  },
  {
   "cell_type": "code",
   "execution_count": 73,
   "metadata": {},
   "outputs": [
    {
     "data": {
      "text/plain": [
       "(123, 42)"
      ]
     },
     "execution_count": 73,
     "metadata": {},
     "output_type": "execute_result"
    }
   ],
   "source": [
    "# df_sub.isnull().sum()\n",
    "df_sub.shape\n",
    "df_sub = df_sub.dropna()\n",
    "df_sub.shape"
   ]
  },
  {
   "cell_type": "code",
   "execution_count": 74,
   "metadata": {},
   "outputs": [
    {
     "name": "stdout",
     "output_type": "stream",
     "text": [
      "2014-01-01 00:00:00\n",
      "2024-03-01 00:00:00\n",
      "123\n"
     ]
    }
   ],
   "source": [
    "df_price = df_sub[['Period', 'Target_SodaAshLightChinaSpotExportAverageFOBChinaUSperMetricTon']]\n",
    "# df_price = df_price.dropna()\n",
    "print(df_price['Period'].min())\n",
    "print(df_price['Period'].max())\n",
    "print(len(df_price['Period']))"
   ]
  },
  {
   "cell_type": "markdown",
   "metadata": {},
   "source": [
    "### Watch the trend of price"
   ]
  },
  {
   "cell_type": "code",
   "execution_count": 17,
   "metadata": {},
   "outputs": [
    {
     "data": {
      "text/html": [
       "        <script type=\"text/javascript\">\n",
       "        window.PlotlyConfig = {MathJaxConfig: 'local'};\n",
       "        if (window.MathJax && window.MathJax.Hub && window.MathJax.Hub.Config) {window.MathJax.Hub.Config({SVG: {font: \"STIX-Web\"}});}\n",
       "        if (typeof require !== 'undefined') {\n",
       "        require.undef(\"plotly\");\n",
       "        requirejs.config({\n",
       "            paths: {\n",
       "                'plotly': ['https://cdn.plot.ly/plotly-2.12.1.min']\n",
       "            }\n",
       "        });\n",
       "        require(['plotly'], function(Plotly) {\n",
       "            window._Plotly = Plotly;\n",
       "        });\n",
       "        }\n",
       "        </script>\n",
       "        "
      ]
     },
     "metadata": {},
     "output_type": "display_data"
    },
    {
     "name": "stderr",
     "output_type": "stream",
     "text": [
      "c:\\Users\\249881\\AppData\\Local\\anaconda3\\Lib\\site-packages\\_plotly_utils\\basevalidators.py:106: FutureWarning:\n",
      "\n",
      "The behavior of DatetimeProperties.to_pydatetime is deprecated, in a future version this will return a Series containing python datetime objects instead of an ndarray. To retain the old behavior, call `np.array` on the result\n",
      "\n"
     ]
    },
    {
     "data": {
      "application/vnd.plotly.v1+json": {
       "config": {
        "linkText": "Export to plot.ly",
        "plotlyServerURL": "https://plot.ly",
        "showLink": false
       },
       "data": [
        {
         "type": "scatter",
         "x": [
          "2014-01-01T00:00:00",
          "2014-02-01T00:00:00",
          "2014-03-01T00:00:00",
          "2014-04-01T00:00:00",
          "2014-05-01T00:00:00",
          "2014-06-01T00:00:00",
          "2014-07-01T00:00:00",
          "2014-08-01T00:00:00",
          "2014-09-01T00:00:00",
          "2014-10-01T00:00:00",
          "2014-11-01T00:00:00",
          "2014-12-01T00:00:00",
          "2015-01-01T00:00:00",
          "2015-02-01T00:00:00",
          "2015-03-01T00:00:00",
          "2015-04-01T00:00:00",
          "2015-05-01T00:00:00",
          "2015-06-01T00:00:00",
          "2015-07-01T00:00:00",
          "2015-08-01T00:00:00",
          "2015-09-01T00:00:00",
          "2015-10-01T00:00:00",
          "2015-11-01T00:00:00",
          "2015-12-01T00:00:00",
          "2016-01-01T00:00:00",
          "2016-02-01T00:00:00",
          "2016-03-01T00:00:00",
          "2016-04-01T00:00:00",
          "2016-05-01T00:00:00",
          "2016-06-01T00:00:00",
          "2016-07-01T00:00:00",
          "2016-08-01T00:00:00",
          "2016-09-01T00:00:00",
          "2016-10-01T00:00:00",
          "2016-11-01T00:00:00",
          "2016-12-01T00:00:00",
          "2017-01-01T00:00:00",
          "2017-02-01T00:00:00",
          "2017-03-01T00:00:00",
          "2017-04-01T00:00:00",
          "2017-05-01T00:00:00",
          "2017-06-01T00:00:00",
          "2017-07-01T00:00:00",
          "2017-08-01T00:00:00",
          "2017-09-01T00:00:00",
          "2017-10-01T00:00:00",
          "2017-11-01T00:00:00",
          "2017-12-01T00:00:00",
          "2018-01-01T00:00:00",
          "2018-02-01T00:00:00",
          "2018-03-01T00:00:00",
          "2018-04-01T00:00:00",
          "2018-05-01T00:00:00",
          "2018-06-01T00:00:00",
          "2018-07-01T00:00:00",
          "2018-08-01T00:00:00",
          "2018-09-01T00:00:00",
          "2018-10-01T00:00:00",
          "2018-11-01T00:00:00",
          "2018-12-01T00:00:00",
          "2019-01-01T00:00:00",
          "2019-02-01T00:00:00",
          "2019-03-01T00:00:00",
          "2019-04-01T00:00:00",
          "2019-05-01T00:00:00",
          "2019-06-01T00:00:00",
          "2019-07-01T00:00:00",
          "2019-08-01T00:00:00",
          "2019-09-01T00:00:00",
          "2019-10-01T00:00:00",
          "2019-11-01T00:00:00",
          "2019-12-01T00:00:00",
          "2020-01-01T00:00:00",
          "2020-02-01T00:00:00",
          "2020-03-01T00:00:00",
          "2020-04-01T00:00:00",
          "2020-05-01T00:00:00",
          "2020-06-01T00:00:00",
          "2020-07-01T00:00:00",
          "2020-08-01T00:00:00",
          "2020-09-01T00:00:00",
          "2020-10-01T00:00:00",
          "2020-11-01T00:00:00",
          "2020-12-01T00:00:00",
          "2021-01-01T00:00:00",
          "2021-02-01T00:00:00",
          "2021-03-01T00:00:00",
          "2021-04-01T00:00:00",
          "2021-05-01T00:00:00",
          "2021-06-01T00:00:00",
          "2021-07-01T00:00:00",
          "2021-08-01T00:00:00",
          "2021-09-01T00:00:00",
          "2021-10-01T00:00:00",
          "2021-11-01T00:00:00",
          "2021-12-01T00:00:00",
          "2022-01-01T00:00:00",
          "2022-02-01T00:00:00",
          "2022-03-01T00:00:00",
          "2022-04-01T00:00:00",
          "2022-05-01T00:00:00",
          "2022-06-01T00:00:00",
          "2022-07-01T00:00:00",
          "2022-08-01T00:00:00",
          "2022-09-01T00:00:00",
          "2022-10-01T00:00:00",
          "2022-11-01T00:00:00",
          "2022-12-01T00:00:00",
          "2023-01-01T00:00:00",
          "2023-02-01T00:00:00",
          "2023-03-01T00:00:00",
          "2023-04-01T00:00:00",
          "2023-05-01T00:00:00",
          "2023-06-01T00:00:00",
          "2023-07-01T00:00:00",
          "2023-08-01T00:00:00",
          "2023-09-01T00:00:00",
          "2023-10-01T00:00:00",
          "2023-11-01T00:00:00",
          "2023-12-01T00:00:00",
          "2024-01-01T00:00:00",
          "2024-02-01T00:00:00",
          "2024-03-01T00:00:00"
         ],
         "y": [
          227.5,
          223.75,
          218.75,
          221.25,
          230,
          235,
          230,
          225,
          225,
          225,
          225,
          225,
          225,
          225,
          225,
          220,
          215,
          215,
          212.5,
          205,
          195,
          190,
          190,
          192.5,
          196.25,
          215,
          227.5,
          215,
          203.75,
          193.75,
          188.75,
          190,
          190,
          212.5,
          240,
          250,
          255,
          245,
          230,
          220,
          212.5,
          216.25,
          223.75,
          230,
          305,
          297.5,
          285,
          260,
          240,
          237.5,
          246.25,
          287.5,
          292.5,
          287.5,
          263.75,
          265,
          270,
          271.25,
          271.25,
          265,
          256.25,
          252.5,
          252.5,
          257.5,
          258.75,
          245,
          227.5,
          223.75,
          230,
          228.75,
          221.25,
          216.25,
          210,
          213.75,
          207.5,
          190,
          168.75,
          158.75,
          162.5,
          170,
          197.5,
          212.5,
          205,
          195,
          200,
          202.5,
          218.75,
          236.25,
          252.5,
          252.5,
          282.5,
          325,
          402.5,
          507.5,
          510,
          420,
          330,
          395,
          435,
          435,
          462.5,
          461,
          417.5,
          370,
          362.5,
          363.75,
          360,
          370,
          377.5,
          397.5,
          400,
          387.5,
          311,
          263,
          317,
          316,
          395,
          313,
          288,
          370,
          285,
          265,
          260
         ]
        }
       ],
       "layout": {
        "template": {
         "data": {
          "bar": [
           {
            "error_x": {
             "color": "#2a3f5f"
            },
            "error_y": {
             "color": "#2a3f5f"
            },
            "marker": {
             "line": {
              "color": "#E5ECF6",
              "width": 0.5
             },
             "pattern": {
              "fillmode": "overlay",
              "size": 10,
              "solidity": 0.2
             }
            },
            "type": "bar"
           }
          ],
          "barpolar": [
           {
            "marker": {
             "line": {
              "color": "#E5ECF6",
              "width": 0.5
             },
             "pattern": {
              "fillmode": "overlay",
              "size": 10,
              "solidity": 0.2
             }
            },
            "type": "barpolar"
           }
          ],
          "carpet": [
           {
            "aaxis": {
             "endlinecolor": "#2a3f5f",
             "gridcolor": "white",
             "linecolor": "white",
             "minorgridcolor": "white",
             "startlinecolor": "#2a3f5f"
            },
            "baxis": {
             "endlinecolor": "#2a3f5f",
             "gridcolor": "white",
             "linecolor": "white",
             "minorgridcolor": "white",
             "startlinecolor": "#2a3f5f"
            },
            "type": "carpet"
           }
          ],
          "choropleth": [
           {
            "colorbar": {
             "outlinewidth": 0,
             "ticks": ""
            },
            "type": "choropleth"
           }
          ],
          "contour": [
           {
            "colorbar": {
             "outlinewidth": 0,
             "ticks": ""
            },
            "colorscale": [
             [
              0,
              "#0d0887"
             ],
             [
              0.1111111111111111,
              "#46039f"
             ],
             [
              0.2222222222222222,
              "#7201a8"
             ],
             [
              0.3333333333333333,
              "#9c179e"
             ],
             [
              0.4444444444444444,
              "#bd3786"
             ],
             [
              0.5555555555555556,
              "#d8576b"
             ],
             [
              0.6666666666666666,
              "#ed7953"
             ],
             [
              0.7777777777777778,
              "#fb9f3a"
             ],
             [
              0.8888888888888888,
              "#fdca26"
             ],
             [
              1,
              "#f0f921"
             ]
            ],
            "type": "contour"
           }
          ],
          "contourcarpet": [
           {
            "colorbar": {
             "outlinewidth": 0,
             "ticks": ""
            },
            "type": "contourcarpet"
           }
          ],
          "heatmap": [
           {
            "colorbar": {
             "outlinewidth": 0,
             "ticks": ""
            },
            "colorscale": [
             [
              0,
              "#0d0887"
             ],
             [
              0.1111111111111111,
              "#46039f"
             ],
             [
              0.2222222222222222,
              "#7201a8"
             ],
             [
              0.3333333333333333,
              "#9c179e"
             ],
             [
              0.4444444444444444,
              "#bd3786"
             ],
             [
              0.5555555555555556,
              "#d8576b"
             ],
             [
              0.6666666666666666,
              "#ed7953"
             ],
             [
              0.7777777777777778,
              "#fb9f3a"
             ],
             [
              0.8888888888888888,
              "#fdca26"
             ],
             [
              1,
              "#f0f921"
             ]
            ],
            "type": "heatmap"
           }
          ],
          "heatmapgl": [
           {
            "colorbar": {
             "outlinewidth": 0,
             "ticks": ""
            },
            "colorscale": [
             [
              0,
              "#0d0887"
             ],
             [
              0.1111111111111111,
              "#46039f"
             ],
             [
              0.2222222222222222,
              "#7201a8"
             ],
             [
              0.3333333333333333,
              "#9c179e"
             ],
             [
              0.4444444444444444,
              "#bd3786"
             ],
             [
              0.5555555555555556,
              "#d8576b"
             ],
             [
              0.6666666666666666,
              "#ed7953"
             ],
             [
              0.7777777777777778,
              "#fb9f3a"
             ],
             [
              0.8888888888888888,
              "#fdca26"
             ],
             [
              1,
              "#f0f921"
             ]
            ],
            "type": "heatmapgl"
           }
          ],
          "histogram": [
           {
            "marker": {
             "pattern": {
              "fillmode": "overlay",
              "size": 10,
              "solidity": 0.2
             }
            },
            "type": "histogram"
           }
          ],
          "histogram2d": [
           {
            "colorbar": {
             "outlinewidth": 0,
             "ticks": ""
            },
            "colorscale": [
             [
              0,
              "#0d0887"
             ],
             [
              0.1111111111111111,
              "#46039f"
             ],
             [
              0.2222222222222222,
              "#7201a8"
             ],
             [
              0.3333333333333333,
              "#9c179e"
             ],
             [
              0.4444444444444444,
              "#bd3786"
             ],
             [
              0.5555555555555556,
              "#d8576b"
             ],
             [
              0.6666666666666666,
              "#ed7953"
             ],
             [
              0.7777777777777778,
              "#fb9f3a"
             ],
             [
              0.8888888888888888,
              "#fdca26"
             ],
             [
              1,
              "#f0f921"
             ]
            ],
            "type": "histogram2d"
           }
          ],
          "histogram2dcontour": [
           {
            "colorbar": {
             "outlinewidth": 0,
             "ticks": ""
            },
            "colorscale": [
             [
              0,
              "#0d0887"
             ],
             [
              0.1111111111111111,
              "#46039f"
             ],
             [
              0.2222222222222222,
              "#7201a8"
             ],
             [
              0.3333333333333333,
              "#9c179e"
             ],
             [
              0.4444444444444444,
              "#bd3786"
             ],
             [
              0.5555555555555556,
              "#d8576b"
             ],
             [
              0.6666666666666666,
              "#ed7953"
             ],
             [
              0.7777777777777778,
              "#fb9f3a"
             ],
             [
              0.8888888888888888,
              "#fdca26"
             ],
             [
              1,
              "#f0f921"
             ]
            ],
            "type": "histogram2dcontour"
           }
          ],
          "mesh3d": [
           {
            "colorbar": {
             "outlinewidth": 0,
             "ticks": ""
            },
            "type": "mesh3d"
           }
          ],
          "parcoords": [
           {
            "line": {
             "colorbar": {
              "outlinewidth": 0,
              "ticks": ""
             }
            },
            "type": "parcoords"
           }
          ],
          "pie": [
           {
            "automargin": true,
            "type": "pie"
           }
          ],
          "scatter": [
           {
            "fillpattern": {
             "fillmode": "overlay",
             "size": 10,
             "solidity": 0.2
            },
            "type": "scatter"
           }
          ],
          "scatter3d": [
           {
            "line": {
             "colorbar": {
              "outlinewidth": 0,
              "ticks": ""
             }
            },
            "marker": {
             "colorbar": {
              "outlinewidth": 0,
              "ticks": ""
             }
            },
            "type": "scatter3d"
           }
          ],
          "scattercarpet": [
           {
            "marker": {
             "colorbar": {
              "outlinewidth": 0,
              "ticks": ""
             }
            },
            "type": "scattercarpet"
           }
          ],
          "scattergeo": [
           {
            "marker": {
             "colorbar": {
              "outlinewidth": 0,
              "ticks": ""
             }
            },
            "type": "scattergeo"
           }
          ],
          "scattergl": [
           {
            "marker": {
             "colorbar": {
              "outlinewidth": 0,
              "ticks": ""
             }
            },
            "type": "scattergl"
           }
          ],
          "scattermapbox": [
           {
            "marker": {
             "colorbar": {
              "outlinewidth": 0,
              "ticks": ""
             }
            },
            "type": "scattermapbox"
           }
          ],
          "scatterpolar": [
           {
            "marker": {
             "colorbar": {
              "outlinewidth": 0,
              "ticks": ""
             }
            },
            "type": "scatterpolar"
           }
          ],
          "scatterpolargl": [
           {
            "marker": {
             "colorbar": {
              "outlinewidth": 0,
              "ticks": ""
             }
            },
            "type": "scatterpolargl"
           }
          ],
          "scatterternary": [
           {
            "marker": {
             "colorbar": {
              "outlinewidth": 0,
              "ticks": ""
             }
            },
            "type": "scatterternary"
           }
          ],
          "surface": [
           {
            "colorbar": {
             "outlinewidth": 0,
             "ticks": ""
            },
            "colorscale": [
             [
              0,
              "#0d0887"
             ],
             [
              0.1111111111111111,
              "#46039f"
             ],
             [
              0.2222222222222222,
              "#7201a8"
             ],
             [
              0.3333333333333333,
              "#9c179e"
             ],
             [
              0.4444444444444444,
              "#bd3786"
             ],
             [
              0.5555555555555556,
              "#d8576b"
             ],
             [
              0.6666666666666666,
              "#ed7953"
             ],
             [
              0.7777777777777778,
              "#fb9f3a"
             ],
             [
              0.8888888888888888,
              "#fdca26"
             ],
             [
              1,
              "#f0f921"
             ]
            ],
            "type": "surface"
           }
          ],
          "table": [
           {
            "cells": {
             "fill": {
              "color": "#EBF0F8"
             },
             "line": {
              "color": "white"
             }
            },
            "header": {
             "fill": {
              "color": "#C8D4E3"
             },
             "line": {
              "color": "white"
             }
            },
            "type": "table"
           }
          ]
         },
         "layout": {
          "annotationdefaults": {
           "arrowcolor": "#2a3f5f",
           "arrowhead": 0,
           "arrowwidth": 1
          },
          "autotypenumbers": "strict",
          "coloraxis": {
           "colorbar": {
            "outlinewidth": 0,
            "ticks": ""
           }
          },
          "colorscale": {
           "diverging": [
            [
             0,
             "#8e0152"
            ],
            [
             0.1,
             "#c51b7d"
            ],
            [
             0.2,
             "#de77ae"
            ],
            [
             0.3,
             "#f1b6da"
            ],
            [
             0.4,
             "#fde0ef"
            ],
            [
             0.5,
             "#f7f7f7"
            ],
            [
             0.6,
             "#e6f5d0"
            ],
            [
             0.7,
             "#b8e186"
            ],
            [
             0.8,
             "#7fbc41"
            ],
            [
             0.9,
             "#4d9221"
            ],
            [
             1,
             "#276419"
            ]
           ],
           "sequential": [
            [
             0,
             "#0d0887"
            ],
            [
             0.1111111111111111,
             "#46039f"
            ],
            [
             0.2222222222222222,
             "#7201a8"
            ],
            [
             0.3333333333333333,
             "#9c179e"
            ],
            [
             0.4444444444444444,
             "#bd3786"
            ],
            [
             0.5555555555555556,
             "#d8576b"
            ],
            [
             0.6666666666666666,
             "#ed7953"
            ],
            [
             0.7777777777777778,
             "#fb9f3a"
            ],
            [
             0.8888888888888888,
             "#fdca26"
            ],
            [
             1,
             "#f0f921"
            ]
           ],
           "sequentialminus": [
            [
             0,
             "#0d0887"
            ],
            [
             0.1111111111111111,
             "#46039f"
            ],
            [
             0.2222222222222222,
             "#7201a8"
            ],
            [
             0.3333333333333333,
             "#9c179e"
            ],
            [
             0.4444444444444444,
             "#bd3786"
            ],
            [
             0.5555555555555556,
             "#d8576b"
            ],
            [
             0.6666666666666666,
             "#ed7953"
            ],
            [
             0.7777777777777778,
             "#fb9f3a"
            ],
            [
             0.8888888888888888,
             "#fdca26"
            ],
            [
             1,
             "#f0f921"
            ]
           ]
          },
          "colorway": [
           "#636efa",
           "#EF553B",
           "#00cc96",
           "#ab63fa",
           "#FFA15A",
           "#19d3f3",
           "#FF6692",
           "#B6E880",
           "#FF97FF",
           "#FECB52"
          ],
          "font": {
           "color": "#2a3f5f"
          },
          "geo": {
           "bgcolor": "white",
           "lakecolor": "white",
           "landcolor": "#E5ECF6",
           "showlakes": true,
           "showland": true,
           "subunitcolor": "white"
          },
          "hoverlabel": {
           "align": "left"
          },
          "hovermode": "closest",
          "mapbox": {
           "style": "light"
          },
          "paper_bgcolor": "white",
          "plot_bgcolor": "#E5ECF6",
          "polar": {
           "angularaxis": {
            "gridcolor": "white",
            "linecolor": "white",
            "ticks": ""
           },
           "bgcolor": "#E5ECF6",
           "radialaxis": {
            "gridcolor": "white",
            "linecolor": "white",
            "ticks": ""
           }
          },
          "scene": {
           "xaxis": {
            "backgroundcolor": "#E5ECF6",
            "gridcolor": "white",
            "gridwidth": 2,
            "linecolor": "white",
            "showbackground": true,
            "ticks": "",
            "zerolinecolor": "white"
           },
           "yaxis": {
            "backgroundcolor": "#E5ECF6",
            "gridcolor": "white",
            "gridwidth": 2,
            "linecolor": "white",
            "showbackground": true,
            "ticks": "",
            "zerolinecolor": "white"
           },
           "zaxis": {
            "backgroundcolor": "#E5ECF6",
            "gridcolor": "white",
            "gridwidth": 2,
            "linecolor": "white",
            "showbackground": true,
            "ticks": "",
            "zerolinecolor": "white"
           }
          },
          "shapedefaults": {
           "line": {
            "color": "#2a3f5f"
           }
          },
          "ternary": {
           "aaxis": {
            "gridcolor": "white",
            "linecolor": "white",
            "ticks": ""
           },
           "baxis": {
            "gridcolor": "white",
            "linecolor": "white",
            "ticks": ""
           },
           "bgcolor": "#E5ECF6",
           "caxis": {
            "gridcolor": "white",
            "linecolor": "white",
            "ticks": ""
           }
          },
          "title": {
           "x": 0.05
          },
          "xaxis": {
           "automargin": true,
           "gridcolor": "white",
           "linecolor": "white",
           "ticks": "",
           "title": {
            "standoff": 15
           },
           "zerolinecolor": "white",
           "zerolinewidth": 2
          },
          "yaxis": {
           "automargin": true,
           "gridcolor": "white",
           "linecolor": "white",
           "ticks": "",
           "title": {
            "standoff": 15
           },
           "zerolinecolor": "white",
           "zerolinewidth": 2
          }
         }
        }
       }
      },
      "text/html": [
       "<div>                            <div id=\"d7521ac4-68f3-4a60-94a7-0d8709d0a9cf\" class=\"plotly-graph-div\" style=\"height:525px; width:100%;\"></div>            <script type=\"text/javascript\">                require([\"plotly\"], function(Plotly) {                    window.PLOTLYENV=window.PLOTLYENV || {};                                    if (document.getElementById(\"d7521ac4-68f3-4a60-94a7-0d8709d0a9cf\")) {                    Plotly.newPlot(                        \"d7521ac4-68f3-4a60-94a7-0d8709d0a9cf\",                        [{\"x\":[\"2014-01-01T00:00:00\",\"2014-02-01T00:00:00\",\"2014-03-01T00:00:00\",\"2014-04-01T00:00:00\",\"2014-05-01T00:00:00\",\"2014-06-01T00:00:00\",\"2014-07-01T00:00:00\",\"2014-08-01T00:00:00\",\"2014-09-01T00:00:00\",\"2014-10-01T00:00:00\",\"2014-11-01T00:00:00\",\"2014-12-01T00:00:00\",\"2015-01-01T00:00:00\",\"2015-02-01T00:00:00\",\"2015-03-01T00:00:00\",\"2015-04-01T00:00:00\",\"2015-05-01T00:00:00\",\"2015-06-01T00:00:00\",\"2015-07-01T00:00:00\",\"2015-08-01T00:00:00\",\"2015-09-01T00:00:00\",\"2015-10-01T00:00:00\",\"2015-11-01T00:00:00\",\"2015-12-01T00:00:00\",\"2016-01-01T00:00:00\",\"2016-02-01T00:00:00\",\"2016-03-01T00:00:00\",\"2016-04-01T00:00:00\",\"2016-05-01T00:00:00\",\"2016-06-01T00:00:00\",\"2016-07-01T00:00:00\",\"2016-08-01T00:00:00\",\"2016-09-01T00:00:00\",\"2016-10-01T00:00:00\",\"2016-11-01T00:00:00\",\"2016-12-01T00:00:00\",\"2017-01-01T00:00:00\",\"2017-02-01T00:00:00\",\"2017-03-01T00:00:00\",\"2017-04-01T00:00:00\",\"2017-05-01T00:00:00\",\"2017-06-01T00:00:00\",\"2017-07-01T00:00:00\",\"2017-08-01T00:00:00\",\"2017-09-01T00:00:00\",\"2017-10-01T00:00:00\",\"2017-11-01T00:00:00\",\"2017-12-01T00:00:00\",\"2018-01-01T00:00:00\",\"2018-02-01T00:00:00\",\"2018-03-01T00:00:00\",\"2018-04-01T00:00:00\",\"2018-05-01T00:00:00\",\"2018-06-01T00:00:00\",\"2018-07-01T00:00:00\",\"2018-08-01T00:00:00\",\"2018-09-01T00:00:00\",\"2018-10-01T00:00:00\",\"2018-11-01T00:00:00\",\"2018-12-01T00:00:00\",\"2019-01-01T00:00:00\",\"2019-02-01T00:00:00\",\"2019-03-01T00:00:00\",\"2019-04-01T00:00:00\",\"2019-05-01T00:00:00\",\"2019-06-01T00:00:00\",\"2019-07-01T00:00:00\",\"2019-08-01T00:00:00\",\"2019-09-01T00:00:00\",\"2019-10-01T00:00:00\",\"2019-11-01T00:00:00\",\"2019-12-01T00:00:00\",\"2020-01-01T00:00:00\",\"2020-02-01T00:00:00\",\"2020-03-01T00:00:00\",\"2020-04-01T00:00:00\",\"2020-05-01T00:00:00\",\"2020-06-01T00:00:00\",\"2020-07-01T00:00:00\",\"2020-08-01T00:00:00\",\"2020-09-01T00:00:00\",\"2020-10-01T00:00:00\",\"2020-11-01T00:00:00\",\"2020-12-01T00:00:00\",\"2021-01-01T00:00:00\",\"2021-02-01T00:00:00\",\"2021-03-01T00:00:00\",\"2021-04-01T00:00:00\",\"2021-05-01T00:00:00\",\"2021-06-01T00:00:00\",\"2021-07-01T00:00:00\",\"2021-08-01T00:00:00\",\"2021-09-01T00:00:00\",\"2021-10-01T00:00:00\",\"2021-11-01T00:00:00\",\"2021-12-01T00:00:00\",\"2022-01-01T00:00:00\",\"2022-02-01T00:00:00\",\"2022-03-01T00:00:00\",\"2022-04-01T00:00:00\",\"2022-05-01T00:00:00\",\"2022-06-01T00:00:00\",\"2022-07-01T00:00:00\",\"2022-08-01T00:00:00\",\"2022-09-01T00:00:00\",\"2022-10-01T00:00:00\",\"2022-11-01T00:00:00\",\"2022-12-01T00:00:00\",\"2023-01-01T00:00:00\",\"2023-02-01T00:00:00\",\"2023-03-01T00:00:00\",\"2023-04-01T00:00:00\",\"2023-05-01T00:00:00\",\"2023-06-01T00:00:00\",\"2023-07-01T00:00:00\",\"2023-08-01T00:00:00\",\"2023-09-01T00:00:00\",\"2023-10-01T00:00:00\",\"2023-11-01T00:00:00\",\"2023-12-01T00:00:00\",\"2024-01-01T00:00:00\",\"2024-02-01T00:00:00\",\"2024-03-01T00:00:00\"],\"y\":[227.5,223.75,218.75,221.25,230.0,235.0,230.0,225.0,225.0,225.0,225.0,225.0,225.0,225.0,225.0,220.0,215.0,215.0,212.5,205.0,195.0,190.0,190.0,192.5,196.25,215.0,227.5,215.0,203.75,193.75,188.75,190.0,190.0,212.5,240.0,250.0,255.0,245.0,230.0,220.0,212.5,216.25,223.75,230.0,305.0,297.5,285.0,260.0,240.0,237.5,246.25,287.5,292.5,287.5,263.75,265.0,270.0,271.25,271.25,265.0,256.25,252.5,252.5,257.5,258.75,245.0,227.5,223.75,230.0,228.75,221.25,216.25,210.0,213.75,207.5,190.0,168.75,158.75,162.5,170.0,197.5,212.5,205.0,195.0,200.0,202.5,218.75,236.25,252.5,252.5,282.5,325.0,402.5,507.5,510.0,420.0,330.0,395.0,435.0,435.0,462.5,461.0,417.5,370.0,362.5,363.75,360.0,370.0,377.5,397.5,400.0,387.5,311.0,263.0,317.0,316.0,395.0,313.0,288.0,370.0,285.0,265.0,260.0],\"type\":\"scatter\"}],                        {\"template\":{\"data\":{\"barpolar\":[{\"marker\":{\"line\":{\"color\":\"#E5ECF6\",\"width\":0.5},\"pattern\":{\"fillmode\":\"overlay\",\"size\":10,\"solidity\":0.2}},\"type\":\"barpolar\"}],\"bar\":[{\"error_x\":{\"color\":\"#2a3f5f\"},\"error_y\":{\"color\":\"#2a3f5f\"},\"marker\":{\"line\":{\"color\":\"#E5ECF6\",\"width\":0.5},\"pattern\":{\"fillmode\":\"overlay\",\"size\":10,\"solidity\":0.2}},\"type\":\"bar\"}],\"carpet\":[{\"aaxis\":{\"endlinecolor\":\"#2a3f5f\",\"gridcolor\":\"white\",\"linecolor\":\"white\",\"minorgridcolor\":\"white\",\"startlinecolor\":\"#2a3f5f\"},\"baxis\":{\"endlinecolor\":\"#2a3f5f\",\"gridcolor\":\"white\",\"linecolor\":\"white\",\"minorgridcolor\":\"white\",\"startlinecolor\":\"#2a3f5f\"},\"type\":\"carpet\"}],\"choropleth\":[{\"colorbar\":{\"outlinewidth\":0,\"ticks\":\"\"},\"type\":\"choropleth\"}],\"contourcarpet\":[{\"colorbar\":{\"outlinewidth\":0,\"ticks\":\"\"},\"type\":\"contourcarpet\"}],\"contour\":[{\"colorbar\":{\"outlinewidth\":0,\"ticks\":\"\"},\"colorscale\":[[0.0,\"#0d0887\"],[0.1111111111111111,\"#46039f\"],[0.2222222222222222,\"#7201a8\"],[0.3333333333333333,\"#9c179e\"],[0.4444444444444444,\"#bd3786\"],[0.5555555555555556,\"#d8576b\"],[0.6666666666666666,\"#ed7953\"],[0.7777777777777778,\"#fb9f3a\"],[0.8888888888888888,\"#fdca26\"],[1.0,\"#f0f921\"]],\"type\":\"contour\"}],\"heatmapgl\":[{\"colorbar\":{\"outlinewidth\":0,\"ticks\":\"\"},\"colorscale\":[[0.0,\"#0d0887\"],[0.1111111111111111,\"#46039f\"],[0.2222222222222222,\"#7201a8\"],[0.3333333333333333,\"#9c179e\"],[0.4444444444444444,\"#bd3786\"],[0.5555555555555556,\"#d8576b\"],[0.6666666666666666,\"#ed7953\"],[0.7777777777777778,\"#fb9f3a\"],[0.8888888888888888,\"#fdca26\"],[1.0,\"#f0f921\"]],\"type\":\"heatmapgl\"}],\"heatmap\":[{\"colorbar\":{\"outlinewidth\":0,\"ticks\":\"\"},\"colorscale\":[[0.0,\"#0d0887\"],[0.1111111111111111,\"#46039f\"],[0.2222222222222222,\"#7201a8\"],[0.3333333333333333,\"#9c179e\"],[0.4444444444444444,\"#bd3786\"],[0.5555555555555556,\"#d8576b\"],[0.6666666666666666,\"#ed7953\"],[0.7777777777777778,\"#fb9f3a\"],[0.8888888888888888,\"#fdca26\"],[1.0,\"#f0f921\"]],\"type\":\"heatmap\"}],\"histogram2dcontour\":[{\"colorbar\":{\"outlinewidth\":0,\"ticks\":\"\"},\"colorscale\":[[0.0,\"#0d0887\"],[0.1111111111111111,\"#46039f\"],[0.2222222222222222,\"#7201a8\"],[0.3333333333333333,\"#9c179e\"],[0.4444444444444444,\"#bd3786\"],[0.5555555555555556,\"#d8576b\"],[0.6666666666666666,\"#ed7953\"],[0.7777777777777778,\"#fb9f3a\"],[0.8888888888888888,\"#fdca26\"],[1.0,\"#f0f921\"]],\"type\":\"histogram2dcontour\"}],\"histogram2d\":[{\"colorbar\":{\"outlinewidth\":0,\"ticks\":\"\"},\"colorscale\":[[0.0,\"#0d0887\"],[0.1111111111111111,\"#46039f\"],[0.2222222222222222,\"#7201a8\"],[0.3333333333333333,\"#9c179e\"],[0.4444444444444444,\"#bd3786\"],[0.5555555555555556,\"#d8576b\"],[0.6666666666666666,\"#ed7953\"],[0.7777777777777778,\"#fb9f3a\"],[0.8888888888888888,\"#fdca26\"],[1.0,\"#f0f921\"]],\"type\":\"histogram2d\"}],\"histogram\":[{\"marker\":{\"pattern\":{\"fillmode\":\"overlay\",\"size\":10,\"solidity\":0.2}},\"type\":\"histogram\"}],\"mesh3d\":[{\"colorbar\":{\"outlinewidth\":0,\"ticks\":\"\"},\"type\":\"mesh3d\"}],\"parcoords\":[{\"line\":{\"colorbar\":{\"outlinewidth\":0,\"ticks\":\"\"}},\"type\":\"parcoords\"}],\"pie\":[{\"automargin\":true,\"type\":\"pie\"}],\"scatter3d\":[{\"line\":{\"colorbar\":{\"outlinewidth\":0,\"ticks\":\"\"}},\"marker\":{\"colorbar\":{\"outlinewidth\":0,\"ticks\":\"\"}},\"type\":\"scatter3d\"}],\"scattercarpet\":[{\"marker\":{\"colorbar\":{\"outlinewidth\":0,\"ticks\":\"\"}},\"type\":\"scattercarpet\"}],\"scattergeo\":[{\"marker\":{\"colorbar\":{\"outlinewidth\":0,\"ticks\":\"\"}},\"type\":\"scattergeo\"}],\"scattergl\":[{\"marker\":{\"colorbar\":{\"outlinewidth\":0,\"ticks\":\"\"}},\"type\":\"scattergl\"}],\"scattermapbox\":[{\"marker\":{\"colorbar\":{\"outlinewidth\":0,\"ticks\":\"\"}},\"type\":\"scattermapbox\"}],\"scatterpolargl\":[{\"marker\":{\"colorbar\":{\"outlinewidth\":0,\"ticks\":\"\"}},\"type\":\"scatterpolargl\"}],\"scatterpolar\":[{\"marker\":{\"colorbar\":{\"outlinewidth\":0,\"ticks\":\"\"}},\"type\":\"scatterpolar\"}],\"scatter\":[{\"fillpattern\":{\"fillmode\":\"overlay\",\"size\":10,\"solidity\":0.2},\"type\":\"scatter\"}],\"scatterternary\":[{\"marker\":{\"colorbar\":{\"outlinewidth\":0,\"ticks\":\"\"}},\"type\":\"scatterternary\"}],\"surface\":[{\"colorbar\":{\"outlinewidth\":0,\"ticks\":\"\"},\"colorscale\":[[0.0,\"#0d0887\"],[0.1111111111111111,\"#46039f\"],[0.2222222222222222,\"#7201a8\"],[0.3333333333333333,\"#9c179e\"],[0.4444444444444444,\"#bd3786\"],[0.5555555555555556,\"#d8576b\"],[0.6666666666666666,\"#ed7953\"],[0.7777777777777778,\"#fb9f3a\"],[0.8888888888888888,\"#fdca26\"],[1.0,\"#f0f921\"]],\"type\":\"surface\"}],\"table\":[{\"cells\":{\"fill\":{\"color\":\"#EBF0F8\"},\"line\":{\"color\":\"white\"}},\"header\":{\"fill\":{\"color\":\"#C8D4E3\"},\"line\":{\"color\":\"white\"}},\"type\":\"table\"}]},\"layout\":{\"annotationdefaults\":{\"arrowcolor\":\"#2a3f5f\",\"arrowhead\":0,\"arrowwidth\":1},\"autotypenumbers\":\"strict\",\"coloraxis\":{\"colorbar\":{\"outlinewidth\":0,\"ticks\":\"\"}},\"colorscale\":{\"diverging\":[[0,\"#8e0152\"],[0.1,\"#c51b7d\"],[0.2,\"#de77ae\"],[0.3,\"#f1b6da\"],[0.4,\"#fde0ef\"],[0.5,\"#f7f7f7\"],[0.6,\"#e6f5d0\"],[0.7,\"#b8e186\"],[0.8,\"#7fbc41\"],[0.9,\"#4d9221\"],[1,\"#276419\"]],\"sequential\":[[0.0,\"#0d0887\"],[0.1111111111111111,\"#46039f\"],[0.2222222222222222,\"#7201a8\"],[0.3333333333333333,\"#9c179e\"],[0.4444444444444444,\"#bd3786\"],[0.5555555555555556,\"#d8576b\"],[0.6666666666666666,\"#ed7953\"],[0.7777777777777778,\"#fb9f3a\"],[0.8888888888888888,\"#fdca26\"],[1.0,\"#f0f921\"]],\"sequentialminus\":[[0.0,\"#0d0887\"],[0.1111111111111111,\"#46039f\"],[0.2222222222222222,\"#7201a8\"],[0.3333333333333333,\"#9c179e\"],[0.4444444444444444,\"#bd3786\"],[0.5555555555555556,\"#d8576b\"],[0.6666666666666666,\"#ed7953\"],[0.7777777777777778,\"#fb9f3a\"],[0.8888888888888888,\"#fdca26\"],[1.0,\"#f0f921\"]]},\"colorway\":[\"#636efa\",\"#EF553B\",\"#00cc96\",\"#ab63fa\",\"#FFA15A\",\"#19d3f3\",\"#FF6692\",\"#B6E880\",\"#FF97FF\",\"#FECB52\"],\"font\":{\"color\":\"#2a3f5f\"},\"geo\":{\"bgcolor\":\"white\",\"lakecolor\":\"white\",\"landcolor\":\"#E5ECF6\",\"showlakes\":true,\"showland\":true,\"subunitcolor\":\"white\"},\"hoverlabel\":{\"align\":\"left\"},\"hovermode\":\"closest\",\"mapbox\":{\"style\":\"light\"},\"paper_bgcolor\":\"white\",\"plot_bgcolor\":\"#E5ECF6\",\"polar\":{\"angularaxis\":{\"gridcolor\":\"white\",\"linecolor\":\"white\",\"ticks\":\"\"},\"bgcolor\":\"#E5ECF6\",\"radialaxis\":{\"gridcolor\":\"white\",\"linecolor\":\"white\",\"ticks\":\"\"}},\"scene\":{\"xaxis\":{\"backgroundcolor\":\"#E5ECF6\",\"gridcolor\":\"white\",\"gridwidth\":2,\"linecolor\":\"white\",\"showbackground\":true,\"ticks\":\"\",\"zerolinecolor\":\"white\"},\"yaxis\":{\"backgroundcolor\":\"#E5ECF6\",\"gridcolor\":\"white\",\"gridwidth\":2,\"linecolor\":\"white\",\"showbackground\":true,\"ticks\":\"\",\"zerolinecolor\":\"white\"},\"zaxis\":{\"backgroundcolor\":\"#E5ECF6\",\"gridcolor\":\"white\",\"gridwidth\":2,\"linecolor\":\"white\",\"showbackground\":true,\"ticks\":\"\",\"zerolinecolor\":\"white\"}},\"shapedefaults\":{\"line\":{\"color\":\"#2a3f5f\"}},\"ternary\":{\"aaxis\":{\"gridcolor\":\"white\",\"linecolor\":\"white\",\"ticks\":\"\"},\"baxis\":{\"gridcolor\":\"white\",\"linecolor\":\"white\",\"ticks\":\"\"},\"bgcolor\":\"#E5ECF6\",\"caxis\":{\"gridcolor\":\"white\",\"linecolor\":\"white\",\"ticks\":\"\"}},\"title\":{\"x\":0.05},\"xaxis\":{\"automargin\":true,\"gridcolor\":\"white\",\"linecolor\":\"white\",\"ticks\":\"\",\"title\":{\"standoff\":15},\"zerolinecolor\":\"white\",\"zerolinewidth\":2},\"yaxis\":{\"automargin\":true,\"gridcolor\":\"white\",\"linecolor\":\"white\",\"ticks\":\"\",\"title\":{\"standoff\":15},\"zerolinecolor\":\"white\",\"zerolinewidth\":2}}}},                        {\"responsive\": true}                    ).then(function(){\n",
       "                            \n",
       "var gd = document.getElementById('d7521ac4-68f3-4a60-94a7-0d8709d0a9cf');\n",
       "var x = new MutationObserver(function (mutations, observer) {{\n",
       "        var display = window.getComputedStyle(gd).display;\n",
       "        if (!display || display === 'none') {{\n",
       "            console.log([gd, 'removed!']);\n",
       "            Plotly.purge(gd);\n",
       "            observer.disconnect();\n",
       "        }}\n",
       "}});\n",
       "\n",
       "// Listen for the removal of the full notebook cells\n",
       "var notebookContainer = gd.closest('#notebook-container');\n",
       "if (notebookContainer) {{\n",
       "    x.observe(notebookContainer, {childList: true});\n",
       "}}\n",
       "\n",
       "// Listen for the clearing of the current output cell\n",
       "var outputEl = gd.closest('.output');\n",
       "if (outputEl) {{\n",
       "    x.observe(outputEl, {childList: true});\n",
       "}}\n",
       "\n",
       "                        })                };                });            </script>        </div>"
      ]
     },
     "metadata": {},
     "output_type": "display_data"
    }
   ],
   "source": [
    "# Import necessary modules\n",
    "import plotly.graph_objs as go\n",
    "from plotly.offline import init_notebook_mode, iplot\n",
    "\n",
    "# Initialize notebook mode for Plotly\n",
    "init_notebook_mode(connected=True)\n",
    "\n",
    "# Plotting the data: price vs period\n",
    "fig = go.Figure(data=[go.Scatter(x=df_price['Period'], y=df_price['Target_SodaAshLightChinaSpotExportAverageFOBChinaUSperMetricTon'])])\n",
    "\n",
    "# Plot the figure \n",
    "iplot(fig)"
   ]
  },
  {
   "cell_type": "code",
   "execution_count": 19,
   "metadata": {},
   "outputs": [
    {
     "name": "stderr",
     "output_type": "stream",
     "text": [
      "c:\\Users\\249881\\AppData\\Local\\anaconda3\\Lib\\site-packages\\sklearn\\base.py:439: UserWarning:\n",
      "\n",
      "X does not have valid feature names, but IsolationForest was fitted with feature names\n",
      "\n",
      "C:\\Users\\249881\\AppData\\Local\\Temp\\ipykernel_14004\\4122732528.py:11: SettingWithCopyWarning:\n",
      "\n",
      "\n",
      "A value is trying to be set on a copy of a slice from a DataFrame.\n",
      "Try using .loc[row_indexer,col_indexer] = value instead\n",
      "\n",
      "See the caveats in the documentation: https://pandas.pydata.org/pandas-docs/stable/user_guide/indexing.html#returning-a-view-versus-a-copy\n",
      "\n",
      "C:\\Users\\249881\\AppData\\Local\\Temp\\ipykernel_14004\\4122732528.py:14: SettingWithCopyWarning:\n",
      "\n",
      "\n",
      "A value is trying to be set on a copy of a slice from a DataFrame.\n",
      "Try using .loc[row_indexer,col_indexer] = value instead\n",
      "\n",
      "See the caveats in the documentation: https://pandas.pydata.org/pandas-docs/stable/user_guide/indexing.html#returning-a-view-versus-a-copy\n",
      "\n"
     ]
    },
    {
     "data": {
      "text/html": [
       "<div>\n",
       "<style scoped>\n",
       "    .dataframe tbody tr th:only-of-type {\n",
       "        vertical-align: middle;\n",
       "    }\n",
       "\n",
       "    .dataframe tbody tr th {\n",
       "        vertical-align: top;\n",
       "    }\n",
       "\n",
       "    .dataframe thead th {\n",
       "        text-align: right;\n",
       "    }\n",
       "</style>\n",
       "<table border=\"1\" class=\"dataframe\">\n",
       "  <thead>\n",
       "    <tr style=\"text-align: right;\">\n",
       "      <th></th>\n",
       "      <th>Period</th>\n",
       "      <th>Target_SodaAshLightChinaSpotExportAverageFOBChinaUSperMetricTon</th>\n",
       "      <th>scores</th>\n",
       "      <th>anomaly</th>\n",
       "    </tr>\n",
       "  </thead>\n",
       "  <tbody>\n",
       "    <tr>\n",
       "      <th>12</th>\n",
       "      <td>2014-01-01</td>\n",
       "      <td>227.50</td>\n",
       "      <td>0.224429</td>\n",
       "      <td>1</td>\n",
       "    </tr>\n",
       "    <tr>\n",
       "      <th>13</th>\n",
       "      <td>2014-02-01</td>\n",
       "      <td>223.75</td>\n",
       "      <td>0.239427</td>\n",
       "      <td>1</td>\n",
       "    </tr>\n",
       "    <tr>\n",
       "      <th>14</th>\n",
       "      <td>2014-03-01</td>\n",
       "      <td>218.75</td>\n",
       "      <td>0.232290</td>\n",
       "      <td>1</td>\n",
       "    </tr>\n",
       "    <tr>\n",
       "      <th>15</th>\n",
       "      <td>2014-04-01</td>\n",
       "      <td>221.25</td>\n",
       "      <td>0.241164</td>\n",
       "      <td>1</td>\n",
       "    </tr>\n",
       "    <tr>\n",
       "      <th>16</th>\n",
       "      <td>2014-05-01</td>\n",
       "      <td>230.00</td>\n",
       "      <td>0.214687</td>\n",
       "      <td>1</td>\n",
       "    </tr>\n",
       "  </tbody>\n",
       "</table>\n",
       "</div>"
      ],
      "text/plain": [
       "       Period  \\\n",
       "12 2014-01-01   \n",
       "13 2014-02-01   \n",
       "14 2014-03-01   \n",
       "15 2014-04-01   \n",
       "16 2014-05-01   \n",
       "\n",
       "    Target_SodaAshLightChinaSpotExportAverageFOBChinaUSperMetricTon    scores  \\\n",
       "12                                             227.50                0.224429   \n",
       "13                                             223.75                0.239427   \n",
       "14                                             218.75                0.232290   \n",
       "15                                             221.25                0.241164   \n",
       "16                                             230.00                0.214687   \n",
       "\n",
       "    anomaly  \n",
       "12        1  \n",
       "13        1  \n",
       "14        1  \n",
       "15        1  \n",
       "16        1  "
      ]
     },
     "execution_count": 19,
     "metadata": {},
     "output_type": "execute_result"
    }
   ],
   "source": [
    "# load isolation forest module\n",
    "from sklearn.ensemble import IsolationForest\n",
    "\n",
    "# Creating an Isolation Forest model\n",
    "clf=IsolationForest(n_estimators=10, max_samples='auto', contamination=float(.05), \\\n",
    "                        max_features=1.0, bootstrap=False, n_jobs=-1, random_state=42, verbose=0)\n",
    "# Fitting the mode\n",
    "clf.fit(df_price[['Target_SodaAshLightChinaSpotExportAverageFOBChinaUSperMetricTon']])\n",
    "# Calculating anomaly scores - decision function calculates the anomaly scores for each data point, and these scores\n",
    "#  are added as a new column 'scores' in df_price.\n",
    "df_price['scores']=clf.decision_function(df_price[['Target_SodaAshLightChinaSpotExportAverageFOBChinaUSperMetricTon']])\n",
    "# Predicting anomalies - model predicts whether each data point is an anomaly or not. The results are added as a new \n",
    "# column 'anomaly' in df_price. The values in this column will be 1 for normal data points and -1 for anomalies.\n",
    "df_price['anomaly']=clf.predict(df_price[['Target_SodaAshLightChinaSpotExportAverageFOBChinaUSperMetricTon']])\n",
    "df_price.head()"
   ]
  },
  {
   "cell_type": "code",
   "execution_count": 22,
   "metadata": {},
   "outputs": [
    {
     "data": {
      "text/html": [
       "<div>\n",
       "<style scoped>\n",
       "    .dataframe tbody tr th:only-of-type {\n",
       "        vertical-align: middle;\n",
       "    }\n",
       "\n",
       "    .dataframe tbody tr th {\n",
       "        vertical-align: top;\n",
       "    }\n",
       "\n",
       "    .dataframe thead th {\n",
       "        text-align: right;\n",
       "    }\n",
       "</style>\n",
       "<table border=\"1\" class=\"dataframe\">\n",
       "  <thead>\n",
       "    <tr style=\"text-align: right;\">\n",
       "      <th></th>\n",
       "      <th>Period</th>\n",
       "      <th>Target_SodaAshLightChinaSpotExportAverageFOBChinaUSperMetricTon</th>\n",
       "      <th>scores</th>\n",
       "      <th>anomaly</th>\n",
       "    </tr>\n",
       "  </thead>\n",
       "  <tbody>\n",
       "    <tr>\n",
       "      <th>88</th>\n",
       "      <td>2020-05-01</td>\n",
       "      <td>168.75</td>\n",
       "      <td>-0.025091</td>\n",
       "      <td>-1</td>\n",
       "    </tr>\n",
       "    <tr>\n",
       "      <th>89</th>\n",
       "      <td>2020-06-01</td>\n",
       "      <td>158.75</td>\n",
       "      <td>-0.086359</td>\n",
       "      <td>-1</td>\n",
       "    </tr>\n",
       "    <tr>\n",
       "      <th>90</th>\n",
       "      <td>2020-07-01</td>\n",
       "      <td>162.50</td>\n",
       "      <td>-0.030340</td>\n",
       "      <td>-1</td>\n",
       "    </tr>\n",
       "    <tr>\n",
       "      <th>91</th>\n",
       "      <td>2020-08-01</td>\n",
       "      <td>170.00</td>\n",
       "      <td>-0.035631</td>\n",
       "      <td>-1</td>\n",
       "    </tr>\n",
       "    <tr>\n",
       "      <th>105</th>\n",
       "      <td>2021-10-01</td>\n",
       "      <td>507.50</td>\n",
       "      <td>-0.058354</td>\n",
       "      <td>-1</td>\n",
       "    </tr>\n",
       "    <tr>\n",
       "      <th>106</th>\n",
       "      <td>2021-11-01</td>\n",
       "      <td>510.00</td>\n",
       "      <td>-0.069424</td>\n",
       "      <td>-1</td>\n",
       "    </tr>\n",
       "    <tr>\n",
       "      <th>107</th>\n",
       "      <td>2021-12-01</td>\n",
       "      <td>420.00</td>\n",
       "      <td>-0.000501</td>\n",
       "      <td>-1</td>\n",
       "    </tr>\n",
       "  </tbody>\n",
       "</table>\n",
       "</div>"
      ],
      "text/plain": [
       "        Period  \\\n",
       "88  2020-05-01   \n",
       "89  2020-06-01   \n",
       "90  2020-07-01   \n",
       "91  2020-08-01   \n",
       "105 2021-10-01   \n",
       "106 2021-11-01   \n",
       "107 2021-12-01   \n",
       "\n",
       "     Target_SodaAshLightChinaSpotExportAverageFOBChinaUSperMetricTon  \\\n",
       "88                                              168.75                 \n",
       "89                                              158.75                 \n",
       "90                                              162.50                 \n",
       "91                                              170.00                 \n",
       "105                                             507.50                 \n",
       "106                                             510.00                 \n",
       "107                                             420.00                 \n",
       "\n",
       "       scores  anomaly  \n",
       "88  -0.025091       -1  \n",
       "89  -0.086359       -1  \n",
       "90  -0.030340       -1  \n",
       "91  -0.035631       -1  \n",
       "105 -0.058354       -1  \n",
       "106 -0.069424       -1  \n",
       "107 -0.000501       -1  "
      ]
     },
     "execution_count": 22,
     "metadata": {},
     "output_type": "execute_result"
    }
   ],
   "source": [
    "df_price['anomaly'].value_counts()\n",
    "df_price[df_price['anomaly'] == -1]        # Anomalies"
   ]
  },
  {
   "cell_type": "markdown",
   "metadata": {},
   "source": [
    "### Visualize"
   ]
  },
  {
   "cell_type": "code",
   "execution_count": 33,
   "metadata": {},
   "outputs": [
    {
     "name": "stderr",
     "output_type": "stream",
     "text": [
      "C:\\Users\\249881\\AppData\\Local\\Temp\\ipykernel_14004\\3998671685.py:8: SettingWithCopyWarning:\n",
      "\n",
      "\n",
      "A value is trying to be set on a copy of a slice from a DataFrame.\n",
      "Try using .loc[row_indexer,col_indexer] = value instead\n",
      "\n",
      "See the caveats in the documentation: https://pandas.pydata.org/pandas-docs/stable/user_guide/indexing.html#returning-a-view-versus-a-copy\n",
      "\n",
      "c:\\Users\\249881\\AppData\\Local\\anaconda3\\Lib\\site-packages\\_plotly_utils\\basevalidators.py:106: FutureWarning:\n",
      "\n",
      "The behavior of DatetimeProperties.to_pydatetime is deprecated, in a future version this will return a Series containing python datetime objects instead of an ndarray. To retain the old behavior, call `np.array` on the result\n",
      "\n"
     ]
    },
    {
     "data": {
      "application/vnd.plotly.v1+json": {
       "config": {
        "linkText": "Export to plot.ly",
        "plotlyServerURL": "https://plot.ly",
        "showLink": false
       },
       "data": [
        {
         "cells": {
          "align": [
           "center"
          ],
          "fill": {
           "color": [
            "rgba(228, 222, 249, 0.65)",
            "rgba(228, 222, 249, 0.65)",
            "rgba(228, 222, 249, 0.65)",
            "rgba(228, 222, 249, 0.65)",
            "rgba(228, 222, 249, 0.65)",
            "rgba(228, 222, 249, 0.65)",
            "rgba(228, 222, 249, 0.65)",
            "rgba(228, 222, 249, 0.65)",
            "rgba(228, 222, 249, 0.65)",
            "rgba(228, 222, 249, 0.65)",
            "rgba(228, 222, 249, 0.65)",
            "rgba(228, 222, 249, 0.65)",
            "rgba(228, 222, 249, 0.65)",
            "rgba(228, 222, 249, 0.65)",
            "rgba(228, 222, 249, 0.65)",
            "rgba(228, 222, 249, 0.65)",
            "rgba(228, 222, 249, 0.65)",
            "rgba(228, 222, 249, 0.65)",
            "rgba(228, 222, 249, 0.65)",
            "rgba(228, 222, 249, 0.65)",
            "rgba(228, 222, 249, 0.65)",
            "rgba(228, 222, 249, 0.65)",
            "rgba(228, 222, 249, 0.65)",
            "rgba(228, 222, 249, 0.65)",
            "rgba(228, 222, 249, 0.65)",
            "rgba(228, 222, 249, 0.65)",
            "rgba(228, 222, 249, 0.65)",
            "rgba(228, 222, 249, 0.65)",
            "rgba(228, 222, 249, 0.65)",
            "rgba(228, 222, 249, 0.65)",
            "rgba(228, 222, 249, 0.65)",
            "rgba(228, 222, 249, 0.65)",
            "rgba(228, 222, 249, 0.65)",
            "rgba(228, 222, 249, 0.65)",
            "rgba(228, 222, 249, 0.65)",
            "rgba(228, 222, 249, 0.65)",
            "rgba(228, 222, 249, 0.65)",
            "rgba(228, 222, 249, 0.65)",
            "rgba(228, 222, 249, 0.65)",
            "rgba(228, 222, 249, 0.65)",
            "rgba(228, 222, 249, 0.65)",
            "rgba(228, 222, 249, 0.65)",
            "rgba(228, 222, 249, 0.65)",
            "rgba(228, 222, 249, 0.65)",
            "rgba(228, 222, 249, 0.65)",
            "rgba(228, 222, 249, 0.65)",
            "rgba(228, 222, 249, 0.65)",
            "rgba(228, 222, 249, 0.65)",
            "rgba(228, 222, 249, 0.65)",
            "rgba(228, 222, 249, 0.65)",
            "rgba(228, 222, 249, 0.65)",
            "rgba(228, 222, 249, 0.65)",
            "rgba(228, 222, 249, 0.65)",
            "rgba(228, 222, 249, 0.65)",
            "rgba(228, 222, 249, 0.65)",
            "rgba(228, 222, 249, 0.65)",
            "rgba(228, 222, 249, 0.65)",
            "rgba(228, 222, 249, 0.65)",
            "rgba(228, 222, 249, 0.65)",
            "rgba(228, 222, 249, 0.65)",
            "rgba(228, 222, 249, 0.65)",
            "rgba(228, 222, 249, 0.65)",
            "rgba(228, 222, 249, 0.65)",
            "rgba(228, 222, 249, 0.65)",
            "rgba(228, 222, 249, 0.65)",
            "rgba(228, 222, 249, 0.65)",
            "rgba(228, 222, 249, 0.65)",
            "rgba(228, 222, 249, 0.65)",
            "rgba(228, 222, 249, 0.65)",
            "rgba(228, 222, 249, 0.65)",
            "rgba(228, 222, 249, 0.65)",
            "rgba(228, 222, 249, 0.65)",
            "rgba(228, 222, 249, 0.65)",
            "rgba(228, 222, 249, 0.65)",
            "rgba(228, 222, 249, 0.65)",
            "rgba(228, 222, 249, 0.65)",
            "red",
            "red",
            "red",
            "red",
            "rgba(228, 222, 249, 0.65)",
            "rgba(228, 222, 249, 0.65)",
            "rgba(228, 222, 249, 0.65)",
            "rgba(228, 222, 249, 0.65)",
            "rgba(228, 222, 249, 0.65)",
            "rgba(228, 222, 249, 0.65)",
            "rgba(228, 222, 249, 0.65)",
            "rgba(228, 222, 249, 0.65)",
            "rgba(228, 222, 249, 0.65)",
            "rgba(228, 222, 249, 0.65)",
            "rgba(228, 222, 249, 0.65)",
            "rgba(228, 222, 249, 0.65)",
            "rgba(228, 222, 249, 0.65)",
            "red",
            "red",
            "red",
            "rgba(228, 222, 249, 0.65)",
            "rgba(228, 222, 249, 0.65)",
            "rgba(228, 222, 249, 0.65)",
            "rgba(228, 222, 249, 0.65)",
            "rgba(228, 222, 249, 0.65)",
            "rgba(228, 222, 249, 0.65)",
            "rgba(228, 222, 249, 0.65)",
            "rgba(228, 222, 249, 0.65)",
            "rgba(228, 222, 249, 0.65)",
            "rgba(228, 222, 249, 0.65)",
            "rgba(228, 222, 249, 0.65)",
            "rgba(228, 222, 249, 0.65)",
            "rgba(228, 222, 249, 0.65)",
            "rgba(228, 222, 249, 0.65)",
            "rgba(228, 222, 249, 0.65)",
            "rgba(228, 222, 249, 0.65)",
            "rgba(228, 222, 249, 0.65)",
            "rgba(228, 222, 249, 0.65)",
            "rgba(228, 222, 249, 0.65)",
            "rgba(228, 222, 249, 0.65)",
            "rgba(228, 222, 249, 0.65)",
            "rgba(228, 222, 249, 0.65)",
            "rgba(228, 222, 249, 0.65)",
            "rgba(228, 222, 249, 0.65)",
            "rgba(228, 222, 249, 0.65)",
            "rgba(228, 222, 249, 0.65)",
            "rgba(228, 222, 249, 0.65)"
           ]
          },
          "font": {
           "color": "rgb(40, 40, 40)",
           "size": 12
          },
          "height": 27,
          "line": {
           "color": "#506784"
          },
          "values": [
           [
            "2014-01-01",
            "2014-02-01",
            "2014-03-01",
            "2014-04-01",
            "2014-05-01",
            "2014-06-01",
            "2014-07-01",
            "2014-08-01",
            "2014-09-01",
            "2014-10-01",
            "2014-11-01",
            "2014-12-01",
            "2015-01-01",
            "2015-02-01",
            "2015-03-01",
            "2015-04-01",
            "2015-05-01",
            "2015-06-01",
            "2015-07-01",
            "2015-08-01",
            "2015-09-01",
            "2015-10-01",
            "2015-11-01",
            "2015-12-01",
            "2016-01-01",
            "2016-02-01",
            "2016-03-01",
            "2016-04-01",
            "2016-05-01",
            "2016-06-01",
            "2016-07-01",
            "2016-08-01",
            "2016-09-01",
            "2016-10-01",
            "2016-11-01",
            "2016-12-01",
            "2017-01-01",
            "2017-02-01",
            "2017-03-01",
            "2017-04-01",
            "2017-05-01",
            "2017-06-01",
            "2017-07-01",
            "2017-08-01",
            "2017-09-01",
            "2017-10-01",
            "2017-11-01",
            "2017-12-01",
            "2018-01-01",
            "2018-02-01",
            "2018-03-01",
            "2018-04-01",
            "2018-05-01",
            "2018-06-01",
            "2018-07-01",
            "2018-08-01",
            "2018-09-01",
            "2018-10-01",
            "2018-11-01",
            "2018-12-01",
            "2019-01-01",
            "2019-02-01",
            "2019-03-01",
            "2019-04-01",
            "2019-05-01",
            "2019-06-01",
            "2019-07-01",
            "2019-08-01",
            "2019-09-01",
            "2019-10-01",
            "2019-11-01",
            "2019-12-01",
            "2020-01-01",
            "2020-02-01",
            "2020-03-01",
            "2020-04-01",
            "2020-05-01",
            "2020-06-01",
            "2020-07-01",
            "2020-08-01",
            "2020-09-01",
            "2020-10-01",
            "2020-11-01",
            "2020-12-01",
            "2021-01-01",
            "2021-02-01",
            "2021-03-01",
            "2021-04-01",
            "2021-05-01",
            "2021-06-01",
            "2021-07-01",
            "2021-08-01",
            "2021-09-01",
            "2021-10-01",
            "2021-11-01",
            "2021-12-01",
            "2022-01-01",
            "2022-02-01",
            "2022-03-01",
            "2022-04-01",
            "2022-05-01",
            "2022-06-01",
            "2022-07-01",
            "2022-08-01",
            "2022-09-01",
            "2022-10-01",
            "2022-11-01",
            "2022-12-01",
            "2023-01-01",
            "2023-02-01",
            "2023-03-01",
            "2023-04-01",
            "2023-05-01",
            "2023-06-01",
            "2023-07-01",
            "2023-08-01",
            "2023-09-01",
            "2023-10-01",
            "2023-11-01",
            "2023-12-01",
            "2024-01-01",
            "2024-02-01",
            "2024-03-01"
           ],
           [
            227.5,
            223.75,
            218.75,
            221.25,
            230,
            235,
            230,
            225,
            225,
            225,
            225,
            225,
            225,
            225,
            225,
            220,
            215,
            215,
            212.5,
            205,
            195,
            190,
            190,
            192.5,
            196.25,
            215,
            227.5,
            215,
            203.75,
            193.75,
            188.75,
            190,
            190,
            212.5,
            240,
            250,
            255,
            245,
            230,
            220,
            212.5,
            216.25,
            223.75,
            230,
            305,
            297.5,
            285,
            260,
            240,
            237.5,
            246.25,
            287.5,
            292.5,
            287.5,
            263.75,
            265,
            270,
            271.25,
            271.25,
            265,
            256.25,
            252.5,
            252.5,
            257.5,
            258.75,
            245,
            227.5,
            223.75,
            230,
            228.75,
            221.25,
            216.25,
            210,
            213.75,
            207.5,
            190,
            168.75,
            158.75,
            162.5,
            170,
            197.5,
            212.5,
            205,
            195,
            200,
            202.5,
            218.75,
            236.25,
            252.5,
            252.5,
            282.5,
            325,
            402.5,
            507.5,
            510,
            420,
            330,
            395,
            435,
            435,
            462.5,
            461,
            417.5,
            370,
            362.5,
            363.75,
            360,
            370,
            377.5,
            397.5,
            400,
            387.5,
            311,
            263,
            317,
            316,
            395,
            313,
            288,
            370,
            285,
            265,
            260
           ]
          ]
         },
         "columnwidth": [
          1,
          2
         ],
         "domain": {
          "x": [
           0,
           1
          ],
          "y": [
           0,
           0.3
          ]
         },
         "header": {
          "fill": {
           "color": "#d562be"
          },
          "font": {
           "color": "rgb(45, 45, 45)",
           "size": 14
          },
          "height": 20,
          "values": [
           [
            "<b>Date</b>"
           ],
           [
            "<b>Actual Values</b>"
           ]
          ]
         },
         "type": "table"
        },
        {
         "line": {
          "color": "blue"
         },
         "mode": "lines+markers",
         "name": "Actuals",
         "type": "scatter",
         "x": [
          "2014-01-01T00:00:00",
          "2014-02-01T00:00:00",
          "2014-03-01T00:00:00",
          "2014-04-01T00:00:00",
          "2014-05-01T00:00:00",
          "2014-06-01T00:00:00",
          "2014-07-01T00:00:00",
          "2014-08-01T00:00:00",
          "2014-09-01T00:00:00",
          "2014-10-01T00:00:00",
          "2014-11-01T00:00:00",
          "2014-12-01T00:00:00",
          "2015-01-01T00:00:00",
          "2015-02-01T00:00:00",
          "2015-03-01T00:00:00",
          "2015-04-01T00:00:00",
          "2015-05-01T00:00:00",
          "2015-06-01T00:00:00",
          "2015-07-01T00:00:00",
          "2015-08-01T00:00:00",
          "2015-09-01T00:00:00",
          "2015-10-01T00:00:00",
          "2015-11-01T00:00:00",
          "2015-12-01T00:00:00",
          "2016-01-01T00:00:00",
          "2016-02-01T00:00:00",
          "2016-03-01T00:00:00",
          "2016-04-01T00:00:00",
          "2016-05-01T00:00:00",
          "2016-06-01T00:00:00",
          "2016-07-01T00:00:00",
          "2016-08-01T00:00:00",
          "2016-09-01T00:00:00",
          "2016-10-01T00:00:00",
          "2016-11-01T00:00:00",
          "2016-12-01T00:00:00",
          "2017-01-01T00:00:00",
          "2017-02-01T00:00:00",
          "2017-03-01T00:00:00",
          "2017-04-01T00:00:00",
          "2017-05-01T00:00:00",
          "2017-06-01T00:00:00",
          "2017-07-01T00:00:00",
          "2017-08-01T00:00:00",
          "2017-09-01T00:00:00",
          "2017-10-01T00:00:00",
          "2017-11-01T00:00:00",
          "2017-12-01T00:00:00",
          "2018-01-01T00:00:00",
          "2018-02-01T00:00:00",
          "2018-03-01T00:00:00",
          "2018-04-01T00:00:00",
          "2018-05-01T00:00:00",
          "2018-06-01T00:00:00",
          "2018-07-01T00:00:00",
          "2018-08-01T00:00:00",
          "2018-09-01T00:00:00",
          "2018-10-01T00:00:00",
          "2018-11-01T00:00:00",
          "2018-12-01T00:00:00",
          "2019-01-01T00:00:00",
          "2019-02-01T00:00:00",
          "2019-03-01T00:00:00",
          "2019-04-01T00:00:00",
          "2019-05-01T00:00:00",
          "2019-06-01T00:00:00",
          "2019-07-01T00:00:00",
          "2019-08-01T00:00:00",
          "2019-09-01T00:00:00",
          "2019-10-01T00:00:00",
          "2019-11-01T00:00:00",
          "2019-12-01T00:00:00",
          "2020-01-01T00:00:00",
          "2020-02-01T00:00:00",
          "2020-03-01T00:00:00",
          "2020-04-01T00:00:00",
          "2020-05-01T00:00:00",
          "2020-06-01T00:00:00",
          "2020-07-01T00:00:00",
          "2020-08-01T00:00:00",
          "2020-09-01T00:00:00",
          "2020-10-01T00:00:00",
          "2020-11-01T00:00:00",
          "2020-12-01T00:00:00",
          "2021-01-01T00:00:00",
          "2021-02-01T00:00:00",
          "2021-03-01T00:00:00",
          "2021-04-01T00:00:00",
          "2021-05-01T00:00:00",
          "2021-06-01T00:00:00",
          "2021-07-01T00:00:00",
          "2021-08-01T00:00:00",
          "2021-09-01T00:00:00",
          "2021-10-01T00:00:00",
          "2021-11-01T00:00:00",
          "2021-12-01T00:00:00",
          "2022-01-01T00:00:00",
          "2022-02-01T00:00:00",
          "2022-03-01T00:00:00",
          "2022-04-01T00:00:00",
          "2022-05-01T00:00:00",
          "2022-06-01T00:00:00",
          "2022-07-01T00:00:00",
          "2022-08-01T00:00:00",
          "2022-09-01T00:00:00",
          "2022-10-01T00:00:00",
          "2022-11-01T00:00:00",
          "2022-12-01T00:00:00",
          "2023-01-01T00:00:00",
          "2023-02-01T00:00:00",
          "2023-03-01T00:00:00",
          "2023-04-01T00:00:00",
          "2023-05-01T00:00:00",
          "2023-06-01T00:00:00",
          "2023-07-01T00:00:00",
          "2023-08-01T00:00:00",
          "2023-09-01T00:00:00",
          "2023-10-01T00:00:00",
          "2023-11-01T00:00:00",
          "2023-12-01T00:00:00",
          "2024-01-01T00:00:00",
          "2024-02-01T00:00:00",
          "2024-03-01T00:00:00"
         ],
         "y": [
          227.5,
          223.75,
          218.75,
          221.25,
          230,
          235,
          230,
          225,
          225,
          225,
          225,
          225,
          225,
          225,
          225,
          220,
          215,
          215,
          212.5,
          205,
          195,
          190,
          190,
          192.5,
          196.25,
          215,
          227.5,
          215,
          203.75,
          193.75,
          188.75,
          190,
          190,
          212.5,
          240,
          250,
          255,
          245,
          230,
          220,
          212.5,
          216.25,
          223.75,
          230,
          305,
          297.5,
          285,
          260,
          240,
          237.5,
          246.25,
          287.5,
          292.5,
          287.5,
          263.75,
          265,
          270,
          271.25,
          271.25,
          265,
          256.25,
          252.5,
          252.5,
          257.5,
          258.75,
          245,
          227.5,
          223.75,
          230,
          228.75,
          221.25,
          216.25,
          210,
          213.75,
          207.5,
          190,
          168.75,
          158.75,
          162.5,
          170,
          197.5,
          212.5,
          205,
          195,
          200,
          202.5,
          218.75,
          236.25,
          252.5,
          252.5,
          282.5,
          325,
          402.5,
          507.5,
          510,
          420,
          330,
          395,
          435,
          435,
          462.5,
          461,
          417.5,
          370,
          362.5,
          363.75,
          360,
          370,
          377.5,
          397.5,
          400,
          387.5,
          311,
          263,
          317,
          316,
          395,
          313,
          288,
          370,
          285,
          265,
          260
         ]
        },
        {
         "marker": {
          "color": "red",
          "line": {
           "color": "red",
           "width": 2
          },
          "size": 11
         },
         "mode": "markers",
         "name": "Anomaly",
         "type": "scatter",
         "x": [
          "2020-05-01T00:00:00",
          "2020-06-01T00:00:00",
          "2020-07-01T00:00:00",
          "2020-08-01T00:00:00",
          "2021-10-01T00:00:00",
          "2021-11-01T00:00:00",
          "2021-12-01T00:00:00"
         ],
         "y": [
          168.75,
          158.75,
          162.5,
          170,
          507.5,
          510,
          420
         ]
        }
       ],
       "layout": {
        "autosize": false,
        "height": 865,
        "margin": {
         "t": 75
        },
        "showlegend": true,
        "template": {
         "data": {
          "bar": [
           {
            "error_x": {
             "color": "#2a3f5f"
            },
            "error_y": {
             "color": "#2a3f5f"
            },
            "marker": {
             "line": {
              "color": "#E5ECF6",
              "width": 0.5
             },
             "pattern": {
              "fillmode": "overlay",
              "size": 10,
              "solidity": 0.2
             }
            },
            "type": "bar"
           }
          ],
          "barpolar": [
           {
            "marker": {
             "line": {
              "color": "#E5ECF6",
              "width": 0.5
             },
             "pattern": {
              "fillmode": "overlay",
              "size": 10,
              "solidity": 0.2
             }
            },
            "type": "barpolar"
           }
          ],
          "carpet": [
           {
            "aaxis": {
             "endlinecolor": "#2a3f5f",
             "gridcolor": "white",
             "linecolor": "white",
             "minorgridcolor": "white",
             "startlinecolor": "#2a3f5f"
            },
            "baxis": {
             "endlinecolor": "#2a3f5f",
             "gridcolor": "white",
             "linecolor": "white",
             "minorgridcolor": "white",
             "startlinecolor": "#2a3f5f"
            },
            "type": "carpet"
           }
          ],
          "choropleth": [
           {
            "colorbar": {
             "outlinewidth": 0,
             "ticks": ""
            },
            "type": "choropleth"
           }
          ],
          "contour": [
           {
            "colorbar": {
             "outlinewidth": 0,
             "ticks": ""
            },
            "colorscale": [
             [
              0,
              "#0d0887"
             ],
             [
              0.1111111111111111,
              "#46039f"
             ],
             [
              0.2222222222222222,
              "#7201a8"
             ],
             [
              0.3333333333333333,
              "#9c179e"
             ],
             [
              0.4444444444444444,
              "#bd3786"
             ],
             [
              0.5555555555555556,
              "#d8576b"
             ],
             [
              0.6666666666666666,
              "#ed7953"
             ],
             [
              0.7777777777777778,
              "#fb9f3a"
             ],
             [
              0.8888888888888888,
              "#fdca26"
             ],
             [
              1,
              "#f0f921"
             ]
            ],
            "type": "contour"
           }
          ],
          "contourcarpet": [
           {
            "colorbar": {
             "outlinewidth": 0,
             "ticks": ""
            },
            "type": "contourcarpet"
           }
          ],
          "heatmap": [
           {
            "colorbar": {
             "outlinewidth": 0,
             "ticks": ""
            },
            "colorscale": [
             [
              0,
              "#0d0887"
             ],
             [
              0.1111111111111111,
              "#46039f"
             ],
             [
              0.2222222222222222,
              "#7201a8"
             ],
             [
              0.3333333333333333,
              "#9c179e"
             ],
             [
              0.4444444444444444,
              "#bd3786"
             ],
             [
              0.5555555555555556,
              "#d8576b"
             ],
             [
              0.6666666666666666,
              "#ed7953"
             ],
             [
              0.7777777777777778,
              "#fb9f3a"
             ],
             [
              0.8888888888888888,
              "#fdca26"
             ],
             [
              1,
              "#f0f921"
             ]
            ],
            "type": "heatmap"
           }
          ],
          "heatmapgl": [
           {
            "colorbar": {
             "outlinewidth": 0,
             "ticks": ""
            },
            "colorscale": [
             [
              0,
              "#0d0887"
             ],
             [
              0.1111111111111111,
              "#46039f"
             ],
             [
              0.2222222222222222,
              "#7201a8"
             ],
             [
              0.3333333333333333,
              "#9c179e"
             ],
             [
              0.4444444444444444,
              "#bd3786"
             ],
             [
              0.5555555555555556,
              "#d8576b"
             ],
             [
              0.6666666666666666,
              "#ed7953"
             ],
             [
              0.7777777777777778,
              "#fb9f3a"
             ],
             [
              0.8888888888888888,
              "#fdca26"
             ],
             [
              1,
              "#f0f921"
             ]
            ],
            "type": "heatmapgl"
           }
          ],
          "histogram": [
           {
            "marker": {
             "pattern": {
              "fillmode": "overlay",
              "size": 10,
              "solidity": 0.2
             }
            },
            "type": "histogram"
           }
          ],
          "histogram2d": [
           {
            "colorbar": {
             "outlinewidth": 0,
             "ticks": ""
            },
            "colorscale": [
             [
              0,
              "#0d0887"
             ],
             [
              0.1111111111111111,
              "#46039f"
             ],
             [
              0.2222222222222222,
              "#7201a8"
             ],
             [
              0.3333333333333333,
              "#9c179e"
             ],
             [
              0.4444444444444444,
              "#bd3786"
             ],
             [
              0.5555555555555556,
              "#d8576b"
             ],
             [
              0.6666666666666666,
              "#ed7953"
             ],
             [
              0.7777777777777778,
              "#fb9f3a"
             ],
             [
              0.8888888888888888,
              "#fdca26"
             ],
             [
              1,
              "#f0f921"
             ]
            ],
            "type": "histogram2d"
           }
          ],
          "histogram2dcontour": [
           {
            "colorbar": {
             "outlinewidth": 0,
             "ticks": ""
            },
            "colorscale": [
             [
              0,
              "#0d0887"
             ],
             [
              0.1111111111111111,
              "#46039f"
             ],
             [
              0.2222222222222222,
              "#7201a8"
             ],
             [
              0.3333333333333333,
              "#9c179e"
             ],
             [
              0.4444444444444444,
              "#bd3786"
             ],
             [
              0.5555555555555556,
              "#d8576b"
             ],
             [
              0.6666666666666666,
              "#ed7953"
             ],
             [
              0.7777777777777778,
              "#fb9f3a"
             ],
             [
              0.8888888888888888,
              "#fdca26"
             ],
             [
              1,
              "#f0f921"
             ]
            ],
            "type": "histogram2dcontour"
           }
          ],
          "mesh3d": [
           {
            "colorbar": {
             "outlinewidth": 0,
             "ticks": ""
            },
            "type": "mesh3d"
           }
          ],
          "parcoords": [
           {
            "line": {
             "colorbar": {
              "outlinewidth": 0,
              "ticks": ""
             }
            },
            "type": "parcoords"
           }
          ],
          "pie": [
           {
            "automargin": true,
            "type": "pie"
           }
          ],
          "scatter": [
           {
            "fillpattern": {
             "fillmode": "overlay",
             "size": 10,
             "solidity": 0.2
            },
            "type": "scatter"
           }
          ],
          "scatter3d": [
           {
            "line": {
             "colorbar": {
              "outlinewidth": 0,
              "ticks": ""
             }
            },
            "marker": {
             "colorbar": {
              "outlinewidth": 0,
              "ticks": ""
             }
            },
            "type": "scatter3d"
           }
          ],
          "scattercarpet": [
           {
            "marker": {
             "colorbar": {
              "outlinewidth": 0,
              "ticks": ""
             }
            },
            "type": "scattercarpet"
           }
          ],
          "scattergeo": [
           {
            "marker": {
             "colorbar": {
              "outlinewidth": 0,
              "ticks": ""
             }
            },
            "type": "scattergeo"
           }
          ],
          "scattergl": [
           {
            "marker": {
             "colorbar": {
              "outlinewidth": 0,
              "ticks": ""
             }
            },
            "type": "scattergl"
           }
          ],
          "scattermapbox": [
           {
            "marker": {
             "colorbar": {
              "outlinewidth": 0,
              "ticks": ""
             }
            },
            "type": "scattermapbox"
           }
          ],
          "scatterpolar": [
           {
            "marker": {
             "colorbar": {
              "outlinewidth": 0,
              "ticks": ""
             }
            },
            "type": "scatterpolar"
           }
          ],
          "scatterpolargl": [
           {
            "marker": {
             "colorbar": {
              "outlinewidth": 0,
              "ticks": ""
             }
            },
            "type": "scatterpolargl"
           }
          ],
          "scatterternary": [
           {
            "marker": {
             "colorbar": {
              "outlinewidth": 0,
              "ticks": ""
             }
            },
            "type": "scatterternary"
           }
          ],
          "surface": [
           {
            "colorbar": {
             "outlinewidth": 0,
             "ticks": ""
            },
            "colorscale": [
             [
              0,
              "#0d0887"
             ],
             [
              0.1111111111111111,
              "#46039f"
             ],
             [
              0.2222222222222222,
              "#7201a8"
             ],
             [
              0.3333333333333333,
              "#9c179e"
             ],
             [
              0.4444444444444444,
              "#bd3786"
             ],
             [
              0.5555555555555556,
              "#d8576b"
             ],
             [
              0.6666666666666666,
              "#ed7953"
             ],
             [
              0.7777777777777778,
              "#fb9f3a"
             ],
             [
              0.8888888888888888,
              "#fdca26"
             ],
             [
              1,
              "#f0f921"
             ]
            ],
            "type": "surface"
           }
          ],
          "table": [
           {
            "cells": {
             "fill": {
              "color": "#EBF0F8"
             },
             "line": {
              "color": "white"
             }
            },
            "header": {
             "fill": {
              "color": "#C8D4E3"
             },
             "line": {
              "color": "white"
             }
            },
            "type": "table"
           }
          ]
         },
         "layout": {
          "annotationdefaults": {
           "arrowcolor": "#2a3f5f",
           "arrowhead": 0,
           "arrowwidth": 1
          },
          "autotypenumbers": "strict",
          "coloraxis": {
           "colorbar": {
            "outlinewidth": 0,
            "ticks": ""
           }
          },
          "colorscale": {
           "diverging": [
            [
             0,
             "#8e0152"
            ],
            [
             0.1,
             "#c51b7d"
            ],
            [
             0.2,
             "#de77ae"
            ],
            [
             0.3,
             "#f1b6da"
            ],
            [
             0.4,
             "#fde0ef"
            ],
            [
             0.5,
             "#f7f7f7"
            ],
            [
             0.6,
             "#e6f5d0"
            ],
            [
             0.7,
             "#b8e186"
            ],
            [
             0.8,
             "#7fbc41"
            ],
            [
             0.9,
             "#4d9221"
            ],
            [
             1,
             "#276419"
            ]
           ],
           "sequential": [
            [
             0,
             "#0d0887"
            ],
            [
             0.1111111111111111,
             "#46039f"
            ],
            [
             0.2222222222222222,
             "#7201a8"
            ],
            [
             0.3333333333333333,
             "#9c179e"
            ],
            [
             0.4444444444444444,
             "#bd3786"
            ],
            [
             0.5555555555555556,
             "#d8576b"
            ],
            [
             0.6666666666666666,
             "#ed7953"
            ],
            [
             0.7777777777777778,
             "#fb9f3a"
            ],
            [
             0.8888888888888888,
             "#fdca26"
            ],
            [
             1,
             "#f0f921"
            ]
           ],
           "sequentialminus": [
            [
             0,
             "#0d0887"
            ],
            [
             0.1111111111111111,
             "#46039f"
            ],
            [
             0.2222222222222222,
             "#7201a8"
            ],
            [
             0.3333333333333333,
             "#9c179e"
            ],
            [
             0.4444444444444444,
             "#bd3786"
            ],
            [
             0.5555555555555556,
             "#d8576b"
            ],
            [
             0.6666666666666666,
             "#ed7953"
            ],
            [
             0.7777777777777778,
             "#fb9f3a"
            ],
            [
             0.8888888888888888,
             "#fdca26"
            ],
            [
             1,
             "#f0f921"
            ]
           ]
          },
          "colorway": [
           "#636efa",
           "#EF553B",
           "#00cc96",
           "#ab63fa",
           "#FFA15A",
           "#19d3f3",
           "#FF6692",
           "#B6E880",
           "#FF97FF",
           "#FECB52"
          ],
          "font": {
           "color": "#2a3f5f"
          },
          "geo": {
           "bgcolor": "white",
           "lakecolor": "white",
           "landcolor": "#E5ECF6",
           "showlakes": true,
           "showland": true,
           "subunitcolor": "white"
          },
          "hoverlabel": {
           "align": "left"
          },
          "hovermode": "closest",
          "mapbox": {
           "style": "light"
          },
          "paper_bgcolor": "white",
          "plot_bgcolor": "#E5ECF6",
          "polar": {
           "angularaxis": {
            "gridcolor": "white",
            "linecolor": "white",
            "ticks": ""
           },
           "bgcolor": "#E5ECF6",
           "radialaxis": {
            "gridcolor": "white",
            "linecolor": "white",
            "ticks": ""
           }
          },
          "scene": {
           "xaxis": {
            "backgroundcolor": "#E5ECF6",
            "gridcolor": "white",
            "gridwidth": 2,
            "linecolor": "white",
            "showbackground": true,
            "ticks": "",
            "zerolinecolor": "white"
           },
           "yaxis": {
            "backgroundcolor": "#E5ECF6",
            "gridcolor": "white",
            "gridwidth": 2,
            "linecolor": "white",
            "showbackground": true,
            "ticks": "",
            "zerolinecolor": "white"
           },
           "zaxis": {
            "backgroundcolor": "#E5ECF6",
            "gridcolor": "white",
            "gridwidth": 2,
            "linecolor": "white",
            "showbackground": true,
            "ticks": "",
            "zerolinecolor": "white"
           }
          },
          "shapedefaults": {
           "line": {
            "color": "#2a3f5f"
           }
          },
          "ternary": {
           "aaxis": {
            "gridcolor": "white",
            "linecolor": "white",
            "ticks": ""
           },
           "baxis": {
            "gridcolor": "white",
            "linecolor": "white",
            "ticks": ""
           },
           "bgcolor": "#E5ECF6",
           "caxis": {
            "gridcolor": "white",
            "linecolor": "white",
            "ticks": ""
           }
          },
          "title": {
           "x": 0.05
          },
          "xaxis": {
           "automargin": true,
           "gridcolor": "white",
           "linecolor": "white",
           "ticks": "",
           "title": {
            "standoff": 15
           },
           "zerolinecolor": "white",
           "zerolinewidth": 2
          },
          "yaxis": {
           "automargin": true,
           "gridcolor": "white",
           "linecolor": "white",
           "ticks": "",
           "title": {
            "standoff": 15
           },
           "zerolinecolor": "white",
           "zerolinewidth": 2
          }
         }
        },
        "title": {
         "text": "Anomaly Detection for Soda Ash Prices"
        },
        "width": 1000,
        "xaxis": {
         "domain": [
          0,
          1
         ],
         "gridcolor": "#ffffff",
         "mirror": true,
         "showgrid": true,
         "showline": true,
         "tickfont": {
          "size": 10
         },
         "ticklen": 4,
         "zeroline": false
        },
        "yaxis": {
         "domain": [
          0.4,
          1
         ],
         "gridcolor": "#ffffff",
         "hoverformat": ".2f",
         "mirror": true,
         "showgrid": true,
         "showline": true,
         "tickfont": {
          "size": 10
         },
         "ticklen": 4,
         "zeroline": false
        }
       }
      },
      "text/html": [
       "<div>                            <div id=\"53e8a4d4-ca21-4d6e-ac95-17784e089d4e\" class=\"plotly-graph-div\" style=\"height:865px; width:1000px;\"></div>            <script type=\"text/javascript\">                require([\"plotly\"], function(Plotly) {                    window.PLOTLYENV=window.PLOTLYENV || {};                                    if (document.getElementById(\"53e8a4d4-ca21-4d6e-ac95-17784e089d4e\")) {                    Plotly.newPlot(                        \"53e8a4d4-ca21-4d6e-ac95-17784e089d4e\",                        [{\"cells\":{\"align\":[\"center\"],\"fill\":{\"color\":[\"rgba(228, 222, 249, 0.65)\",\"rgba(228, 222, 249, 0.65)\",\"rgba(228, 222, 249, 0.65)\",\"rgba(228, 222, 249, 0.65)\",\"rgba(228, 222, 249, 0.65)\",\"rgba(228, 222, 249, 0.65)\",\"rgba(228, 222, 249, 0.65)\",\"rgba(228, 222, 249, 0.65)\",\"rgba(228, 222, 249, 0.65)\",\"rgba(228, 222, 249, 0.65)\",\"rgba(228, 222, 249, 0.65)\",\"rgba(228, 222, 249, 0.65)\",\"rgba(228, 222, 249, 0.65)\",\"rgba(228, 222, 249, 0.65)\",\"rgba(228, 222, 249, 0.65)\",\"rgba(228, 222, 249, 0.65)\",\"rgba(228, 222, 249, 0.65)\",\"rgba(228, 222, 249, 0.65)\",\"rgba(228, 222, 249, 0.65)\",\"rgba(228, 222, 249, 0.65)\",\"rgba(228, 222, 249, 0.65)\",\"rgba(228, 222, 249, 0.65)\",\"rgba(228, 222, 249, 0.65)\",\"rgba(228, 222, 249, 0.65)\",\"rgba(228, 222, 249, 0.65)\",\"rgba(228, 222, 249, 0.65)\",\"rgba(228, 222, 249, 0.65)\",\"rgba(228, 222, 249, 0.65)\",\"rgba(228, 222, 249, 0.65)\",\"rgba(228, 222, 249, 0.65)\",\"rgba(228, 222, 249, 0.65)\",\"rgba(228, 222, 249, 0.65)\",\"rgba(228, 222, 249, 0.65)\",\"rgba(228, 222, 249, 0.65)\",\"rgba(228, 222, 249, 0.65)\",\"rgba(228, 222, 249, 0.65)\",\"rgba(228, 222, 249, 0.65)\",\"rgba(228, 222, 249, 0.65)\",\"rgba(228, 222, 249, 0.65)\",\"rgba(228, 222, 249, 0.65)\",\"rgba(228, 222, 249, 0.65)\",\"rgba(228, 222, 249, 0.65)\",\"rgba(228, 222, 249, 0.65)\",\"rgba(228, 222, 249, 0.65)\",\"rgba(228, 222, 249, 0.65)\",\"rgba(228, 222, 249, 0.65)\",\"rgba(228, 222, 249, 0.65)\",\"rgba(228, 222, 249, 0.65)\",\"rgba(228, 222, 249, 0.65)\",\"rgba(228, 222, 249, 0.65)\",\"rgba(228, 222, 249, 0.65)\",\"rgba(228, 222, 249, 0.65)\",\"rgba(228, 222, 249, 0.65)\",\"rgba(228, 222, 249, 0.65)\",\"rgba(228, 222, 249, 0.65)\",\"rgba(228, 222, 249, 0.65)\",\"rgba(228, 222, 249, 0.65)\",\"rgba(228, 222, 249, 0.65)\",\"rgba(228, 222, 249, 0.65)\",\"rgba(228, 222, 249, 0.65)\",\"rgba(228, 222, 249, 0.65)\",\"rgba(228, 222, 249, 0.65)\",\"rgba(228, 222, 249, 0.65)\",\"rgba(228, 222, 249, 0.65)\",\"rgba(228, 222, 249, 0.65)\",\"rgba(228, 222, 249, 0.65)\",\"rgba(228, 222, 249, 0.65)\",\"rgba(228, 222, 249, 0.65)\",\"rgba(228, 222, 249, 0.65)\",\"rgba(228, 222, 249, 0.65)\",\"rgba(228, 222, 249, 0.65)\",\"rgba(228, 222, 249, 0.65)\",\"rgba(228, 222, 249, 0.65)\",\"rgba(228, 222, 249, 0.65)\",\"rgba(228, 222, 249, 0.65)\",\"rgba(228, 222, 249, 0.65)\",\"red\",\"red\",\"red\",\"red\",\"rgba(228, 222, 249, 0.65)\",\"rgba(228, 222, 249, 0.65)\",\"rgba(228, 222, 249, 0.65)\",\"rgba(228, 222, 249, 0.65)\",\"rgba(228, 222, 249, 0.65)\",\"rgba(228, 222, 249, 0.65)\",\"rgba(228, 222, 249, 0.65)\",\"rgba(228, 222, 249, 0.65)\",\"rgba(228, 222, 249, 0.65)\",\"rgba(228, 222, 249, 0.65)\",\"rgba(228, 222, 249, 0.65)\",\"rgba(228, 222, 249, 0.65)\",\"rgba(228, 222, 249, 0.65)\",\"red\",\"red\",\"red\",\"rgba(228, 222, 249, 0.65)\",\"rgba(228, 222, 249, 0.65)\",\"rgba(228, 222, 249, 0.65)\",\"rgba(228, 222, 249, 0.65)\",\"rgba(228, 222, 249, 0.65)\",\"rgba(228, 222, 249, 0.65)\",\"rgba(228, 222, 249, 0.65)\",\"rgba(228, 222, 249, 0.65)\",\"rgba(228, 222, 249, 0.65)\",\"rgba(228, 222, 249, 0.65)\",\"rgba(228, 222, 249, 0.65)\",\"rgba(228, 222, 249, 0.65)\",\"rgba(228, 222, 249, 0.65)\",\"rgba(228, 222, 249, 0.65)\",\"rgba(228, 222, 249, 0.65)\",\"rgba(228, 222, 249, 0.65)\",\"rgba(228, 222, 249, 0.65)\",\"rgba(228, 222, 249, 0.65)\",\"rgba(228, 222, 249, 0.65)\",\"rgba(228, 222, 249, 0.65)\",\"rgba(228, 222, 249, 0.65)\",\"rgba(228, 222, 249, 0.65)\",\"rgba(228, 222, 249, 0.65)\",\"rgba(228, 222, 249, 0.65)\",\"rgba(228, 222, 249, 0.65)\",\"rgba(228, 222, 249, 0.65)\",\"rgba(228, 222, 249, 0.65)\"]},\"font\":{\"color\":\"rgb(40, 40, 40)\",\"size\":12},\"height\":27,\"line\":{\"color\":\"#506784\"},\"values\":[[\"2014-01-01\",\"2014-02-01\",\"2014-03-01\",\"2014-04-01\",\"2014-05-01\",\"2014-06-01\",\"2014-07-01\",\"2014-08-01\",\"2014-09-01\",\"2014-10-01\",\"2014-11-01\",\"2014-12-01\",\"2015-01-01\",\"2015-02-01\",\"2015-03-01\",\"2015-04-01\",\"2015-05-01\",\"2015-06-01\",\"2015-07-01\",\"2015-08-01\",\"2015-09-01\",\"2015-10-01\",\"2015-11-01\",\"2015-12-01\",\"2016-01-01\",\"2016-02-01\",\"2016-03-01\",\"2016-04-01\",\"2016-05-01\",\"2016-06-01\",\"2016-07-01\",\"2016-08-01\",\"2016-09-01\",\"2016-10-01\",\"2016-11-01\",\"2016-12-01\",\"2017-01-01\",\"2017-02-01\",\"2017-03-01\",\"2017-04-01\",\"2017-05-01\",\"2017-06-01\",\"2017-07-01\",\"2017-08-01\",\"2017-09-01\",\"2017-10-01\",\"2017-11-01\",\"2017-12-01\",\"2018-01-01\",\"2018-02-01\",\"2018-03-01\",\"2018-04-01\",\"2018-05-01\",\"2018-06-01\",\"2018-07-01\",\"2018-08-01\",\"2018-09-01\",\"2018-10-01\",\"2018-11-01\",\"2018-12-01\",\"2019-01-01\",\"2019-02-01\",\"2019-03-01\",\"2019-04-01\",\"2019-05-01\",\"2019-06-01\",\"2019-07-01\",\"2019-08-01\",\"2019-09-01\",\"2019-10-01\",\"2019-11-01\",\"2019-12-01\",\"2020-01-01\",\"2020-02-01\",\"2020-03-01\",\"2020-04-01\",\"2020-05-01\",\"2020-06-01\",\"2020-07-01\",\"2020-08-01\",\"2020-09-01\",\"2020-10-01\",\"2020-11-01\",\"2020-12-01\",\"2021-01-01\",\"2021-02-01\",\"2021-03-01\",\"2021-04-01\",\"2021-05-01\",\"2021-06-01\",\"2021-07-01\",\"2021-08-01\",\"2021-09-01\",\"2021-10-01\",\"2021-11-01\",\"2021-12-01\",\"2022-01-01\",\"2022-02-01\",\"2022-03-01\",\"2022-04-01\",\"2022-05-01\",\"2022-06-01\",\"2022-07-01\",\"2022-08-01\",\"2022-09-01\",\"2022-10-01\",\"2022-11-01\",\"2022-12-01\",\"2023-01-01\",\"2023-02-01\",\"2023-03-01\",\"2023-04-01\",\"2023-05-01\",\"2023-06-01\",\"2023-07-01\",\"2023-08-01\",\"2023-09-01\",\"2023-10-01\",\"2023-11-01\",\"2023-12-01\",\"2024-01-01\",\"2024-02-01\",\"2024-03-01\"],[227.5,223.75,218.75,221.25,230.0,235.0,230.0,225.0,225.0,225.0,225.0,225.0,225.0,225.0,225.0,220.0,215.0,215.0,212.5,205.0,195.0,190.0,190.0,192.5,196.25,215.0,227.5,215.0,203.75,193.75,188.75,190.0,190.0,212.5,240.0,250.0,255.0,245.0,230.0,220.0,212.5,216.25,223.75,230.0,305.0,297.5,285.0,260.0,240.0,237.5,246.25,287.5,292.5,287.5,263.75,265.0,270.0,271.25,271.25,265.0,256.25,252.5,252.5,257.5,258.75,245.0,227.5,223.75,230.0,228.75,221.25,216.25,210.0,213.75,207.5,190.0,168.75,158.75,162.5,170.0,197.5,212.5,205.0,195.0,200.0,202.5,218.75,236.25,252.5,252.5,282.5,325.0,402.5,507.5,510.0,420.0,330.0,395.0,435.0,435.0,462.5,461.0,417.5,370.0,362.5,363.75,360.0,370.0,377.5,397.5,400.0,387.5,311.0,263.0,317.0,316.0,395.0,313.0,288.0,370.0,285.0,265.0,260.0]]},\"columnwidth\":[1,2],\"domain\":{\"x\":[0,1],\"y\":[0,0.3]},\"header\":{\"fill\":{\"color\":\"#d562be\"},\"font\":{\"color\":\"rgb(45, 45, 45)\",\"size\":14},\"height\":20,\"values\":[[\"<b>Date</b>\"],[\"<b>Actual Values</b>\"]]},\"type\":\"table\"},{\"line\":{\"color\":\"blue\"},\"mode\":\"lines+markers\",\"name\":\"Actuals\",\"x\":[\"2014-01-01T00:00:00\",\"2014-02-01T00:00:00\",\"2014-03-01T00:00:00\",\"2014-04-01T00:00:00\",\"2014-05-01T00:00:00\",\"2014-06-01T00:00:00\",\"2014-07-01T00:00:00\",\"2014-08-01T00:00:00\",\"2014-09-01T00:00:00\",\"2014-10-01T00:00:00\",\"2014-11-01T00:00:00\",\"2014-12-01T00:00:00\",\"2015-01-01T00:00:00\",\"2015-02-01T00:00:00\",\"2015-03-01T00:00:00\",\"2015-04-01T00:00:00\",\"2015-05-01T00:00:00\",\"2015-06-01T00:00:00\",\"2015-07-01T00:00:00\",\"2015-08-01T00:00:00\",\"2015-09-01T00:00:00\",\"2015-10-01T00:00:00\",\"2015-11-01T00:00:00\",\"2015-12-01T00:00:00\",\"2016-01-01T00:00:00\",\"2016-02-01T00:00:00\",\"2016-03-01T00:00:00\",\"2016-04-01T00:00:00\",\"2016-05-01T00:00:00\",\"2016-06-01T00:00:00\",\"2016-07-01T00:00:00\",\"2016-08-01T00:00:00\",\"2016-09-01T00:00:00\",\"2016-10-01T00:00:00\",\"2016-11-01T00:00:00\",\"2016-12-01T00:00:00\",\"2017-01-01T00:00:00\",\"2017-02-01T00:00:00\",\"2017-03-01T00:00:00\",\"2017-04-01T00:00:00\",\"2017-05-01T00:00:00\",\"2017-06-01T00:00:00\",\"2017-07-01T00:00:00\",\"2017-08-01T00:00:00\",\"2017-09-01T00:00:00\",\"2017-10-01T00:00:00\",\"2017-11-01T00:00:00\",\"2017-12-01T00:00:00\",\"2018-01-01T00:00:00\",\"2018-02-01T00:00:00\",\"2018-03-01T00:00:00\",\"2018-04-01T00:00:00\",\"2018-05-01T00:00:00\",\"2018-06-01T00:00:00\",\"2018-07-01T00:00:00\",\"2018-08-01T00:00:00\",\"2018-09-01T00:00:00\",\"2018-10-01T00:00:00\",\"2018-11-01T00:00:00\",\"2018-12-01T00:00:00\",\"2019-01-01T00:00:00\",\"2019-02-01T00:00:00\",\"2019-03-01T00:00:00\",\"2019-04-01T00:00:00\",\"2019-05-01T00:00:00\",\"2019-06-01T00:00:00\",\"2019-07-01T00:00:00\",\"2019-08-01T00:00:00\",\"2019-09-01T00:00:00\",\"2019-10-01T00:00:00\",\"2019-11-01T00:00:00\",\"2019-12-01T00:00:00\",\"2020-01-01T00:00:00\",\"2020-02-01T00:00:00\",\"2020-03-01T00:00:00\",\"2020-04-01T00:00:00\",\"2020-05-01T00:00:00\",\"2020-06-01T00:00:00\",\"2020-07-01T00:00:00\",\"2020-08-01T00:00:00\",\"2020-09-01T00:00:00\",\"2020-10-01T00:00:00\",\"2020-11-01T00:00:00\",\"2020-12-01T00:00:00\",\"2021-01-01T00:00:00\",\"2021-02-01T00:00:00\",\"2021-03-01T00:00:00\",\"2021-04-01T00:00:00\",\"2021-05-01T00:00:00\",\"2021-06-01T00:00:00\",\"2021-07-01T00:00:00\",\"2021-08-01T00:00:00\",\"2021-09-01T00:00:00\",\"2021-10-01T00:00:00\",\"2021-11-01T00:00:00\",\"2021-12-01T00:00:00\",\"2022-01-01T00:00:00\",\"2022-02-01T00:00:00\",\"2022-03-01T00:00:00\",\"2022-04-01T00:00:00\",\"2022-05-01T00:00:00\",\"2022-06-01T00:00:00\",\"2022-07-01T00:00:00\",\"2022-08-01T00:00:00\",\"2022-09-01T00:00:00\",\"2022-10-01T00:00:00\",\"2022-11-01T00:00:00\",\"2022-12-01T00:00:00\",\"2023-01-01T00:00:00\",\"2023-02-01T00:00:00\",\"2023-03-01T00:00:00\",\"2023-04-01T00:00:00\",\"2023-05-01T00:00:00\",\"2023-06-01T00:00:00\",\"2023-07-01T00:00:00\",\"2023-08-01T00:00:00\",\"2023-09-01T00:00:00\",\"2023-10-01T00:00:00\",\"2023-11-01T00:00:00\",\"2023-12-01T00:00:00\",\"2024-01-01T00:00:00\",\"2024-02-01T00:00:00\",\"2024-03-01T00:00:00\"],\"y\":[227.5,223.75,218.75,221.25,230.0,235.0,230.0,225.0,225.0,225.0,225.0,225.0,225.0,225.0,225.0,220.0,215.0,215.0,212.5,205.0,195.0,190.0,190.0,192.5,196.25,215.0,227.5,215.0,203.75,193.75,188.75,190.0,190.0,212.5,240.0,250.0,255.0,245.0,230.0,220.0,212.5,216.25,223.75,230.0,305.0,297.5,285.0,260.0,240.0,237.5,246.25,287.5,292.5,287.5,263.75,265.0,270.0,271.25,271.25,265.0,256.25,252.5,252.5,257.5,258.75,245.0,227.5,223.75,230.0,228.75,221.25,216.25,210.0,213.75,207.5,190.0,168.75,158.75,162.5,170.0,197.5,212.5,205.0,195.0,200.0,202.5,218.75,236.25,252.5,252.5,282.5,325.0,402.5,507.5,510.0,420.0,330.0,395.0,435.0,435.0,462.5,461.0,417.5,370.0,362.5,363.75,360.0,370.0,377.5,397.5,400.0,387.5,311.0,263.0,317.0,316.0,395.0,313.0,288.0,370.0,285.0,265.0,260.0],\"type\":\"scatter\"},{\"marker\":{\"color\":\"red\",\"line\":{\"color\":\"red\",\"width\":2},\"size\":11},\"mode\":\"markers\",\"name\":\"Anomaly\",\"x\":[\"2020-05-01T00:00:00\",\"2020-06-01T00:00:00\",\"2020-07-01T00:00:00\",\"2020-08-01T00:00:00\",\"2021-10-01T00:00:00\",\"2021-11-01T00:00:00\",\"2021-12-01T00:00:00\"],\"y\":[168.75,158.75,162.5,170.0,507.5,510.0,420.0],\"type\":\"scatter\"}],                        {\"autosize\":false,\"height\":865,\"margin\":{\"t\":75},\"showlegend\":true,\"template\":{\"data\":{\"barpolar\":[{\"marker\":{\"line\":{\"color\":\"#E5ECF6\",\"width\":0.5},\"pattern\":{\"fillmode\":\"overlay\",\"size\":10,\"solidity\":0.2}},\"type\":\"barpolar\"}],\"bar\":[{\"error_x\":{\"color\":\"#2a3f5f\"},\"error_y\":{\"color\":\"#2a3f5f\"},\"marker\":{\"line\":{\"color\":\"#E5ECF6\",\"width\":0.5},\"pattern\":{\"fillmode\":\"overlay\",\"size\":10,\"solidity\":0.2}},\"type\":\"bar\"}],\"carpet\":[{\"aaxis\":{\"endlinecolor\":\"#2a3f5f\",\"gridcolor\":\"white\",\"linecolor\":\"white\",\"minorgridcolor\":\"white\",\"startlinecolor\":\"#2a3f5f\"},\"baxis\":{\"endlinecolor\":\"#2a3f5f\",\"gridcolor\":\"white\",\"linecolor\":\"white\",\"minorgridcolor\":\"white\",\"startlinecolor\":\"#2a3f5f\"},\"type\":\"carpet\"}],\"choropleth\":[{\"colorbar\":{\"outlinewidth\":0,\"ticks\":\"\"},\"type\":\"choropleth\"}],\"contourcarpet\":[{\"colorbar\":{\"outlinewidth\":0,\"ticks\":\"\"},\"type\":\"contourcarpet\"}],\"contour\":[{\"colorbar\":{\"outlinewidth\":0,\"ticks\":\"\"},\"colorscale\":[[0.0,\"#0d0887\"],[0.1111111111111111,\"#46039f\"],[0.2222222222222222,\"#7201a8\"],[0.3333333333333333,\"#9c179e\"],[0.4444444444444444,\"#bd3786\"],[0.5555555555555556,\"#d8576b\"],[0.6666666666666666,\"#ed7953\"],[0.7777777777777778,\"#fb9f3a\"],[0.8888888888888888,\"#fdca26\"],[1.0,\"#f0f921\"]],\"type\":\"contour\"}],\"heatmapgl\":[{\"colorbar\":{\"outlinewidth\":0,\"ticks\":\"\"},\"colorscale\":[[0.0,\"#0d0887\"],[0.1111111111111111,\"#46039f\"],[0.2222222222222222,\"#7201a8\"],[0.3333333333333333,\"#9c179e\"],[0.4444444444444444,\"#bd3786\"],[0.5555555555555556,\"#d8576b\"],[0.6666666666666666,\"#ed7953\"],[0.7777777777777778,\"#fb9f3a\"],[0.8888888888888888,\"#fdca26\"],[1.0,\"#f0f921\"]],\"type\":\"heatmapgl\"}],\"heatmap\":[{\"colorbar\":{\"outlinewidth\":0,\"ticks\":\"\"},\"colorscale\":[[0.0,\"#0d0887\"],[0.1111111111111111,\"#46039f\"],[0.2222222222222222,\"#7201a8\"],[0.3333333333333333,\"#9c179e\"],[0.4444444444444444,\"#bd3786\"],[0.5555555555555556,\"#d8576b\"],[0.6666666666666666,\"#ed7953\"],[0.7777777777777778,\"#fb9f3a\"],[0.8888888888888888,\"#fdca26\"],[1.0,\"#f0f921\"]],\"type\":\"heatmap\"}],\"histogram2dcontour\":[{\"colorbar\":{\"outlinewidth\":0,\"ticks\":\"\"},\"colorscale\":[[0.0,\"#0d0887\"],[0.1111111111111111,\"#46039f\"],[0.2222222222222222,\"#7201a8\"],[0.3333333333333333,\"#9c179e\"],[0.4444444444444444,\"#bd3786\"],[0.5555555555555556,\"#d8576b\"],[0.6666666666666666,\"#ed7953\"],[0.7777777777777778,\"#fb9f3a\"],[0.8888888888888888,\"#fdca26\"],[1.0,\"#f0f921\"]],\"type\":\"histogram2dcontour\"}],\"histogram2d\":[{\"colorbar\":{\"outlinewidth\":0,\"ticks\":\"\"},\"colorscale\":[[0.0,\"#0d0887\"],[0.1111111111111111,\"#46039f\"],[0.2222222222222222,\"#7201a8\"],[0.3333333333333333,\"#9c179e\"],[0.4444444444444444,\"#bd3786\"],[0.5555555555555556,\"#d8576b\"],[0.6666666666666666,\"#ed7953\"],[0.7777777777777778,\"#fb9f3a\"],[0.8888888888888888,\"#fdca26\"],[1.0,\"#f0f921\"]],\"type\":\"histogram2d\"}],\"histogram\":[{\"marker\":{\"pattern\":{\"fillmode\":\"overlay\",\"size\":10,\"solidity\":0.2}},\"type\":\"histogram\"}],\"mesh3d\":[{\"colorbar\":{\"outlinewidth\":0,\"ticks\":\"\"},\"type\":\"mesh3d\"}],\"parcoords\":[{\"line\":{\"colorbar\":{\"outlinewidth\":0,\"ticks\":\"\"}},\"type\":\"parcoords\"}],\"pie\":[{\"automargin\":true,\"type\":\"pie\"}],\"scatter3d\":[{\"line\":{\"colorbar\":{\"outlinewidth\":0,\"ticks\":\"\"}},\"marker\":{\"colorbar\":{\"outlinewidth\":0,\"ticks\":\"\"}},\"type\":\"scatter3d\"}],\"scattercarpet\":[{\"marker\":{\"colorbar\":{\"outlinewidth\":0,\"ticks\":\"\"}},\"type\":\"scattercarpet\"}],\"scattergeo\":[{\"marker\":{\"colorbar\":{\"outlinewidth\":0,\"ticks\":\"\"}},\"type\":\"scattergeo\"}],\"scattergl\":[{\"marker\":{\"colorbar\":{\"outlinewidth\":0,\"ticks\":\"\"}},\"type\":\"scattergl\"}],\"scattermapbox\":[{\"marker\":{\"colorbar\":{\"outlinewidth\":0,\"ticks\":\"\"}},\"type\":\"scattermapbox\"}],\"scatterpolargl\":[{\"marker\":{\"colorbar\":{\"outlinewidth\":0,\"ticks\":\"\"}},\"type\":\"scatterpolargl\"}],\"scatterpolar\":[{\"marker\":{\"colorbar\":{\"outlinewidth\":0,\"ticks\":\"\"}},\"type\":\"scatterpolar\"}],\"scatter\":[{\"fillpattern\":{\"fillmode\":\"overlay\",\"size\":10,\"solidity\":0.2},\"type\":\"scatter\"}],\"scatterternary\":[{\"marker\":{\"colorbar\":{\"outlinewidth\":0,\"ticks\":\"\"}},\"type\":\"scatterternary\"}],\"surface\":[{\"colorbar\":{\"outlinewidth\":0,\"ticks\":\"\"},\"colorscale\":[[0.0,\"#0d0887\"],[0.1111111111111111,\"#46039f\"],[0.2222222222222222,\"#7201a8\"],[0.3333333333333333,\"#9c179e\"],[0.4444444444444444,\"#bd3786\"],[0.5555555555555556,\"#d8576b\"],[0.6666666666666666,\"#ed7953\"],[0.7777777777777778,\"#fb9f3a\"],[0.8888888888888888,\"#fdca26\"],[1.0,\"#f0f921\"]],\"type\":\"surface\"}],\"table\":[{\"cells\":{\"fill\":{\"color\":\"#EBF0F8\"},\"line\":{\"color\":\"white\"}},\"header\":{\"fill\":{\"color\":\"#C8D4E3\"},\"line\":{\"color\":\"white\"}},\"type\":\"table\"}]},\"layout\":{\"annotationdefaults\":{\"arrowcolor\":\"#2a3f5f\",\"arrowhead\":0,\"arrowwidth\":1},\"autotypenumbers\":\"strict\",\"coloraxis\":{\"colorbar\":{\"outlinewidth\":0,\"ticks\":\"\"}},\"colorscale\":{\"diverging\":[[0,\"#8e0152\"],[0.1,\"#c51b7d\"],[0.2,\"#de77ae\"],[0.3,\"#f1b6da\"],[0.4,\"#fde0ef\"],[0.5,\"#f7f7f7\"],[0.6,\"#e6f5d0\"],[0.7,\"#b8e186\"],[0.8,\"#7fbc41\"],[0.9,\"#4d9221\"],[1,\"#276419\"]],\"sequential\":[[0.0,\"#0d0887\"],[0.1111111111111111,\"#46039f\"],[0.2222222222222222,\"#7201a8\"],[0.3333333333333333,\"#9c179e\"],[0.4444444444444444,\"#bd3786\"],[0.5555555555555556,\"#d8576b\"],[0.6666666666666666,\"#ed7953\"],[0.7777777777777778,\"#fb9f3a\"],[0.8888888888888888,\"#fdca26\"],[1.0,\"#f0f921\"]],\"sequentialminus\":[[0.0,\"#0d0887\"],[0.1111111111111111,\"#46039f\"],[0.2222222222222222,\"#7201a8\"],[0.3333333333333333,\"#9c179e\"],[0.4444444444444444,\"#bd3786\"],[0.5555555555555556,\"#d8576b\"],[0.6666666666666666,\"#ed7953\"],[0.7777777777777778,\"#fb9f3a\"],[0.8888888888888888,\"#fdca26\"],[1.0,\"#f0f921\"]]},\"colorway\":[\"#636efa\",\"#EF553B\",\"#00cc96\",\"#ab63fa\",\"#FFA15A\",\"#19d3f3\",\"#FF6692\",\"#B6E880\",\"#FF97FF\",\"#FECB52\"],\"font\":{\"color\":\"#2a3f5f\"},\"geo\":{\"bgcolor\":\"white\",\"lakecolor\":\"white\",\"landcolor\":\"#E5ECF6\",\"showlakes\":true,\"showland\":true,\"subunitcolor\":\"white\"},\"hoverlabel\":{\"align\":\"left\"},\"hovermode\":\"closest\",\"mapbox\":{\"style\":\"light\"},\"paper_bgcolor\":\"white\",\"plot_bgcolor\":\"#E5ECF6\",\"polar\":{\"angularaxis\":{\"gridcolor\":\"white\",\"linecolor\":\"white\",\"ticks\":\"\"},\"bgcolor\":\"#E5ECF6\",\"radialaxis\":{\"gridcolor\":\"white\",\"linecolor\":\"white\",\"ticks\":\"\"}},\"scene\":{\"xaxis\":{\"backgroundcolor\":\"#E5ECF6\",\"gridcolor\":\"white\",\"gridwidth\":2,\"linecolor\":\"white\",\"showbackground\":true,\"ticks\":\"\",\"zerolinecolor\":\"white\"},\"yaxis\":{\"backgroundcolor\":\"#E5ECF6\",\"gridcolor\":\"white\",\"gridwidth\":2,\"linecolor\":\"white\",\"showbackground\":true,\"ticks\":\"\",\"zerolinecolor\":\"white\"},\"zaxis\":{\"backgroundcolor\":\"#E5ECF6\",\"gridcolor\":\"white\",\"gridwidth\":2,\"linecolor\":\"white\",\"showbackground\":true,\"ticks\":\"\",\"zerolinecolor\":\"white\"}},\"shapedefaults\":{\"line\":{\"color\":\"#2a3f5f\"}},\"ternary\":{\"aaxis\":{\"gridcolor\":\"white\",\"linecolor\":\"white\",\"ticks\":\"\"},\"baxis\":{\"gridcolor\":\"white\",\"linecolor\":\"white\",\"ticks\":\"\"},\"bgcolor\":\"#E5ECF6\",\"caxis\":{\"gridcolor\":\"white\",\"linecolor\":\"white\",\"ticks\":\"\"}},\"title\":{\"x\":0.05},\"xaxis\":{\"automargin\":true,\"gridcolor\":\"white\",\"linecolor\":\"white\",\"ticks\":\"\",\"title\":{\"standoff\":15},\"zerolinecolor\":\"white\",\"zerolinewidth\":2},\"yaxis\":{\"automargin\":true,\"gridcolor\":\"white\",\"linecolor\":\"white\",\"ticks\":\"\",\"title\":{\"standoff\":15},\"zerolinecolor\":\"white\",\"zerolinewidth\":2}}},\"title\":{\"text\":\"Anomaly Detection for Soda Ash Prices\"},\"width\":1000,\"xaxis\":{\"domain\":[0,1],\"gridcolor\":\"#ffffff\",\"mirror\":true,\"showgrid\":true,\"showline\":true,\"tickfont\":{\"size\":10},\"ticklen\":4,\"zeroline\":false},\"yaxis\":{\"domain\":[0.4,1],\"gridcolor\":\"#ffffff\",\"hoverformat\":\".2f\",\"mirror\":true,\"showgrid\":true,\"showline\":true,\"tickfont\":{\"size\":10},\"ticklen\":4,\"zeroline\":false}},                        {\"responsive\": true}                    ).then(function(){\n",
       "                            \n",
       "var gd = document.getElementById('53e8a4d4-ca21-4d6e-ac95-17784e089d4e');\n",
       "var x = new MutationObserver(function (mutations, observer) {{\n",
       "        var display = window.getComputedStyle(gd).display;\n",
       "        if (!display || display === 'none') {{\n",
       "            console.log([gd, 'removed!']);\n",
       "            Plotly.purge(gd);\n",
       "            observer.disconnect();\n",
       "        }}\n",
       "}});\n",
       "\n",
       "// Listen for the removal of the full notebook cells\n",
       "var notebookContainer = gd.closest('#notebook-container');\n",
       "if (notebookContainer) {{\n",
       "    x.observe(notebookContainer, {childList: true});\n",
       "}}\n",
       "\n",
       "// Listen for the clearing of the current output cell\n",
       "var outputEl = gd.closest('.output');\n",
       "if (outputEl) {{\n",
       "    x.observe(outputEl, {childList: true});\n",
       "}}\n",
       "\n",
       "                        })                };                });            </script>        </div>"
      ]
     },
     "metadata": {},
     "output_type": "display_data"
    }
   ],
   "source": [
    "import pandas as pd\n",
    "import numpy as np\n",
    "import plotly.graph_objs as go\n",
    "from plotly.offline import iplot\n",
    "\n",
    "def plot_anomaly(df, metric_name):\n",
    "    # Convert 'Period' to datetime\n",
    "    df['timestamp'] = pd.to_datetime(df['Period'], format=\"%Y-%m-%d\")\n",
    "    dates = df['timestamp']\n",
    "    \n",
    "    # Identify anomaly points\n",
    "    bool_array = df['anomaly'] < 0  # anomalies where anomaly is -1\n",
    "    actuals = df[\"Target_SodaAshLightChinaSpotExportAverageFOBChinaUSperMetricTon\"]\n",
    "    \n",
    "    # Color map for conditional formatting in the table\n",
    "    colors = ['rgba(228, 222, 249, 0.65)' if x == 1 else 'red' for x in df['anomaly']]\n",
    "\n",
    "    # Table which includes Date, Actuals\n",
    "    table = go.Table(\n",
    "        domain=dict(x=[0, 1], y=[0, 0.3]),\n",
    "        columnwidth=[1, 2],\n",
    "        header=dict(\n",
    "            height=20,\n",
    "            values=[['<b>Date</b>'], ['<b>Actual Values</b>']],\n",
    "            font=dict(color='rgb(45, 45, 45)', size=14),\n",
    "            fill_color='#d562be'\n",
    "        ),\n",
    "        cells=dict(\n",
    "            values=[dates.dt.strftime('%Y-%m-%d'), actuals.round(3)],\n",
    "            line=dict(color='#506784'),\n",
    "            align=['center'],\n",
    "            font=dict(color='rgb(40, 40, 40)', size=12),\n",
    "            height=27,\n",
    "            fill_color=colors  # Ensure that the list of colors is correctly passed here\n",
    "        )\n",
    "    )\n",
    "    \n",
    "    # Plot the actual points\n",
    "    Actuals = go.Scatter(\n",
    "        name='Actuals',\n",
    "        x=dates,\n",
    "        y=actuals,\n",
    "        mode='lines+markers',\n",
    "        line=dict(color=\"blue\")\n",
    "    )\n",
    "    \n",
    "    # Highlight the anomaly points\n",
    "    anomalies_map = go.Scatter(\n",
    "        name=\"Anomaly\",\n",
    "        x=dates[bool_array],\n",
    "        y=actuals[bool_array],\n",
    "        mode='markers',\n",
    "        marker=dict(color=\"red\", size=11, line=dict(color=\"red\", width=2))\n",
    "    )\n",
    "    \n",
    "    # Axis and layout settings\n",
    "    layout = go.Layout(\n",
    "        width=1000,\n",
    "        height=865,\n",
    "        autosize=False,\n",
    "        title=metric_name,\n",
    "        margin=dict(t=75),\n",
    "        showlegend=True,\n",
    "        xaxis=dict(showline=True, zeroline=False, showgrid=True, mirror=True, ticklen=4, gridcolor='#ffffff', tickfont=dict(size=10), domain=[0, 1]),\n",
    "        yaxis=dict(showline=True, zeroline=False, showgrid=True, mirror=True, ticklen=4, gridcolor='#ffffff', tickfont=dict(size=10), domain=[0.4, 1], hoverformat='.2f')\n",
    "    )\n",
    "    \n",
    "    fig = go.Figure(data=[table, Actuals, anomalies_map], layout=layout)\n",
    "    iplot(fig)\n",
    "\n",
    "# Example usage\n",
    "# Make sure df_price is defined and has the appropriate columns and data.\n",
    "plot_anomaly(df_price, 'Anomaly Detection for Soda Ash Prices')\n"
   ]
  },
  {
   "cell_type": "markdown",
   "metadata": {},
   "source": [
    "### Modular code"
   ]
  },
  {
   "cell_type": "markdown",
   "metadata": {},
   "source": [
    "### Function for anomaly detection"
   ]
  },
  {
   "cell_type": "code",
   "execution_count": 92,
   "metadata": {},
   "outputs": [],
   "source": [
    "from sklearn.ensemble import IsolationForest\n",
    "\n",
    "def detect_anomalies(df, target_column, n_estimators=10, max_samples='auto', contamination=0.05, bootstrap=False, random_state=42, verbose=0):\n",
    "    # Create an Isolation Forest model\n",
    "    clf = IsolationForest(n_estimators=n_estimators, max_samples=max_samples,\n",
    "                          contamination=contamination, bootstrap=bootstrap,\n",
    "                          n_jobs=-1, random_state=random_state, verbose=verbose)\n",
    "    \n",
    "    # Fit the model\n",
    "    clf.fit(df[[target_column]])\n",
    "    \n",
    "    # Calculate anomaly scores\n",
    "    df['scores'] = clf.decision_function(df[[target_column]])\n",
    "    \n",
    "    # Predict anomalies\n",
    "    df['anomaly'] = clf.predict(df[[target_column]])\n",
    "    \n",
    "    return df\n"
   ]
  },
  {
   "cell_type": "markdown",
   "metadata": {},
   "source": [
    "### Plotting Function"
   ]
  },
  {
   "cell_type": "code",
   "execution_count": 96,
   "metadata": {},
   "outputs": [],
   "source": [
    "# dates = df['timestamp']\n",
    "# actuals = df[data_col]\n",
    "# anomalies = df[anomaly_col] < 0  # Assuming -1 indicates an anomaly\n",
    "\n",
    "# dates_a = df.loc[df[anomaly_col] < 0, 'timestamp']\n",
    "# actuals_a = df.loc[df[anomaly_col] < 0, data_col]\n",
    "\n",
    "# # Color map for conditional formatting in the table\n",
    "# colors = ['rgba(228, 222, 249, 0.65)' if x == 1 else 'red' for x in df[anomaly_col]]\n",
    "\n",
    "# # Table including Date and Actual Values\n",
    "# table = go.Table(\n",
    "#     domain=dict(x=[0, 1], y=[0, 0.3]),\n",
    "#     columnwidth=[1, 2],\n",
    "#     header=dict(\n",
    "#         values=['<b>Date</b>', '<b>Actual Values</b>'],\n",
    "#         font=dict(size=14),\n",
    "#         fill_color='#d562be'),\n",
    "#     cells=dict(\n",
    "#         values=[dates_a.dt.strftime('%Y-%m-%d'), actuals_a.round(3)],\n",
    "#         align='center',\n",
    "#         font_size=12,\n",
    "#         fill_color=colors\n",
    "#     )\n",
    "# )"
   ]
  },
  {
   "cell_type": "code",
   "execution_count": 94,
   "metadata": {},
   "outputs": [],
   "source": [
    "import pandas as pd\n",
    "import plotly.graph_objs as go\n",
    "from plotly.offline import iplot\n",
    "\n",
    "def plot_anomalies(df, date_col, data_col, anomaly_col, title):\n",
    "    # Convert 'date_col' to datetime if not already\n",
    "    df['timestamp'] = pd.to_datetime(df[date_col], format=\"%Y-%m-%d\")\n",
    "    \n",
    "    # Extract data for plotting\n",
    "    dates = df['timestamp']\n",
    "    actuals = df[data_col]\n",
    "    anomalies = df[anomaly_col] < 0  # Assuming -1 indicates an anomaly\n",
    "\n",
    "    dates_a = df.loc[df[anomaly_col] < 0, 'timestamp']\n",
    "    actuals_a = df.loc[df[anomaly_col] < 0, data_col]\n",
    "\n",
    "    # Color map for conditional formatting in the table\n",
    "    colors = ['rgba(228, 222, 249, 0.65)' if x == 1 else 'red' for x in df[anomaly_col]]\n",
    "    \n",
    "    # Table including Date and Actual Values\n",
    "    table = go.Table(\n",
    "        domain=dict(x=[0, 1], y=[0, 0.3]),\n",
    "        columnwidth=[1, 2],\n",
    "        header=dict(\n",
    "            values=['<b>Date</b>', '<b>Anomaly Values</b>'],\n",
    "            font=dict(size=14),\n",
    "            fill_color='#d562be'),\n",
    "        cells=dict(\n",
    "            values=[dates_a.dt.strftime('%Y-%m-%d'), actuals_a.round(3)],\n",
    "            align='center',\n",
    "            font_size=12,\n",
    "            fill_color=colors\n",
    "        )\n",
    "    )\n",
    "    \n",
    "    # Actual data points plot\n",
    "    actuals_plot = go.Scatter(\n",
    "        name='Actuals',\n",
    "        x=dates,\n",
    "        y=actuals,\n",
    "        mode='lines+markers',\n",
    "        line=dict(color=\"blue\")\n",
    "    )\n",
    "    \n",
    "    # Highlight anomaly points\n",
    "    anomalies_plot = go.Scatter(\n",
    "        name=\"Anomalies\",\n",
    "        x=dates[anomalies],\n",
    "        y=actuals[anomalies],\n",
    "        mode='markers',\n",
    "        marker=dict(color=\"red\", size=11)\n",
    "    )\n",
    "    \n",
    "    # Layout configuration\n",
    "    layout = go.Layout(\n",
    "        title=title,\n",
    "        showlegend=True,\n",
    "        xaxis=dict(domain=[0, 1]),\n",
    "        yaxis=dict(domain=[0.4, 1]),\n",
    "        height=600\n",
    "    )\n",
    "    \n",
    "    fig = go.Figure(data=[table, actuals_plot, anomalies_plot], layout=layout)\n",
    "    iplot(fig)\n"
   ]
  },
  {
   "cell_type": "code",
   "execution_count": 95,
   "metadata": {},
   "outputs": [
    {
     "name": "stderr",
     "output_type": "stream",
     "text": [
      "c:\\Users\\249881\\AppData\\Local\\anaconda3\\Lib\\site-packages\\sklearn\\base.py:439: UserWarning:\n",
      "\n",
      "X does not have valid feature names, but IsolationForest was fitted with feature names\n",
      "\n",
      "c:\\Users\\249881\\AppData\\Local\\anaconda3\\Lib\\site-packages\\_plotly_utils\\basevalidators.py:106: FutureWarning:\n",
      "\n",
      "The behavior of DatetimeProperties.to_pydatetime is deprecated, in a future version this will return a Series containing python datetime objects instead of an ndarray. To retain the old behavior, call `np.array` on the result\n",
      "\n"
     ]
    },
    {
     "data": {
      "application/vnd.plotly.v1+json": {
       "config": {
        "linkText": "Export to plot.ly",
        "plotlyServerURL": "https://plot.ly",
        "showLink": false
       },
       "data": [
        {
         "cells": {
          "align": "center",
          "fill": {
           "color": [
            "rgba(228, 222, 249, 0.65)",
            "rgba(228, 222, 249, 0.65)",
            "rgba(228, 222, 249, 0.65)",
            "rgba(228, 222, 249, 0.65)",
            "rgba(228, 222, 249, 0.65)",
            "rgba(228, 222, 249, 0.65)",
            "rgba(228, 222, 249, 0.65)",
            "rgba(228, 222, 249, 0.65)",
            "rgba(228, 222, 249, 0.65)",
            "rgba(228, 222, 249, 0.65)",
            "rgba(228, 222, 249, 0.65)",
            "rgba(228, 222, 249, 0.65)",
            "rgba(228, 222, 249, 0.65)",
            "rgba(228, 222, 249, 0.65)",
            "rgba(228, 222, 249, 0.65)",
            "rgba(228, 222, 249, 0.65)",
            "rgba(228, 222, 249, 0.65)",
            "rgba(228, 222, 249, 0.65)",
            "rgba(228, 222, 249, 0.65)",
            "rgba(228, 222, 249, 0.65)",
            "rgba(228, 222, 249, 0.65)",
            "rgba(228, 222, 249, 0.65)",
            "rgba(228, 222, 249, 0.65)",
            "rgba(228, 222, 249, 0.65)",
            "rgba(228, 222, 249, 0.65)",
            "rgba(228, 222, 249, 0.65)",
            "rgba(228, 222, 249, 0.65)",
            "rgba(228, 222, 249, 0.65)",
            "rgba(228, 222, 249, 0.65)",
            "rgba(228, 222, 249, 0.65)",
            "rgba(228, 222, 249, 0.65)",
            "rgba(228, 222, 249, 0.65)",
            "rgba(228, 222, 249, 0.65)",
            "rgba(228, 222, 249, 0.65)",
            "rgba(228, 222, 249, 0.65)",
            "rgba(228, 222, 249, 0.65)",
            "rgba(228, 222, 249, 0.65)",
            "rgba(228, 222, 249, 0.65)",
            "rgba(228, 222, 249, 0.65)",
            "rgba(228, 222, 249, 0.65)",
            "rgba(228, 222, 249, 0.65)",
            "rgba(228, 222, 249, 0.65)",
            "rgba(228, 222, 249, 0.65)",
            "rgba(228, 222, 249, 0.65)",
            "rgba(228, 222, 249, 0.65)",
            "rgba(228, 222, 249, 0.65)",
            "rgba(228, 222, 249, 0.65)",
            "rgba(228, 222, 249, 0.65)",
            "rgba(228, 222, 249, 0.65)",
            "rgba(228, 222, 249, 0.65)",
            "rgba(228, 222, 249, 0.65)",
            "rgba(228, 222, 249, 0.65)",
            "rgba(228, 222, 249, 0.65)",
            "rgba(228, 222, 249, 0.65)",
            "rgba(228, 222, 249, 0.65)",
            "rgba(228, 222, 249, 0.65)",
            "rgba(228, 222, 249, 0.65)",
            "rgba(228, 222, 249, 0.65)",
            "rgba(228, 222, 249, 0.65)",
            "rgba(228, 222, 249, 0.65)",
            "rgba(228, 222, 249, 0.65)",
            "rgba(228, 222, 249, 0.65)",
            "rgba(228, 222, 249, 0.65)",
            "rgba(228, 222, 249, 0.65)",
            "rgba(228, 222, 249, 0.65)",
            "rgba(228, 222, 249, 0.65)",
            "rgba(228, 222, 249, 0.65)",
            "rgba(228, 222, 249, 0.65)",
            "rgba(228, 222, 249, 0.65)",
            "rgba(228, 222, 249, 0.65)",
            "rgba(228, 222, 249, 0.65)",
            "rgba(228, 222, 249, 0.65)",
            "rgba(228, 222, 249, 0.65)",
            "rgba(228, 222, 249, 0.65)",
            "rgba(228, 222, 249, 0.65)",
            "rgba(228, 222, 249, 0.65)",
            "red",
            "red",
            "red",
            "red",
            "rgba(228, 222, 249, 0.65)",
            "rgba(228, 222, 249, 0.65)",
            "rgba(228, 222, 249, 0.65)",
            "rgba(228, 222, 249, 0.65)",
            "rgba(228, 222, 249, 0.65)",
            "rgba(228, 222, 249, 0.65)",
            "rgba(228, 222, 249, 0.65)",
            "rgba(228, 222, 249, 0.65)",
            "rgba(228, 222, 249, 0.65)",
            "rgba(228, 222, 249, 0.65)",
            "rgba(228, 222, 249, 0.65)",
            "rgba(228, 222, 249, 0.65)",
            "rgba(228, 222, 249, 0.65)",
            "red",
            "red",
            "red",
            "rgba(228, 222, 249, 0.65)",
            "rgba(228, 222, 249, 0.65)",
            "rgba(228, 222, 249, 0.65)",
            "rgba(228, 222, 249, 0.65)",
            "rgba(228, 222, 249, 0.65)",
            "rgba(228, 222, 249, 0.65)",
            "rgba(228, 222, 249, 0.65)",
            "rgba(228, 222, 249, 0.65)",
            "rgba(228, 222, 249, 0.65)",
            "rgba(228, 222, 249, 0.65)",
            "rgba(228, 222, 249, 0.65)",
            "rgba(228, 222, 249, 0.65)",
            "rgba(228, 222, 249, 0.65)",
            "rgba(228, 222, 249, 0.65)",
            "rgba(228, 222, 249, 0.65)",
            "rgba(228, 222, 249, 0.65)",
            "rgba(228, 222, 249, 0.65)",
            "rgba(228, 222, 249, 0.65)",
            "rgba(228, 222, 249, 0.65)",
            "rgba(228, 222, 249, 0.65)",
            "rgba(228, 222, 249, 0.65)",
            "rgba(228, 222, 249, 0.65)",
            "rgba(228, 222, 249, 0.65)",
            "rgba(228, 222, 249, 0.65)",
            "rgba(228, 222, 249, 0.65)",
            "rgba(228, 222, 249, 0.65)",
            "rgba(228, 222, 249, 0.65)"
           ]
          },
          "font": {
           "size": 12
          },
          "values": [
           [
            "2020-05-01",
            "2020-06-01",
            "2020-07-01",
            "2020-08-01",
            "2021-10-01",
            "2021-11-01",
            "2021-12-01"
           ],
           [
            168.75,
            158.75,
            162.5,
            170,
            507.5,
            510,
            420
           ]
          ]
         },
         "columnwidth": [
          1,
          2
         ],
         "domain": {
          "x": [
           0,
           1
          ],
          "y": [
           0,
           0.3
          ]
         },
         "header": {
          "fill": {
           "color": "#d562be"
          },
          "font": {
           "size": 14
          },
          "values": [
           "<b>Date</b>",
           "<b>Anomaly Values</b>"
          ]
         },
         "type": "table"
        },
        {
         "line": {
          "color": "blue"
         },
         "mode": "lines+markers",
         "name": "Actuals",
         "type": "scatter",
         "x": [
          "2014-01-01T00:00:00",
          "2014-02-01T00:00:00",
          "2014-03-01T00:00:00",
          "2014-04-01T00:00:00",
          "2014-05-01T00:00:00",
          "2014-06-01T00:00:00",
          "2014-07-01T00:00:00",
          "2014-08-01T00:00:00",
          "2014-09-01T00:00:00",
          "2014-10-01T00:00:00",
          "2014-11-01T00:00:00",
          "2014-12-01T00:00:00",
          "2015-01-01T00:00:00",
          "2015-02-01T00:00:00",
          "2015-03-01T00:00:00",
          "2015-04-01T00:00:00",
          "2015-05-01T00:00:00",
          "2015-06-01T00:00:00",
          "2015-07-01T00:00:00",
          "2015-08-01T00:00:00",
          "2015-09-01T00:00:00",
          "2015-10-01T00:00:00",
          "2015-11-01T00:00:00",
          "2015-12-01T00:00:00",
          "2016-01-01T00:00:00",
          "2016-02-01T00:00:00",
          "2016-03-01T00:00:00",
          "2016-04-01T00:00:00",
          "2016-05-01T00:00:00",
          "2016-06-01T00:00:00",
          "2016-07-01T00:00:00",
          "2016-08-01T00:00:00",
          "2016-09-01T00:00:00",
          "2016-10-01T00:00:00",
          "2016-11-01T00:00:00",
          "2016-12-01T00:00:00",
          "2017-01-01T00:00:00",
          "2017-02-01T00:00:00",
          "2017-03-01T00:00:00",
          "2017-04-01T00:00:00",
          "2017-05-01T00:00:00",
          "2017-06-01T00:00:00",
          "2017-07-01T00:00:00",
          "2017-08-01T00:00:00",
          "2017-09-01T00:00:00",
          "2017-10-01T00:00:00",
          "2017-11-01T00:00:00",
          "2017-12-01T00:00:00",
          "2018-01-01T00:00:00",
          "2018-02-01T00:00:00",
          "2018-03-01T00:00:00",
          "2018-04-01T00:00:00",
          "2018-05-01T00:00:00",
          "2018-06-01T00:00:00",
          "2018-07-01T00:00:00",
          "2018-08-01T00:00:00",
          "2018-09-01T00:00:00",
          "2018-10-01T00:00:00",
          "2018-11-01T00:00:00",
          "2018-12-01T00:00:00",
          "2019-01-01T00:00:00",
          "2019-02-01T00:00:00",
          "2019-03-01T00:00:00",
          "2019-04-01T00:00:00",
          "2019-05-01T00:00:00",
          "2019-06-01T00:00:00",
          "2019-07-01T00:00:00",
          "2019-08-01T00:00:00",
          "2019-09-01T00:00:00",
          "2019-10-01T00:00:00",
          "2019-11-01T00:00:00",
          "2019-12-01T00:00:00",
          "2020-01-01T00:00:00",
          "2020-02-01T00:00:00",
          "2020-03-01T00:00:00",
          "2020-04-01T00:00:00",
          "2020-05-01T00:00:00",
          "2020-06-01T00:00:00",
          "2020-07-01T00:00:00",
          "2020-08-01T00:00:00",
          "2020-09-01T00:00:00",
          "2020-10-01T00:00:00",
          "2020-11-01T00:00:00",
          "2020-12-01T00:00:00",
          "2021-01-01T00:00:00",
          "2021-02-01T00:00:00",
          "2021-03-01T00:00:00",
          "2021-04-01T00:00:00",
          "2021-05-01T00:00:00",
          "2021-06-01T00:00:00",
          "2021-07-01T00:00:00",
          "2021-08-01T00:00:00",
          "2021-09-01T00:00:00",
          "2021-10-01T00:00:00",
          "2021-11-01T00:00:00",
          "2021-12-01T00:00:00",
          "2022-01-01T00:00:00",
          "2022-02-01T00:00:00",
          "2022-03-01T00:00:00",
          "2022-04-01T00:00:00",
          "2022-05-01T00:00:00",
          "2022-06-01T00:00:00",
          "2022-07-01T00:00:00",
          "2022-08-01T00:00:00",
          "2022-09-01T00:00:00",
          "2022-10-01T00:00:00",
          "2022-11-01T00:00:00",
          "2022-12-01T00:00:00",
          "2023-01-01T00:00:00",
          "2023-02-01T00:00:00",
          "2023-03-01T00:00:00",
          "2023-04-01T00:00:00",
          "2023-05-01T00:00:00",
          "2023-06-01T00:00:00",
          "2023-07-01T00:00:00",
          "2023-08-01T00:00:00",
          "2023-09-01T00:00:00",
          "2023-10-01T00:00:00",
          "2023-11-01T00:00:00",
          "2023-12-01T00:00:00",
          "2024-01-01T00:00:00",
          "2024-02-01T00:00:00",
          "2024-03-01T00:00:00"
         ],
         "y": [
          227.5,
          223.75,
          218.75,
          221.25,
          230,
          235,
          230,
          225,
          225,
          225,
          225,
          225,
          225,
          225,
          225,
          220,
          215,
          215,
          212.5,
          205,
          195,
          190,
          190,
          192.5,
          196.25,
          215,
          227.5,
          215,
          203.75,
          193.75,
          188.75,
          190,
          190,
          212.5,
          240,
          250,
          255,
          245,
          230,
          220,
          212.5,
          216.25,
          223.75,
          230,
          305,
          297.5,
          285,
          260,
          240,
          237.5,
          246.25,
          287.5,
          292.5,
          287.5,
          263.75,
          265,
          270,
          271.25,
          271.25,
          265,
          256.25,
          252.5,
          252.5,
          257.5,
          258.75,
          245,
          227.5,
          223.75,
          230,
          228.75,
          221.25,
          216.25,
          210,
          213.75,
          207.5,
          190,
          168.75,
          158.75,
          162.5,
          170,
          197.5,
          212.5,
          205,
          195,
          200,
          202.5,
          218.75,
          236.25,
          252.5,
          252.5,
          282.5,
          325,
          402.5,
          507.5,
          510,
          420,
          330,
          395,
          435,
          435,
          462.5,
          461,
          417.5,
          370,
          362.5,
          363.75,
          360,
          370,
          377.5,
          397.5,
          400,
          387.5,
          311,
          263,
          317,
          316,
          395,
          313,
          288,
          370,
          285,
          265,
          260
         ]
        },
        {
         "marker": {
          "color": "red",
          "size": 11
         },
         "mode": "markers",
         "name": "Anomalies",
         "type": "scatter",
         "x": [
          "2020-05-01T00:00:00",
          "2020-06-01T00:00:00",
          "2020-07-01T00:00:00",
          "2020-08-01T00:00:00",
          "2021-10-01T00:00:00",
          "2021-11-01T00:00:00",
          "2021-12-01T00:00:00"
         ],
         "y": [
          168.75,
          158.75,
          162.5,
          170,
          507.5,
          510,
          420
         ]
        }
       ],
       "layout": {
        "height": 600,
        "showlegend": true,
        "template": {
         "data": {
          "bar": [
           {
            "error_x": {
             "color": "#2a3f5f"
            },
            "error_y": {
             "color": "#2a3f5f"
            },
            "marker": {
             "line": {
              "color": "#E5ECF6",
              "width": 0.5
             },
             "pattern": {
              "fillmode": "overlay",
              "size": 10,
              "solidity": 0.2
             }
            },
            "type": "bar"
           }
          ],
          "barpolar": [
           {
            "marker": {
             "line": {
              "color": "#E5ECF6",
              "width": 0.5
             },
             "pattern": {
              "fillmode": "overlay",
              "size": 10,
              "solidity": 0.2
             }
            },
            "type": "barpolar"
           }
          ],
          "carpet": [
           {
            "aaxis": {
             "endlinecolor": "#2a3f5f",
             "gridcolor": "white",
             "linecolor": "white",
             "minorgridcolor": "white",
             "startlinecolor": "#2a3f5f"
            },
            "baxis": {
             "endlinecolor": "#2a3f5f",
             "gridcolor": "white",
             "linecolor": "white",
             "minorgridcolor": "white",
             "startlinecolor": "#2a3f5f"
            },
            "type": "carpet"
           }
          ],
          "choropleth": [
           {
            "colorbar": {
             "outlinewidth": 0,
             "ticks": ""
            },
            "type": "choropleth"
           }
          ],
          "contour": [
           {
            "colorbar": {
             "outlinewidth": 0,
             "ticks": ""
            },
            "colorscale": [
             [
              0,
              "#0d0887"
             ],
             [
              0.1111111111111111,
              "#46039f"
             ],
             [
              0.2222222222222222,
              "#7201a8"
             ],
             [
              0.3333333333333333,
              "#9c179e"
             ],
             [
              0.4444444444444444,
              "#bd3786"
             ],
             [
              0.5555555555555556,
              "#d8576b"
             ],
             [
              0.6666666666666666,
              "#ed7953"
             ],
             [
              0.7777777777777778,
              "#fb9f3a"
             ],
             [
              0.8888888888888888,
              "#fdca26"
             ],
             [
              1,
              "#f0f921"
             ]
            ],
            "type": "contour"
           }
          ],
          "contourcarpet": [
           {
            "colorbar": {
             "outlinewidth": 0,
             "ticks": ""
            },
            "type": "contourcarpet"
           }
          ],
          "heatmap": [
           {
            "colorbar": {
             "outlinewidth": 0,
             "ticks": ""
            },
            "colorscale": [
             [
              0,
              "#0d0887"
             ],
             [
              0.1111111111111111,
              "#46039f"
             ],
             [
              0.2222222222222222,
              "#7201a8"
             ],
             [
              0.3333333333333333,
              "#9c179e"
             ],
             [
              0.4444444444444444,
              "#bd3786"
             ],
             [
              0.5555555555555556,
              "#d8576b"
             ],
             [
              0.6666666666666666,
              "#ed7953"
             ],
             [
              0.7777777777777778,
              "#fb9f3a"
             ],
             [
              0.8888888888888888,
              "#fdca26"
             ],
             [
              1,
              "#f0f921"
             ]
            ],
            "type": "heatmap"
           }
          ],
          "heatmapgl": [
           {
            "colorbar": {
             "outlinewidth": 0,
             "ticks": ""
            },
            "colorscale": [
             [
              0,
              "#0d0887"
             ],
             [
              0.1111111111111111,
              "#46039f"
             ],
             [
              0.2222222222222222,
              "#7201a8"
             ],
             [
              0.3333333333333333,
              "#9c179e"
             ],
             [
              0.4444444444444444,
              "#bd3786"
             ],
             [
              0.5555555555555556,
              "#d8576b"
             ],
             [
              0.6666666666666666,
              "#ed7953"
             ],
             [
              0.7777777777777778,
              "#fb9f3a"
             ],
             [
              0.8888888888888888,
              "#fdca26"
             ],
             [
              1,
              "#f0f921"
             ]
            ],
            "type": "heatmapgl"
           }
          ],
          "histogram": [
           {
            "marker": {
             "pattern": {
              "fillmode": "overlay",
              "size": 10,
              "solidity": 0.2
             }
            },
            "type": "histogram"
           }
          ],
          "histogram2d": [
           {
            "colorbar": {
             "outlinewidth": 0,
             "ticks": ""
            },
            "colorscale": [
             [
              0,
              "#0d0887"
             ],
             [
              0.1111111111111111,
              "#46039f"
             ],
             [
              0.2222222222222222,
              "#7201a8"
             ],
             [
              0.3333333333333333,
              "#9c179e"
             ],
             [
              0.4444444444444444,
              "#bd3786"
             ],
             [
              0.5555555555555556,
              "#d8576b"
             ],
             [
              0.6666666666666666,
              "#ed7953"
             ],
             [
              0.7777777777777778,
              "#fb9f3a"
             ],
             [
              0.8888888888888888,
              "#fdca26"
             ],
             [
              1,
              "#f0f921"
             ]
            ],
            "type": "histogram2d"
           }
          ],
          "histogram2dcontour": [
           {
            "colorbar": {
             "outlinewidth": 0,
             "ticks": ""
            },
            "colorscale": [
             [
              0,
              "#0d0887"
             ],
             [
              0.1111111111111111,
              "#46039f"
             ],
             [
              0.2222222222222222,
              "#7201a8"
             ],
             [
              0.3333333333333333,
              "#9c179e"
             ],
             [
              0.4444444444444444,
              "#bd3786"
             ],
             [
              0.5555555555555556,
              "#d8576b"
             ],
             [
              0.6666666666666666,
              "#ed7953"
             ],
             [
              0.7777777777777778,
              "#fb9f3a"
             ],
             [
              0.8888888888888888,
              "#fdca26"
             ],
             [
              1,
              "#f0f921"
             ]
            ],
            "type": "histogram2dcontour"
           }
          ],
          "mesh3d": [
           {
            "colorbar": {
             "outlinewidth": 0,
             "ticks": ""
            },
            "type": "mesh3d"
           }
          ],
          "parcoords": [
           {
            "line": {
             "colorbar": {
              "outlinewidth": 0,
              "ticks": ""
             }
            },
            "type": "parcoords"
           }
          ],
          "pie": [
           {
            "automargin": true,
            "type": "pie"
           }
          ],
          "scatter": [
           {
            "fillpattern": {
             "fillmode": "overlay",
             "size": 10,
             "solidity": 0.2
            },
            "type": "scatter"
           }
          ],
          "scatter3d": [
           {
            "line": {
             "colorbar": {
              "outlinewidth": 0,
              "ticks": ""
             }
            },
            "marker": {
             "colorbar": {
              "outlinewidth": 0,
              "ticks": ""
             }
            },
            "type": "scatter3d"
           }
          ],
          "scattercarpet": [
           {
            "marker": {
             "colorbar": {
              "outlinewidth": 0,
              "ticks": ""
             }
            },
            "type": "scattercarpet"
           }
          ],
          "scattergeo": [
           {
            "marker": {
             "colorbar": {
              "outlinewidth": 0,
              "ticks": ""
             }
            },
            "type": "scattergeo"
           }
          ],
          "scattergl": [
           {
            "marker": {
             "colorbar": {
              "outlinewidth": 0,
              "ticks": ""
             }
            },
            "type": "scattergl"
           }
          ],
          "scattermapbox": [
           {
            "marker": {
             "colorbar": {
              "outlinewidth": 0,
              "ticks": ""
             }
            },
            "type": "scattermapbox"
           }
          ],
          "scatterpolar": [
           {
            "marker": {
             "colorbar": {
              "outlinewidth": 0,
              "ticks": ""
             }
            },
            "type": "scatterpolar"
           }
          ],
          "scatterpolargl": [
           {
            "marker": {
             "colorbar": {
              "outlinewidth": 0,
              "ticks": ""
             }
            },
            "type": "scatterpolargl"
           }
          ],
          "scatterternary": [
           {
            "marker": {
             "colorbar": {
              "outlinewidth": 0,
              "ticks": ""
             }
            },
            "type": "scatterternary"
           }
          ],
          "surface": [
           {
            "colorbar": {
             "outlinewidth": 0,
             "ticks": ""
            },
            "colorscale": [
             [
              0,
              "#0d0887"
             ],
             [
              0.1111111111111111,
              "#46039f"
             ],
             [
              0.2222222222222222,
              "#7201a8"
             ],
             [
              0.3333333333333333,
              "#9c179e"
             ],
             [
              0.4444444444444444,
              "#bd3786"
             ],
             [
              0.5555555555555556,
              "#d8576b"
             ],
             [
              0.6666666666666666,
              "#ed7953"
             ],
             [
              0.7777777777777778,
              "#fb9f3a"
             ],
             [
              0.8888888888888888,
              "#fdca26"
             ],
             [
              1,
              "#f0f921"
             ]
            ],
            "type": "surface"
           }
          ],
          "table": [
           {
            "cells": {
             "fill": {
              "color": "#EBF0F8"
             },
             "line": {
              "color": "white"
             }
            },
            "header": {
             "fill": {
              "color": "#C8D4E3"
             },
             "line": {
              "color": "white"
             }
            },
            "type": "table"
           }
          ]
         },
         "layout": {
          "annotationdefaults": {
           "arrowcolor": "#2a3f5f",
           "arrowhead": 0,
           "arrowwidth": 1
          },
          "autotypenumbers": "strict",
          "coloraxis": {
           "colorbar": {
            "outlinewidth": 0,
            "ticks": ""
           }
          },
          "colorscale": {
           "diverging": [
            [
             0,
             "#8e0152"
            ],
            [
             0.1,
             "#c51b7d"
            ],
            [
             0.2,
             "#de77ae"
            ],
            [
             0.3,
             "#f1b6da"
            ],
            [
             0.4,
             "#fde0ef"
            ],
            [
             0.5,
             "#f7f7f7"
            ],
            [
             0.6,
             "#e6f5d0"
            ],
            [
             0.7,
             "#b8e186"
            ],
            [
             0.8,
             "#7fbc41"
            ],
            [
             0.9,
             "#4d9221"
            ],
            [
             1,
             "#276419"
            ]
           ],
           "sequential": [
            [
             0,
             "#0d0887"
            ],
            [
             0.1111111111111111,
             "#46039f"
            ],
            [
             0.2222222222222222,
             "#7201a8"
            ],
            [
             0.3333333333333333,
             "#9c179e"
            ],
            [
             0.4444444444444444,
             "#bd3786"
            ],
            [
             0.5555555555555556,
             "#d8576b"
            ],
            [
             0.6666666666666666,
             "#ed7953"
            ],
            [
             0.7777777777777778,
             "#fb9f3a"
            ],
            [
             0.8888888888888888,
             "#fdca26"
            ],
            [
             1,
             "#f0f921"
            ]
           ],
           "sequentialminus": [
            [
             0,
             "#0d0887"
            ],
            [
             0.1111111111111111,
             "#46039f"
            ],
            [
             0.2222222222222222,
             "#7201a8"
            ],
            [
             0.3333333333333333,
             "#9c179e"
            ],
            [
             0.4444444444444444,
             "#bd3786"
            ],
            [
             0.5555555555555556,
             "#d8576b"
            ],
            [
             0.6666666666666666,
             "#ed7953"
            ],
            [
             0.7777777777777778,
             "#fb9f3a"
            ],
            [
             0.8888888888888888,
             "#fdca26"
            ],
            [
             1,
             "#f0f921"
            ]
           ]
          },
          "colorway": [
           "#636efa",
           "#EF553B",
           "#00cc96",
           "#ab63fa",
           "#FFA15A",
           "#19d3f3",
           "#FF6692",
           "#B6E880",
           "#FF97FF",
           "#FECB52"
          ],
          "font": {
           "color": "#2a3f5f"
          },
          "geo": {
           "bgcolor": "white",
           "lakecolor": "white",
           "landcolor": "#E5ECF6",
           "showlakes": true,
           "showland": true,
           "subunitcolor": "white"
          },
          "hoverlabel": {
           "align": "left"
          },
          "hovermode": "closest",
          "mapbox": {
           "style": "light"
          },
          "paper_bgcolor": "white",
          "plot_bgcolor": "#E5ECF6",
          "polar": {
           "angularaxis": {
            "gridcolor": "white",
            "linecolor": "white",
            "ticks": ""
           },
           "bgcolor": "#E5ECF6",
           "radialaxis": {
            "gridcolor": "white",
            "linecolor": "white",
            "ticks": ""
           }
          },
          "scene": {
           "xaxis": {
            "backgroundcolor": "#E5ECF6",
            "gridcolor": "white",
            "gridwidth": 2,
            "linecolor": "white",
            "showbackground": true,
            "ticks": "",
            "zerolinecolor": "white"
           },
           "yaxis": {
            "backgroundcolor": "#E5ECF6",
            "gridcolor": "white",
            "gridwidth": 2,
            "linecolor": "white",
            "showbackground": true,
            "ticks": "",
            "zerolinecolor": "white"
           },
           "zaxis": {
            "backgroundcolor": "#E5ECF6",
            "gridcolor": "white",
            "gridwidth": 2,
            "linecolor": "white",
            "showbackground": true,
            "ticks": "",
            "zerolinecolor": "white"
           }
          },
          "shapedefaults": {
           "line": {
            "color": "#2a3f5f"
           }
          },
          "ternary": {
           "aaxis": {
            "gridcolor": "white",
            "linecolor": "white",
            "ticks": ""
           },
           "baxis": {
            "gridcolor": "white",
            "linecolor": "white",
            "ticks": ""
           },
           "bgcolor": "#E5ECF6",
           "caxis": {
            "gridcolor": "white",
            "linecolor": "white",
            "ticks": ""
           }
          },
          "title": {
           "x": 0.05
          },
          "xaxis": {
           "automargin": true,
           "gridcolor": "white",
           "linecolor": "white",
           "ticks": "",
           "title": {
            "standoff": 15
           },
           "zerolinecolor": "white",
           "zerolinewidth": 2
          },
          "yaxis": {
           "automargin": true,
           "gridcolor": "white",
           "linecolor": "white",
           "ticks": "",
           "title": {
            "standoff": 15
           },
           "zerolinecolor": "white",
           "zerolinewidth": 2
          }
         }
        },
        "title": {
         "text": "Anomaly Detection for Soda Ash Prices"
        },
        "xaxis": {
         "domain": [
          0,
          1
         ]
        },
        "yaxis": {
         "domain": [
          0.4,
          1
         ]
        }
       }
      },
      "text/html": [
       "<div>                            <div id=\"22e67c74-d2e3-48b0-b3d6-599c3317ba57\" class=\"plotly-graph-div\" style=\"height:600px; width:100%;\"></div>            <script type=\"text/javascript\">                require([\"plotly\"], function(Plotly) {                    window.PLOTLYENV=window.PLOTLYENV || {};                                    if (document.getElementById(\"22e67c74-d2e3-48b0-b3d6-599c3317ba57\")) {                    Plotly.newPlot(                        \"22e67c74-d2e3-48b0-b3d6-599c3317ba57\",                        [{\"cells\":{\"align\":\"center\",\"fill\":{\"color\":[\"rgba(228, 222, 249, 0.65)\",\"rgba(228, 222, 249, 0.65)\",\"rgba(228, 222, 249, 0.65)\",\"rgba(228, 222, 249, 0.65)\",\"rgba(228, 222, 249, 0.65)\",\"rgba(228, 222, 249, 0.65)\",\"rgba(228, 222, 249, 0.65)\",\"rgba(228, 222, 249, 0.65)\",\"rgba(228, 222, 249, 0.65)\",\"rgba(228, 222, 249, 0.65)\",\"rgba(228, 222, 249, 0.65)\",\"rgba(228, 222, 249, 0.65)\",\"rgba(228, 222, 249, 0.65)\",\"rgba(228, 222, 249, 0.65)\",\"rgba(228, 222, 249, 0.65)\",\"rgba(228, 222, 249, 0.65)\",\"rgba(228, 222, 249, 0.65)\",\"rgba(228, 222, 249, 0.65)\",\"rgba(228, 222, 249, 0.65)\",\"rgba(228, 222, 249, 0.65)\",\"rgba(228, 222, 249, 0.65)\",\"rgba(228, 222, 249, 0.65)\",\"rgba(228, 222, 249, 0.65)\",\"rgba(228, 222, 249, 0.65)\",\"rgba(228, 222, 249, 0.65)\",\"rgba(228, 222, 249, 0.65)\",\"rgba(228, 222, 249, 0.65)\",\"rgba(228, 222, 249, 0.65)\",\"rgba(228, 222, 249, 0.65)\",\"rgba(228, 222, 249, 0.65)\",\"rgba(228, 222, 249, 0.65)\",\"rgba(228, 222, 249, 0.65)\",\"rgba(228, 222, 249, 0.65)\",\"rgba(228, 222, 249, 0.65)\",\"rgba(228, 222, 249, 0.65)\",\"rgba(228, 222, 249, 0.65)\",\"rgba(228, 222, 249, 0.65)\",\"rgba(228, 222, 249, 0.65)\",\"rgba(228, 222, 249, 0.65)\",\"rgba(228, 222, 249, 0.65)\",\"rgba(228, 222, 249, 0.65)\",\"rgba(228, 222, 249, 0.65)\",\"rgba(228, 222, 249, 0.65)\",\"rgba(228, 222, 249, 0.65)\",\"rgba(228, 222, 249, 0.65)\",\"rgba(228, 222, 249, 0.65)\",\"rgba(228, 222, 249, 0.65)\",\"rgba(228, 222, 249, 0.65)\",\"rgba(228, 222, 249, 0.65)\",\"rgba(228, 222, 249, 0.65)\",\"rgba(228, 222, 249, 0.65)\",\"rgba(228, 222, 249, 0.65)\",\"rgba(228, 222, 249, 0.65)\",\"rgba(228, 222, 249, 0.65)\",\"rgba(228, 222, 249, 0.65)\",\"rgba(228, 222, 249, 0.65)\",\"rgba(228, 222, 249, 0.65)\",\"rgba(228, 222, 249, 0.65)\",\"rgba(228, 222, 249, 0.65)\",\"rgba(228, 222, 249, 0.65)\",\"rgba(228, 222, 249, 0.65)\",\"rgba(228, 222, 249, 0.65)\",\"rgba(228, 222, 249, 0.65)\",\"rgba(228, 222, 249, 0.65)\",\"rgba(228, 222, 249, 0.65)\",\"rgba(228, 222, 249, 0.65)\",\"rgba(228, 222, 249, 0.65)\",\"rgba(228, 222, 249, 0.65)\",\"rgba(228, 222, 249, 0.65)\",\"rgba(228, 222, 249, 0.65)\",\"rgba(228, 222, 249, 0.65)\",\"rgba(228, 222, 249, 0.65)\",\"rgba(228, 222, 249, 0.65)\",\"rgba(228, 222, 249, 0.65)\",\"rgba(228, 222, 249, 0.65)\",\"rgba(228, 222, 249, 0.65)\",\"red\",\"red\",\"red\",\"red\",\"rgba(228, 222, 249, 0.65)\",\"rgba(228, 222, 249, 0.65)\",\"rgba(228, 222, 249, 0.65)\",\"rgba(228, 222, 249, 0.65)\",\"rgba(228, 222, 249, 0.65)\",\"rgba(228, 222, 249, 0.65)\",\"rgba(228, 222, 249, 0.65)\",\"rgba(228, 222, 249, 0.65)\",\"rgba(228, 222, 249, 0.65)\",\"rgba(228, 222, 249, 0.65)\",\"rgba(228, 222, 249, 0.65)\",\"rgba(228, 222, 249, 0.65)\",\"rgba(228, 222, 249, 0.65)\",\"red\",\"red\",\"red\",\"rgba(228, 222, 249, 0.65)\",\"rgba(228, 222, 249, 0.65)\",\"rgba(228, 222, 249, 0.65)\",\"rgba(228, 222, 249, 0.65)\",\"rgba(228, 222, 249, 0.65)\",\"rgba(228, 222, 249, 0.65)\",\"rgba(228, 222, 249, 0.65)\",\"rgba(228, 222, 249, 0.65)\",\"rgba(228, 222, 249, 0.65)\",\"rgba(228, 222, 249, 0.65)\",\"rgba(228, 222, 249, 0.65)\",\"rgba(228, 222, 249, 0.65)\",\"rgba(228, 222, 249, 0.65)\",\"rgba(228, 222, 249, 0.65)\",\"rgba(228, 222, 249, 0.65)\",\"rgba(228, 222, 249, 0.65)\",\"rgba(228, 222, 249, 0.65)\",\"rgba(228, 222, 249, 0.65)\",\"rgba(228, 222, 249, 0.65)\",\"rgba(228, 222, 249, 0.65)\",\"rgba(228, 222, 249, 0.65)\",\"rgba(228, 222, 249, 0.65)\",\"rgba(228, 222, 249, 0.65)\",\"rgba(228, 222, 249, 0.65)\",\"rgba(228, 222, 249, 0.65)\",\"rgba(228, 222, 249, 0.65)\",\"rgba(228, 222, 249, 0.65)\"]},\"font\":{\"size\":12},\"values\":[[\"2020-05-01\",\"2020-06-01\",\"2020-07-01\",\"2020-08-01\",\"2021-10-01\",\"2021-11-01\",\"2021-12-01\"],[168.75,158.75,162.5,170.0,507.5,510.0,420.0]]},\"columnwidth\":[1,2],\"domain\":{\"x\":[0,1],\"y\":[0,0.3]},\"header\":{\"fill\":{\"color\":\"#d562be\"},\"font\":{\"size\":14},\"values\":[\"<b>Date</b>\",\"<b>Anomaly Values</b>\"]},\"type\":\"table\"},{\"line\":{\"color\":\"blue\"},\"mode\":\"lines+markers\",\"name\":\"Actuals\",\"x\":[\"2014-01-01T00:00:00\",\"2014-02-01T00:00:00\",\"2014-03-01T00:00:00\",\"2014-04-01T00:00:00\",\"2014-05-01T00:00:00\",\"2014-06-01T00:00:00\",\"2014-07-01T00:00:00\",\"2014-08-01T00:00:00\",\"2014-09-01T00:00:00\",\"2014-10-01T00:00:00\",\"2014-11-01T00:00:00\",\"2014-12-01T00:00:00\",\"2015-01-01T00:00:00\",\"2015-02-01T00:00:00\",\"2015-03-01T00:00:00\",\"2015-04-01T00:00:00\",\"2015-05-01T00:00:00\",\"2015-06-01T00:00:00\",\"2015-07-01T00:00:00\",\"2015-08-01T00:00:00\",\"2015-09-01T00:00:00\",\"2015-10-01T00:00:00\",\"2015-11-01T00:00:00\",\"2015-12-01T00:00:00\",\"2016-01-01T00:00:00\",\"2016-02-01T00:00:00\",\"2016-03-01T00:00:00\",\"2016-04-01T00:00:00\",\"2016-05-01T00:00:00\",\"2016-06-01T00:00:00\",\"2016-07-01T00:00:00\",\"2016-08-01T00:00:00\",\"2016-09-01T00:00:00\",\"2016-10-01T00:00:00\",\"2016-11-01T00:00:00\",\"2016-12-01T00:00:00\",\"2017-01-01T00:00:00\",\"2017-02-01T00:00:00\",\"2017-03-01T00:00:00\",\"2017-04-01T00:00:00\",\"2017-05-01T00:00:00\",\"2017-06-01T00:00:00\",\"2017-07-01T00:00:00\",\"2017-08-01T00:00:00\",\"2017-09-01T00:00:00\",\"2017-10-01T00:00:00\",\"2017-11-01T00:00:00\",\"2017-12-01T00:00:00\",\"2018-01-01T00:00:00\",\"2018-02-01T00:00:00\",\"2018-03-01T00:00:00\",\"2018-04-01T00:00:00\",\"2018-05-01T00:00:00\",\"2018-06-01T00:00:00\",\"2018-07-01T00:00:00\",\"2018-08-01T00:00:00\",\"2018-09-01T00:00:00\",\"2018-10-01T00:00:00\",\"2018-11-01T00:00:00\",\"2018-12-01T00:00:00\",\"2019-01-01T00:00:00\",\"2019-02-01T00:00:00\",\"2019-03-01T00:00:00\",\"2019-04-01T00:00:00\",\"2019-05-01T00:00:00\",\"2019-06-01T00:00:00\",\"2019-07-01T00:00:00\",\"2019-08-01T00:00:00\",\"2019-09-01T00:00:00\",\"2019-10-01T00:00:00\",\"2019-11-01T00:00:00\",\"2019-12-01T00:00:00\",\"2020-01-01T00:00:00\",\"2020-02-01T00:00:00\",\"2020-03-01T00:00:00\",\"2020-04-01T00:00:00\",\"2020-05-01T00:00:00\",\"2020-06-01T00:00:00\",\"2020-07-01T00:00:00\",\"2020-08-01T00:00:00\",\"2020-09-01T00:00:00\",\"2020-10-01T00:00:00\",\"2020-11-01T00:00:00\",\"2020-12-01T00:00:00\",\"2021-01-01T00:00:00\",\"2021-02-01T00:00:00\",\"2021-03-01T00:00:00\",\"2021-04-01T00:00:00\",\"2021-05-01T00:00:00\",\"2021-06-01T00:00:00\",\"2021-07-01T00:00:00\",\"2021-08-01T00:00:00\",\"2021-09-01T00:00:00\",\"2021-10-01T00:00:00\",\"2021-11-01T00:00:00\",\"2021-12-01T00:00:00\",\"2022-01-01T00:00:00\",\"2022-02-01T00:00:00\",\"2022-03-01T00:00:00\",\"2022-04-01T00:00:00\",\"2022-05-01T00:00:00\",\"2022-06-01T00:00:00\",\"2022-07-01T00:00:00\",\"2022-08-01T00:00:00\",\"2022-09-01T00:00:00\",\"2022-10-01T00:00:00\",\"2022-11-01T00:00:00\",\"2022-12-01T00:00:00\",\"2023-01-01T00:00:00\",\"2023-02-01T00:00:00\",\"2023-03-01T00:00:00\",\"2023-04-01T00:00:00\",\"2023-05-01T00:00:00\",\"2023-06-01T00:00:00\",\"2023-07-01T00:00:00\",\"2023-08-01T00:00:00\",\"2023-09-01T00:00:00\",\"2023-10-01T00:00:00\",\"2023-11-01T00:00:00\",\"2023-12-01T00:00:00\",\"2024-01-01T00:00:00\",\"2024-02-01T00:00:00\",\"2024-03-01T00:00:00\"],\"y\":[227.5,223.75,218.75,221.25,230.0,235.0,230.0,225.0,225.0,225.0,225.0,225.0,225.0,225.0,225.0,220.0,215.0,215.0,212.5,205.0,195.0,190.0,190.0,192.5,196.25,215.0,227.5,215.0,203.75,193.75,188.75,190.0,190.0,212.5,240.0,250.0,255.0,245.0,230.0,220.0,212.5,216.25,223.75,230.0,305.0,297.5,285.0,260.0,240.0,237.5,246.25,287.5,292.5,287.5,263.75,265.0,270.0,271.25,271.25,265.0,256.25,252.5,252.5,257.5,258.75,245.0,227.5,223.75,230.0,228.75,221.25,216.25,210.0,213.75,207.5,190.0,168.75,158.75,162.5,170.0,197.5,212.5,205.0,195.0,200.0,202.5,218.75,236.25,252.5,252.5,282.5,325.0,402.5,507.5,510.0,420.0,330.0,395.0,435.0,435.0,462.5,461.0,417.5,370.0,362.5,363.75,360.0,370.0,377.5,397.5,400.0,387.5,311.0,263.0,317.0,316.0,395.0,313.0,288.0,370.0,285.0,265.0,260.0],\"type\":\"scatter\"},{\"marker\":{\"color\":\"red\",\"size\":11},\"mode\":\"markers\",\"name\":\"Anomalies\",\"x\":[\"2020-05-01T00:00:00\",\"2020-06-01T00:00:00\",\"2020-07-01T00:00:00\",\"2020-08-01T00:00:00\",\"2021-10-01T00:00:00\",\"2021-11-01T00:00:00\",\"2021-12-01T00:00:00\"],\"y\":[168.75,158.75,162.5,170.0,507.5,510.0,420.0],\"type\":\"scatter\"}],                        {\"height\":600,\"showlegend\":true,\"template\":{\"data\":{\"barpolar\":[{\"marker\":{\"line\":{\"color\":\"#E5ECF6\",\"width\":0.5},\"pattern\":{\"fillmode\":\"overlay\",\"size\":10,\"solidity\":0.2}},\"type\":\"barpolar\"}],\"bar\":[{\"error_x\":{\"color\":\"#2a3f5f\"},\"error_y\":{\"color\":\"#2a3f5f\"},\"marker\":{\"line\":{\"color\":\"#E5ECF6\",\"width\":0.5},\"pattern\":{\"fillmode\":\"overlay\",\"size\":10,\"solidity\":0.2}},\"type\":\"bar\"}],\"carpet\":[{\"aaxis\":{\"endlinecolor\":\"#2a3f5f\",\"gridcolor\":\"white\",\"linecolor\":\"white\",\"minorgridcolor\":\"white\",\"startlinecolor\":\"#2a3f5f\"},\"baxis\":{\"endlinecolor\":\"#2a3f5f\",\"gridcolor\":\"white\",\"linecolor\":\"white\",\"minorgridcolor\":\"white\",\"startlinecolor\":\"#2a3f5f\"},\"type\":\"carpet\"}],\"choropleth\":[{\"colorbar\":{\"outlinewidth\":0,\"ticks\":\"\"},\"type\":\"choropleth\"}],\"contourcarpet\":[{\"colorbar\":{\"outlinewidth\":0,\"ticks\":\"\"},\"type\":\"contourcarpet\"}],\"contour\":[{\"colorbar\":{\"outlinewidth\":0,\"ticks\":\"\"},\"colorscale\":[[0.0,\"#0d0887\"],[0.1111111111111111,\"#46039f\"],[0.2222222222222222,\"#7201a8\"],[0.3333333333333333,\"#9c179e\"],[0.4444444444444444,\"#bd3786\"],[0.5555555555555556,\"#d8576b\"],[0.6666666666666666,\"#ed7953\"],[0.7777777777777778,\"#fb9f3a\"],[0.8888888888888888,\"#fdca26\"],[1.0,\"#f0f921\"]],\"type\":\"contour\"}],\"heatmapgl\":[{\"colorbar\":{\"outlinewidth\":0,\"ticks\":\"\"},\"colorscale\":[[0.0,\"#0d0887\"],[0.1111111111111111,\"#46039f\"],[0.2222222222222222,\"#7201a8\"],[0.3333333333333333,\"#9c179e\"],[0.4444444444444444,\"#bd3786\"],[0.5555555555555556,\"#d8576b\"],[0.6666666666666666,\"#ed7953\"],[0.7777777777777778,\"#fb9f3a\"],[0.8888888888888888,\"#fdca26\"],[1.0,\"#f0f921\"]],\"type\":\"heatmapgl\"}],\"heatmap\":[{\"colorbar\":{\"outlinewidth\":0,\"ticks\":\"\"},\"colorscale\":[[0.0,\"#0d0887\"],[0.1111111111111111,\"#46039f\"],[0.2222222222222222,\"#7201a8\"],[0.3333333333333333,\"#9c179e\"],[0.4444444444444444,\"#bd3786\"],[0.5555555555555556,\"#d8576b\"],[0.6666666666666666,\"#ed7953\"],[0.7777777777777778,\"#fb9f3a\"],[0.8888888888888888,\"#fdca26\"],[1.0,\"#f0f921\"]],\"type\":\"heatmap\"}],\"histogram2dcontour\":[{\"colorbar\":{\"outlinewidth\":0,\"ticks\":\"\"},\"colorscale\":[[0.0,\"#0d0887\"],[0.1111111111111111,\"#46039f\"],[0.2222222222222222,\"#7201a8\"],[0.3333333333333333,\"#9c179e\"],[0.4444444444444444,\"#bd3786\"],[0.5555555555555556,\"#d8576b\"],[0.6666666666666666,\"#ed7953\"],[0.7777777777777778,\"#fb9f3a\"],[0.8888888888888888,\"#fdca26\"],[1.0,\"#f0f921\"]],\"type\":\"histogram2dcontour\"}],\"histogram2d\":[{\"colorbar\":{\"outlinewidth\":0,\"ticks\":\"\"},\"colorscale\":[[0.0,\"#0d0887\"],[0.1111111111111111,\"#46039f\"],[0.2222222222222222,\"#7201a8\"],[0.3333333333333333,\"#9c179e\"],[0.4444444444444444,\"#bd3786\"],[0.5555555555555556,\"#d8576b\"],[0.6666666666666666,\"#ed7953\"],[0.7777777777777778,\"#fb9f3a\"],[0.8888888888888888,\"#fdca26\"],[1.0,\"#f0f921\"]],\"type\":\"histogram2d\"}],\"histogram\":[{\"marker\":{\"pattern\":{\"fillmode\":\"overlay\",\"size\":10,\"solidity\":0.2}},\"type\":\"histogram\"}],\"mesh3d\":[{\"colorbar\":{\"outlinewidth\":0,\"ticks\":\"\"},\"type\":\"mesh3d\"}],\"parcoords\":[{\"line\":{\"colorbar\":{\"outlinewidth\":0,\"ticks\":\"\"}},\"type\":\"parcoords\"}],\"pie\":[{\"automargin\":true,\"type\":\"pie\"}],\"scatter3d\":[{\"line\":{\"colorbar\":{\"outlinewidth\":0,\"ticks\":\"\"}},\"marker\":{\"colorbar\":{\"outlinewidth\":0,\"ticks\":\"\"}},\"type\":\"scatter3d\"}],\"scattercarpet\":[{\"marker\":{\"colorbar\":{\"outlinewidth\":0,\"ticks\":\"\"}},\"type\":\"scattercarpet\"}],\"scattergeo\":[{\"marker\":{\"colorbar\":{\"outlinewidth\":0,\"ticks\":\"\"}},\"type\":\"scattergeo\"}],\"scattergl\":[{\"marker\":{\"colorbar\":{\"outlinewidth\":0,\"ticks\":\"\"}},\"type\":\"scattergl\"}],\"scattermapbox\":[{\"marker\":{\"colorbar\":{\"outlinewidth\":0,\"ticks\":\"\"}},\"type\":\"scattermapbox\"}],\"scatterpolargl\":[{\"marker\":{\"colorbar\":{\"outlinewidth\":0,\"ticks\":\"\"}},\"type\":\"scatterpolargl\"}],\"scatterpolar\":[{\"marker\":{\"colorbar\":{\"outlinewidth\":0,\"ticks\":\"\"}},\"type\":\"scatterpolar\"}],\"scatter\":[{\"fillpattern\":{\"fillmode\":\"overlay\",\"size\":10,\"solidity\":0.2},\"type\":\"scatter\"}],\"scatterternary\":[{\"marker\":{\"colorbar\":{\"outlinewidth\":0,\"ticks\":\"\"}},\"type\":\"scatterternary\"}],\"surface\":[{\"colorbar\":{\"outlinewidth\":0,\"ticks\":\"\"},\"colorscale\":[[0.0,\"#0d0887\"],[0.1111111111111111,\"#46039f\"],[0.2222222222222222,\"#7201a8\"],[0.3333333333333333,\"#9c179e\"],[0.4444444444444444,\"#bd3786\"],[0.5555555555555556,\"#d8576b\"],[0.6666666666666666,\"#ed7953\"],[0.7777777777777778,\"#fb9f3a\"],[0.8888888888888888,\"#fdca26\"],[1.0,\"#f0f921\"]],\"type\":\"surface\"}],\"table\":[{\"cells\":{\"fill\":{\"color\":\"#EBF0F8\"},\"line\":{\"color\":\"white\"}},\"header\":{\"fill\":{\"color\":\"#C8D4E3\"},\"line\":{\"color\":\"white\"}},\"type\":\"table\"}]},\"layout\":{\"annotationdefaults\":{\"arrowcolor\":\"#2a3f5f\",\"arrowhead\":0,\"arrowwidth\":1},\"autotypenumbers\":\"strict\",\"coloraxis\":{\"colorbar\":{\"outlinewidth\":0,\"ticks\":\"\"}},\"colorscale\":{\"diverging\":[[0,\"#8e0152\"],[0.1,\"#c51b7d\"],[0.2,\"#de77ae\"],[0.3,\"#f1b6da\"],[0.4,\"#fde0ef\"],[0.5,\"#f7f7f7\"],[0.6,\"#e6f5d0\"],[0.7,\"#b8e186\"],[0.8,\"#7fbc41\"],[0.9,\"#4d9221\"],[1,\"#276419\"]],\"sequential\":[[0.0,\"#0d0887\"],[0.1111111111111111,\"#46039f\"],[0.2222222222222222,\"#7201a8\"],[0.3333333333333333,\"#9c179e\"],[0.4444444444444444,\"#bd3786\"],[0.5555555555555556,\"#d8576b\"],[0.6666666666666666,\"#ed7953\"],[0.7777777777777778,\"#fb9f3a\"],[0.8888888888888888,\"#fdca26\"],[1.0,\"#f0f921\"]],\"sequentialminus\":[[0.0,\"#0d0887\"],[0.1111111111111111,\"#46039f\"],[0.2222222222222222,\"#7201a8\"],[0.3333333333333333,\"#9c179e\"],[0.4444444444444444,\"#bd3786\"],[0.5555555555555556,\"#d8576b\"],[0.6666666666666666,\"#ed7953\"],[0.7777777777777778,\"#fb9f3a\"],[0.8888888888888888,\"#fdca26\"],[1.0,\"#f0f921\"]]},\"colorway\":[\"#636efa\",\"#EF553B\",\"#00cc96\",\"#ab63fa\",\"#FFA15A\",\"#19d3f3\",\"#FF6692\",\"#B6E880\",\"#FF97FF\",\"#FECB52\"],\"font\":{\"color\":\"#2a3f5f\"},\"geo\":{\"bgcolor\":\"white\",\"lakecolor\":\"white\",\"landcolor\":\"#E5ECF6\",\"showlakes\":true,\"showland\":true,\"subunitcolor\":\"white\"},\"hoverlabel\":{\"align\":\"left\"},\"hovermode\":\"closest\",\"mapbox\":{\"style\":\"light\"},\"paper_bgcolor\":\"white\",\"plot_bgcolor\":\"#E5ECF6\",\"polar\":{\"angularaxis\":{\"gridcolor\":\"white\",\"linecolor\":\"white\",\"ticks\":\"\"},\"bgcolor\":\"#E5ECF6\",\"radialaxis\":{\"gridcolor\":\"white\",\"linecolor\":\"white\",\"ticks\":\"\"}},\"scene\":{\"xaxis\":{\"backgroundcolor\":\"#E5ECF6\",\"gridcolor\":\"white\",\"gridwidth\":2,\"linecolor\":\"white\",\"showbackground\":true,\"ticks\":\"\",\"zerolinecolor\":\"white\"},\"yaxis\":{\"backgroundcolor\":\"#E5ECF6\",\"gridcolor\":\"white\",\"gridwidth\":2,\"linecolor\":\"white\",\"showbackground\":true,\"ticks\":\"\",\"zerolinecolor\":\"white\"},\"zaxis\":{\"backgroundcolor\":\"#E5ECF6\",\"gridcolor\":\"white\",\"gridwidth\":2,\"linecolor\":\"white\",\"showbackground\":true,\"ticks\":\"\",\"zerolinecolor\":\"white\"}},\"shapedefaults\":{\"line\":{\"color\":\"#2a3f5f\"}},\"ternary\":{\"aaxis\":{\"gridcolor\":\"white\",\"linecolor\":\"white\",\"ticks\":\"\"},\"baxis\":{\"gridcolor\":\"white\",\"linecolor\":\"white\",\"ticks\":\"\"},\"bgcolor\":\"#E5ECF6\",\"caxis\":{\"gridcolor\":\"white\",\"linecolor\":\"white\",\"ticks\":\"\"}},\"title\":{\"x\":0.05},\"xaxis\":{\"automargin\":true,\"gridcolor\":\"white\",\"linecolor\":\"white\",\"ticks\":\"\",\"title\":{\"standoff\":15},\"zerolinecolor\":\"white\",\"zerolinewidth\":2},\"yaxis\":{\"automargin\":true,\"gridcolor\":\"white\",\"linecolor\":\"white\",\"ticks\":\"\",\"title\":{\"standoff\":15},\"zerolinecolor\":\"white\",\"zerolinewidth\":2}}},\"title\":{\"text\":\"Anomaly Detection for Soda Ash Prices\"},\"xaxis\":{\"domain\":[0,1]},\"yaxis\":{\"domain\":[0.4,1]}},                        {\"responsive\": true}                    ).then(function(){\n",
       "                            \n",
       "var gd = document.getElementById('22e67c74-d2e3-48b0-b3d6-599c3317ba57');\n",
       "var x = new MutationObserver(function (mutations, observer) {{\n",
       "        var display = window.getComputedStyle(gd).display;\n",
       "        if (!display || display === 'none') {{\n",
       "            console.log([gd, 'removed!']);\n",
       "            Plotly.purge(gd);\n",
       "            observer.disconnect();\n",
       "        }}\n",
       "}});\n",
       "\n",
       "// Listen for the removal of the full notebook cells\n",
       "var notebookContainer = gd.closest('#notebook-container');\n",
       "if (notebookContainer) {{\n",
       "    x.observe(notebookContainer, {childList: true});\n",
       "}}\n",
       "\n",
       "// Listen for the clearing of the current output cell\n",
       "var outputEl = gd.closest('.output');\n",
       "if (outputEl) {{\n",
       "    x.observe(outputEl, {childList: true});\n",
       "}}\n",
       "\n",
       "                        })                };                });            </script>        </div>"
      ]
     },
     "metadata": {},
     "output_type": "display_data"
    }
   ],
   "source": [
    "df_plot = detect_anomalies(df_sub, 'Target_SodaAshLightChinaSpotExportAverageFOBChinaUSperMetricTon')\n",
    "\n",
    "plot_anomalies(df_sub, 'Period', 'Target_SodaAshLightChinaSpotExportAverageFOBChinaUSperMetricTon', 'anomaly', 'Anomaly Detection for Soda Ash Prices')\n"
   ]
  },
  {
   "cell_type": "markdown",
   "metadata": {},
   "source": [
    "Different Indexes"
   ]
  },
  {
   "cell_type": "code",
   "execution_count": 68,
   "metadata": {},
   "outputs": [],
   "source": [
    "# df_sub\n",
    "\n",
    "# 1. Composite cpi\n",
    "# 2. Energy Index\n",
    "# 3. Shipping Index\n",
    "# 4. Look into capacity\n",
    "# 5. Segment wise analysis (for differenr regions, different features matters)\n",
    "# 6. China supply-demand balance (Create a feature that represents the difference or\n",
    "#  ratio between China_Demand_Total_000_MT and China_Production_000_MT.)\n",
    "# 7. Relative CPI: Create features that represent the relative CPI of China \n",
    "# compared to other countries, especially those with strong correlations.\n",
    "# 8. . Interaction terms: Create interaction features between \n",
    "# top correlated variables, such as CoalIndex * Coke or USA_CPI * CoalIndex\n",
    "# 9. Anomaly indicators: Create binary features that indicate when any of \n",
    "# the top correlated features deviate significantly from their historical norms."
   ]
  },
  {
   "cell_type": "code",
   "execution_count": 77,
   "metadata": {},
   "outputs": [
    {
     "data": {
      "text/html": [
       "<div>\n",
       "<style scoped>\n",
       "    .dataframe tbody tr th:only-of-type {\n",
       "        vertical-align: middle;\n",
       "    }\n",
       "\n",
       "    .dataframe tbody tr th {\n",
       "        vertical-align: top;\n",
       "    }\n",
       "\n",
       "    .dataframe thead th {\n",
       "        text-align: right;\n",
       "    }\n",
       "</style>\n",
       "<table border=\"1\" class=\"dataframe\">\n",
       "  <thead>\n",
       "    <tr style=\"text-align: right;\">\n",
       "      <th></th>\n",
       "      <th>BRA_CPI</th>\n",
       "      <th>CHN_CPI</th>\n",
       "      <th>DEU_CPI</th>\n",
       "      <th>FRA_CPI</th>\n",
       "      <th>GBR_CPI</th>\n",
       "      <th>IND_CPI</th>\n",
       "      <th>JPN_CPI</th>\n",
       "      <th>KOR_CPI</th>\n",
       "      <th>MEX_CPI</th>\n",
       "      <th>USA_CPI</th>\n",
       "    </tr>\n",
       "  </thead>\n",
       "  <tbody>\n",
       "    <tr>\n",
       "      <th>12</th>\n",
       "      <td>5.59</td>\n",
       "      <td>2.5</td>\n",
       "      <td>1.1</td>\n",
       "      <td>0.8</td>\n",
       "      <td>1.9</td>\n",
       "      <td>7.24</td>\n",
       "      <td>1.4</td>\n",
       "      <td>1.08</td>\n",
       "      <td>4.48</td>\n",
       "      <td>1.58</td>\n",
       "    </tr>\n",
       "    <tr>\n",
       "      <th>13</th>\n",
       "      <td>5.68</td>\n",
       "      <td>2.0</td>\n",
       "      <td>1.0</td>\n",
       "      <td>1.1</td>\n",
       "      <td>1.7</td>\n",
       "      <td>6.73</td>\n",
       "      <td>1.5</td>\n",
       "      <td>1.01</td>\n",
       "      <td>4.23</td>\n",
       "      <td>1.13</td>\n",
       "    </tr>\n",
       "    <tr>\n",
       "      <th>14</th>\n",
       "      <td>6.15</td>\n",
       "      <td>2.4</td>\n",
       "      <td>0.7</td>\n",
       "      <td>0.8</td>\n",
       "      <td>1.6</td>\n",
       "      <td>6.70</td>\n",
       "      <td>1.6</td>\n",
       "      <td>1.29</td>\n",
       "      <td>3.76</td>\n",
       "      <td>1.51</td>\n",
       "    </tr>\n",
       "    <tr>\n",
       "      <th>15</th>\n",
       "      <td>6.28</td>\n",
       "      <td>1.8</td>\n",
       "      <td>1.1</td>\n",
       "      <td>0.8</td>\n",
       "      <td>1.8</td>\n",
       "      <td>7.08</td>\n",
       "      <td>3.4</td>\n",
       "      <td>1.50</td>\n",
       "      <td>3.50</td>\n",
       "      <td>1.95</td>\n",
       "    </tr>\n",
       "    <tr>\n",
       "      <th>16</th>\n",
       "      <td>6.37</td>\n",
       "      <td>2.5</td>\n",
       "      <td>0.7</td>\n",
       "      <td>0.8</td>\n",
       "      <td>1.5</td>\n",
       "      <td>7.02</td>\n",
       "      <td>3.7</td>\n",
       "      <td>1.67</td>\n",
       "      <td>3.51</td>\n",
       "      <td>2.13</td>\n",
       "    </tr>\n",
       "    <tr>\n",
       "      <th>...</th>\n",
       "      <td>...</td>\n",
       "      <td>...</td>\n",
       "      <td>...</td>\n",
       "      <td>...</td>\n",
       "      <td>...</td>\n",
       "      <td>...</td>\n",
       "      <td>...</td>\n",
       "      <td>...</td>\n",
       "      <td>...</td>\n",
       "      <td>...</td>\n",
       "    </tr>\n",
       "    <tr>\n",
       "      <th>130</th>\n",
       "      <td>4.51</td>\n",
       "      <td>-0.8</td>\n",
       "      <td>3.1</td>\n",
       "      <td>3.4</td>\n",
       "      <td>4.0</td>\n",
       "      <td>4.59</td>\n",
       "      <td>-0.5</td>\n",
       "      <td>2.80</td>\n",
       "      <td>4.88</td>\n",
       "      <td>3.09</td>\n",
       "    </tr>\n",
       "    <tr>\n",
       "      <th>131</th>\n",
       "      <td>4.50</td>\n",
       "      <td>0.7</td>\n",
       "      <td>2.7</td>\n",
       "      <td>3.2</td>\n",
       "      <td>3.4</td>\n",
       "      <td>4.59</td>\n",
       "      <td>-0.5</td>\n",
       "      <td>3.12</td>\n",
       "      <td>4.40</td>\n",
       "      <td>3.15</td>\n",
       "    </tr>\n",
       "    <tr>\n",
       "      <th>132</th>\n",
       "      <td>3.93</td>\n",
       "      <td>0.1</td>\n",
       "      <td>2.3</td>\n",
       "      <td>2.4</td>\n",
       "      <td>3.2</td>\n",
       "      <td>4.59</td>\n",
       "      <td>-0.5</td>\n",
       "      <td>3.09</td>\n",
       "      <td>4.42</td>\n",
       "      <td>3.48</td>\n",
       "    </tr>\n",
       "    <tr>\n",
       "      <th>133</th>\n",
       "      <td>3.69</td>\n",
       "      <td>0.3</td>\n",
       "      <td>2.4</td>\n",
       "      <td>2.4</td>\n",
       "      <td>2.3</td>\n",
       "      <td>4.59</td>\n",
       "      <td>-0.5</td>\n",
       "      <td>2.91</td>\n",
       "      <td>4.65</td>\n",
       "      <td>3.36</td>\n",
       "    </tr>\n",
       "    <tr>\n",
       "      <th>134</th>\n",
       "      <td>3.69</td>\n",
       "      <td>0.3</td>\n",
       "      <td>2.4</td>\n",
       "      <td>2.4</td>\n",
       "      <td>2.3</td>\n",
       "      <td>4.59</td>\n",
       "      <td>-0.5</td>\n",
       "      <td>2.91</td>\n",
       "      <td>4.65</td>\n",
       "      <td>3.36</td>\n",
       "    </tr>\n",
       "  </tbody>\n",
       "</table>\n",
       "<p>123 rows × 10 columns</p>\n",
       "</div>"
      ],
      "text/plain": [
       "     BRA_CPI  CHN_CPI  DEU_CPI  FRA_CPI  GBR_CPI  IND_CPI  JPN_CPI  KOR_CPI  \\\n",
       "12      5.59      2.5      1.1      0.8      1.9     7.24      1.4     1.08   \n",
       "13      5.68      2.0      1.0      1.1      1.7     6.73      1.5     1.01   \n",
       "14      6.15      2.4      0.7      0.8      1.6     6.70      1.6     1.29   \n",
       "15      6.28      1.8      1.1      0.8      1.8     7.08      3.4     1.50   \n",
       "16      6.37      2.5      0.7      0.8      1.5     7.02      3.7     1.67   \n",
       "..       ...      ...      ...      ...      ...      ...      ...      ...   \n",
       "130     4.51     -0.8      3.1      3.4      4.0     4.59     -0.5     2.80   \n",
       "131     4.50      0.7      2.7      3.2      3.4     4.59     -0.5     3.12   \n",
       "132     3.93      0.1      2.3      2.4      3.2     4.59     -0.5     3.09   \n",
       "133     3.69      0.3      2.4      2.4      2.3     4.59     -0.5     2.91   \n",
       "134     3.69      0.3      2.4      2.4      2.3     4.59     -0.5     2.91   \n",
       "\n",
       "     MEX_CPI  USA_CPI  \n",
       "12      4.48     1.58  \n",
       "13      4.23     1.13  \n",
       "14      3.76     1.51  \n",
       "15      3.50     1.95  \n",
       "16      3.51     2.13  \n",
       "..       ...      ...  \n",
       "130     4.88     3.09  \n",
       "131     4.40     3.15  \n",
       "132     4.42     3.48  \n",
       "133     4.65     3.36  \n",
       "134     4.65     3.36  \n",
       "\n",
       "[123 rows x 10 columns]"
      ]
     },
     "execution_count": 77,
     "metadata": {},
     "output_type": "execute_result"
    }
   ],
   "source": [
    "df_sub.columns\n",
    "# cpi_columns = ['GBR_CPI', 'FRA_CPI', 'USA_CPI', 'DEU_CPI', 'KOR_CPI', 'MEX_CPI']\n",
    "cpi_columns = ['BRA_CPI', 'CHN_CPI','DEU_CPI', 'FRA_CPI', 'GBR_CPI', 'IND_CPI', 'JPN_CPI', 'KOR_CPI','MEX_CPI', 'USA_CPI',]\n",
    "df_sub[cpi_columns]"
   ]
  },
  {
   "cell_type": "code",
   "execution_count": 99,
   "metadata": {},
   "outputs": [],
   "source": [
    "# Composite cpi\n",
    "\n",
    "cpi_columns = ['JPN_CPI', 'FRA_CPI', 'USA_CPI', 'BRA_CPI', 'GBR_CPI', 'MEX_CPI','CHN_CPI']\n",
    "# Step 1: Normalize the CPI series\n",
    "def normalize(series):\n",
    "    return (series - series.min()) / (series.max() - series.min())\n",
    "\n",
    "normalized_cpi = df_sub[cpi_columns].apply(normalize)\n",
    "normalized_cpi\n",
    "\n",
    "weights = np.ones(len(cpi_columns)) / len(cpi_columns)\n",
    "weights\n",
    "\n",
    "composite_cpi = normalized_cpi.dot(weights)\n",
    "composite_cpi\n",
    "\n",
    "min_cpi = df_sub[cpi_columns].min().min()\n",
    "max_cpi = df_sub[cpi_columns].max().max()\n",
    "min_cpi\n",
    "max_cpi\n",
    "\n",
    "composite_cpi_rescaled = composite_cpi * (max_cpi - min_cpi) + min_cpi\n",
    "\n",
    "# Add the new features to your DataFrame\n",
    "df_sub['CPI_Composite'] = composite_cpi\n",
    "df_sub['CPI_Composite_Rescaled'] = composite_cpi_rescaled\n",
    "\n",
    "\n"
   ]
  },
  {
   "cell_type": "code",
   "execution_count": 100,
   "metadata": {},
   "outputs": [
    {
     "name": "stderr",
     "output_type": "stream",
     "text": [
      "c:\\Users\\249881\\AppData\\Local\\anaconda3\\Lib\\site-packages\\sklearn\\base.py:439: UserWarning:\n",
      "\n",
      "X does not have valid feature names, but IsolationForest was fitted with feature names\n",
      "\n",
      "c:\\Users\\249881\\AppData\\Local\\anaconda3\\Lib\\site-packages\\_plotly_utils\\basevalidators.py:106: FutureWarning:\n",
      "\n",
      "The behavior of DatetimeProperties.to_pydatetime is deprecated, in a future version this will return a Series containing python datetime objects instead of an ndarray. To retain the old behavior, call `np.array` on the result\n",
      "\n"
     ]
    },
    {
     "data": {
      "application/vnd.plotly.v1+json": {
       "config": {
        "linkText": "Export to plot.ly",
        "plotlyServerURL": "https://plot.ly",
        "showLink": false
       },
       "data": [
        {
         "cells": {
          "align": "center",
          "fill": {
           "color": [
            "rgba(228, 222, 249, 0.65)",
            "rgba(228, 222, 249, 0.65)",
            "rgba(228, 222, 249, 0.65)",
            "rgba(228, 222, 249, 0.65)",
            "rgba(228, 222, 249, 0.65)",
            "rgba(228, 222, 249, 0.65)",
            "rgba(228, 222, 249, 0.65)",
            "rgba(228, 222, 249, 0.65)",
            "rgba(228, 222, 249, 0.65)",
            "rgba(228, 222, 249, 0.65)",
            "rgba(228, 222, 249, 0.65)",
            "rgba(228, 222, 249, 0.65)",
            "rgba(228, 222, 249, 0.65)",
            "rgba(228, 222, 249, 0.65)",
            "rgba(228, 222, 249, 0.65)",
            "rgba(228, 222, 249, 0.65)",
            "rgba(228, 222, 249, 0.65)",
            "rgba(228, 222, 249, 0.65)",
            "rgba(228, 222, 249, 0.65)",
            "rgba(228, 222, 249, 0.65)",
            "rgba(228, 222, 249, 0.65)",
            "rgba(228, 222, 249, 0.65)",
            "rgba(228, 222, 249, 0.65)",
            "rgba(228, 222, 249, 0.65)",
            "rgba(228, 222, 249, 0.65)",
            "rgba(228, 222, 249, 0.65)",
            "rgba(228, 222, 249, 0.65)",
            "rgba(228, 222, 249, 0.65)",
            "rgba(228, 222, 249, 0.65)",
            "rgba(228, 222, 249, 0.65)",
            "rgba(228, 222, 249, 0.65)",
            "rgba(228, 222, 249, 0.65)",
            "rgba(228, 222, 249, 0.65)",
            "rgba(228, 222, 249, 0.65)",
            "rgba(228, 222, 249, 0.65)",
            "rgba(228, 222, 249, 0.65)",
            "rgba(228, 222, 249, 0.65)",
            "rgba(228, 222, 249, 0.65)",
            "rgba(228, 222, 249, 0.65)",
            "rgba(228, 222, 249, 0.65)",
            "rgba(228, 222, 249, 0.65)",
            "rgba(228, 222, 249, 0.65)",
            "rgba(228, 222, 249, 0.65)",
            "rgba(228, 222, 249, 0.65)",
            "rgba(228, 222, 249, 0.65)",
            "rgba(228, 222, 249, 0.65)",
            "rgba(228, 222, 249, 0.65)",
            "rgba(228, 222, 249, 0.65)",
            "rgba(228, 222, 249, 0.65)",
            "rgba(228, 222, 249, 0.65)",
            "rgba(228, 222, 249, 0.65)",
            "rgba(228, 222, 249, 0.65)",
            "rgba(228, 222, 249, 0.65)",
            "rgba(228, 222, 249, 0.65)",
            "rgba(228, 222, 249, 0.65)",
            "rgba(228, 222, 249, 0.65)",
            "rgba(228, 222, 249, 0.65)",
            "rgba(228, 222, 249, 0.65)",
            "rgba(228, 222, 249, 0.65)",
            "rgba(228, 222, 249, 0.65)",
            "rgba(228, 222, 249, 0.65)",
            "rgba(228, 222, 249, 0.65)",
            "rgba(228, 222, 249, 0.65)",
            "rgba(228, 222, 249, 0.65)",
            "rgba(228, 222, 249, 0.65)",
            "rgba(228, 222, 249, 0.65)",
            "rgba(228, 222, 249, 0.65)",
            "rgba(228, 222, 249, 0.65)",
            "rgba(228, 222, 249, 0.65)",
            "rgba(228, 222, 249, 0.65)",
            "rgba(228, 222, 249, 0.65)",
            "rgba(228, 222, 249, 0.65)",
            "rgba(228, 222, 249, 0.65)",
            "rgba(228, 222, 249, 0.65)",
            "rgba(228, 222, 249, 0.65)",
            "rgba(228, 222, 249, 0.65)",
            "rgba(228, 222, 249, 0.65)",
            "rgba(228, 222, 249, 0.65)",
            "rgba(228, 222, 249, 0.65)",
            "rgba(228, 222, 249, 0.65)",
            "red",
            "red",
            "red",
            "rgba(228, 222, 249, 0.65)",
            "rgba(228, 222, 249, 0.65)",
            "rgba(228, 222, 249, 0.65)",
            "rgba(228, 222, 249, 0.65)",
            "rgba(228, 222, 249, 0.65)",
            "rgba(228, 222, 249, 0.65)",
            "rgba(228, 222, 249, 0.65)",
            "rgba(228, 222, 249, 0.65)",
            "red",
            "rgba(228, 222, 249, 0.65)",
            "rgba(228, 222, 249, 0.65)",
            "rgba(228, 222, 249, 0.65)",
            "rgba(228, 222, 249, 0.65)",
            "rgba(228, 222, 249, 0.65)",
            "rgba(228, 222, 249, 0.65)",
            "rgba(228, 222, 249, 0.65)",
            "red",
            "red",
            "rgba(228, 222, 249, 0.65)",
            "rgba(228, 222, 249, 0.65)",
            "rgba(228, 222, 249, 0.65)",
            "rgba(228, 222, 249, 0.65)",
            "rgba(228, 222, 249, 0.65)",
            "rgba(228, 222, 249, 0.65)",
            "rgba(228, 222, 249, 0.65)",
            "rgba(228, 222, 249, 0.65)",
            "red",
            "rgba(228, 222, 249, 0.65)",
            "rgba(228, 222, 249, 0.65)",
            "rgba(228, 222, 249, 0.65)",
            "rgba(228, 222, 249, 0.65)",
            "rgba(228, 222, 249, 0.65)",
            "rgba(228, 222, 249, 0.65)",
            "rgba(228, 222, 249, 0.65)",
            "rgba(228, 222, 249, 0.65)",
            "rgba(228, 222, 249, 0.65)",
            "rgba(228, 222, 249, 0.65)",
            "rgba(228, 222, 249, 0.65)",
            "rgba(228, 222, 249, 0.65)",
            "rgba(228, 222, 249, 0.65)"
           ]
          },
          "font": {
           "size": 12
          },
          "values": [
           [
            "2020-09-01",
            "2020-10-01",
            "2020-11-01",
            "2021-08-01",
            "2022-04-01",
            "2022-05-01",
            "2023-02-01"
           ],
           [
            0.113,
            0.122,
            0.151,
            0.506,
            0.755,
            0.744,
            0.49
           ]
          ]
         },
         "columnwidth": [
          1,
          2
         ],
         "domain": {
          "x": [
           0,
           1
          ],
          "y": [
           0,
           0.3
          ]
         },
         "header": {
          "fill": {
           "color": "#d562be"
          },
          "font": {
           "size": 14
          },
          "values": [
           "<b>Date</b>",
           "<b>Anomaly Values</b>"
          ]
         },
         "type": "table"
        },
        {
         "line": {
          "color": "blue"
         },
         "mode": "lines+markers",
         "name": "Actuals",
         "type": "scatter",
         "x": [
          "2014-01-01T00:00:00",
          "2014-02-01T00:00:00",
          "2014-03-01T00:00:00",
          "2014-04-01T00:00:00",
          "2014-05-01T00:00:00",
          "2014-06-01T00:00:00",
          "2014-07-01T00:00:00",
          "2014-08-01T00:00:00",
          "2014-09-01T00:00:00",
          "2014-10-01T00:00:00",
          "2014-11-01T00:00:00",
          "2014-12-01T00:00:00",
          "2015-01-01T00:00:00",
          "2015-02-01T00:00:00",
          "2015-03-01T00:00:00",
          "2015-04-01T00:00:00",
          "2015-05-01T00:00:00",
          "2015-06-01T00:00:00",
          "2015-07-01T00:00:00",
          "2015-08-01T00:00:00",
          "2015-09-01T00:00:00",
          "2015-10-01T00:00:00",
          "2015-11-01T00:00:00",
          "2015-12-01T00:00:00",
          "2016-01-01T00:00:00",
          "2016-02-01T00:00:00",
          "2016-03-01T00:00:00",
          "2016-04-01T00:00:00",
          "2016-05-01T00:00:00",
          "2016-06-01T00:00:00",
          "2016-07-01T00:00:00",
          "2016-08-01T00:00:00",
          "2016-09-01T00:00:00",
          "2016-10-01T00:00:00",
          "2016-11-01T00:00:00",
          "2016-12-01T00:00:00",
          "2017-01-01T00:00:00",
          "2017-02-01T00:00:00",
          "2017-03-01T00:00:00",
          "2017-04-01T00:00:00",
          "2017-05-01T00:00:00",
          "2017-06-01T00:00:00",
          "2017-07-01T00:00:00",
          "2017-08-01T00:00:00",
          "2017-09-01T00:00:00",
          "2017-10-01T00:00:00",
          "2017-11-01T00:00:00",
          "2017-12-01T00:00:00",
          "2018-01-01T00:00:00",
          "2018-02-01T00:00:00",
          "2018-03-01T00:00:00",
          "2018-04-01T00:00:00",
          "2018-05-01T00:00:00",
          "2018-06-01T00:00:00",
          "2018-07-01T00:00:00",
          "2018-08-01T00:00:00",
          "2018-09-01T00:00:00",
          "2018-10-01T00:00:00",
          "2018-11-01T00:00:00",
          "2018-12-01T00:00:00",
          "2019-01-01T00:00:00",
          "2019-02-01T00:00:00",
          "2019-03-01T00:00:00",
          "2019-04-01T00:00:00",
          "2019-05-01T00:00:00",
          "2019-06-01T00:00:00",
          "2019-07-01T00:00:00",
          "2019-08-01T00:00:00",
          "2019-09-01T00:00:00",
          "2019-10-01T00:00:00",
          "2019-11-01T00:00:00",
          "2019-12-01T00:00:00",
          "2020-01-01T00:00:00",
          "2020-02-01T00:00:00",
          "2020-03-01T00:00:00",
          "2020-04-01T00:00:00",
          "2020-05-01T00:00:00",
          "2020-06-01T00:00:00",
          "2020-07-01T00:00:00",
          "2020-08-01T00:00:00",
          "2020-09-01T00:00:00",
          "2020-10-01T00:00:00",
          "2020-11-01T00:00:00",
          "2020-12-01T00:00:00",
          "2021-01-01T00:00:00",
          "2021-02-01T00:00:00",
          "2021-03-01T00:00:00",
          "2021-04-01T00:00:00",
          "2021-05-01T00:00:00",
          "2021-06-01T00:00:00",
          "2021-07-01T00:00:00",
          "2021-08-01T00:00:00",
          "2021-09-01T00:00:00",
          "2021-10-01T00:00:00",
          "2021-11-01T00:00:00",
          "2021-12-01T00:00:00",
          "2022-01-01T00:00:00",
          "2022-02-01T00:00:00",
          "2022-03-01T00:00:00",
          "2022-04-01T00:00:00",
          "2022-05-01T00:00:00",
          "2022-06-01T00:00:00",
          "2022-07-01T00:00:00",
          "2022-08-01T00:00:00",
          "2022-09-01T00:00:00",
          "2022-10-01T00:00:00",
          "2022-11-01T00:00:00",
          "2022-12-01T00:00:00",
          "2023-01-01T00:00:00",
          "2023-02-01T00:00:00",
          "2023-03-01T00:00:00",
          "2023-04-01T00:00:00",
          "2023-05-01T00:00:00",
          "2023-06-01T00:00:00",
          "2023-07-01T00:00:00",
          "2023-08-01T00:00:00",
          "2023-09-01T00:00:00",
          "2023-10-01T00:00:00",
          "2023-11-01T00:00:00",
          "2023-12-01T00:00:00",
          "2024-01-01T00:00:00",
          "2024-02-01T00:00:00",
          "2024-03-01T00:00:00"
         ],
         "y": [
          0.3298783127069957,
          0.3131639588773135,
          0.3206479255618566,
          0.3647986674506994,
          0.39009623945943667,
          0.3903474361771674,
          0.386135103506203,
          0.37058136505225264,
          0.35701742937438824,
          0.35091141489494115,
          0.3175539277211501,
          0.2952278131052469,
          0.24237100602977532,
          0.25560219225769826,
          0.2725035847611246,
          0.22263725623527855,
          0.22180662179402236,
          0.2303285485474097,
          0.23580880682202401,
          0.23867772195642464,
          0.216572595858103,
          0.22876418742400131,
          0.24095390022239327,
          0.2497855437364514,
          0.26779103184303693,
          0.2409047705597923,
          0.23203711514677927,
          0.23060694146686217,
          0.22980904053064463,
          0.2238662223756938,
          0.24920862792464524,
          0.26626624972733604,
          0.28401598082956214,
          0.2777275939533431,
          0.3303573124026071,
          0.2894620339291266,
          0.29130329457539905,
          0.3097621055412959,
          0.30556112524029794,
          0.2910759553865629,
          0.2890994312554329,
          0.31913855143621483,
          0.3165093688757614,
          0.3104334875945272,
          0.3282780155432363,
          0.34471473239796036,
          0.3266310054206204,
          0.35158228760396326,
          0.31991840839177155,
          0.2910117100817427,
          0.3089728684153788,
          0.33672511133001615,
          0.3599732425214522,
          0.37285266644600473,
          0.36973214849997327,
          0.3770744688117063,
          0.32956073920805234,
          0.29399941280505026,
          0.25823480019320944,
          0.2503330128686833,
          0.28811333641103193,
          0.32673726480372395,
          0.30684911416017424,
          0.28510058264951854,
          0.2776753748322869,
          0.2552624276962867,
          0.24162245252147982,
          0.25012223192647,
          0.29412443353830703,
          0.32289411352027253,
          0.35927680250259425,
          0.3478164437386201,
          0.2778179929686644,
          0.17455156575667038,
          0.15450384195377323,
          0.17668822388622607,
          0.21927620050854943,
          0.2023556648696584,
          0.19032366779566404,
          0.1650977932602662,
          0.11298824098736215,
          0.12243100205273574,
          0.15126002411081102,
          0.17359170842817992,
          0.25212246235746927,
          0.32076523769299753,
          0.37688364351453624,
          0.39797434082441535,
          0.3889607359274015,
          0.41933794722208495,
          0.4403432118639096,
          0.505960315893754,
          0.5742319601389086,
          0.5534788081032381,
          0.5440163860105234,
          0.582455382291932,
          0.6478070430412617,
          0.7049573716403342,
          0.7123635514272235,
          0.7554216834234917,
          0.7443068139003096,
          0.7227089790993194,
          0.7020834911122619,
          0.6924030310669955,
          0.6446987532280005,
          0.6280546109948787,
          0.636491983311749,
          0.6061555831199292,
          0.5379487189319491,
          0.4896090624949853,
          0.4493796358087496,
          0.377087433156885,
          0.36137064696085275,
          0.39338238366287615,
          0.39549334710960965,
          0.3254511846034647,
          0.2962891235664037,
          0.31567991922994443,
          0.2904116088068974,
          0.30395940030408186,
          0.27032284211255675,
          0.26325640419538293,
          0.26325640419538293
         ]
        },
        {
         "marker": {
          "color": "red",
          "size": 11
         },
         "mode": "markers",
         "name": "Anomalies",
         "type": "scatter",
         "x": [
          "2020-09-01T00:00:00",
          "2020-10-01T00:00:00",
          "2020-11-01T00:00:00",
          "2021-08-01T00:00:00",
          "2022-04-01T00:00:00",
          "2022-05-01T00:00:00",
          "2023-02-01T00:00:00"
         ],
         "y": [
          0.11298824098736215,
          0.12243100205273574,
          0.15126002411081102,
          0.505960315893754,
          0.7554216834234917,
          0.7443068139003096,
          0.4896090624949853
         ]
        }
       ],
       "layout": {
        "height": 600,
        "showlegend": true,
        "template": {
         "data": {
          "bar": [
           {
            "error_x": {
             "color": "#2a3f5f"
            },
            "error_y": {
             "color": "#2a3f5f"
            },
            "marker": {
             "line": {
              "color": "#E5ECF6",
              "width": 0.5
             },
             "pattern": {
              "fillmode": "overlay",
              "size": 10,
              "solidity": 0.2
             }
            },
            "type": "bar"
           }
          ],
          "barpolar": [
           {
            "marker": {
             "line": {
              "color": "#E5ECF6",
              "width": 0.5
             },
             "pattern": {
              "fillmode": "overlay",
              "size": 10,
              "solidity": 0.2
             }
            },
            "type": "barpolar"
           }
          ],
          "carpet": [
           {
            "aaxis": {
             "endlinecolor": "#2a3f5f",
             "gridcolor": "white",
             "linecolor": "white",
             "minorgridcolor": "white",
             "startlinecolor": "#2a3f5f"
            },
            "baxis": {
             "endlinecolor": "#2a3f5f",
             "gridcolor": "white",
             "linecolor": "white",
             "minorgridcolor": "white",
             "startlinecolor": "#2a3f5f"
            },
            "type": "carpet"
           }
          ],
          "choropleth": [
           {
            "colorbar": {
             "outlinewidth": 0,
             "ticks": ""
            },
            "type": "choropleth"
           }
          ],
          "contour": [
           {
            "colorbar": {
             "outlinewidth": 0,
             "ticks": ""
            },
            "colorscale": [
             [
              0,
              "#0d0887"
             ],
             [
              0.1111111111111111,
              "#46039f"
             ],
             [
              0.2222222222222222,
              "#7201a8"
             ],
             [
              0.3333333333333333,
              "#9c179e"
             ],
             [
              0.4444444444444444,
              "#bd3786"
             ],
             [
              0.5555555555555556,
              "#d8576b"
             ],
             [
              0.6666666666666666,
              "#ed7953"
             ],
             [
              0.7777777777777778,
              "#fb9f3a"
             ],
             [
              0.8888888888888888,
              "#fdca26"
             ],
             [
              1,
              "#f0f921"
             ]
            ],
            "type": "contour"
           }
          ],
          "contourcarpet": [
           {
            "colorbar": {
             "outlinewidth": 0,
             "ticks": ""
            },
            "type": "contourcarpet"
           }
          ],
          "heatmap": [
           {
            "colorbar": {
             "outlinewidth": 0,
             "ticks": ""
            },
            "colorscale": [
             [
              0,
              "#0d0887"
             ],
             [
              0.1111111111111111,
              "#46039f"
             ],
             [
              0.2222222222222222,
              "#7201a8"
             ],
             [
              0.3333333333333333,
              "#9c179e"
             ],
             [
              0.4444444444444444,
              "#bd3786"
             ],
             [
              0.5555555555555556,
              "#d8576b"
             ],
             [
              0.6666666666666666,
              "#ed7953"
             ],
             [
              0.7777777777777778,
              "#fb9f3a"
             ],
             [
              0.8888888888888888,
              "#fdca26"
             ],
             [
              1,
              "#f0f921"
             ]
            ],
            "type": "heatmap"
           }
          ],
          "heatmapgl": [
           {
            "colorbar": {
             "outlinewidth": 0,
             "ticks": ""
            },
            "colorscale": [
             [
              0,
              "#0d0887"
             ],
             [
              0.1111111111111111,
              "#46039f"
             ],
             [
              0.2222222222222222,
              "#7201a8"
             ],
             [
              0.3333333333333333,
              "#9c179e"
             ],
             [
              0.4444444444444444,
              "#bd3786"
             ],
             [
              0.5555555555555556,
              "#d8576b"
             ],
             [
              0.6666666666666666,
              "#ed7953"
             ],
             [
              0.7777777777777778,
              "#fb9f3a"
             ],
             [
              0.8888888888888888,
              "#fdca26"
             ],
             [
              1,
              "#f0f921"
             ]
            ],
            "type": "heatmapgl"
           }
          ],
          "histogram": [
           {
            "marker": {
             "pattern": {
              "fillmode": "overlay",
              "size": 10,
              "solidity": 0.2
             }
            },
            "type": "histogram"
           }
          ],
          "histogram2d": [
           {
            "colorbar": {
             "outlinewidth": 0,
             "ticks": ""
            },
            "colorscale": [
             [
              0,
              "#0d0887"
             ],
             [
              0.1111111111111111,
              "#46039f"
             ],
             [
              0.2222222222222222,
              "#7201a8"
             ],
             [
              0.3333333333333333,
              "#9c179e"
             ],
             [
              0.4444444444444444,
              "#bd3786"
             ],
             [
              0.5555555555555556,
              "#d8576b"
             ],
             [
              0.6666666666666666,
              "#ed7953"
             ],
             [
              0.7777777777777778,
              "#fb9f3a"
             ],
             [
              0.8888888888888888,
              "#fdca26"
             ],
             [
              1,
              "#f0f921"
             ]
            ],
            "type": "histogram2d"
           }
          ],
          "histogram2dcontour": [
           {
            "colorbar": {
             "outlinewidth": 0,
             "ticks": ""
            },
            "colorscale": [
             [
              0,
              "#0d0887"
             ],
             [
              0.1111111111111111,
              "#46039f"
             ],
             [
              0.2222222222222222,
              "#7201a8"
             ],
             [
              0.3333333333333333,
              "#9c179e"
             ],
             [
              0.4444444444444444,
              "#bd3786"
             ],
             [
              0.5555555555555556,
              "#d8576b"
             ],
             [
              0.6666666666666666,
              "#ed7953"
             ],
             [
              0.7777777777777778,
              "#fb9f3a"
             ],
             [
              0.8888888888888888,
              "#fdca26"
             ],
             [
              1,
              "#f0f921"
             ]
            ],
            "type": "histogram2dcontour"
           }
          ],
          "mesh3d": [
           {
            "colorbar": {
             "outlinewidth": 0,
             "ticks": ""
            },
            "type": "mesh3d"
           }
          ],
          "parcoords": [
           {
            "line": {
             "colorbar": {
              "outlinewidth": 0,
              "ticks": ""
             }
            },
            "type": "parcoords"
           }
          ],
          "pie": [
           {
            "automargin": true,
            "type": "pie"
           }
          ],
          "scatter": [
           {
            "fillpattern": {
             "fillmode": "overlay",
             "size": 10,
             "solidity": 0.2
            },
            "type": "scatter"
           }
          ],
          "scatter3d": [
           {
            "line": {
             "colorbar": {
              "outlinewidth": 0,
              "ticks": ""
             }
            },
            "marker": {
             "colorbar": {
              "outlinewidth": 0,
              "ticks": ""
             }
            },
            "type": "scatter3d"
           }
          ],
          "scattercarpet": [
           {
            "marker": {
             "colorbar": {
              "outlinewidth": 0,
              "ticks": ""
             }
            },
            "type": "scattercarpet"
           }
          ],
          "scattergeo": [
           {
            "marker": {
             "colorbar": {
              "outlinewidth": 0,
              "ticks": ""
             }
            },
            "type": "scattergeo"
           }
          ],
          "scattergl": [
           {
            "marker": {
             "colorbar": {
              "outlinewidth": 0,
              "ticks": ""
             }
            },
            "type": "scattergl"
           }
          ],
          "scattermapbox": [
           {
            "marker": {
             "colorbar": {
              "outlinewidth": 0,
              "ticks": ""
             }
            },
            "type": "scattermapbox"
           }
          ],
          "scatterpolar": [
           {
            "marker": {
             "colorbar": {
              "outlinewidth": 0,
              "ticks": ""
             }
            },
            "type": "scatterpolar"
           }
          ],
          "scatterpolargl": [
           {
            "marker": {
             "colorbar": {
              "outlinewidth": 0,
              "ticks": ""
             }
            },
            "type": "scatterpolargl"
           }
          ],
          "scatterternary": [
           {
            "marker": {
             "colorbar": {
              "outlinewidth": 0,
              "ticks": ""
             }
            },
            "type": "scatterternary"
           }
          ],
          "surface": [
           {
            "colorbar": {
             "outlinewidth": 0,
             "ticks": ""
            },
            "colorscale": [
             [
              0,
              "#0d0887"
             ],
             [
              0.1111111111111111,
              "#46039f"
             ],
             [
              0.2222222222222222,
              "#7201a8"
             ],
             [
              0.3333333333333333,
              "#9c179e"
             ],
             [
              0.4444444444444444,
              "#bd3786"
             ],
             [
              0.5555555555555556,
              "#d8576b"
             ],
             [
              0.6666666666666666,
              "#ed7953"
             ],
             [
              0.7777777777777778,
              "#fb9f3a"
             ],
             [
              0.8888888888888888,
              "#fdca26"
             ],
             [
              1,
              "#f0f921"
             ]
            ],
            "type": "surface"
           }
          ],
          "table": [
           {
            "cells": {
             "fill": {
              "color": "#EBF0F8"
             },
             "line": {
              "color": "white"
             }
            },
            "header": {
             "fill": {
              "color": "#C8D4E3"
             },
             "line": {
              "color": "white"
             }
            },
            "type": "table"
           }
          ]
         },
         "layout": {
          "annotationdefaults": {
           "arrowcolor": "#2a3f5f",
           "arrowhead": 0,
           "arrowwidth": 1
          },
          "autotypenumbers": "strict",
          "coloraxis": {
           "colorbar": {
            "outlinewidth": 0,
            "ticks": ""
           }
          },
          "colorscale": {
           "diverging": [
            [
             0,
             "#8e0152"
            ],
            [
             0.1,
             "#c51b7d"
            ],
            [
             0.2,
             "#de77ae"
            ],
            [
             0.3,
             "#f1b6da"
            ],
            [
             0.4,
             "#fde0ef"
            ],
            [
             0.5,
             "#f7f7f7"
            ],
            [
             0.6,
             "#e6f5d0"
            ],
            [
             0.7,
             "#b8e186"
            ],
            [
             0.8,
             "#7fbc41"
            ],
            [
             0.9,
             "#4d9221"
            ],
            [
             1,
             "#276419"
            ]
           ],
           "sequential": [
            [
             0,
             "#0d0887"
            ],
            [
             0.1111111111111111,
             "#46039f"
            ],
            [
             0.2222222222222222,
             "#7201a8"
            ],
            [
             0.3333333333333333,
             "#9c179e"
            ],
            [
             0.4444444444444444,
             "#bd3786"
            ],
            [
             0.5555555555555556,
             "#d8576b"
            ],
            [
             0.6666666666666666,
             "#ed7953"
            ],
            [
             0.7777777777777778,
             "#fb9f3a"
            ],
            [
             0.8888888888888888,
             "#fdca26"
            ],
            [
             1,
             "#f0f921"
            ]
           ],
           "sequentialminus": [
            [
             0,
             "#0d0887"
            ],
            [
             0.1111111111111111,
             "#46039f"
            ],
            [
             0.2222222222222222,
             "#7201a8"
            ],
            [
             0.3333333333333333,
             "#9c179e"
            ],
            [
             0.4444444444444444,
             "#bd3786"
            ],
            [
             0.5555555555555556,
             "#d8576b"
            ],
            [
             0.6666666666666666,
             "#ed7953"
            ],
            [
             0.7777777777777778,
             "#fb9f3a"
            ],
            [
             0.8888888888888888,
             "#fdca26"
            ],
            [
             1,
             "#f0f921"
            ]
           ]
          },
          "colorway": [
           "#636efa",
           "#EF553B",
           "#00cc96",
           "#ab63fa",
           "#FFA15A",
           "#19d3f3",
           "#FF6692",
           "#B6E880",
           "#FF97FF",
           "#FECB52"
          ],
          "font": {
           "color": "#2a3f5f"
          },
          "geo": {
           "bgcolor": "white",
           "lakecolor": "white",
           "landcolor": "#E5ECF6",
           "showlakes": true,
           "showland": true,
           "subunitcolor": "white"
          },
          "hoverlabel": {
           "align": "left"
          },
          "hovermode": "closest",
          "mapbox": {
           "style": "light"
          },
          "paper_bgcolor": "white",
          "plot_bgcolor": "#E5ECF6",
          "polar": {
           "angularaxis": {
            "gridcolor": "white",
            "linecolor": "white",
            "ticks": ""
           },
           "bgcolor": "#E5ECF6",
           "radialaxis": {
            "gridcolor": "white",
            "linecolor": "white",
            "ticks": ""
           }
          },
          "scene": {
           "xaxis": {
            "backgroundcolor": "#E5ECF6",
            "gridcolor": "white",
            "gridwidth": 2,
            "linecolor": "white",
            "showbackground": true,
            "ticks": "",
            "zerolinecolor": "white"
           },
           "yaxis": {
            "backgroundcolor": "#E5ECF6",
            "gridcolor": "white",
            "gridwidth": 2,
            "linecolor": "white",
            "showbackground": true,
            "ticks": "",
            "zerolinecolor": "white"
           },
           "zaxis": {
            "backgroundcolor": "#E5ECF6",
            "gridcolor": "white",
            "gridwidth": 2,
            "linecolor": "white",
            "showbackground": true,
            "ticks": "",
            "zerolinecolor": "white"
           }
          },
          "shapedefaults": {
           "line": {
            "color": "#2a3f5f"
           }
          },
          "ternary": {
           "aaxis": {
            "gridcolor": "white",
            "linecolor": "white",
            "ticks": ""
           },
           "baxis": {
            "gridcolor": "white",
            "linecolor": "white",
            "ticks": ""
           },
           "bgcolor": "#E5ECF6",
           "caxis": {
            "gridcolor": "white",
            "linecolor": "white",
            "ticks": ""
           }
          },
          "title": {
           "x": 0.05
          },
          "xaxis": {
           "automargin": true,
           "gridcolor": "white",
           "linecolor": "white",
           "ticks": "",
           "title": {
            "standoff": 15
           },
           "zerolinecolor": "white",
           "zerolinewidth": 2
          },
          "yaxis": {
           "automargin": true,
           "gridcolor": "white",
           "linecolor": "white",
           "ticks": "",
           "title": {
            "standoff": 15
           },
           "zerolinecolor": "white",
           "zerolinewidth": 2
          }
         }
        },
        "title": {
         "text": "Anomaly Detection for CPI_Composite"
        },
        "xaxis": {
         "domain": [
          0,
          1
         ]
        },
        "yaxis": {
         "domain": [
          0.4,
          1
         ]
        }
       }
      },
      "text/html": [
       "<div>                            <div id=\"105be7cc-947c-4cdb-b8f5-22ff8fcd8053\" class=\"plotly-graph-div\" style=\"height:600px; width:100%;\"></div>            <script type=\"text/javascript\">                require([\"plotly\"], function(Plotly) {                    window.PLOTLYENV=window.PLOTLYENV || {};                                    if (document.getElementById(\"105be7cc-947c-4cdb-b8f5-22ff8fcd8053\")) {                    Plotly.newPlot(                        \"105be7cc-947c-4cdb-b8f5-22ff8fcd8053\",                        [{\"cells\":{\"align\":\"center\",\"fill\":{\"color\":[\"rgba(228, 222, 249, 0.65)\",\"rgba(228, 222, 249, 0.65)\",\"rgba(228, 222, 249, 0.65)\",\"rgba(228, 222, 249, 0.65)\",\"rgba(228, 222, 249, 0.65)\",\"rgba(228, 222, 249, 0.65)\",\"rgba(228, 222, 249, 0.65)\",\"rgba(228, 222, 249, 0.65)\",\"rgba(228, 222, 249, 0.65)\",\"rgba(228, 222, 249, 0.65)\",\"rgba(228, 222, 249, 0.65)\",\"rgba(228, 222, 249, 0.65)\",\"rgba(228, 222, 249, 0.65)\",\"rgba(228, 222, 249, 0.65)\",\"rgba(228, 222, 249, 0.65)\",\"rgba(228, 222, 249, 0.65)\",\"rgba(228, 222, 249, 0.65)\",\"rgba(228, 222, 249, 0.65)\",\"rgba(228, 222, 249, 0.65)\",\"rgba(228, 222, 249, 0.65)\",\"rgba(228, 222, 249, 0.65)\",\"rgba(228, 222, 249, 0.65)\",\"rgba(228, 222, 249, 0.65)\",\"rgba(228, 222, 249, 0.65)\",\"rgba(228, 222, 249, 0.65)\",\"rgba(228, 222, 249, 0.65)\",\"rgba(228, 222, 249, 0.65)\",\"rgba(228, 222, 249, 0.65)\",\"rgba(228, 222, 249, 0.65)\",\"rgba(228, 222, 249, 0.65)\",\"rgba(228, 222, 249, 0.65)\",\"rgba(228, 222, 249, 0.65)\",\"rgba(228, 222, 249, 0.65)\",\"rgba(228, 222, 249, 0.65)\",\"rgba(228, 222, 249, 0.65)\",\"rgba(228, 222, 249, 0.65)\",\"rgba(228, 222, 249, 0.65)\",\"rgba(228, 222, 249, 0.65)\",\"rgba(228, 222, 249, 0.65)\",\"rgba(228, 222, 249, 0.65)\",\"rgba(228, 222, 249, 0.65)\",\"rgba(228, 222, 249, 0.65)\",\"rgba(228, 222, 249, 0.65)\",\"rgba(228, 222, 249, 0.65)\",\"rgba(228, 222, 249, 0.65)\",\"rgba(228, 222, 249, 0.65)\",\"rgba(228, 222, 249, 0.65)\",\"rgba(228, 222, 249, 0.65)\",\"rgba(228, 222, 249, 0.65)\",\"rgba(228, 222, 249, 0.65)\",\"rgba(228, 222, 249, 0.65)\",\"rgba(228, 222, 249, 0.65)\",\"rgba(228, 222, 249, 0.65)\",\"rgba(228, 222, 249, 0.65)\",\"rgba(228, 222, 249, 0.65)\",\"rgba(228, 222, 249, 0.65)\",\"rgba(228, 222, 249, 0.65)\",\"rgba(228, 222, 249, 0.65)\",\"rgba(228, 222, 249, 0.65)\",\"rgba(228, 222, 249, 0.65)\",\"rgba(228, 222, 249, 0.65)\",\"rgba(228, 222, 249, 0.65)\",\"rgba(228, 222, 249, 0.65)\",\"rgba(228, 222, 249, 0.65)\",\"rgba(228, 222, 249, 0.65)\",\"rgba(228, 222, 249, 0.65)\",\"rgba(228, 222, 249, 0.65)\",\"rgba(228, 222, 249, 0.65)\",\"rgba(228, 222, 249, 0.65)\",\"rgba(228, 222, 249, 0.65)\",\"rgba(228, 222, 249, 0.65)\",\"rgba(228, 222, 249, 0.65)\",\"rgba(228, 222, 249, 0.65)\",\"rgba(228, 222, 249, 0.65)\",\"rgba(228, 222, 249, 0.65)\",\"rgba(228, 222, 249, 0.65)\",\"rgba(228, 222, 249, 0.65)\",\"rgba(228, 222, 249, 0.65)\",\"rgba(228, 222, 249, 0.65)\",\"rgba(228, 222, 249, 0.65)\",\"red\",\"red\",\"red\",\"rgba(228, 222, 249, 0.65)\",\"rgba(228, 222, 249, 0.65)\",\"rgba(228, 222, 249, 0.65)\",\"rgba(228, 222, 249, 0.65)\",\"rgba(228, 222, 249, 0.65)\",\"rgba(228, 222, 249, 0.65)\",\"rgba(228, 222, 249, 0.65)\",\"rgba(228, 222, 249, 0.65)\",\"red\",\"rgba(228, 222, 249, 0.65)\",\"rgba(228, 222, 249, 0.65)\",\"rgba(228, 222, 249, 0.65)\",\"rgba(228, 222, 249, 0.65)\",\"rgba(228, 222, 249, 0.65)\",\"rgba(228, 222, 249, 0.65)\",\"rgba(228, 222, 249, 0.65)\",\"red\",\"red\",\"rgba(228, 222, 249, 0.65)\",\"rgba(228, 222, 249, 0.65)\",\"rgba(228, 222, 249, 0.65)\",\"rgba(228, 222, 249, 0.65)\",\"rgba(228, 222, 249, 0.65)\",\"rgba(228, 222, 249, 0.65)\",\"rgba(228, 222, 249, 0.65)\",\"rgba(228, 222, 249, 0.65)\",\"red\",\"rgba(228, 222, 249, 0.65)\",\"rgba(228, 222, 249, 0.65)\",\"rgba(228, 222, 249, 0.65)\",\"rgba(228, 222, 249, 0.65)\",\"rgba(228, 222, 249, 0.65)\",\"rgba(228, 222, 249, 0.65)\",\"rgba(228, 222, 249, 0.65)\",\"rgba(228, 222, 249, 0.65)\",\"rgba(228, 222, 249, 0.65)\",\"rgba(228, 222, 249, 0.65)\",\"rgba(228, 222, 249, 0.65)\",\"rgba(228, 222, 249, 0.65)\",\"rgba(228, 222, 249, 0.65)\"]},\"font\":{\"size\":12},\"values\":[[\"2020-09-01\",\"2020-10-01\",\"2020-11-01\",\"2021-08-01\",\"2022-04-01\",\"2022-05-01\",\"2023-02-01\"],[0.113,0.122,0.151,0.506,0.755,0.744,0.49]]},\"columnwidth\":[1,2],\"domain\":{\"x\":[0,1],\"y\":[0,0.3]},\"header\":{\"fill\":{\"color\":\"#d562be\"},\"font\":{\"size\":14},\"values\":[\"<b>Date</b>\",\"<b>Anomaly Values</b>\"]},\"type\":\"table\"},{\"line\":{\"color\":\"blue\"},\"mode\":\"lines+markers\",\"name\":\"Actuals\",\"x\":[\"2014-01-01T00:00:00\",\"2014-02-01T00:00:00\",\"2014-03-01T00:00:00\",\"2014-04-01T00:00:00\",\"2014-05-01T00:00:00\",\"2014-06-01T00:00:00\",\"2014-07-01T00:00:00\",\"2014-08-01T00:00:00\",\"2014-09-01T00:00:00\",\"2014-10-01T00:00:00\",\"2014-11-01T00:00:00\",\"2014-12-01T00:00:00\",\"2015-01-01T00:00:00\",\"2015-02-01T00:00:00\",\"2015-03-01T00:00:00\",\"2015-04-01T00:00:00\",\"2015-05-01T00:00:00\",\"2015-06-01T00:00:00\",\"2015-07-01T00:00:00\",\"2015-08-01T00:00:00\",\"2015-09-01T00:00:00\",\"2015-10-01T00:00:00\",\"2015-11-01T00:00:00\",\"2015-12-01T00:00:00\",\"2016-01-01T00:00:00\",\"2016-02-01T00:00:00\",\"2016-03-01T00:00:00\",\"2016-04-01T00:00:00\",\"2016-05-01T00:00:00\",\"2016-06-01T00:00:00\",\"2016-07-01T00:00:00\",\"2016-08-01T00:00:00\",\"2016-09-01T00:00:00\",\"2016-10-01T00:00:00\",\"2016-11-01T00:00:00\",\"2016-12-01T00:00:00\",\"2017-01-01T00:00:00\",\"2017-02-01T00:00:00\",\"2017-03-01T00:00:00\",\"2017-04-01T00:00:00\",\"2017-05-01T00:00:00\",\"2017-06-01T00:00:00\",\"2017-07-01T00:00:00\",\"2017-08-01T00:00:00\",\"2017-09-01T00:00:00\",\"2017-10-01T00:00:00\",\"2017-11-01T00:00:00\",\"2017-12-01T00:00:00\",\"2018-01-01T00:00:00\",\"2018-02-01T00:00:00\",\"2018-03-01T00:00:00\",\"2018-04-01T00:00:00\",\"2018-05-01T00:00:00\",\"2018-06-01T00:00:00\",\"2018-07-01T00:00:00\",\"2018-08-01T00:00:00\",\"2018-09-01T00:00:00\",\"2018-10-01T00:00:00\",\"2018-11-01T00:00:00\",\"2018-12-01T00:00:00\",\"2019-01-01T00:00:00\",\"2019-02-01T00:00:00\",\"2019-03-01T00:00:00\",\"2019-04-01T00:00:00\",\"2019-05-01T00:00:00\",\"2019-06-01T00:00:00\",\"2019-07-01T00:00:00\",\"2019-08-01T00:00:00\",\"2019-09-01T00:00:00\",\"2019-10-01T00:00:00\",\"2019-11-01T00:00:00\",\"2019-12-01T00:00:00\",\"2020-01-01T00:00:00\",\"2020-02-01T00:00:00\",\"2020-03-01T00:00:00\",\"2020-04-01T00:00:00\",\"2020-05-01T00:00:00\",\"2020-06-01T00:00:00\",\"2020-07-01T00:00:00\",\"2020-08-01T00:00:00\",\"2020-09-01T00:00:00\",\"2020-10-01T00:00:00\",\"2020-11-01T00:00:00\",\"2020-12-01T00:00:00\",\"2021-01-01T00:00:00\",\"2021-02-01T00:00:00\",\"2021-03-01T00:00:00\",\"2021-04-01T00:00:00\",\"2021-05-01T00:00:00\",\"2021-06-01T00:00:00\",\"2021-07-01T00:00:00\",\"2021-08-01T00:00:00\",\"2021-09-01T00:00:00\",\"2021-10-01T00:00:00\",\"2021-11-01T00:00:00\",\"2021-12-01T00:00:00\",\"2022-01-01T00:00:00\",\"2022-02-01T00:00:00\",\"2022-03-01T00:00:00\",\"2022-04-01T00:00:00\",\"2022-05-01T00:00:00\",\"2022-06-01T00:00:00\",\"2022-07-01T00:00:00\",\"2022-08-01T00:00:00\",\"2022-09-01T00:00:00\",\"2022-10-01T00:00:00\",\"2022-11-01T00:00:00\",\"2022-12-01T00:00:00\",\"2023-01-01T00:00:00\",\"2023-02-01T00:00:00\",\"2023-03-01T00:00:00\",\"2023-04-01T00:00:00\",\"2023-05-01T00:00:00\",\"2023-06-01T00:00:00\",\"2023-07-01T00:00:00\",\"2023-08-01T00:00:00\",\"2023-09-01T00:00:00\",\"2023-10-01T00:00:00\",\"2023-11-01T00:00:00\",\"2023-12-01T00:00:00\",\"2024-01-01T00:00:00\",\"2024-02-01T00:00:00\",\"2024-03-01T00:00:00\"],\"y\":[0.3298783127069957,0.3131639588773135,0.3206479255618566,0.3647986674506994,0.39009623945943667,0.3903474361771674,0.386135103506203,0.37058136505225264,0.35701742937438824,0.35091141489494115,0.3175539277211501,0.2952278131052469,0.24237100602977532,0.25560219225769826,0.2725035847611246,0.22263725623527855,0.22180662179402236,0.2303285485474097,0.23580880682202401,0.23867772195642464,0.216572595858103,0.22876418742400131,0.24095390022239327,0.2497855437364514,0.26779103184303693,0.2409047705597923,0.23203711514677927,0.23060694146686217,0.22980904053064463,0.2238662223756938,0.24920862792464524,0.26626624972733604,0.28401598082956214,0.2777275939533431,0.3303573124026071,0.2894620339291266,0.29130329457539905,0.3097621055412959,0.30556112524029794,0.2910759553865629,0.2890994312554329,0.31913855143621483,0.3165093688757614,0.3104334875945272,0.3282780155432363,0.34471473239796036,0.3266310054206204,0.35158228760396326,0.31991840839177155,0.2910117100817427,0.3089728684153788,0.33672511133001615,0.3599732425214522,0.37285266644600473,0.36973214849997327,0.3770744688117063,0.32956073920805234,0.29399941280505026,0.25823480019320944,0.2503330128686833,0.28811333641103193,0.32673726480372395,0.30684911416017424,0.28510058264951854,0.2776753748322869,0.2552624276962867,0.24162245252147982,0.25012223192647,0.29412443353830703,0.32289411352027253,0.35927680250259425,0.3478164437386201,0.2778179929686644,0.17455156575667038,0.15450384195377323,0.17668822388622607,0.21927620050854943,0.2023556648696584,0.19032366779566404,0.1650977932602662,0.11298824098736215,0.12243100205273574,0.15126002411081102,0.17359170842817992,0.25212246235746927,0.32076523769299753,0.37688364351453624,0.39797434082441535,0.3889607359274015,0.41933794722208495,0.4403432118639096,0.505960315893754,0.5742319601389086,0.5534788081032381,0.5440163860105234,0.582455382291932,0.6478070430412617,0.7049573716403342,0.7123635514272235,0.7554216834234917,0.7443068139003096,0.7227089790993194,0.7020834911122619,0.6924030310669955,0.6446987532280005,0.6280546109948787,0.636491983311749,0.6061555831199292,0.5379487189319491,0.4896090624949853,0.4493796358087496,0.377087433156885,0.36137064696085275,0.39338238366287615,0.39549334710960965,0.3254511846034647,0.2962891235664037,0.31567991922994443,0.2904116088068974,0.30395940030408186,0.27032284211255675,0.26325640419538293,0.26325640419538293],\"type\":\"scatter\"},{\"marker\":{\"color\":\"red\",\"size\":11},\"mode\":\"markers\",\"name\":\"Anomalies\",\"x\":[\"2020-09-01T00:00:00\",\"2020-10-01T00:00:00\",\"2020-11-01T00:00:00\",\"2021-08-01T00:00:00\",\"2022-04-01T00:00:00\",\"2022-05-01T00:00:00\",\"2023-02-01T00:00:00\"],\"y\":[0.11298824098736215,0.12243100205273574,0.15126002411081102,0.505960315893754,0.7554216834234917,0.7443068139003096,0.4896090624949853],\"type\":\"scatter\"}],                        {\"height\":600,\"showlegend\":true,\"template\":{\"data\":{\"barpolar\":[{\"marker\":{\"line\":{\"color\":\"#E5ECF6\",\"width\":0.5},\"pattern\":{\"fillmode\":\"overlay\",\"size\":10,\"solidity\":0.2}},\"type\":\"barpolar\"}],\"bar\":[{\"error_x\":{\"color\":\"#2a3f5f\"},\"error_y\":{\"color\":\"#2a3f5f\"},\"marker\":{\"line\":{\"color\":\"#E5ECF6\",\"width\":0.5},\"pattern\":{\"fillmode\":\"overlay\",\"size\":10,\"solidity\":0.2}},\"type\":\"bar\"}],\"carpet\":[{\"aaxis\":{\"endlinecolor\":\"#2a3f5f\",\"gridcolor\":\"white\",\"linecolor\":\"white\",\"minorgridcolor\":\"white\",\"startlinecolor\":\"#2a3f5f\"},\"baxis\":{\"endlinecolor\":\"#2a3f5f\",\"gridcolor\":\"white\",\"linecolor\":\"white\",\"minorgridcolor\":\"white\",\"startlinecolor\":\"#2a3f5f\"},\"type\":\"carpet\"}],\"choropleth\":[{\"colorbar\":{\"outlinewidth\":0,\"ticks\":\"\"},\"type\":\"choropleth\"}],\"contourcarpet\":[{\"colorbar\":{\"outlinewidth\":0,\"ticks\":\"\"},\"type\":\"contourcarpet\"}],\"contour\":[{\"colorbar\":{\"outlinewidth\":0,\"ticks\":\"\"},\"colorscale\":[[0.0,\"#0d0887\"],[0.1111111111111111,\"#46039f\"],[0.2222222222222222,\"#7201a8\"],[0.3333333333333333,\"#9c179e\"],[0.4444444444444444,\"#bd3786\"],[0.5555555555555556,\"#d8576b\"],[0.6666666666666666,\"#ed7953\"],[0.7777777777777778,\"#fb9f3a\"],[0.8888888888888888,\"#fdca26\"],[1.0,\"#f0f921\"]],\"type\":\"contour\"}],\"heatmapgl\":[{\"colorbar\":{\"outlinewidth\":0,\"ticks\":\"\"},\"colorscale\":[[0.0,\"#0d0887\"],[0.1111111111111111,\"#46039f\"],[0.2222222222222222,\"#7201a8\"],[0.3333333333333333,\"#9c179e\"],[0.4444444444444444,\"#bd3786\"],[0.5555555555555556,\"#d8576b\"],[0.6666666666666666,\"#ed7953\"],[0.7777777777777778,\"#fb9f3a\"],[0.8888888888888888,\"#fdca26\"],[1.0,\"#f0f921\"]],\"type\":\"heatmapgl\"}],\"heatmap\":[{\"colorbar\":{\"outlinewidth\":0,\"ticks\":\"\"},\"colorscale\":[[0.0,\"#0d0887\"],[0.1111111111111111,\"#46039f\"],[0.2222222222222222,\"#7201a8\"],[0.3333333333333333,\"#9c179e\"],[0.4444444444444444,\"#bd3786\"],[0.5555555555555556,\"#d8576b\"],[0.6666666666666666,\"#ed7953\"],[0.7777777777777778,\"#fb9f3a\"],[0.8888888888888888,\"#fdca26\"],[1.0,\"#f0f921\"]],\"type\":\"heatmap\"}],\"histogram2dcontour\":[{\"colorbar\":{\"outlinewidth\":0,\"ticks\":\"\"},\"colorscale\":[[0.0,\"#0d0887\"],[0.1111111111111111,\"#46039f\"],[0.2222222222222222,\"#7201a8\"],[0.3333333333333333,\"#9c179e\"],[0.4444444444444444,\"#bd3786\"],[0.5555555555555556,\"#d8576b\"],[0.6666666666666666,\"#ed7953\"],[0.7777777777777778,\"#fb9f3a\"],[0.8888888888888888,\"#fdca26\"],[1.0,\"#f0f921\"]],\"type\":\"histogram2dcontour\"}],\"histogram2d\":[{\"colorbar\":{\"outlinewidth\":0,\"ticks\":\"\"},\"colorscale\":[[0.0,\"#0d0887\"],[0.1111111111111111,\"#46039f\"],[0.2222222222222222,\"#7201a8\"],[0.3333333333333333,\"#9c179e\"],[0.4444444444444444,\"#bd3786\"],[0.5555555555555556,\"#d8576b\"],[0.6666666666666666,\"#ed7953\"],[0.7777777777777778,\"#fb9f3a\"],[0.8888888888888888,\"#fdca26\"],[1.0,\"#f0f921\"]],\"type\":\"histogram2d\"}],\"histogram\":[{\"marker\":{\"pattern\":{\"fillmode\":\"overlay\",\"size\":10,\"solidity\":0.2}},\"type\":\"histogram\"}],\"mesh3d\":[{\"colorbar\":{\"outlinewidth\":0,\"ticks\":\"\"},\"type\":\"mesh3d\"}],\"parcoords\":[{\"line\":{\"colorbar\":{\"outlinewidth\":0,\"ticks\":\"\"}},\"type\":\"parcoords\"}],\"pie\":[{\"automargin\":true,\"type\":\"pie\"}],\"scatter3d\":[{\"line\":{\"colorbar\":{\"outlinewidth\":0,\"ticks\":\"\"}},\"marker\":{\"colorbar\":{\"outlinewidth\":0,\"ticks\":\"\"}},\"type\":\"scatter3d\"}],\"scattercarpet\":[{\"marker\":{\"colorbar\":{\"outlinewidth\":0,\"ticks\":\"\"}},\"type\":\"scattercarpet\"}],\"scattergeo\":[{\"marker\":{\"colorbar\":{\"outlinewidth\":0,\"ticks\":\"\"}},\"type\":\"scattergeo\"}],\"scattergl\":[{\"marker\":{\"colorbar\":{\"outlinewidth\":0,\"ticks\":\"\"}},\"type\":\"scattergl\"}],\"scattermapbox\":[{\"marker\":{\"colorbar\":{\"outlinewidth\":0,\"ticks\":\"\"}},\"type\":\"scattermapbox\"}],\"scatterpolargl\":[{\"marker\":{\"colorbar\":{\"outlinewidth\":0,\"ticks\":\"\"}},\"type\":\"scatterpolargl\"}],\"scatterpolar\":[{\"marker\":{\"colorbar\":{\"outlinewidth\":0,\"ticks\":\"\"}},\"type\":\"scatterpolar\"}],\"scatter\":[{\"fillpattern\":{\"fillmode\":\"overlay\",\"size\":10,\"solidity\":0.2},\"type\":\"scatter\"}],\"scatterternary\":[{\"marker\":{\"colorbar\":{\"outlinewidth\":0,\"ticks\":\"\"}},\"type\":\"scatterternary\"}],\"surface\":[{\"colorbar\":{\"outlinewidth\":0,\"ticks\":\"\"},\"colorscale\":[[0.0,\"#0d0887\"],[0.1111111111111111,\"#46039f\"],[0.2222222222222222,\"#7201a8\"],[0.3333333333333333,\"#9c179e\"],[0.4444444444444444,\"#bd3786\"],[0.5555555555555556,\"#d8576b\"],[0.6666666666666666,\"#ed7953\"],[0.7777777777777778,\"#fb9f3a\"],[0.8888888888888888,\"#fdca26\"],[1.0,\"#f0f921\"]],\"type\":\"surface\"}],\"table\":[{\"cells\":{\"fill\":{\"color\":\"#EBF0F8\"},\"line\":{\"color\":\"white\"}},\"header\":{\"fill\":{\"color\":\"#C8D4E3\"},\"line\":{\"color\":\"white\"}},\"type\":\"table\"}]},\"layout\":{\"annotationdefaults\":{\"arrowcolor\":\"#2a3f5f\",\"arrowhead\":0,\"arrowwidth\":1},\"autotypenumbers\":\"strict\",\"coloraxis\":{\"colorbar\":{\"outlinewidth\":0,\"ticks\":\"\"}},\"colorscale\":{\"diverging\":[[0,\"#8e0152\"],[0.1,\"#c51b7d\"],[0.2,\"#de77ae\"],[0.3,\"#f1b6da\"],[0.4,\"#fde0ef\"],[0.5,\"#f7f7f7\"],[0.6,\"#e6f5d0\"],[0.7,\"#b8e186\"],[0.8,\"#7fbc41\"],[0.9,\"#4d9221\"],[1,\"#276419\"]],\"sequential\":[[0.0,\"#0d0887\"],[0.1111111111111111,\"#46039f\"],[0.2222222222222222,\"#7201a8\"],[0.3333333333333333,\"#9c179e\"],[0.4444444444444444,\"#bd3786\"],[0.5555555555555556,\"#d8576b\"],[0.6666666666666666,\"#ed7953\"],[0.7777777777777778,\"#fb9f3a\"],[0.8888888888888888,\"#fdca26\"],[1.0,\"#f0f921\"]],\"sequentialminus\":[[0.0,\"#0d0887\"],[0.1111111111111111,\"#46039f\"],[0.2222222222222222,\"#7201a8\"],[0.3333333333333333,\"#9c179e\"],[0.4444444444444444,\"#bd3786\"],[0.5555555555555556,\"#d8576b\"],[0.6666666666666666,\"#ed7953\"],[0.7777777777777778,\"#fb9f3a\"],[0.8888888888888888,\"#fdca26\"],[1.0,\"#f0f921\"]]},\"colorway\":[\"#636efa\",\"#EF553B\",\"#00cc96\",\"#ab63fa\",\"#FFA15A\",\"#19d3f3\",\"#FF6692\",\"#B6E880\",\"#FF97FF\",\"#FECB52\"],\"font\":{\"color\":\"#2a3f5f\"},\"geo\":{\"bgcolor\":\"white\",\"lakecolor\":\"white\",\"landcolor\":\"#E5ECF6\",\"showlakes\":true,\"showland\":true,\"subunitcolor\":\"white\"},\"hoverlabel\":{\"align\":\"left\"},\"hovermode\":\"closest\",\"mapbox\":{\"style\":\"light\"},\"paper_bgcolor\":\"white\",\"plot_bgcolor\":\"#E5ECF6\",\"polar\":{\"angularaxis\":{\"gridcolor\":\"white\",\"linecolor\":\"white\",\"ticks\":\"\"},\"bgcolor\":\"#E5ECF6\",\"radialaxis\":{\"gridcolor\":\"white\",\"linecolor\":\"white\",\"ticks\":\"\"}},\"scene\":{\"xaxis\":{\"backgroundcolor\":\"#E5ECF6\",\"gridcolor\":\"white\",\"gridwidth\":2,\"linecolor\":\"white\",\"showbackground\":true,\"ticks\":\"\",\"zerolinecolor\":\"white\"},\"yaxis\":{\"backgroundcolor\":\"#E5ECF6\",\"gridcolor\":\"white\",\"gridwidth\":2,\"linecolor\":\"white\",\"showbackground\":true,\"ticks\":\"\",\"zerolinecolor\":\"white\"},\"zaxis\":{\"backgroundcolor\":\"#E5ECF6\",\"gridcolor\":\"white\",\"gridwidth\":2,\"linecolor\":\"white\",\"showbackground\":true,\"ticks\":\"\",\"zerolinecolor\":\"white\"}},\"shapedefaults\":{\"line\":{\"color\":\"#2a3f5f\"}},\"ternary\":{\"aaxis\":{\"gridcolor\":\"white\",\"linecolor\":\"white\",\"ticks\":\"\"},\"baxis\":{\"gridcolor\":\"white\",\"linecolor\":\"white\",\"ticks\":\"\"},\"bgcolor\":\"#E5ECF6\",\"caxis\":{\"gridcolor\":\"white\",\"linecolor\":\"white\",\"ticks\":\"\"}},\"title\":{\"x\":0.05},\"xaxis\":{\"automargin\":true,\"gridcolor\":\"white\",\"linecolor\":\"white\",\"ticks\":\"\",\"title\":{\"standoff\":15},\"zerolinecolor\":\"white\",\"zerolinewidth\":2},\"yaxis\":{\"automargin\":true,\"gridcolor\":\"white\",\"linecolor\":\"white\",\"ticks\":\"\",\"title\":{\"standoff\":15},\"zerolinecolor\":\"white\",\"zerolinewidth\":2}}},\"title\":{\"text\":\"Anomaly Detection for CPI_Composite\"},\"xaxis\":{\"domain\":[0,1]},\"yaxis\":{\"domain\":[0.4,1]}},                        {\"responsive\": true}                    ).then(function(){\n",
       "                            \n",
       "var gd = document.getElementById('105be7cc-947c-4cdb-b8f5-22ff8fcd8053');\n",
       "var x = new MutationObserver(function (mutations, observer) {{\n",
       "        var display = window.getComputedStyle(gd).display;\n",
       "        if (!display || display === 'none') {{\n",
       "            console.log([gd, 'removed!']);\n",
       "            Plotly.purge(gd);\n",
       "            observer.disconnect();\n",
       "        }}\n",
       "}});\n",
       "\n",
       "// Listen for the removal of the full notebook cells\n",
       "var notebookContainer = gd.closest('#notebook-container');\n",
       "if (notebookContainer) {{\n",
       "    x.observe(notebookContainer, {childList: true});\n",
       "}}\n",
       "\n",
       "// Listen for the clearing of the current output cell\n",
       "var outputEl = gd.closest('.output');\n",
       "if (outputEl) {{\n",
       "    x.observe(outputEl, {childList: true});\n",
       "}}\n",
       "\n",
       "                        })                };                });            </script>        </div>"
      ]
     },
     "metadata": {},
     "output_type": "display_data"
    }
   ],
   "source": [
    "df_plot = detect_anomalies(df_sub, 'CPI_Composite')\n",
    "\n",
    "plot_anomalies(df_sub, 'Period', 'CPI_Composite', 'anomaly', 'Anomaly Detection for CPI_Composite')\n"
   ]
  },
  {
   "cell_type": "code",
   "execution_count": 145,
   "metadata": {},
   "outputs": [
    {
     "data": {
      "image/png": "[encoded data removed]",
      "text/plain": [
       "<Figure size 1200x600 with 2 Axes>"
      ]
     },
     "metadata": {},
     "output_type": "display_data"
    }
   ],
   "source": [
    "import pandas as pd\n",
    "import matplotlib.pyplot as plt\n",
    "import matplotlib.dates as mdates\n",
    "\n",
    "# Assuming your data is in a DataFrame called 'df' with columns 'Date', 'SodaAshPrice', and 'EnergyIndex'\n",
    "# If it's not, you'll need to load your data into a DataFrame first\n",
    "\n",
    "# Convert the 'Date' column to datetime if it's not already\n",
    "df_sub['Period'] = pd.to_datetime(df_sub['Period'])\n",
    "\n",
    "# Create the figure and axis objects\n",
    "fig, ax1 = plt.subplots(figsize=(12, 6))\n",
    "\n",
    "# Plot Soda Ash Price on the primary y-axis\n",
    "color = 'tab:blue'\n",
    "ax1.set_xlabel('Period')\n",
    "ax1.set_ylabel('Soda Ash Price', color=color)\n",
    "ax1.plot(df_sub['Period'], df_sub['Target_SodaAshLightChinaSpotExportAverageFOBChinaUSperMetricTon'], color=color, label='Soda Ash Price')\n",
    "ax1.tick_params(axis='y', labelcolor=color)\n",
    "\n",
    "# Create a secondary y-axis and plot Energy Index\n",
    "ax2 = ax1.twinx()\n",
    "color = 'tab:orange'\n",
    "ax2.set_ylabel('CPI_Composite', color=color)\n",
    "ax2.plot(df_sub['Period'], df_sub['CPI_Composite'], color=color, label='CPI_Composite')\n",
    "ax2.tick_params(axis='y', labelcolor=color)\n",
    "\n",
    "# Set the title\n",
    "plt.title('Soda Ash Price vs CPI_Composite')\n",
    "\n",
    "# Format the x-axis to show dates nicely\n",
    "ax1.xaxis.set_major_formatter(mdates.DateFormatter('%Y'))\n",
    "ax1.xaxis.set_major_locator(mdates.YearLocator())\n",
    "plt.xticks(rotation=45)\n",
    "\n",
    "# Add a legend\n",
    "lines1, labels1 = ax1.get_legend_handles_labels()\n",
    "lines2, labels2 = ax2.get_legend_handles_labels()\n",
    "ax1.legend(lines1 + lines2, labels1 + labels2, loc='upper left')\n",
    "\n",
    "# Adjust layout and display the plot\n",
    "fig.tight_layout()\n",
    "plt.show()"
   ]
  },
  {
   "cell_type": "code",
   "execution_count": 103,
   "metadata": {},
   "outputs": [],
   "source": [
    "# Energy Index\n",
    "def normalize(data):\n",
    "    return (data - data.min()) / (data.max() - data.min())\n",
    "\n",
    "# Normalize the components\n",
    "df_sub['CoalIndex_norm'] = normalize(df_sub['CoalIndex'])\n",
    "df_sub['Coke_norm'] = normalize(df_sub['Coke'])\n",
    "df_sub['NaturalGasIndex_norm'] = normalize(df_sub['NaturalGasIndex'])\n",
    "\n",
    "# Calculate the energy index\n",
    "df_sub['EnergyIndex'] = (\n",
    "    df_sub['CoalIndex_norm'] * 1/3 +\n",
    "    df_sub['Coke_norm'] * 1/3 +\n",
    "    df_sub['NaturalGasIndex_norm'] * 1/3\n",
    ")"
   ]
  },
  {
   "cell_type": "code",
   "execution_count": 118,
   "metadata": {},
   "outputs": [],
   "source": [
    "# import matplotlib.pyplot as plt\n",
    "\n",
    "# plt.figure(figsize=(12, 6))\n",
    "# # plt.plot(df_sub['Period'], df_sub['Target_SodaAshLightChinaSpotExportAverageFOBChinaUSperMetricTon'], label='Soda Ash Price')\n",
    "# plt.plot(df_sub['Period'], df_sub['EnergyIndex'], label='Energy Index')\n",
    "# plt.legend()\n",
    "# plt.title('Soda Ash Price vs Energy Index')\n",
    "# plt.xlabel('Date')\n",
    "# plt.ylabel('Normalized Value')\n",
    "# plt.show()"
   ]
  },
  {
   "cell_type": "code",
   "execution_count": 117,
   "metadata": {},
   "outputs": [
    {
     "data": {
      "image/png": "[encoded data removed]",
      "text/plain": [
       "<Figure size 1200x600 with 2 Axes>"
      ]
     },
     "metadata": {},
     "output_type": "display_data"
    }
   ],
   "source": [
    "import pandas as pd\n",
    "import matplotlib.pyplot as plt\n",
    "import matplotlib.dates as mdates\n",
    "\n",
    "# Assuming your data is in a DataFrame called 'df' with columns 'Date', 'SodaAshPrice', and 'EnergyIndex'\n",
    "# If it's not, you'll need to load your data into a DataFrame first\n",
    "\n",
    "# Convert the 'Date' column to datetime if it's not already\n",
    "df_sub['Period'] = pd.to_datetime(df_sub['Period'])\n",
    "\n",
    "# Create the figure and axis objects\n",
    "fig, ax1 = plt.subplots(figsize=(12, 6))\n",
    "\n",
    "# Plot Soda Ash Price on the primary y-axis\n",
    "color = 'tab:blue'\n",
    "ax1.set_xlabel('Period')\n",
    "ax1.set_ylabel('Soda Ash Price', color=color)\n",
    "ax1.plot(df_sub['Period'], df_sub['Target_SodaAshLightChinaSpotExportAverageFOBChinaUSperMetricTon'], color=color, label='Soda Ash Price')\n",
    "ax1.tick_params(axis='y', labelcolor=color)\n",
    "\n",
    "# Create a secondary y-axis and plot Energy Index\n",
    "ax2 = ax1.twinx()\n",
    "color = 'tab:orange'\n",
    "ax2.set_ylabel('Energy Index', color=color)\n",
    "ax2.plot(df_sub['Period'], df_sub['EnergyIndex'], color=color, label='Energy Index')\n",
    "ax2.tick_params(axis='y', labelcolor=color)\n",
    "\n",
    "# Set the title\n",
    "plt.title('Soda Ash Price vs Energy Index')\n",
    "\n",
    "# Format the x-axis to show dates nicely\n",
    "ax1.xaxis.set_major_formatter(mdates.DateFormatter('%Y'))\n",
    "ax1.xaxis.set_major_locator(mdates.YearLocator())\n",
    "plt.xticks(rotation=45)\n",
    "\n",
    "# Add a legend\n",
    "lines1, labels1 = ax1.get_legend_handles_labels()\n",
    "lines2, labels2 = ax2.get_legend_handles_labels()\n",
    "ax1.legend(lines1 + lines2, labels1 + labels2, loc='upper left')\n",
    "\n",
    "# Adjust layout and display the plot\n",
    "fig.tight_layout()\n",
    "plt.show()"
   ]
  },
  {
   "cell_type": "code",
   "execution_count": 119,
   "metadata": {},
   "outputs": [
    {
     "name": "stderr",
     "output_type": "stream",
     "text": [
      "c:\\Users\\249881\\AppData\\Local\\anaconda3\\Lib\\site-packages\\sklearn\\base.py:439: UserWarning:\n",
      "\n",
      "X does not have valid feature names, but IsolationForest was fitted with feature names\n",
      "\n",
      "c:\\Users\\249881\\AppData\\Local\\anaconda3\\Lib\\site-packages\\_plotly_utils\\basevalidators.py:106: FutureWarning:\n",
      "\n",
      "The behavior of DatetimeProperties.to_pydatetime is deprecated, in a future version this will return a Series containing python datetime objects instead of an ndarray. To retain the old behavior, call `np.array` on the result\n",
      "\n"
     ]
    },
    {
     "data": {
      "application/vnd.plotly.v1+json": {
       "config": {
        "linkText": "Export to plot.ly",
        "plotlyServerURL": "https://plot.ly",
        "showLink": false
       },
       "data": [
        {
         "cells": {
          "align": "center",
          "fill": {
           "color": [
            "rgba(228, 222, 249, 0.65)",
            "rgba(228, 222, 249, 0.65)",
            "rgba(228, 222, 249, 0.65)",
            "rgba(228, 222, 249, 0.65)",
            "rgba(228, 222, 249, 0.65)",
            "rgba(228, 222, 249, 0.65)",
            "rgba(228, 222, 249, 0.65)",
            "rgba(228, 222, 249, 0.65)",
            "rgba(228, 222, 249, 0.65)",
            "rgba(228, 222, 249, 0.65)",
            "rgba(228, 222, 249, 0.65)",
            "rgba(228, 222, 249, 0.65)",
            "rgba(228, 222, 249, 0.65)",
            "rgba(228, 222, 249, 0.65)",
            "rgba(228, 222, 249, 0.65)",
            "rgba(228, 222, 249, 0.65)",
            "rgba(228, 222, 249, 0.65)",
            "rgba(228, 222, 249, 0.65)",
            "rgba(228, 222, 249, 0.65)",
            "rgba(228, 222, 249, 0.65)",
            "rgba(228, 222, 249, 0.65)",
            "rgba(228, 222, 249, 0.65)",
            "rgba(228, 222, 249, 0.65)",
            "rgba(228, 222, 249, 0.65)",
            "rgba(228, 222, 249, 0.65)",
            "red",
            "red",
            "rgba(228, 222, 249, 0.65)",
            "rgba(228, 222, 249, 0.65)",
            "rgba(228, 222, 249, 0.65)",
            "rgba(228, 222, 249, 0.65)",
            "rgba(228, 222, 249, 0.65)",
            "rgba(228, 222, 249, 0.65)",
            "rgba(228, 222, 249, 0.65)",
            "rgba(228, 222, 249, 0.65)",
            "rgba(228, 222, 249, 0.65)",
            "rgba(228, 222, 249, 0.65)",
            "rgba(228, 222, 249, 0.65)",
            "rgba(228, 222, 249, 0.65)",
            "rgba(228, 222, 249, 0.65)",
            "rgba(228, 222, 249, 0.65)",
            "rgba(228, 222, 249, 0.65)",
            "rgba(228, 222, 249, 0.65)",
            "rgba(228, 222, 249, 0.65)",
            "rgba(228, 222, 249, 0.65)",
            "rgba(228, 222, 249, 0.65)",
            "rgba(228, 222, 249, 0.65)",
            "rgba(228, 222, 249, 0.65)",
            "rgba(228, 222, 249, 0.65)",
            "rgba(228, 222, 249, 0.65)",
            "rgba(228, 222, 249, 0.65)",
            "rgba(228, 222, 249, 0.65)",
            "rgba(228, 222, 249, 0.65)",
            "rgba(228, 222, 249, 0.65)",
            "rgba(228, 222, 249, 0.65)",
            "rgba(228, 222, 249, 0.65)",
            "rgba(228, 222, 249, 0.65)",
            "rgba(228, 222, 249, 0.65)",
            "rgba(228, 222, 249, 0.65)",
            "rgba(228, 222, 249, 0.65)",
            "rgba(228, 222, 249, 0.65)",
            "rgba(228, 222, 249, 0.65)",
            "rgba(228, 222, 249, 0.65)",
            "rgba(228, 222, 249, 0.65)",
            "rgba(228, 222, 249, 0.65)",
            "rgba(228, 222, 249, 0.65)",
            "rgba(228, 222, 249, 0.65)",
            "rgba(228, 222, 249, 0.65)",
            "rgba(228, 222, 249, 0.65)",
            "rgba(228, 222, 249, 0.65)",
            "rgba(228, 222, 249, 0.65)",
            "rgba(228, 222, 249, 0.65)",
            "rgba(228, 222, 249, 0.65)",
            "rgba(228, 222, 249, 0.65)",
            "rgba(228, 222, 249, 0.65)",
            "rgba(228, 222, 249, 0.65)",
            "rgba(228, 222, 249, 0.65)",
            "rgba(228, 222, 249, 0.65)",
            "rgba(228, 222, 249, 0.65)",
            "rgba(228, 222, 249, 0.65)",
            "rgba(228, 222, 249, 0.65)",
            "rgba(228, 222, 249, 0.65)",
            "rgba(228, 222, 249, 0.65)",
            "rgba(228, 222, 249, 0.65)",
            "rgba(228, 222, 249, 0.65)",
            "rgba(228, 222, 249, 0.65)",
            "rgba(228, 222, 249, 0.65)",
            "rgba(228, 222, 249, 0.65)",
            "rgba(228, 222, 249, 0.65)",
            "rgba(228, 222, 249, 0.65)",
            "rgba(228, 222, 249, 0.65)",
            "rgba(228, 222, 249, 0.65)",
            "rgba(228, 222, 249, 0.65)",
            "rgba(228, 222, 249, 0.65)",
            "rgba(228, 222, 249, 0.65)",
            "rgba(228, 222, 249, 0.65)",
            "rgba(228, 222, 249, 0.65)",
            "rgba(228, 222, 249, 0.65)",
            "rgba(228, 222, 249, 0.65)",
            "red",
            "red",
            "red",
            "red",
            "rgba(228, 222, 249, 0.65)",
            "rgba(228, 222, 249, 0.65)",
            "rgba(228, 222, 249, 0.65)",
            "rgba(228, 222, 249, 0.65)",
            "rgba(228, 222, 249, 0.65)",
            "rgba(228, 222, 249, 0.65)",
            "red",
            "rgba(228, 222, 249, 0.65)",
            "rgba(228, 222, 249, 0.65)",
            "rgba(228, 222, 249, 0.65)",
            "rgba(228, 222, 249, 0.65)",
            "rgba(228, 222, 249, 0.65)",
            "rgba(228, 222, 249, 0.65)",
            "rgba(228, 222, 249, 0.65)",
            "rgba(228, 222, 249, 0.65)",
            "rgba(228, 222, 249, 0.65)",
            "rgba(228, 222, 249, 0.65)",
            "rgba(228, 222, 249, 0.65)",
            "rgba(228, 222, 249, 0.65)",
            "rgba(228, 222, 249, 0.65)"
           ]
          },
          "font": {
           "size": 12
          },
          "values": [
           [
            "2016-02-01",
            "2016-03-01",
            "2022-04-01",
            "2022-05-01",
            "2022-06-01",
            "2022-07-01",
            "2023-02-01"
           ],
           [
            0.018,
            0.02,
            0.762,
            0.888,
            0.982,
            0.826,
            0.425
           ]
          ]
         },
         "columnwidth": [
          1,
          2
         ],
         "domain": {
          "x": [
           0,
           1
          ],
          "y": [
           0,
           0.3
          ]
         },
         "header": {
          "fill": {
           "color": "#d562be"
          },
          "font": {
           "size": 14
          },
          "values": [
           "<b>Date</b>",
           "<b>Anomaly Values</b>"
          ]
         },
         "type": "table"
        },
        {
         "line": {
          "color": "blue"
         },
         "mode": "lines+markers",
         "name": "Actuals",
         "type": "scatter",
         "x": [
          "2014-01-01T00:00:00",
          "2014-02-01T00:00:00",
          "2014-03-01T00:00:00",
          "2014-04-01T00:00:00",
          "2014-05-01T00:00:00",
          "2014-06-01T00:00:00",
          "2014-07-01T00:00:00",
          "2014-08-01T00:00:00",
          "2014-09-01T00:00:00",
          "2014-10-01T00:00:00",
          "2014-11-01T00:00:00",
          "2014-12-01T00:00:00",
          "2015-01-01T00:00:00",
          "2015-02-01T00:00:00",
          "2015-03-01T00:00:00",
          "2015-04-01T00:00:00",
          "2015-05-01T00:00:00",
          "2015-06-01T00:00:00",
          "2015-07-01T00:00:00",
          "2015-08-01T00:00:00",
          "2015-09-01T00:00:00",
          "2015-10-01T00:00:00",
          "2015-11-01T00:00:00",
          "2015-12-01T00:00:00",
          "2016-01-01T00:00:00",
          "2016-02-01T00:00:00",
          "2016-03-01T00:00:00",
          "2016-04-01T00:00:00",
          "2016-05-01T00:00:00",
          "2016-06-01T00:00:00",
          "2016-07-01T00:00:00",
          "2016-08-01T00:00:00",
          "2016-09-01T00:00:00",
          "2016-10-01T00:00:00",
          "2016-11-01T00:00:00",
          "2016-12-01T00:00:00",
          "2017-01-01T00:00:00",
          "2017-02-01T00:00:00",
          "2017-03-01T00:00:00",
          "2017-04-01T00:00:00",
          "2017-05-01T00:00:00",
          "2017-06-01T00:00:00",
          "2017-07-01T00:00:00",
          "2017-08-01T00:00:00",
          "2017-09-01T00:00:00",
          "2017-10-01T00:00:00",
          "2017-11-01T00:00:00",
          "2017-12-01T00:00:00",
          "2018-01-01T00:00:00",
          "2018-02-01T00:00:00",
          "2018-03-01T00:00:00",
          "2018-04-01T00:00:00",
          "2018-05-01T00:00:00",
          "2018-06-01T00:00:00",
          "2018-07-01T00:00:00",
          "2018-08-01T00:00:00",
          "2018-09-01T00:00:00",
          "2018-10-01T00:00:00",
          "2018-11-01T00:00:00",
          "2018-12-01T00:00:00",
          "2019-01-01T00:00:00",
          "2019-02-01T00:00:00",
          "2019-03-01T00:00:00",
          "2019-04-01T00:00:00",
          "2019-05-01T00:00:00",
          "2019-06-01T00:00:00",
          "2019-07-01T00:00:00",
          "2019-08-01T00:00:00",
          "2019-09-01T00:00:00",
          "2019-10-01T00:00:00",
          "2019-11-01T00:00:00",
          "2019-12-01T00:00:00",
          "2020-01-01T00:00:00",
          "2020-02-01T00:00:00",
          "2020-03-01T00:00:00",
          "2020-04-01T00:00:00",
          "2020-05-01T00:00:00",
          "2020-06-01T00:00:00",
          "2020-07-01T00:00:00",
          "2020-08-01T00:00:00",
          "2020-09-01T00:00:00",
          "2020-10-01T00:00:00",
          "2020-11-01T00:00:00",
          "2020-12-01T00:00:00",
          "2021-01-01T00:00:00",
          "2021-02-01T00:00:00",
          "2021-03-01T00:00:00",
          "2021-04-01T00:00:00",
          "2021-05-01T00:00:00",
          "2021-06-01T00:00:00",
          "2021-07-01T00:00:00",
          "2021-08-01T00:00:00",
          "2021-09-01T00:00:00",
          "2021-10-01T00:00:00",
          "2021-11-01T00:00:00",
          "2021-12-01T00:00:00",
          "2022-01-01T00:00:00",
          "2022-02-01T00:00:00",
          "2022-03-01T00:00:00",
          "2022-04-01T00:00:00",
          "2022-05-01T00:00:00",
          "2022-06-01T00:00:00",
          "2022-07-01T00:00:00",
          "2022-08-01T00:00:00",
          "2022-09-01T00:00:00",
          "2022-10-01T00:00:00",
          "2022-11-01T00:00:00",
          "2022-12-01T00:00:00",
          "2023-01-01T00:00:00",
          "2023-02-01T00:00:00",
          "2023-03-01T00:00:00",
          "2023-04-01T00:00:00",
          "2023-05-01T00:00:00",
          "2023-06-01T00:00:00",
          "2023-07-01T00:00:00",
          "2023-08-01T00:00:00",
          "2023-09-01T00:00:00",
          "2023-10-01T00:00:00",
          "2023-11-01T00:00:00",
          "2023-12-01T00:00:00",
          "2024-01-01T00:00:00",
          "2024-02-01T00:00:00",
          "2024-03-01T00:00:00"
         ],
         "y": [
          0.14057232359608163,
          0.13891970163128275,
          0.1316289965182459,
          0.12455121109853687,
          0.12405300822042123,
          0.12211702543850052,
          0.10899077892384043,
          0.10899679076208377,
          0.10516354644090056,
          0.10232228599782303,
          0.10507269320354007,
          0.10227715412129096,
          0.10606116380118463,
          0.10741399089566378,
          0.10219838309486515,
          0.07127882714225756,
          0.07305838180831975,
          0.06953597297642039,
          0.05596253923638472,
          0.05510690464880459,
          0.051572021856905015,
          0.034233723827911365,
          0.033414930547358286,
          0.03081004481691415,
          0.02437674435036565,
          0.017960950385989986,
          0.01987755363106359,
          0.03401450922178367,
          0.035396738723020585,
          0.039188642590959916,
          0.06607340175289739,
          0.07233963903614386,
          0.07477846519861245,
          0.19600689839849847,
          0.21197560842648433,
          0.19346170494116327,
          0.16451947500055836,
          0.1614828534030809,
          0.15957909873944906,
          0.13677197801203772,
          0.12986633319486304,
          0.1373213072591633,
          0.21432542870998694,
          0.2249307096959557,
          0.2329378796894537,
          0.2576274163295616,
          0.25941956841666053,
          0.26171335752948727,
          0.25310271807889473,
          0.24515261431949645,
          0.2445836816888128,
          0.2409971699169598,
          0.248912808346762,
          0.25875960672929615,
          0.29161263696950873,
          0.2832051789817707,
          0.285385952662299,
          0.2843159906754964,
          0.2694008524741025,
          0.26203298021034316,
          0.21970913004338227,
          0.21081043989910558,
          0.2045928542700039,
          0.18460750383648156,
          0.183719025866108,
          0.17480332792408332,
          0.16862808738930407,
          0.16297820331246354,
          0.16692978342819859,
          0.15050710410070647,
          0.15163130584360549,
          0.1484928718236931,
          0.1615760101992339,
          0.1546207207024633,
          0.1437719066605901,
          0.12093138074245,
          0.11694665773513861,
          0.12590351694315574,
          0.14733640799630823,
          0.15639258811554307,
          0.15935310073247916,
          0.2119887942232474,
          0.24016454769092122,
          0.23409951477262944,
          0.2990218816639949,
          0.3042661047976323,
          0.31990578880854176,
          0.32127027401391434,
          0.3441615982763735,
          0.3763833485501426,
          0.5112528080846208,
          0.5732145562524399,
          0.5776453496359721,
          0.6876790827794809,
          0.5741927286461211,
          0.5748622915186086,
          0.6357279602084366,
          0.6365224477547495,
          0.7159220940124138,
          0.7617978008748173,
          0.8880652995672446,
          0.9817462172478832,
          0.8256845176266931,
          0.6958932673360514,
          0.7021127423192994,
          0.6663936308545968,
          0.5463024498605942,
          0.5554044996400507,
          0.5163043610321626,
          0.4252019107747718,
          0.3835547136015832,
          0.31950242122777645,
          0.2997979346184746,
          0.2807234368709394,
          0.2669758944029585,
          0.29461889717242506,
          0.30857956853898405,
          0.3159351794370349,
          0.2885479635256806,
          0.27900762549666336,
          0.2603858324603258,
          0.25715762908090894,
          0.2643624225012863
         ]
        },
        {
         "marker": {
          "color": "red",
          "size": 11
         },
         "mode": "markers",
         "name": "Anomalies",
         "type": "scatter",
         "x": [
          "2016-02-01T00:00:00",
          "2016-03-01T00:00:00",
          "2022-04-01T00:00:00",
          "2022-05-01T00:00:00",
          "2022-06-01T00:00:00",
          "2022-07-01T00:00:00",
          "2023-02-01T00:00:00"
         ],
         "y": [
          0.017960950385989986,
          0.01987755363106359,
          0.7617978008748173,
          0.8880652995672446,
          0.9817462172478832,
          0.8256845176266931,
          0.4252019107747718
         ]
        }
       ],
       "layout": {
        "height": 600,
        "showlegend": true,
        "template": {
         "data": {
          "bar": [
           {
            "error_x": {
             "color": "#2a3f5f"
            },
            "error_y": {
             "color": "#2a3f5f"
            },
            "marker": {
             "line": {
              "color": "#E5ECF6",
              "width": 0.5
             },
             "pattern": {
              "fillmode": "overlay",
              "size": 10,
              "solidity": 0.2
             }
            },
            "type": "bar"
           }
          ],
          "barpolar": [
           {
            "marker": {
             "line": {
              "color": "#E5ECF6",
              "width": 0.5
             },
             "pattern": {
              "fillmode": "overlay",
              "size": 10,
              "solidity": 0.2
             }
            },
            "type": "barpolar"
           }
          ],
          "carpet": [
           {
            "aaxis": {
             "endlinecolor": "#2a3f5f",
             "gridcolor": "white",
             "linecolor": "white",
             "minorgridcolor": "white",
             "startlinecolor": "#2a3f5f"
            },
            "baxis": {
             "endlinecolor": "#2a3f5f",
             "gridcolor": "white",
             "linecolor": "white",
             "minorgridcolor": "white",
             "startlinecolor": "#2a3f5f"
            },
            "type": "carpet"
           }
          ],
          "choropleth": [
           {
            "colorbar": {
             "outlinewidth": 0,
             "ticks": ""
            },
            "type": "choropleth"
           }
          ],
          "contour": [
           {
            "colorbar": {
             "outlinewidth": 0,
             "ticks": ""
            },
            "colorscale": [
             [
              0,
              "#0d0887"
             ],
             [
              0.1111111111111111,
              "#46039f"
             ],
             [
              0.2222222222222222,
              "#7201a8"
             ],
             [
              0.3333333333333333,
              "#9c179e"
             ],
             [
              0.4444444444444444,
              "#bd3786"
             ],
             [
              0.5555555555555556,
              "#d8576b"
             ],
             [
              0.6666666666666666,
              "#ed7953"
             ],
             [
              0.7777777777777778,
              "#fb9f3a"
             ],
             [
              0.8888888888888888,
              "#fdca26"
             ],
             [
              1,
              "#f0f921"
             ]
            ],
            "type": "contour"
           }
          ],
          "contourcarpet": [
           {
            "colorbar": {
             "outlinewidth": 0,
             "ticks": ""
            },
            "type": "contourcarpet"
           }
          ],
          "heatmap": [
           {
            "colorbar": {
             "outlinewidth": 0,
             "ticks": ""
            },
            "colorscale": [
             [
              0,
              "#0d0887"
             ],
             [
              0.1111111111111111,
              "#46039f"
             ],
             [
              0.2222222222222222,
              "#7201a8"
             ],
             [
              0.3333333333333333,
              "#9c179e"
             ],
             [
              0.4444444444444444,
              "#bd3786"
             ],
             [
              0.5555555555555556,
              "#d8576b"
             ],
             [
              0.6666666666666666,
              "#ed7953"
             ],
             [
              0.7777777777777778,
              "#fb9f3a"
             ],
             [
              0.8888888888888888,
              "#fdca26"
             ],
             [
              1,
              "#f0f921"
             ]
            ],
            "type": "heatmap"
           }
          ],
          "heatmapgl": [
           {
            "colorbar": {
             "outlinewidth": 0,
             "ticks": ""
            },
            "colorscale": [
             [
              0,
              "#0d0887"
             ],
             [
              0.1111111111111111,
              "#46039f"
             ],
             [
              0.2222222222222222,
              "#7201a8"
             ],
             [
              0.3333333333333333,
              "#9c179e"
             ],
             [
              0.4444444444444444,
              "#bd3786"
             ],
             [
              0.5555555555555556,
              "#d8576b"
             ],
             [
              0.6666666666666666,
              "#ed7953"
             ],
             [
              0.7777777777777778,
              "#fb9f3a"
             ],
             [
              0.8888888888888888,
              "#fdca26"
             ],
             [
              1,
              "#f0f921"
             ]
            ],
            "type": "heatmapgl"
           }
          ],
          "histogram": [
           {
            "marker": {
             "pattern": {
              "fillmode": "overlay",
              "size": 10,
              "solidity": 0.2
             }
            },
            "type": "histogram"
           }
          ],
          "histogram2d": [
           {
            "colorbar": {
             "outlinewidth": 0,
             "ticks": ""
            },
            "colorscale": [
             [
              0,
              "#0d0887"
             ],
             [
              0.1111111111111111,
              "#46039f"
             ],
             [
              0.2222222222222222,
              "#7201a8"
             ],
             [
              0.3333333333333333,
              "#9c179e"
             ],
             [
              0.4444444444444444,
              "#bd3786"
             ],
             [
              0.5555555555555556,
              "#d8576b"
             ],
             [
              0.6666666666666666,
              "#ed7953"
             ],
             [
              0.7777777777777778,
              "#fb9f3a"
             ],
             [
              0.8888888888888888,
              "#fdca26"
             ],
             [
              1,
              "#f0f921"
             ]
            ],
            "type": "histogram2d"
           }
          ],
          "histogram2dcontour": [
           {
            "colorbar": {
             "outlinewidth": 0,
             "ticks": ""
            },
            "colorscale": [
             [
              0,
              "#0d0887"
             ],
             [
              0.1111111111111111,
              "#46039f"
             ],
             [
              0.2222222222222222,
              "#7201a8"
             ],
             [
              0.3333333333333333,
              "#9c179e"
             ],
             [
              0.4444444444444444,
              "#bd3786"
             ],
             [
              0.5555555555555556,
              "#d8576b"
             ],
             [
              0.6666666666666666,
              "#ed7953"
             ],
             [
              0.7777777777777778,
              "#fb9f3a"
             ],
             [
              0.8888888888888888,
              "#fdca26"
             ],
             [
              1,
              "#f0f921"
             ]
            ],
            "type": "histogram2dcontour"
           }
          ],
          "mesh3d": [
           {
            "colorbar": {
             "outlinewidth": 0,
             "ticks": ""
            },
            "type": "mesh3d"
           }
          ],
          "parcoords": [
           {
            "line": {
             "colorbar": {
              "outlinewidth": 0,
              "ticks": ""
             }
            },
            "type": "parcoords"
           }
          ],
          "pie": [
           {
            "automargin": true,
            "type": "pie"
           }
          ],
          "scatter": [
           {
            "fillpattern": {
             "fillmode": "overlay",
             "size": 10,
             "solidity": 0.2
            },
            "type": "scatter"
           }
          ],
          "scatter3d": [
           {
            "line": {
             "colorbar": {
              "outlinewidth": 0,
              "ticks": ""
             }
            },
            "marker": {
             "colorbar": {
              "outlinewidth": 0,
              "ticks": ""
             }
            },
            "type": "scatter3d"
           }
          ],
          "scattercarpet": [
           {
            "marker": {
             "colorbar": {
              "outlinewidth": 0,
              "ticks": ""
             }
            },
            "type": "scattercarpet"
           }
          ],
          "scattergeo": [
           {
            "marker": {
             "colorbar": {
              "outlinewidth": 0,
              "ticks": ""
             }
            },
            "type": "scattergeo"
           }
          ],
          "scattergl": [
           {
            "marker": {
             "colorbar": {
              "outlinewidth": 0,
              "ticks": ""
             }
            },
            "type": "scattergl"
           }
          ],
          "scattermapbox": [
           {
            "marker": {
             "colorbar": {
              "outlinewidth": 0,
              "ticks": ""
             }
            },
            "type": "scattermapbox"
           }
          ],
          "scatterpolar": [
           {
            "marker": {
             "colorbar": {
              "outlinewidth": 0,
              "ticks": ""
             }
            },
            "type": "scatterpolar"
           }
          ],
          "scatterpolargl": [
           {
            "marker": {
             "colorbar": {
              "outlinewidth": 0,
              "ticks": ""
             }
            },
            "type": "scatterpolargl"
           }
          ],
          "scatterternary": [
           {
            "marker": {
             "colorbar": {
              "outlinewidth": 0,
              "ticks": ""
             }
            },
            "type": "scatterternary"
           }
          ],
          "surface": [
           {
            "colorbar": {
             "outlinewidth": 0,
             "ticks": ""
            },
            "colorscale": [
             [
              0,
              "#0d0887"
             ],
             [
              0.1111111111111111,
              "#46039f"
             ],
             [
              0.2222222222222222,
              "#7201a8"
             ],
             [
              0.3333333333333333,
              "#9c179e"
             ],
             [
              0.4444444444444444,
              "#bd3786"
             ],
             [
              0.5555555555555556,
              "#d8576b"
             ],
             [
              0.6666666666666666,
              "#ed7953"
             ],
             [
              0.7777777777777778,
              "#fb9f3a"
             ],
             [
              0.8888888888888888,
              "#fdca26"
             ],
             [
              1,
              "#f0f921"
             ]
            ],
            "type": "surface"
           }
          ],
          "table": [
           {
            "cells": {
             "fill": {
              "color": "#EBF0F8"
             },
             "line": {
              "color": "white"
             }
            },
            "header": {
             "fill": {
              "color": "#C8D4E3"
             },
             "line": {
              "color": "white"
             }
            },
            "type": "table"
           }
          ]
         },
         "layout": {
          "annotationdefaults": {
           "arrowcolor": "#2a3f5f",
           "arrowhead": 0,
           "arrowwidth": 1
          },
          "autotypenumbers": "strict",
          "coloraxis": {
           "colorbar": {
            "outlinewidth": 0,
            "ticks": ""
           }
          },
          "colorscale": {
           "diverging": [
            [
             0,
             "#8e0152"
            ],
            [
             0.1,
             "#c51b7d"
            ],
            [
             0.2,
             "#de77ae"
            ],
            [
             0.3,
             "#f1b6da"
            ],
            [
             0.4,
             "#fde0ef"
            ],
            [
             0.5,
             "#f7f7f7"
            ],
            [
             0.6,
             "#e6f5d0"
            ],
            [
             0.7,
             "#b8e186"
            ],
            [
             0.8,
             "#7fbc41"
            ],
            [
             0.9,
             "#4d9221"
            ],
            [
             1,
             "#276419"
            ]
           ],
           "sequential": [
            [
             0,
             "#0d0887"
            ],
            [
             0.1111111111111111,
             "#46039f"
            ],
            [
             0.2222222222222222,
             "#7201a8"
            ],
            [
             0.3333333333333333,
             "#9c179e"
            ],
            [
             0.4444444444444444,
             "#bd3786"
            ],
            [
             0.5555555555555556,
             "#d8576b"
            ],
            [
             0.6666666666666666,
             "#ed7953"
            ],
            [
             0.7777777777777778,
             "#fb9f3a"
            ],
            [
             0.8888888888888888,
             "#fdca26"
            ],
            [
             1,
             "#f0f921"
            ]
           ],
           "sequentialminus": [
            [
             0,
             "#0d0887"
            ],
            [
             0.1111111111111111,
             "#46039f"
            ],
            [
             0.2222222222222222,
             "#7201a8"
            ],
            [
             0.3333333333333333,
             "#9c179e"
            ],
            [
             0.4444444444444444,
             "#bd3786"
            ],
            [
             0.5555555555555556,
             "#d8576b"
            ],
            [
             0.6666666666666666,
             "#ed7953"
            ],
            [
             0.7777777777777778,
             "#fb9f3a"
            ],
            [
             0.8888888888888888,
             "#fdca26"
            ],
            [
             1,
             "#f0f921"
            ]
           ]
          },
          "colorway": [
           "#636efa",
           "#EF553B",
           "#00cc96",
           "#ab63fa",
           "#FFA15A",
           "#19d3f3",
           "#FF6692",
           "#B6E880",
           "#FF97FF",
           "#FECB52"
          ],
          "font": {
           "color": "#2a3f5f"
          },
          "geo": {
           "bgcolor": "white",
           "lakecolor": "white",
           "landcolor": "#E5ECF6",
           "showlakes": true,
           "showland": true,
           "subunitcolor": "white"
          },
          "hoverlabel": {
           "align": "left"
          },
          "hovermode": "closest",
          "mapbox": {
           "style": "light"
          },
          "paper_bgcolor": "white",
          "plot_bgcolor": "#E5ECF6",
          "polar": {
           "angularaxis": {
            "gridcolor": "white",
            "linecolor": "white",
            "ticks": ""
           },
           "bgcolor": "#E5ECF6",
           "radialaxis": {
            "gridcolor": "white",
            "linecolor": "white",
            "ticks": ""
           }
          },
          "scene": {
           "xaxis": {
            "backgroundcolor": "#E5ECF6",
            "gridcolor": "white",
            "gridwidth": 2,
            "linecolor": "white",
            "showbackground": true,
            "ticks": "",
            "zerolinecolor": "white"
           },
           "yaxis": {
            "backgroundcolor": "#E5ECF6",
            "gridcolor": "white",
            "gridwidth": 2,
            "linecolor": "white",
            "showbackground": true,
            "ticks": "",
            "zerolinecolor": "white"
           },
           "zaxis": {
            "backgroundcolor": "#E5ECF6",
            "gridcolor": "white",
            "gridwidth": 2,
            "linecolor": "white",
            "showbackground": true,
            "ticks": "",
            "zerolinecolor": "white"
           }
          },
          "shapedefaults": {
           "line": {
            "color": "#2a3f5f"
           }
          },
          "ternary": {
           "aaxis": {
            "gridcolor": "white",
            "linecolor": "white",
            "ticks": ""
           },
           "baxis": {
            "gridcolor": "white",
            "linecolor": "white",
            "ticks": ""
           },
           "bgcolor": "#E5ECF6",
           "caxis": {
            "gridcolor": "white",
            "linecolor": "white",
            "ticks": ""
           }
          },
          "title": {
           "x": 0.05
          },
          "xaxis": {
           "automargin": true,
           "gridcolor": "white",
           "linecolor": "white",
           "ticks": "",
           "title": {
            "standoff": 15
           },
           "zerolinecolor": "white",
           "zerolinewidth": 2
          },
          "yaxis": {
           "automargin": true,
           "gridcolor": "white",
           "linecolor": "white",
           "ticks": "",
           "title": {
            "standoff": 15
           },
           "zerolinecolor": "white",
           "zerolinewidth": 2
          }
         }
        },
        "title": {
         "text": "Anomaly Detection for EnergyIndex"
        },
        "xaxis": {
         "domain": [
          0,
          1
         ]
        },
        "yaxis": {
         "domain": [
          0.4,
          1
         ]
        }
       }
      },
      "text/html": [
       "<div>                            <div id=\"8662652c-3b4d-46a9-8eba-9fc55975bc9e\" class=\"plotly-graph-div\" style=\"height:600px; width:100%;\"></div>            <script type=\"text/javascript\">                require([\"plotly\"], function(Plotly) {                    window.PLOTLYENV=window.PLOTLYENV || {};                                    if (document.getElementById(\"8662652c-3b4d-46a9-8eba-9fc55975bc9e\")) {                    Plotly.newPlot(                        \"8662652c-3b4d-46a9-8eba-9fc55975bc9e\",                        [{\"cells\":{\"align\":\"center\",\"fill\":{\"color\":[\"rgba(228, 222, 249, 0.65)\",\"rgba(228, 222, 249, 0.65)\",\"rgba(228, 222, 249, 0.65)\",\"rgba(228, 222, 249, 0.65)\",\"rgba(228, 222, 249, 0.65)\",\"rgba(228, 222, 249, 0.65)\",\"rgba(228, 222, 249, 0.65)\",\"rgba(228, 222, 249, 0.65)\",\"rgba(228, 222, 249, 0.65)\",\"rgba(228, 222, 249, 0.65)\",\"rgba(228, 222, 249, 0.65)\",\"rgba(228, 222, 249, 0.65)\",\"rgba(228, 222, 249, 0.65)\",\"rgba(228, 222, 249, 0.65)\",\"rgba(228, 222, 249, 0.65)\",\"rgba(228, 222, 249, 0.65)\",\"rgba(228, 222, 249, 0.65)\",\"rgba(228, 222, 249, 0.65)\",\"rgba(228, 222, 249, 0.65)\",\"rgba(228, 222, 249, 0.65)\",\"rgba(228, 222, 249, 0.65)\",\"rgba(228, 222, 249, 0.65)\",\"rgba(228, 222, 249, 0.65)\",\"rgba(228, 222, 249, 0.65)\",\"rgba(228, 222, 249, 0.65)\",\"red\",\"red\",\"rgba(228, 222, 249, 0.65)\",\"rgba(228, 222, 249, 0.65)\",\"rgba(228, 222, 249, 0.65)\",\"rgba(228, 222, 249, 0.65)\",\"rgba(228, 222, 249, 0.65)\",\"rgba(228, 222, 249, 0.65)\",\"rgba(228, 222, 249, 0.65)\",\"rgba(228, 222, 249, 0.65)\",\"rgba(228, 222, 249, 0.65)\",\"rgba(228, 222, 249, 0.65)\",\"rgba(228, 222, 249, 0.65)\",\"rgba(228, 222, 249, 0.65)\",\"rgba(228, 222, 249, 0.65)\",\"rgba(228, 222, 249, 0.65)\",\"rgba(228, 222, 249, 0.65)\",\"rgba(228, 222, 249, 0.65)\",\"rgba(228, 222, 249, 0.65)\",\"rgba(228, 222, 249, 0.65)\",\"rgba(228, 222, 249, 0.65)\",\"rgba(228, 222, 249, 0.65)\",\"rgba(228, 222, 249, 0.65)\",\"rgba(228, 222, 249, 0.65)\",\"rgba(228, 222, 249, 0.65)\",\"rgba(228, 222, 249, 0.65)\",\"rgba(228, 222, 249, 0.65)\",\"rgba(228, 222, 249, 0.65)\",\"rgba(228, 222, 249, 0.65)\",\"rgba(228, 222, 249, 0.65)\",\"rgba(228, 222, 249, 0.65)\",\"rgba(228, 222, 249, 0.65)\",\"rgba(228, 222, 249, 0.65)\",\"rgba(228, 222, 249, 0.65)\",\"rgba(228, 222, 249, 0.65)\",\"rgba(228, 222, 249, 0.65)\",\"rgba(228, 222, 249, 0.65)\",\"rgba(228, 222, 249, 0.65)\",\"rgba(228, 222, 249, 0.65)\",\"rgba(228, 222, 249, 0.65)\",\"rgba(228, 222, 249, 0.65)\",\"rgba(228, 222, 249, 0.65)\",\"rgba(228, 222, 249, 0.65)\",\"rgba(228, 222, 249, 0.65)\",\"rgba(228, 222, 249, 0.65)\",\"rgba(228, 222, 249, 0.65)\",\"rgba(228, 222, 249, 0.65)\",\"rgba(228, 222, 249, 0.65)\",\"rgba(228, 222, 249, 0.65)\",\"rgba(228, 222, 249, 0.65)\",\"rgba(228, 222, 249, 0.65)\",\"rgba(228, 222, 249, 0.65)\",\"rgba(228, 222, 249, 0.65)\",\"rgba(228, 222, 249, 0.65)\",\"rgba(228, 222, 249, 0.65)\",\"rgba(228, 222, 249, 0.65)\",\"rgba(228, 222, 249, 0.65)\",\"rgba(228, 222, 249, 0.65)\",\"rgba(228, 222, 249, 0.65)\",\"rgba(228, 222, 249, 0.65)\",\"rgba(228, 222, 249, 0.65)\",\"rgba(228, 222, 249, 0.65)\",\"rgba(228, 222, 249, 0.65)\",\"rgba(228, 222, 249, 0.65)\",\"rgba(228, 222, 249, 0.65)\",\"rgba(228, 222, 249, 0.65)\",\"rgba(228, 222, 249, 0.65)\",\"rgba(228, 222, 249, 0.65)\",\"rgba(228, 222, 249, 0.65)\",\"rgba(228, 222, 249, 0.65)\",\"rgba(228, 222, 249, 0.65)\",\"rgba(228, 222, 249, 0.65)\",\"rgba(228, 222, 249, 0.65)\",\"rgba(228, 222, 249, 0.65)\",\"red\",\"red\",\"red\",\"red\",\"rgba(228, 222, 249, 0.65)\",\"rgba(228, 222, 249, 0.65)\",\"rgba(228, 222, 249, 0.65)\",\"rgba(228, 222, 249, 0.65)\",\"rgba(228, 222, 249, 0.65)\",\"rgba(228, 222, 249, 0.65)\",\"red\",\"rgba(228, 222, 249, 0.65)\",\"rgba(228, 222, 249, 0.65)\",\"rgba(228, 222, 249, 0.65)\",\"rgba(228, 222, 249, 0.65)\",\"rgba(228, 222, 249, 0.65)\",\"rgba(228, 222, 249, 0.65)\",\"rgba(228, 222, 249, 0.65)\",\"rgba(228, 222, 249, 0.65)\",\"rgba(228, 222, 249, 0.65)\",\"rgba(228, 222, 249, 0.65)\",\"rgba(228, 222, 249, 0.65)\",\"rgba(228, 222, 249, 0.65)\",\"rgba(228, 222, 249, 0.65)\"]},\"font\":{\"size\":12},\"values\":[[\"2016-02-01\",\"2016-03-01\",\"2022-04-01\",\"2022-05-01\",\"2022-06-01\",\"2022-07-01\",\"2023-02-01\"],[0.018,0.02,0.762,0.888,0.982,0.826,0.425]]},\"columnwidth\":[1,2],\"domain\":{\"x\":[0,1],\"y\":[0,0.3]},\"header\":{\"fill\":{\"color\":\"#d562be\"},\"font\":{\"size\":14},\"values\":[\"<b>Date</b>\",\"<b>Anomaly Values</b>\"]},\"type\":\"table\"},{\"line\":{\"color\":\"blue\"},\"mode\":\"lines+markers\",\"name\":\"Actuals\",\"x\":[\"2014-01-01T00:00:00\",\"2014-02-01T00:00:00\",\"2014-03-01T00:00:00\",\"2014-04-01T00:00:00\",\"2014-05-01T00:00:00\",\"2014-06-01T00:00:00\",\"2014-07-01T00:00:00\",\"2014-08-01T00:00:00\",\"2014-09-01T00:00:00\",\"2014-10-01T00:00:00\",\"2014-11-01T00:00:00\",\"2014-12-01T00:00:00\",\"2015-01-01T00:00:00\",\"2015-02-01T00:00:00\",\"2015-03-01T00:00:00\",\"2015-04-01T00:00:00\",\"2015-05-01T00:00:00\",\"2015-06-01T00:00:00\",\"2015-07-01T00:00:00\",\"2015-08-01T00:00:00\",\"2015-09-01T00:00:00\",\"2015-10-01T00:00:00\",\"2015-11-01T00:00:00\",\"2015-12-01T00:00:00\",\"2016-01-01T00:00:00\",\"2016-02-01T00:00:00\",\"2016-03-01T00:00:00\",\"2016-04-01T00:00:00\",\"2016-05-01T00:00:00\",\"2016-06-01T00:00:00\",\"2016-07-01T00:00:00\",\"2016-08-01T00:00:00\",\"2016-09-01T00:00:00\",\"2016-10-01T00:00:00\",\"2016-11-01T00:00:00\",\"2016-12-01T00:00:00\",\"2017-01-01T00:00:00\",\"2017-02-01T00:00:00\",\"2017-03-01T00:00:00\",\"2017-04-01T00:00:00\",\"2017-05-01T00:00:00\",\"2017-06-01T00:00:00\",\"2017-07-01T00:00:00\",\"2017-08-01T00:00:00\",\"2017-09-01T00:00:00\",\"2017-10-01T00:00:00\",\"2017-11-01T00:00:00\",\"2017-12-01T00:00:00\",\"2018-01-01T00:00:00\",\"2018-02-01T00:00:00\",\"2018-03-01T00:00:00\",\"2018-04-01T00:00:00\",\"2018-05-01T00:00:00\",\"2018-06-01T00:00:00\",\"2018-07-01T00:00:00\",\"2018-08-01T00:00:00\",\"2018-09-01T00:00:00\",\"2018-10-01T00:00:00\",\"2018-11-01T00:00:00\",\"2018-12-01T00:00:00\",\"2019-01-01T00:00:00\",\"2019-02-01T00:00:00\",\"2019-03-01T00:00:00\",\"2019-04-01T00:00:00\",\"2019-05-01T00:00:00\",\"2019-06-01T00:00:00\",\"2019-07-01T00:00:00\",\"2019-08-01T00:00:00\",\"2019-09-01T00:00:00\",\"2019-10-01T00:00:00\",\"2019-11-01T00:00:00\",\"2019-12-01T00:00:00\",\"2020-01-01T00:00:00\",\"2020-02-01T00:00:00\",\"2020-03-01T00:00:00\",\"2020-04-01T00:00:00\",\"2020-05-01T00:00:00\",\"2020-06-01T00:00:00\",\"2020-07-01T00:00:00\",\"2020-08-01T00:00:00\",\"2020-09-01T00:00:00\",\"2020-10-01T00:00:00\",\"2020-11-01T00:00:00\",\"2020-12-01T00:00:00\",\"2021-01-01T00:00:00\",\"2021-02-01T00:00:00\",\"2021-03-01T00:00:00\",\"2021-04-01T00:00:00\",\"2021-05-01T00:00:00\",\"2021-06-01T00:00:00\",\"2021-07-01T00:00:00\",\"2021-08-01T00:00:00\",\"2021-09-01T00:00:00\",\"2021-10-01T00:00:00\",\"2021-11-01T00:00:00\",\"2021-12-01T00:00:00\",\"2022-01-01T00:00:00\",\"2022-02-01T00:00:00\",\"2022-03-01T00:00:00\",\"2022-04-01T00:00:00\",\"2022-05-01T00:00:00\",\"2022-06-01T00:00:00\",\"2022-07-01T00:00:00\",\"2022-08-01T00:00:00\",\"2022-09-01T00:00:00\",\"2022-10-01T00:00:00\",\"2022-11-01T00:00:00\",\"2022-12-01T00:00:00\",\"2023-01-01T00:00:00\",\"2023-02-01T00:00:00\",\"2023-03-01T00:00:00\",\"2023-04-01T00:00:00\",\"2023-05-01T00:00:00\",\"2023-06-01T00:00:00\",\"2023-07-01T00:00:00\",\"2023-08-01T00:00:00\",\"2023-09-01T00:00:00\",\"2023-10-01T00:00:00\",\"2023-11-01T00:00:00\",\"2023-12-01T00:00:00\",\"2024-01-01T00:00:00\",\"2024-02-01T00:00:00\",\"2024-03-01T00:00:00\"],\"y\":[0.14057232359608163,0.13891970163128275,0.1316289965182459,0.12455121109853687,0.12405300822042123,0.12211702543850052,0.10899077892384043,0.10899679076208377,0.10516354644090056,0.10232228599782303,0.10507269320354007,0.10227715412129096,0.10606116380118463,0.10741399089566378,0.10219838309486515,0.07127882714225756,0.07305838180831975,0.06953597297642039,0.05596253923638472,0.05510690464880459,0.051572021856905015,0.034233723827911365,0.033414930547358286,0.03081004481691415,0.02437674435036565,0.017960950385989986,0.01987755363106359,0.03401450922178367,0.035396738723020585,0.039188642590959916,0.06607340175289739,0.07233963903614386,0.07477846519861245,0.19600689839849847,0.21197560842648433,0.19346170494116327,0.16451947500055836,0.1614828534030809,0.15957909873944906,0.13677197801203772,0.12986633319486304,0.1373213072591633,0.21432542870998694,0.2249307096959557,0.2329378796894537,0.2576274163295616,0.25941956841666053,0.26171335752948727,0.25310271807889473,0.24515261431949645,0.2445836816888128,0.2409971699169598,0.248912808346762,0.25875960672929615,0.29161263696950873,0.2832051789817707,0.285385952662299,0.2843159906754964,0.2694008524741025,0.26203298021034316,0.21970913004338227,0.21081043989910558,0.2045928542700039,0.18460750383648156,0.183719025866108,0.17480332792408332,0.16862808738930407,0.16297820331246354,0.16692978342819859,0.15050710410070647,0.15163130584360549,0.1484928718236931,0.1615760101992339,0.1546207207024633,0.1437719066605901,0.12093138074245,0.11694665773513861,0.12590351694315574,0.14733640799630823,0.15639258811554307,0.15935310073247916,0.2119887942232474,0.24016454769092122,0.23409951477262944,0.2990218816639949,0.3042661047976323,0.31990578880854176,0.32127027401391434,0.3441615982763735,0.3763833485501426,0.5112528080846208,0.5732145562524399,0.5776453496359721,0.6876790827794809,0.5741927286461211,0.5748622915186086,0.6357279602084366,0.6365224477547495,0.7159220940124138,0.7617978008748173,0.8880652995672446,0.9817462172478832,0.8256845176266931,0.6958932673360514,0.7021127423192994,0.6663936308545968,0.5463024498605942,0.5554044996400507,0.5163043610321626,0.4252019107747718,0.3835547136015832,0.31950242122777645,0.2997979346184746,0.2807234368709394,0.2669758944029585,0.29461889717242506,0.30857956853898405,0.3159351794370349,0.2885479635256806,0.27900762549666336,0.2603858324603258,0.25715762908090894,0.2643624225012863],\"type\":\"scatter\"},{\"marker\":{\"color\":\"red\",\"size\":11},\"mode\":\"markers\",\"name\":\"Anomalies\",\"x\":[\"2016-02-01T00:00:00\",\"2016-03-01T00:00:00\",\"2022-04-01T00:00:00\",\"2022-05-01T00:00:00\",\"2022-06-01T00:00:00\",\"2022-07-01T00:00:00\",\"2023-02-01T00:00:00\"],\"y\":[0.017960950385989986,0.01987755363106359,0.7617978008748173,0.8880652995672446,0.9817462172478832,0.8256845176266931,0.4252019107747718],\"type\":\"scatter\"}],                        {\"height\":600,\"showlegend\":true,\"template\":{\"data\":{\"barpolar\":[{\"marker\":{\"line\":{\"color\":\"#E5ECF6\",\"width\":0.5},\"pattern\":{\"fillmode\":\"overlay\",\"size\":10,\"solidity\":0.2}},\"type\":\"barpolar\"}],\"bar\":[{\"error_x\":{\"color\":\"#2a3f5f\"},\"error_y\":{\"color\":\"#2a3f5f\"},\"marker\":{\"line\":{\"color\":\"#E5ECF6\",\"width\":0.5},\"pattern\":{\"fillmode\":\"overlay\",\"size\":10,\"solidity\":0.2}},\"type\":\"bar\"}],\"carpet\":[{\"aaxis\":{\"endlinecolor\":\"#2a3f5f\",\"gridcolor\":\"white\",\"linecolor\":\"white\",\"minorgridcolor\":\"white\",\"startlinecolor\":\"#2a3f5f\"},\"baxis\":{\"endlinecolor\":\"#2a3f5f\",\"gridcolor\":\"white\",\"linecolor\":\"white\",\"minorgridcolor\":\"white\",\"startlinecolor\":\"#2a3f5f\"},\"type\":\"carpet\"}],\"choropleth\":[{\"colorbar\":{\"outlinewidth\":0,\"ticks\":\"\"},\"type\":\"choropleth\"}],\"contourcarpet\":[{\"colorbar\":{\"outlinewidth\":0,\"ticks\":\"\"},\"type\":\"contourcarpet\"}],\"contour\":[{\"colorbar\":{\"outlinewidth\":0,\"ticks\":\"\"},\"colorscale\":[[0.0,\"#0d0887\"],[0.1111111111111111,\"#46039f\"],[0.2222222222222222,\"#7201a8\"],[0.3333333333333333,\"#9c179e\"],[0.4444444444444444,\"#bd3786\"],[0.5555555555555556,\"#d8576b\"],[0.6666666666666666,\"#ed7953\"],[0.7777777777777778,\"#fb9f3a\"],[0.8888888888888888,\"#fdca26\"],[1.0,\"#f0f921\"]],\"type\":\"contour\"}],\"heatmapgl\":[{\"colorbar\":{\"outlinewidth\":0,\"ticks\":\"\"},\"colorscale\":[[0.0,\"#0d0887\"],[0.1111111111111111,\"#46039f\"],[0.2222222222222222,\"#7201a8\"],[0.3333333333333333,\"#9c179e\"],[0.4444444444444444,\"#bd3786\"],[0.5555555555555556,\"#d8576b\"],[0.6666666666666666,\"#ed7953\"],[0.7777777777777778,\"#fb9f3a\"],[0.8888888888888888,\"#fdca26\"],[1.0,\"#f0f921\"]],\"type\":\"heatmapgl\"}],\"heatmap\":[{\"colorbar\":{\"outlinewidth\":0,\"ticks\":\"\"},\"colorscale\":[[0.0,\"#0d0887\"],[0.1111111111111111,\"#46039f\"],[0.2222222222222222,\"#7201a8\"],[0.3333333333333333,\"#9c179e\"],[0.4444444444444444,\"#bd3786\"],[0.5555555555555556,\"#d8576b\"],[0.6666666666666666,\"#ed7953\"],[0.7777777777777778,\"#fb9f3a\"],[0.8888888888888888,\"#fdca26\"],[1.0,\"#f0f921\"]],\"type\":\"heatmap\"}],\"histogram2dcontour\":[{\"colorbar\":{\"outlinewidth\":0,\"ticks\":\"\"},\"colorscale\":[[0.0,\"#0d0887\"],[0.1111111111111111,\"#46039f\"],[0.2222222222222222,\"#7201a8\"],[0.3333333333333333,\"#9c179e\"],[0.4444444444444444,\"#bd3786\"],[0.5555555555555556,\"#d8576b\"],[0.6666666666666666,\"#ed7953\"],[0.7777777777777778,\"#fb9f3a\"],[0.8888888888888888,\"#fdca26\"],[1.0,\"#f0f921\"]],\"type\":\"histogram2dcontour\"}],\"histogram2d\":[{\"colorbar\":{\"outlinewidth\":0,\"ticks\":\"\"},\"colorscale\":[[0.0,\"#0d0887\"],[0.1111111111111111,\"#46039f\"],[0.2222222222222222,\"#7201a8\"],[0.3333333333333333,\"#9c179e\"],[0.4444444444444444,\"#bd3786\"],[0.5555555555555556,\"#d8576b\"],[0.6666666666666666,\"#ed7953\"],[0.7777777777777778,\"#fb9f3a\"],[0.8888888888888888,\"#fdca26\"],[1.0,\"#f0f921\"]],\"type\":\"histogram2d\"}],\"histogram\":[{\"marker\":{\"pattern\":{\"fillmode\":\"overlay\",\"size\":10,\"solidity\":0.2}},\"type\":\"histogram\"}],\"mesh3d\":[{\"colorbar\":{\"outlinewidth\":0,\"ticks\":\"\"},\"type\":\"mesh3d\"}],\"parcoords\":[{\"line\":{\"colorbar\":{\"outlinewidth\":0,\"ticks\":\"\"}},\"type\":\"parcoords\"}],\"pie\":[{\"automargin\":true,\"type\":\"pie\"}],\"scatter3d\":[{\"line\":{\"colorbar\":{\"outlinewidth\":0,\"ticks\":\"\"}},\"marker\":{\"colorbar\":{\"outlinewidth\":0,\"ticks\":\"\"}},\"type\":\"scatter3d\"}],\"scattercarpet\":[{\"marker\":{\"colorbar\":{\"outlinewidth\":0,\"ticks\":\"\"}},\"type\":\"scattercarpet\"}],\"scattergeo\":[{\"marker\":{\"colorbar\":{\"outlinewidth\":0,\"ticks\":\"\"}},\"type\":\"scattergeo\"}],\"scattergl\":[{\"marker\":{\"colorbar\":{\"outlinewidth\":0,\"ticks\":\"\"}},\"type\":\"scattergl\"}],\"scattermapbox\":[{\"marker\":{\"colorbar\":{\"outlinewidth\":0,\"ticks\":\"\"}},\"type\":\"scattermapbox\"}],\"scatterpolargl\":[{\"marker\":{\"colorbar\":{\"outlinewidth\":0,\"ticks\":\"\"}},\"type\":\"scatterpolargl\"}],\"scatterpolar\":[{\"marker\":{\"colorbar\":{\"outlinewidth\":0,\"ticks\":\"\"}},\"type\":\"scatterpolar\"}],\"scatter\":[{\"fillpattern\":{\"fillmode\":\"overlay\",\"size\":10,\"solidity\":0.2},\"type\":\"scatter\"}],\"scatterternary\":[{\"marker\":{\"colorbar\":{\"outlinewidth\":0,\"ticks\":\"\"}},\"type\":\"scatterternary\"}],\"surface\":[{\"colorbar\":{\"outlinewidth\":0,\"ticks\":\"\"},\"colorscale\":[[0.0,\"#0d0887\"],[0.1111111111111111,\"#46039f\"],[0.2222222222222222,\"#7201a8\"],[0.3333333333333333,\"#9c179e\"],[0.4444444444444444,\"#bd3786\"],[0.5555555555555556,\"#d8576b\"],[0.6666666666666666,\"#ed7953\"],[0.7777777777777778,\"#fb9f3a\"],[0.8888888888888888,\"#fdca26\"],[1.0,\"#f0f921\"]],\"type\":\"surface\"}],\"table\":[{\"cells\":{\"fill\":{\"color\":\"#EBF0F8\"},\"line\":{\"color\":\"white\"}},\"header\":{\"fill\":{\"color\":\"#C8D4E3\"},\"line\":{\"color\":\"white\"}},\"type\":\"table\"}]},\"layout\":{\"annotationdefaults\":{\"arrowcolor\":\"#2a3f5f\",\"arrowhead\":0,\"arrowwidth\":1},\"autotypenumbers\":\"strict\",\"coloraxis\":{\"colorbar\":{\"outlinewidth\":0,\"ticks\":\"\"}},\"colorscale\":{\"diverging\":[[0,\"#8e0152\"],[0.1,\"#c51b7d\"],[0.2,\"#de77ae\"],[0.3,\"#f1b6da\"],[0.4,\"#fde0ef\"],[0.5,\"#f7f7f7\"],[0.6,\"#e6f5d0\"],[0.7,\"#b8e186\"],[0.8,\"#7fbc41\"],[0.9,\"#4d9221\"],[1,\"#276419\"]],\"sequential\":[[0.0,\"#0d0887\"],[0.1111111111111111,\"#46039f\"],[0.2222222222222222,\"#7201a8\"],[0.3333333333333333,\"#9c179e\"],[0.4444444444444444,\"#bd3786\"],[0.5555555555555556,\"#d8576b\"],[0.6666666666666666,\"#ed7953\"],[0.7777777777777778,\"#fb9f3a\"],[0.8888888888888888,\"#fdca26\"],[1.0,\"#f0f921\"]],\"sequentialminus\":[[0.0,\"#0d0887\"],[0.1111111111111111,\"#46039f\"],[0.2222222222222222,\"#7201a8\"],[0.3333333333333333,\"#9c179e\"],[0.4444444444444444,\"#bd3786\"],[0.5555555555555556,\"#d8576b\"],[0.6666666666666666,\"#ed7953\"],[0.7777777777777778,\"#fb9f3a\"],[0.8888888888888888,\"#fdca26\"],[1.0,\"#f0f921\"]]},\"colorway\":[\"#636efa\",\"#EF553B\",\"#00cc96\",\"#ab63fa\",\"#FFA15A\",\"#19d3f3\",\"#FF6692\",\"#B6E880\",\"#FF97FF\",\"#FECB52\"],\"font\":{\"color\":\"#2a3f5f\"},\"geo\":{\"bgcolor\":\"white\",\"lakecolor\":\"white\",\"landcolor\":\"#E5ECF6\",\"showlakes\":true,\"showland\":true,\"subunitcolor\":\"white\"},\"hoverlabel\":{\"align\":\"left\"},\"hovermode\":\"closest\",\"mapbox\":{\"style\":\"light\"},\"paper_bgcolor\":\"white\",\"plot_bgcolor\":\"#E5ECF6\",\"polar\":{\"angularaxis\":{\"gridcolor\":\"white\",\"linecolor\":\"white\",\"ticks\":\"\"},\"bgcolor\":\"#E5ECF6\",\"radialaxis\":{\"gridcolor\":\"white\",\"linecolor\":\"white\",\"ticks\":\"\"}},\"scene\":{\"xaxis\":{\"backgroundcolor\":\"#E5ECF6\",\"gridcolor\":\"white\",\"gridwidth\":2,\"linecolor\":\"white\",\"showbackground\":true,\"ticks\":\"\",\"zerolinecolor\":\"white\"},\"yaxis\":{\"backgroundcolor\":\"#E5ECF6\",\"gridcolor\":\"white\",\"gridwidth\":2,\"linecolor\":\"white\",\"showbackground\":true,\"ticks\":\"\",\"zerolinecolor\":\"white\"},\"zaxis\":{\"backgroundcolor\":\"#E5ECF6\",\"gridcolor\":\"white\",\"gridwidth\":2,\"linecolor\":\"white\",\"showbackground\":true,\"ticks\":\"\",\"zerolinecolor\":\"white\"}},\"shapedefaults\":{\"line\":{\"color\":\"#2a3f5f\"}},\"ternary\":{\"aaxis\":{\"gridcolor\":\"white\",\"linecolor\":\"white\",\"ticks\":\"\"},\"baxis\":{\"gridcolor\":\"white\",\"linecolor\":\"white\",\"ticks\":\"\"},\"bgcolor\":\"#E5ECF6\",\"caxis\":{\"gridcolor\":\"white\",\"linecolor\":\"white\",\"ticks\":\"\"}},\"title\":{\"x\":0.05},\"xaxis\":{\"automargin\":true,\"gridcolor\":\"white\",\"linecolor\":\"white\",\"ticks\":\"\",\"title\":{\"standoff\":15},\"zerolinecolor\":\"white\",\"zerolinewidth\":2},\"yaxis\":{\"automargin\":true,\"gridcolor\":\"white\",\"linecolor\":\"white\",\"ticks\":\"\",\"title\":{\"standoff\":15},\"zerolinecolor\":\"white\",\"zerolinewidth\":2}}},\"title\":{\"text\":\"Anomaly Detection for EnergyIndex\"},\"xaxis\":{\"domain\":[0,1]},\"yaxis\":{\"domain\":[0.4,1]}},                        {\"responsive\": true}                    ).then(function(){\n",
       "                            \n",
       "var gd = document.getElementById('8662652c-3b4d-46a9-8eba-9fc55975bc9e');\n",
       "var x = new MutationObserver(function (mutations, observer) {{\n",
       "        var display = window.getComputedStyle(gd).display;\n",
       "        if (!display || display === 'none') {{\n",
       "            console.log([gd, 'removed!']);\n",
       "            Plotly.purge(gd);\n",
       "            observer.disconnect();\n",
       "        }}\n",
       "}});\n",
       "\n",
       "// Listen for the removal of the full notebook cells\n",
       "var notebookContainer = gd.closest('#notebook-container');\n",
       "if (notebookContainer) {{\n",
       "    x.observe(notebookContainer, {childList: true});\n",
       "}}\n",
       "\n",
       "// Listen for the clearing of the current output cell\n",
       "var outputEl = gd.closest('.output');\n",
       "if (outputEl) {{\n",
       "    x.observe(outputEl, {childList: true});\n",
       "}}\n",
       "\n",
       "                        })                };                });            </script>        </div>"
      ]
     },
     "metadata": {},
     "output_type": "display_data"
    }
   ],
   "source": [
    "df_plot = detect_anomalies(df_sub, 'EnergyIndex')\n",
    "\n",
    "plot_anomalies(df_sub, 'Period', 'EnergyIndex', 'anomaly', 'Anomaly Detection for EnergyIndex')"
   ]
  },
  {
   "cell_type": "markdown",
   "metadata": {},
   "source": [
    "# 8. China supply-demand balance (Create a feature that represents the difference or\n",
    "#  ratio between China_Demand_Total_000_MT and China_Production_000_MT.)"
   ]
  },
  {
   "cell_type": "code",
   "execution_count": 128,
   "metadata": {},
   "outputs": [
    {
     "data": {
      "text/plain": [
       "Index(['Period',\n",
       "       'Target_SodaAshLightChinaSpotExportAverageFOBChinaUSperMetricTon',\n",
       "       'InvescoTAN_Price', 'ICLN_Price', 'CCFI', 'CSCFI', 'BDI',\n",
       "       'China_Production_000_MT', 'China_Demand_Total_000_MT',\n",
       "       'US_Production_000_MT', 'US_Demand_Total_000_MT', 'US_Export_000_MT',\n",
       "       'EU_Production_000_MT', 'EU_Demand_Total_000_MT', 'EU_Export_000_MT',\n",
       "       'Coke', 'NaturalGasIndex', 'CoalIndex', 'shanghai_pm25',\n",
       "       'shanghai_pm10', 'beijing_pm25', 'beijing_pm10', 'BRA_CPI', 'CHN_CPI',\n",
       "       'DEU_CPI', 'FRA_CPI', 'GBR_CPI', 'IND_CPI', 'JPN_CPI', 'KOR_CPI',\n",
       "       'MEX_CPI', 'USA_CPI', 'US_SI', 'China_SI', 'UK_SI', 'Germany_SI',\n",
       "       'India_SI', 'Brazil_SI', 'Indonesia_SI', 'SouthKorea_SI', 'Japan_SI',\n",
       "       'Mexico_SI', 'CPI_Composite', 'CPI_Composite_Rescaled', 'scores',\n",
       "       'anomaly', 'timestamp', 'CoalIndex_norm', 'Coke_norm',\n",
       "       'NaturalGasIndex_norm', 'EnergyIndex', 'china_s_d'],\n",
       "      dtype='object')"
      ]
     },
     "execution_count": 128,
     "metadata": {},
     "output_type": "execute_result"
    }
   ],
   "source": [
    "df_sub.columns"
   ]
  },
  {
   "cell_type": "code",
   "execution_count": 129,
   "metadata": {},
   "outputs": [
    {
     "data": {
      "text/plain": [
       "12     1.051301\n",
       "13     1.051301\n",
       "14     1.051301\n",
       "15     0.996509\n",
       "16     0.996509\n",
       "         ...   \n",
       "130    1.086649\n",
       "131    1.086649\n",
       "132    0.994606\n",
       "133    0.994606\n",
       "134    0.994606\n",
       "Name: china_s_d, Length: 123, dtype: float64"
      ]
     },
     "execution_count": 129,
     "metadata": {},
     "output_type": "execute_result"
    }
   ],
   "source": [
    "df_sub['china_s_d'] = df_sub['China_Production_000_MT']/df_sub['China_Demand_Total_000_MT']\n",
    "df_sub['china_s_d']"
   ]
  },
  {
   "cell_type": "code",
   "execution_count": 130,
   "metadata": {},
   "outputs": [
    {
     "data": {
      "image/png": "[encoded data removed]",
      "text/plain": [
       "<Figure size 1200x600 with 2 Axes>"
      ]
     },
     "metadata": {},
     "output_type": "display_data"
    }
   ],
   "source": [
    "import pandas as pd\n",
    "import matplotlib.pyplot as plt\n",
    "import matplotlib.dates as mdates\n",
    "\n",
    "# Assuming your data is in a DataFrame called 'df' with columns 'Date', 'SodaAshPrice', and 'EnergyIndex'\n",
    "# If it's not, you'll need to load your data into a DataFrame first\n",
    "\n",
    "# Convert the 'Date' column to datetime if it's not already\n",
    "df_sub['Period'] = pd.to_datetime(df_sub['Period'])\n",
    "\n",
    "# Create the figure and axis objects\n",
    "fig, ax1 = plt.subplots(figsize=(12, 6))\n",
    "\n",
    "# Plot Soda Ash Price on the primary y-axis\n",
    "color = 'tab:blue'\n",
    "ax1.set_xlabel('Period')\n",
    "ax1.set_ylabel('Soda Ash Price', color=color)\n",
    "ax1.plot(df_sub['Period'], df_sub['Target_SodaAshLightChinaSpotExportAverageFOBChinaUSperMetricTon'], color=color, label='Soda Ash Price')\n",
    "ax1.tick_params(axis='y', labelcolor=color)\n",
    "\n",
    "# Create a secondary y-axis and plot Energy Index\n",
    "ax2 = ax1.twinx()\n",
    "color = 'tab:orange'\n",
    "ax2.set_ylabel('China Supply & Demand', color=color)\n",
    "ax2.plot(df_sub['Period'], df_sub['china_s_d'], color=color, label='China Supply & Demand')\n",
    "ax2.tick_params(axis='y', labelcolor=color)\n",
    "\n",
    "# Set the title\n",
    "plt.title('Soda Ash Price vs China Supply & Demand')\n",
    "\n",
    "# Format the x-axis to show dates nicely\n",
    "ax1.xaxis.set_major_formatter(mdates.DateFormatter('%Y'))\n",
    "ax1.xaxis.set_major_locator(mdates.YearLocator())\n",
    "plt.xticks(rotation=45)\n",
    "\n",
    "# Add a legend\n",
    "lines1, labels1 = ax1.get_legend_handles_labels()\n",
    "lines2, labels2 = ax2.get_legend_handles_labels()\n",
    "ax1.legend(lines1 + lines2, labels1 + labels2, loc='upper left')\n",
    "\n",
    "# Adjust layout and display the plot\n",
    "fig.tight_layout()\n",
    "plt.show()"
   ]
  },
  {
   "cell_type": "markdown",
   "metadata": {},
   "source": [
    "# 7. Relative CPI: Create features that represent the relative CPI of China \n",
    "# compared to other countries, especially those with strong correlations.\n",
    "# 8. . Interaction terms: Create interaction features between \n",
    "# top correlated variables, such as CoalIndex * Coke or USA_CPI * CoalIndex"
   ]
  },
  {
   "cell_type": "code",
   "execution_count": 136,
   "metadata": {},
   "outputs": [],
   "source": [
    "df_sub['interaction_term1'] = df_sub['CoalIndex'] * df_sub['USA_CPI']\n",
    "df_sub['interaction_term1']\n",
    "\n",
    "df_sub['interaction_term2'] = df_sub['CoalIndex'] * df_sub['Coke']"
   ]
  },
  {
   "cell_type": "code",
   "execution_count": 141,
   "metadata": {},
   "outputs": [
    {
     "data": {
      "image/png": "[encoded data removed]",
      "text/plain": [
       "<Figure size 1200x600 with 2 Axes>"
      ]
     },
     "metadata": {},
     "output_type": "display_data"
    }
   ],
   "source": [
    "import pandas as pd\n",
    "import matplotlib.pyplot as plt\n",
    "import matplotlib.dates as mdates\n",
    "\n",
    "# Assuming your data is in a DataFrame called 'df' with columns 'Date', 'SodaAshPrice', and 'EnergyIndex'\n",
    "# If it's not, you'll need to load your data into a DataFrame first\n",
    "\n",
    "# Convert the 'Date' column to datetime if it's not already\n",
    "df_sub['Period'] = pd.to_datetime(df_sub['Period'])\n",
    "\n",
    "# Create the figure and axis objects\n",
    "fig, ax1 = plt.subplots(figsize=(12, 6))\n",
    "\n",
    "# Plot Soda Ash Price on the primary y-axis\n",
    "color = 'tab:blue'\n",
    "ax1.set_xlabel('Period')\n",
    "ax1.set_ylabel('Soda Ash Price', color=color)\n",
    "ax1.plot(df_sub['Period'], df_sub['Target_SodaAshLightChinaSpotExportAverageFOBChinaUSperMetricTon'], color=color, label='Soda Ash Price')\n",
    "ax1.tick_params(axis='y', labelcolor=color)\n",
    "\n",
    "# Create a secondary y-axis and plot Energy Index\n",
    "ax2 = ax1.twinx()\n",
    "color = 'tab:orange'\n",
    "ax2.set_ylabel('Int1', color=color)\n",
    "ax2.plot(df_sub['Period'], df_sub['interaction_term2'], color=color, label='interaction_term2')\n",
    "ax2.tick_params(axis='y', labelcolor=color)\n",
    "\n",
    "# Set the title\n",
    "plt.title('Soda Ash Price vs interaction_term1')\n",
    "\n",
    "# Format the x-axis to show dates nicely\n",
    "ax1.xaxis.set_major_formatter(mdates.DateFormatter('%Y'))\n",
    "ax1.xaxis.set_major_locator(mdates.YearLocator())\n",
    "plt.xticks(rotation=45)\n",
    "\n",
    "# Add a legend\n",
    "lines1, labels1 = ax1.get_legend_handles_labels()\n",
    "lines2, labels2 = ax2.get_legend_handles_labels()\n",
    "ax1.legend(lines1 + lines2, labels1 + labels2, loc='upper left')\n",
    "\n",
    "# Adjust layout and display the plot\n",
    "fig.tight_layout()\n",
    "plt.show()"
   ]
  },
  {
   "cell_type": "markdown",
   "metadata": {},
   "source": [
    "#### For PPT"
   ]
  },
  {
   "cell_type": "code",
   "execution_count": 61,
   "metadata": {},
   "outputs": [],
   "source": [
    "import pandas as pd\n",
    "import plotly.graph_objs as go\n",
    "from plotly.offline import iplot\n",
    "\n",
    "def plot_anomalies(df, date_col, data_col, threshold=10):\n",
    "    # Convert 'date_col' to datetime if not already\n",
    "    df['timestamp'] = pd.to_datetime(df[date_col], format=\"%Y-%m-%d\")\n",
    "    \n",
    "    # Calculate day-to-day percentage change in prices\n",
    "    df['percent_change'] = df[data_col].pct_change() * 100\n",
    "    \n",
    "    # Flag significant changes based on the threshold\n",
    "    df['anomaly'] = (df['percent_change'].abs() > threshold).astype(int)\n",
    "    \n",
    "    # Extract data for plotting\n",
    "    dates = df['timestamp']\n",
    "    actuals = df[data_col]\n",
    "    anomalies = df['anomaly'] == 1\n",
    "\n",
    "    dates_a = df.loc[anomalies, 'timestamp']\n",
    "    actuals_a = df.loc[anomalies, data_col]\n",
    "\n",
    "    # Color map for conditional formatting in the table\n",
    "    colors = ['red' if x else 'rgba(228, 222, 249, 0.65)' for x in anomalies]\n",
    "    \n",
    "    # Table including Date and Actual Values\n",
    "    table = go.Table(\n",
    "        domain=dict(x=[0, 1], y=[0, 0.3]),\n",
    "        columnwidth=[1, 2],\n",
    "        header=dict(\n",
    "            values=['<b>Date</b>', '<b>Anomaly Values</b>'],\n",
    "            font=dict(size=14),\n",
    "            fill_color='#d562be'),\n",
    "        cells=dict(\n",
    "            values=[dates_a.dt.strftime('%Y-%m-%d'), actuals_a.round(3)],\n",
    "            align='center',\n",
    "            font_size=12,\n",
    "            fill_color=colors\n",
    "        )\n",
    "    )\n",
    "    \n",
    "    # Actual data points plot\n",
    "    actuals_plot = go.Scatter(\n",
    "        name='Actuals',\n",
    "        x=dates,\n",
    "        y=actuals,\n",
    "        mode='lines+markers',\n",
    "        line=dict(color=\"blue\")\n",
    "    )\n",
    "    \n",
    "    # Highlight anomaly points\n",
    "    anomalies_plot = go.Scatter(\n",
    "        name=\"Anomalies\",\n",
    "        x=dates_a,\n",
    "        y=actuals_a,\n",
    "        mode='markers',\n",
    "        marker=dict(color=\"red\", size=11)\n",
    "    )\n",
    "    \n",
    "    # Layout configuration\n",
    "    layout = go.Layout(\n",
    "        title='Soda Ash Price Anomaly Detection',\n",
    "        showlegend=True,\n",
    "        xaxis=dict(domain=[0, 1]),\n",
    "        yaxis=dict(domain=[0.4, 1]),\n",
    "        height=600\n",
    "    )\n",
    "    \n",
    "    fig = go.Figure(data=[table, actuals_plot, anomalies_plot], layout=layout)\n",
    "    iplot(fig)\n"
   ]
  },
  {
   "cell_type": "code",
   "execution_count": 62,
   "metadata": {},
   "outputs": [
    {
     "name": "stderr",
     "output_type": "stream",
     "text": [
      "c:\\Users\\249881\\AppData\\Local\\anaconda3\\Lib\\site-packages\\_plotly_utils\\basevalidators.py:106: FutureWarning:\n",
      "\n",
      "The behavior of DatetimeProperties.to_pydatetime is deprecated, in a future version this will return a Series containing python datetime objects instead of an ndarray. To retain the old behavior, call `np.array` on the result\n",
      "\n"
     ]
    },
    {
     "data": {
      "application/vnd.plotly.v1+json": {
       "config": {
        "linkText": "Export to plot.ly",
        "plotlyServerURL": "https://plot.ly",
        "showLink": false
       },
       "data": [
        {
         "cells": {
          "align": "center",
          "fill": {
           "color": [
            "rgba(228, 222, 249, 0.65)",
            "rgba(228, 222, 249, 0.65)",
            "rgba(228, 222, 249, 0.65)",
            "rgba(228, 222, 249, 0.65)",
            "rgba(228, 222, 249, 0.65)",
            "rgba(228, 222, 249, 0.65)",
            "rgba(228, 222, 249, 0.65)",
            "rgba(228, 222, 249, 0.65)",
            "rgba(228, 222, 249, 0.65)",
            "rgba(228, 222, 249, 0.65)",
            "rgba(228, 222, 249, 0.65)",
            "rgba(228, 222, 249, 0.65)",
            "rgba(228, 222, 249, 0.65)",
            "rgba(228, 222, 249, 0.65)",
            "rgba(228, 222, 249, 0.65)",
            "rgba(228, 222, 249, 0.65)",
            "rgba(228, 222, 249, 0.65)",
            "rgba(228, 222, 249, 0.65)",
            "rgba(228, 222, 249, 0.65)",
            "rgba(228, 222, 249, 0.65)",
            "rgba(228, 222, 249, 0.65)",
            "rgba(228, 222, 249, 0.65)",
            "rgba(228, 222, 249, 0.65)",
            "rgba(228, 222, 249, 0.65)",
            "rgba(228, 222, 249, 0.65)",
            "rgba(228, 222, 249, 0.65)",
            "rgba(228, 222, 249, 0.65)",
            "rgba(228, 222, 249, 0.65)",
            "rgba(228, 222, 249, 0.65)",
            "rgba(228, 222, 249, 0.65)",
            "rgba(228, 222, 249, 0.65)",
            "rgba(228, 222, 249, 0.65)",
            "rgba(228, 222, 249, 0.65)",
            "red",
            "red",
            "rgba(228, 222, 249, 0.65)",
            "rgba(228, 222, 249, 0.65)",
            "rgba(228, 222, 249, 0.65)",
            "rgba(228, 222, 249, 0.65)",
            "rgba(228, 222, 249, 0.65)",
            "rgba(228, 222, 249, 0.65)",
            "rgba(228, 222, 249, 0.65)",
            "rgba(228, 222, 249, 0.65)",
            "rgba(228, 222, 249, 0.65)",
            "red",
            "rgba(228, 222, 249, 0.65)",
            "rgba(228, 222, 249, 0.65)",
            "rgba(228, 222, 249, 0.65)",
            "rgba(228, 222, 249, 0.65)",
            "rgba(228, 222, 249, 0.65)",
            "rgba(228, 222, 249, 0.65)",
            "red",
            "rgba(228, 222, 249, 0.65)",
            "rgba(228, 222, 249, 0.65)",
            "rgba(228, 222, 249, 0.65)",
            "rgba(228, 222, 249, 0.65)",
            "rgba(228, 222, 249, 0.65)",
            "rgba(228, 222, 249, 0.65)",
            "rgba(228, 222, 249, 0.65)",
            "rgba(228, 222, 249, 0.65)",
            "rgba(228, 222, 249, 0.65)",
            "rgba(228, 222, 249, 0.65)",
            "rgba(228, 222, 249, 0.65)",
            "rgba(228, 222, 249, 0.65)",
            "rgba(228, 222, 249, 0.65)",
            "rgba(228, 222, 249, 0.65)",
            "rgba(228, 222, 249, 0.65)",
            "rgba(228, 222, 249, 0.65)",
            "rgba(228, 222, 249, 0.65)",
            "rgba(228, 222, 249, 0.65)",
            "rgba(228, 222, 249, 0.65)",
            "rgba(228, 222, 249, 0.65)",
            "rgba(228, 222, 249, 0.65)",
            "rgba(228, 222, 249, 0.65)",
            "rgba(228, 222, 249, 0.65)",
            "rgba(228, 222, 249, 0.65)",
            "red",
            "rgba(228, 222, 249, 0.65)",
            "rgba(228, 222, 249, 0.65)",
            "rgba(228, 222, 249, 0.65)",
            "red",
            "rgba(228, 222, 249, 0.65)",
            "rgba(228, 222, 249, 0.65)",
            "rgba(228, 222, 249, 0.65)",
            "rgba(228, 222, 249, 0.65)",
            "rgba(228, 222, 249, 0.65)",
            "rgba(228, 222, 249, 0.65)",
            "rgba(228, 222, 249, 0.65)",
            "rgba(228, 222, 249, 0.65)",
            "rgba(228, 222, 249, 0.65)",
            "red",
            "red",
            "red",
            "red",
            "rgba(228, 222, 249, 0.65)",
            "red",
            "red",
            "red",
            "red",
            "rgba(228, 222, 249, 0.65)",
            "rgba(228, 222, 249, 0.65)",
            "rgba(228, 222, 249, 0.65)",
            "rgba(228, 222, 249, 0.65)",
            "red",
            "rgba(228, 222, 249, 0.65)",
            "rgba(228, 222, 249, 0.65)",
            "rgba(228, 222, 249, 0.65)",
            "rgba(228, 222, 249, 0.65)",
            "rgba(228, 222, 249, 0.65)",
            "rgba(228, 222, 249, 0.65)",
            "rgba(228, 222, 249, 0.65)",
            "rgba(228, 222, 249, 0.65)",
            "red",
            "red",
            "red",
            "rgba(228, 222, 249, 0.65)",
            "red",
            "red",
            "rgba(228, 222, 249, 0.65)",
            "red",
            "red",
            "rgba(228, 222, 249, 0.65)",
            "rgba(228, 222, 249, 0.65)"
           ]
          },
          "font": {
           "size": 12
          },
          "values": [
           [
            "2016-10-01",
            "2016-11-01",
            "2017-09-01",
            "2018-04-01",
            "2020-05-01",
            "2020-09-01",
            "2021-07-01",
            "2021-08-01",
            "2021-09-01",
            "2021-10-01",
            "2021-12-01",
            "2022-01-01",
            "2022-02-01",
            "2022-03-01",
            "2022-08-01",
            "2023-05-01",
            "2023-06-01",
            "2023-07-01",
            "2023-09-01",
            "2023-10-01",
            "2023-12-01",
            "2024-01-01"
           ],
           [
            212.5,
            240,
            305,
            287.5,
            168.75,
            197.5,
            282.5,
            325,
            402.5,
            507.5,
            420,
            330,
            395,
            435,
            370,
            311,
            263,
            317,
            395,
            313,
            370,
            285
           ]
          ]
         },
         "columnwidth": [
          1,
          2
         ],
         "domain": {
          "x": [
           0,
           1
          ],
          "y": [
           0,
           0.3
          ]
         },
         "header": {
          "fill": {
           "color": "#d562be"
          },
          "font": {
           "size": 14
          },
          "values": [
           "<b>Date</b>",
           "<b>Anomaly Values</b>"
          ]
         },
         "type": "table"
        },
        {
         "line": {
          "color": "blue"
         },
         "mode": "lines+markers",
         "name": "Actuals",
         "type": "scatter",
         "x": [
          "2014-01-01T00:00:00",
          "2014-02-01T00:00:00",
          "2014-03-01T00:00:00",
          "2014-04-01T00:00:00",
          "2014-05-01T00:00:00",
          "2014-06-01T00:00:00",
          "2014-07-01T00:00:00",
          "2014-08-01T00:00:00",
          "2014-09-01T00:00:00",
          "2014-10-01T00:00:00",
          "2014-11-01T00:00:00",
          "2014-12-01T00:00:00",
          "2015-01-01T00:00:00",
          "2015-02-01T00:00:00",
          "2015-03-01T00:00:00",
          "2015-04-01T00:00:00",
          "2015-05-01T00:00:00",
          "2015-06-01T00:00:00",
          "2015-07-01T00:00:00",
          "2015-08-01T00:00:00",
          "2015-09-01T00:00:00",
          "2015-10-01T00:00:00",
          "2015-11-01T00:00:00",
          "2015-12-01T00:00:00",
          "2016-01-01T00:00:00",
          "2016-02-01T00:00:00",
          "2016-03-01T00:00:00",
          "2016-04-01T00:00:00",
          "2016-05-01T00:00:00",
          "2016-06-01T00:00:00",
          "2016-07-01T00:00:00",
          "2016-08-01T00:00:00",
          "2016-09-01T00:00:00",
          "2016-10-01T00:00:00",
          "2016-11-01T00:00:00",
          "2016-12-01T00:00:00",
          "2017-01-01T00:00:00",
          "2017-02-01T00:00:00",
          "2017-03-01T00:00:00",
          "2017-04-01T00:00:00",
          "2017-05-01T00:00:00",
          "2017-06-01T00:00:00",
          "2017-07-01T00:00:00",
          "2017-08-01T00:00:00",
          "2017-09-01T00:00:00",
          "2017-10-01T00:00:00",
          "2017-11-01T00:00:00",
          "2017-12-01T00:00:00",
          "2018-01-01T00:00:00",
          "2018-02-01T00:00:00",
          "2018-03-01T00:00:00",
          "2018-04-01T00:00:00",
          "2018-05-01T00:00:00",
          "2018-06-01T00:00:00",
          "2018-07-01T00:00:00",
          "2018-08-01T00:00:00",
          "2018-09-01T00:00:00",
          "2018-10-01T00:00:00",
          "2018-11-01T00:00:00",
          "2018-12-01T00:00:00",
          "2019-01-01T00:00:00",
          "2019-02-01T00:00:00",
          "2019-03-01T00:00:00",
          "2019-04-01T00:00:00",
          "2019-05-01T00:00:00",
          "2019-06-01T00:00:00",
          "2019-07-01T00:00:00",
          "2019-08-01T00:00:00",
          "2019-09-01T00:00:00",
          "2019-10-01T00:00:00",
          "2019-11-01T00:00:00",
          "2019-12-01T00:00:00",
          "2020-01-01T00:00:00",
          "2020-02-01T00:00:00",
          "2020-03-01T00:00:00",
          "2020-04-01T00:00:00",
          "2020-05-01T00:00:00",
          "2020-06-01T00:00:00",
          "2020-07-01T00:00:00",
          "2020-08-01T00:00:00",
          "2020-09-01T00:00:00",
          "2020-10-01T00:00:00",
          "2020-11-01T00:00:00",
          "2020-12-01T00:00:00",
          "2021-01-01T00:00:00",
          "2021-02-01T00:00:00",
          "2021-03-01T00:00:00",
          "2021-04-01T00:00:00",
          "2021-05-01T00:00:00",
          "2021-06-01T00:00:00",
          "2021-07-01T00:00:00",
          "2021-08-01T00:00:00",
          "2021-09-01T00:00:00",
          "2021-10-01T00:00:00",
          "2021-11-01T00:00:00",
          "2021-12-01T00:00:00",
          "2022-01-01T00:00:00",
          "2022-02-01T00:00:00",
          "2022-03-01T00:00:00",
          "2022-04-01T00:00:00",
          "2022-05-01T00:00:00",
          "2022-06-01T00:00:00",
          "2022-07-01T00:00:00",
          "2022-08-01T00:00:00",
          "2022-09-01T00:00:00",
          "2022-10-01T00:00:00",
          "2022-11-01T00:00:00",
          "2022-12-01T00:00:00",
          "2023-01-01T00:00:00",
          "2023-02-01T00:00:00",
          "2023-03-01T00:00:00",
          "2023-04-01T00:00:00",
          "2023-05-01T00:00:00",
          "2023-06-01T00:00:00",
          "2023-07-01T00:00:00",
          "2023-08-01T00:00:00",
          "2023-09-01T00:00:00",
          "2023-10-01T00:00:00",
          "2023-11-01T00:00:00",
          "2023-12-01T00:00:00",
          "2024-01-01T00:00:00",
          "2024-02-01T00:00:00",
          "2024-03-01T00:00:00"
         ],
         "y": [
          227.5,
          223.75,
          218.75,
          221.25,
          230,
          235,
          230,
          225,
          225,
          225,
          225,
          225,
          225,
          225,
          225,
          220,
          215,
          215,
          212.5,
          205,
          195,
          190,
          190,
          192.5,
          196.25,
          215,
          227.5,
          215,
          203.75,
          193.75,
          188.75,
          190,
          190,
          212.5,
          240,
          250,
          255,
          245,
          230,
          220,
          212.5,
          216.25,
          223.75,
          230,
          305,
          297.5,
          285,
          260,
          240,
          237.5,
          246.25,
          287.5,
          292.5,
          287.5,
          263.75,
          265,
          270,
          271.25,
          271.25,
          265,
          256.25,
          252.5,
          252.5,
          257.5,
          258.75,
          245,
          227.5,
          223.75,
          230,
          228.75,
          221.25,
          216.25,
          210,
          213.75,
          207.5,
          190,
          168.75,
          158.75,
          162.5,
          170,
          197.5,
          212.5,
          205,
          195,
          200,
          202.5,
          218.75,
          236.25,
          252.5,
          252.5,
          282.5,
          325,
          402.5,
          507.5,
          510,
          420,
          330,
          395,
          435,
          435,
          462.5,
          461,
          417.5,
          370,
          362.5,
          363.75,
          360,
          370,
          377.5,
          397.5,
          400,
          387.5,
          311,
          263,
          317,
          316,
          395,
          313,
          288,
          370,
          285,
          265,
          260
         ]
        },
        {
         "marker": {
          "color": "red",
          "size": 11
         },
         "mode": "markers",
         "name": "Anomalies",
         "type": "scatter",
         "x": [
          "2016-10-01T00:00:00",
          "2016-11-01T00:00:00",
          "2017-09-01T00:00:00",
          "2018-04-01T00:00:00",
          "2020-05-01T00:00:00",
          "2020-09-01T00:00:00",
          "2021-07-01T00:00:00",
          "2021-08-01T00:00:00",
          "2021-09-01T00:00:00",
          "2021-10-01T00:00:00",
          "2021-12-01T00:00:00",
          "2022-01-01T00:00:00",
          "2022-02-01T00:00:00",
          "2022-03-01T00:00:00",
          "2022-08-01T00:00:00",
          "2023-05-01T00:00:00",
          "2023-06-01T00:00:00",
          "2023-07-01T00:00:00",
          "2023-09-01T00:00:00",
          "2023-10-01T00:00:00",
          "2023-12-01T00:00:00",
          "2024-01-01T00:00:00"
         ],
         "y": [
          212.5,
          240,
          305,
          287.5,
          168.75,
          197.5,
          282.5,
          325,
          402.5,
          507.5,
          420,
          330,
          395,
          435,
          370,
          311,
          263,
          317,
          395,
          313,
          370,
          285
         ]
        }
       ],
       "layout": {
        "height": 600,
        "showlegend": true,
        "template": {
         "data": {
          "bar": [
           {
            "error_x": {
             "color": "#2a3f5f"
            },
            "error_y": {
             "color": "#2a3f5f"
            },
            "marker": {
             "line": {
              "color": "#E5ECF6",
              "width": 0.5
             },
             "pattern": {
              "fillmode": "overlay",
              "size": 10,
              "solidity": 0.2
             }
            },
            "type": "bar"
           }
          ],
          "barpolar": [
           {
            "marker": {
             "line": {
              "color": "#E5ECF6",
              "width": 0.5
             },
             "pattern": {
              "fillmode": "overlay",
              "size": 10,
              "solidity": 0.2
             }
            },
            "type": "barpolar"
           }
          ],
          "carpet": [
           {
            "aaxis": {
             "endlinecolor": "#2a3f5f",
             "gridcolor": "white",
             "linecolor": "white",
             "minorgridcolor": "white",
             "startlinecolor": "#2a3f5f"
            },
            "baxis": {
             "endlinecolor": "#2a3f5f",
             "gridcolor": "white",
             "linecolor": "white",
             "minorgridcolor": "white",
             "startlinecolor": "#2a3f5f"
            },
            "type": "carpet"
           }
          ],
          "choropleth": [
           {
            "colorbar": {
             "outlinewidth": 0,
             "ticks": ""
            },
            "type": "choropleth"
           }
          ],
          "contour": [
           {
            "colorbar": {
             "outlinewidth": 0,
             "ticks": ""
            },
            "colorscale": [
             [
              0,
              "#0d0887"
             ],
             [
              0.1111111111111111,
              "#46039f"
             ],
             [
              0.2222222222222222,
              "#7201a8"
             ],
             [
              0.3333333333333333,
              "#9c179e"
             ],
             [
              0.4444444444444444,
              "#bd3786"
             ],
             [
              0.5555555555555556,
              "#d8576b"
             ],
             [
              0.6666666666666666,
              "#ed7953"
             ],
             [
              0.7777777777777778,
              "#fb9f3a"
             ],
             [
              0.8888888888888888,
              "#fdca26"
             ],
             [
              1,
              "#f0f921"
             ]
            ],
            "type": "contour"
           }
          ],
          "contourcarpet": [
           {
            "colorbar": {
             "outlinewidth": 0,
             "ticks": ""
            },
            "type": "contourcarpet"
           }
          ],
          "heatmap": [
           {
            "colorbar": {
             "outlinewidth": 0,
             "ticks": ""
            },
            "colorscale": [
             [
              0,
              "#0d0887"
             ],
             [
              0.1111111111111111,
              "#46039f"
             ],
             [
              0.2222222222222222,
              "#7201a8"
             ],
             [
              0.3333333333333333,
              "#9c179e"
             ],
             [
              0.4444444444444444,
              "#bd3786"
             ],
             [
              0.5555555555555556,
              "#d8576b"
             ],
             [
              0.6666666666666666,
              "#ed7953"
             ],
             [
              0.7777777777777778,
              "#fb9f3a"
             ],
             [
              0.8888888888888888,
              "#fdca26"
             ],
             [
              1,
              "#f0f921"
             ]
            ],
            "type": "heatmap"
           }
          ],
          "heatmapgl": [
           {
            "colorbar": {
             "outlinewidth": 0,
             "ticks": ""
            },
            "colorscale": [
             [
              0,
              "#0d0887"
             ],
             [
              0.1111111111111111,
              "#46039f"
             ],
             [
              0.2222222222222222,
              "#7201a8"
             ],
             [
              0.3333333333333333,
              "#9c179e"
             ],
             [
              0.4444444444444444,
              "#bd3786"
             ],
             [
              0.5555555555555556,
              "#d8576b"
             ],
             [
              0.6666666666666666,
              "#ed7953"
             ],
             [
              0.7777777777777778,
              "#fb9f3a"
             ],
             [
              0.8888888888888888,
              "#fdca26"
             ],
             [
              1,
              "#f0f921"
             ]
            ],
            "type": "heatmapgl"
           }
          ],
          "histogram": [
           {
            "marker": {
             "pattern": {
              "fillmode": "overlay",
              "size": 10,
              "solidity": 0.2
             }
            },
            "type": "histogram"
           }
          ],
          "histogram2d": [
           {
            "colorbar": {
             "outlinewidth": 0,
             "ticks": ""
            },
            "colorscale": [
             [
              0,
              "#0d0887"
             ],
             [
              0.1111111111111111,
              "#46039f"
             ],
             [
              0.2222222222222222,
              "#7201a8"
             ],
             [
              0.3333333333333333,
              "#9c179e"
             ],
             [
              0.4444444444444444,
              "#bd3786"
             ],
             [
              0.5555555555555556,
              "#d8576b"
             ],
             [
              0.6666666666666666,
              "#ed7953"
             ],
             [
              0.7777777777777778,
              "#fb9f3a"
             ],
             [
              0.8888888888888888,
              "#fdca26"
             ],
             [
              1,
              "#f0f921"
             ]
            ],
            "type": "histogram2d"
           }
          ],
          "histogram2dcontour": [
           {
            "colorbar": {
             "outlinewidth": 0,
             "ticks": ""
            },
            "colorscale": [
             [
              0,
              "#0d0887"
             ],
             [
              0.1111111111111111,
              "#46039f"
             ],
             [
              0.2222222222222222,
              "#7201a8"
             ],
             [
              0.3333333333333333,
              "#9c179e"
             ],
             [
              0.4444444444444444,
              "#bd3786"
             ],
             [
              0.5555555555555556,
              "#d8576b"
             ],
             [
              0.6666666666666666,
              "#ed7953"
             ],
             [
              0.7777777777777778,
              "#fb9f3a"
             ],
             [
              0.8888888888888888,
              "#fdca26"
             ],
             [
              1,
              "#f0f921"
             ]
            ],
            "type": "histogram2dcontour"
           }
          ],
          "mesh3d": [
           {
            "colorbar": {
             "outlinewidth": 0,
             "ticks": ""
            },
            "type": "mesh3d"
           }
          ],
          "parcoords": [
           {
            "line": {
             "colorbar": {
              "outlinewidth": 0,
              "ticks": ""
             }
            },
            "type": "parcoords"
           }
          ],
          "pie": [
           {
            "automargin": true,
            "type": "pie"
           }
          ],
          "scatter": [
           {
            "fillpattern": {
             "fillmode": "overlay",
             "size": 10,
             "solidity": 0.2
            },
            "type": "scatter"
           }
          ],
          "scatter3d": [
           {
            "line": {
             "colorbar": {
              "outlinewidth": 0,
              "ticks": ""
             }
            },
            "marker": {
             "colorbar": {
              "outlinewidth": 0,
              "ticks": ""
             }
            },
            "type": "scatter3d"
           }
          ],
          "scattercarpet": [
           {
            "marker": {
             "colorbar": {
              "outlinewidth": 0,
              "ticks": ""
             }
            },
            "type": "scattercarpet"
           }
          ],
          "scattergeo": [
           {
            "marker": {
             "colorbar": {
              "outlinewidth": 0,
              "ticks": ""
             }
            },
            "type": "scattergeo"
           }
          ],
          "scattergl": [
           {
            "marker": {
             "colorbar": {
              "outlinewidth": 0,
              "ticks": ""
             }
            },
            "type": "scattergl"
           }
          ],
          "scattermapbox": [
           {
            "marker": {
             "colorbar": {
              "outlinewidth": 0,
              "ticks": ""
             }
            },
            "type": "scattermapbox"
           }
          ],
          "scatterpolar": [
           {
            "marker": {
             "colorbar": {
              "outlinewidth": 0,
              "ticks": ""
             }
            },
            "type": "scatterpolar"
           }
          ],
          "scatterpolargl": [
           {
            "marker": {
             "colorbar": {
              "outlinewidth": 0,
              "ticks": ""
             }
            },
            "type": "scatterpolargl"
           }
          ],
          "scatterternary": [
           {
            "marker": {
             "colorbar": {
              "outlinewidth": 0,
              "ticks": ""
             }
            },
            "type": "scatterternary"
           }
          ],
          "surface": [
           {
            "colorbar": {
             "outlinewidth": 0,
             "ticks": ""
            },
            "colorscale": [
             [
              0,
              "#0d0887"
             ],
             [
              0.1111111111111111,
              "#46039f"
             ],
             [
              0.2222222222222222,
              "#7201a8"
             ],
             [
              0.3333333333333333,
              "#9c179e"
             ],
             [
              0.4444444444444444,
              "#bd3786"
             ],
             [
              0.5555555555555556,
              "#d8576b"
             ],
             [
              0.6666666666666666,
              "#ed7953"
             ],
             [
              0.7777777777777778,
              "#fb9f3a"
             ],
             [
              0.8888888888888888,
              "#fdca26"
             ],
             [
              1,
              "#f0f921"
             ]
            ],
            "type": "surface"
           }
          ],
          "table": [
           {
            "cells": {
             "fill": {
              "color": "#EBF0F8"
             },
             "line": {
              "color": "white"
             }
            },
            "header": {
             "fill": {
              "color": "#C8D4E3"
             },
             "line": {
              "color": "white"
             }
            },
            "type": "table"
           }
          ]
         },
         "layout": {
          "annotationdefaults": {
           "arrowcolor": "#2a3f5f",
           "arrowhead": 0,
           "arrowwidth": 1
          },
          "autotypenumbers": "strict",
          "coloraxis": {
           "colorbar": {
            "outlinewidth": 0,
            "ticks": ""
           }
          },
          "colorscale": {
           "diverging": [
            [
             0,
             "#8e0152"
            ],
            [
             0.1,
             "#c51b7d"
            ],
            [
             0.2,
             "#de77ae"
            ],
            [
             0.3,
             "#f1b6da"
            ],
            [
             0.4,
             "#fde0ef"
            ],
            [
             0.5,
             "#f7f7f7"
            ],
            [
             0.6,
             "#e6f5d0"
            ],
            [
             0.7,
             "#b8e186"
            ],
            [
             0.8,
             "#7fbc41"
            ],
            [
             0.9,
             "#4d9221"
            ],
            [
             1,
             "#276419"
            ]
           ],
           "sequential": [
            [
             0,
             "#0d0887"
            ],
            [
             0.1111111111111111,
             "#46039f"
            ],
            [
             0.2222222222222222,
             "#7201a8"
            ],
            [
             0.3333333333333333,
             "#9c179e"
            ],
            [
             0.4444444444444444,
             "#bd3786"
            ],
            [
             0.5555555555555556,
             "#d8576b"
            ],
            [
             0.6666666666666666,
             "#ed7953"
            ],
            [
             0.7777777777777778,
             "#fb9f3a"
            ],
            [
             0.8888888888888888,
             "#fdca26"
            ],
            [
             1,
             "#f0f921"
            ]
           ],
           "sequentialminus": [
            [
             0,
             "#0d0887"
            ],
            [
             0.1111111111111111,
             "#46039f"
            ],
            [
             0.2222222222222222,
             "#7201a8"
            ],
            [
             0.3333333333333333,
             "#9c179e"
            ],
            [
             0.4444444444444444,
             "#bd3786"
            ],
            [
             0.5555555555555556,
             "#d8576b"
            ],
            [
             0.6666666666666666,
             "#ed7953"
            ],
            [
             0.7777777777777778,
             "#fb9f3a"
            ],
            [
             0.8888888888888888,
             "#fdca26"
            ],
            [
             1,
             "#f0f921"
            ]
           ]
          },
          "colorway": [
           "#636efa",
           "#EF553B",
           "#00cc96",
           "#ab63fa",
           "#FFA15A",
           "#19d3f3",
           "#FF6692",
           "#B6E880",
           "#FF97FF",
           "#FECB52"
          ],
          "font": {
           "color": "#2a3f5f"
          },
          "geo": {
           "bgcolor": "white",
           "lakecolor": "white",
           "landcolor": "#E5ECF6",
           "showlakes": true,
           "showland": true,
           "subunitcolor": "white"
          },
          "hoverlabel": {
           "align": "left"
          },
          "hovermode": "closest",
          "mapbox": {
           "style": "light"
          },
          "paper_bgcolor": "white",
          "plot_bgcolor": "#E5ECF6",
          "polar": {
           "angularaxis": {
            "gridcolor": "white",
            "linecolor": "white",
            "ticks": ""
           },
           "bgcolor": "#E5ECF6",
           "radialaxis": {
            "gridcolor": "white",
            "linecolor": "white",
            "ticks": ""
           }
          },
          "scene": {
           "xaxis": {
            "backgroundcolor": "#E5ECF6",
            "gridcolor": "white",
            "gridwidth": 2,
            "linecolor": "white",
            "showbackground": true,
            "ticks": "",
            "zerolinecolor": "white"
           },
           "yaxis": {
            "backgroundcolor": "#E5ECF6",
            "gridcolor": "white",
            "gridwidth": 2,
            "linecolor": "white",
            "showbackground": true,
            "ticks": "",
            "zerolinecolor": "white"
           },
           "zaxis": {
            "backgroundcolor": "#E5ECF6",
            "gridcolor": "white",
            "gridwidth": 2,
            "linecolor": "white",
            "showbackground": true,
            "ticks": "",
            "zerolinecolor": "white"
           }
          },
          "shapedefaults": {
           "line": {
            "color": "#2a3f5f"
           }
          },
          "ternary": {
           "aaxis": {
            "gridcolor": "white",
            "linecolor": "white",
            "ticks": ""
           },
           "baxis": {
            "gridcolor": "white",
            "linecolor": "white",
            "ticks": ""
           },
           "bgcolor": "#E5ECF6",
           "caxis": {
            "gridcolor": "white",
            "linecolor": "white",
            "ticks": ""
           }
          },
          "title": {
           "x": 0.05
          },
          "xaxis": {
           "automargin": true,
           "gridcolor": "white",
           "linecolor": "white",
           "ticks": "",
           "title": {
            "standoff": 15
           },
           "zerolinecolor": "white",
           "zerolinewidth": 2
          },
          "yaxis": {
           "automargin": true,
           "gridcolor": "white",
           "linecolor": "white",
           "ticks": "",
           "title": {
            "standoff": 15
           },
           "zerolinecolor": "white",
           "zerolinewidth": 2
          }
         }
        },
        "title": {
         "text": "Soda Ash Price Anomaly Detection"
        },
        "xaxis": {
         "domain": [
          0,
          1
         ]
        },
        "yaxis": {
         "domain": [
          0.4,
          1
         ]
        }
       }
      },
      "text/html": [
       "<div>                            <div id=\"e9d1e3b6-f36d-4a13-8554-fd3133fbbb2e\" class=\"plotly-graph-div\" style=\"height:600px; width:100%;\"></div>            <script type=\"text/javascript\">                require([\"plotly\"], function(Plotly) {                    window.PLOTLYENV=window.PLOTLYENV || {};                                    if (document.getElementById(\"e9d1e3b6-f36d-4a13-8554-fd3133fbbb2e\")) {                    Plotly.newPlot(                        \"e9d1e3b6-f36d-4a13-8554-fd3133fbbb2e\",                        [{\"cells\":{\"align\":\"center\",\"fill\":{\"color\":[\"rgba(228, 222, 249, 0.65)\",\"rgba(228, 222, 249, 0.65)\",\"rgba(228, 222, 249, 0.65)\",\"rgba(228, 222, 249, 0.65)\",\"rgba(228, 222, 249, 0.65)\",\"rgba(228, 222, 249, 0.65)\",\"rgba(228, 222, 249, 0.65)\",\"rgba(228, 222, 249, 0.65)\",\"rgba(228, 222, 249, 0.65)\",\"rgba(228, 222, 249, 0.65)\",\"rgba(228, 222, 249, 0.65)\",\"rgba(228, 222, 249, 0.65)\",\"rgba(228, 222, 249, 0.65)\",\"rgba(228, 222, 249, 0.65)\",\"rgba(228, 222, 249, 0.65)\",\"rgba(228, 222, 249, 0.65)\",\"rgba(228, 222, 249, 0.65)\",\"rgba(228, 222, 249, 0.65)\",\"rgba(228, 222, 249, 0.65)\",\"rgba(228, 222, 249, 0.65)\",\"rgba(228, 222, 249, 0.65)\",\"rgba(228, 222, 249, 0.65)\",\"rgba(228, 222, 249, 0.65)\",\"rgba(228, 222, 249, 0.65)\",\"rgba(228, 222, 249, 0.65)\",\"rgba(228, 222, 249, 0.65)\",\"rgba(228, 222, 249, 0.65)\",\"rgba(228, 222, 249, 0.65)\",\"rgba(228, 222, 249, 0.65)\",\"rgba(228, 222, 249, 0.65)\",\"rgba(228, 222, 249, 0.65)\",\"rgba(228, 222, 249, 0.65)\",\"rgba(228, 222, 249, 0.65)\",\"red\",\"red\",\"rgba(228, 222, 249, 0.65)\",\"rgba(228, 222, 249, 0.65)\",\"rgba(228, 222, 249, 0.65)\",\"rgba(228, 222, 249, 0.65)\",\"rgba(228, 222, 249, 0.65)\",\"rgba(228, 222, 249, 0.65)\",\"rgba(228, 222, 249, 0.65)\",\"rgba(228, 222, 249, 0.65)\",\"rgba(228, 222, 249, 0.65)\",\"red\",\"rgba(228, 222, 249, 0.65)\",\"rgba(228, 222, 249, 0.65)\",\"rgba(228, 222, 249, 0.65)\",\"rgba(228, 222, 249, 0.65)\",\"rgba(228, 222, 249, 0.65)\",\"rgba(228, 222, 249, 0.65)\",\"red\",\"rgba(228, 222, 249, 0.65)\",\"rgba(228, 222, 249, 0.65)\",\"rgba(228, 222, 249, 0.65)\",\"rgba(228, 222, 249, 0.65)\",\"rgba(228, 222, 249, 0.65)\",\"rgba(228, 222, 249, 0.65)\",\"rgba(228, 222, 249, 0.65)\",\"rgba(228, 222, 249, 0.65)\",\"rgba(228, 222, 249, 0.65)\",\"rgba(228, 222, 249, 0.65)\",\"rgba(228, 222, 249, 0.65)\",\"rgba(228, 222, 249, 0.65)\",\"rgba(228, 222, 249, 0.65)\",\"rgba(228, 222, 249, 0.65)\",\"rgba(228, 222, 249, 0.65)\",\"rgba(228, 222, 249, 0.65)\",\"rgba(228, 222, 249, 0.65)\",\"rgba(228, 222, 249, 0.65)\",\"rgba(228, 222, 249, 0.65)\",\"rgba(228, 222, 249, 0.65)\",\"rgba(228, 222, 249, 0.65)\",\"rgba(228, 222, 249, 0.65)\",\"rgba(228, 222, 249, 0.65)\",\"rgba(228, 222, 249, 0.65)\",\"red\",\"rgba(228, 222, 249, 0.65)\",\"rgba(228, 222, 249, 0.65)\",\"rgba(228, 222, 249, 0.65)\",\"red\",\"rgba(228, 222, 249, 0.65)\",\"rgba(228, 222, 249, 0.65)\",\"rgba(228, 222, 249, 0.65)\",\"rgba(228, 222, 249, 0.65)\",\"rgba(228, 222, 249, 0.65)\",\"rgba(228, 222, 249, 0.65)\",\"rgba(228, 222, 249, 0.65)\",\"rgba(228, 222, 249, 0.65)\",\"rgba(228, 222, 249, 0.65)\",\"red\",\"red\",\"red\",\"red\",\"rgba(228, 222, 249, 0.65)\",\"red\",\"red\",\"red\",\"red\",\"rgba(228, 222, 249, 0.65)\",\"rgba(228, 222, 249, 0.65)\",\"rgba(228, 222, 249, 0.65)\",\"rgba(228, 222, 249, 0.65)\",\"red\",\"rgba(228, 222, 249, 0.65)\",\"rgba(228, 222, 249, 0.65)\",\"rgba(228, 222, 249, 0.65)\",\"rgba(228, 222, 249, 0.65)\",\"rgba(228, 222, 249, 0.65)\",\"rgba(228, 222, 249, 0.65)\",\"rgba(228, 222, 249, 0.65)\",\"rgba(228, 222, 249, 0.65)\",\"red\",\"red\",\"red\",\"rgba(228, 222, 249, 0.65)\",\"red\",\"red\",\"rgba(228, 222, 249, 0.65)\",\"red\",\"red\",\"rgba(228, 222, 249, 0.65)\",\"rgba(228, 222, 249, 0.65)\"]},\"font\":{\"size\":12},\"values\":[[\"2016-10-01\",\"2016-11-01\",\"2017-09-01\",\"2018-04-01\",\"2020-05-01\",\"2020-09-01\",\"2021-07-01\",\"2021-08-01\",\"2021-09-01\",\"2021-10-01\",\"2021-12-01\",\"2022-01-01\",\"2022-02-01\",\"2022-03-01\",\"2022-08-01\",\"2023-05-01\",\"2023-06-01\",\"2023-07-01\",\"2023-09-01\",\"2023-10-01\",\"2023-12-01\",\"2024-01-01\"],[212.5,240.0,305.0,287.5,168.75,197.5,282.5,325.0,402.5,507.5,420.0,330.0,395.0,435.0,370.0,311.0,263.0,317.0,395.0,313.0,370.0,285.0]]},\"columnwidth\":[1,2],\"domain\":{\"x\":[0,1],\"y\":[0,0.3]},\"header\":{\"fill\":{\"color\":\"#d562be\"},\"font\":{\"size\":14},\"values\":[\"<b>Date</b>\",\"<b>Anomaly Values</b>\"]},\"type\":\"table\"},{\"line\":{\"color\":\"blue\"},\"mode\":\"lines+markers\",\"name\":\"Actuals\",\"x\":[\"2014-01-01T00:00:00\",\"2014-02-01T00:00:00\",\"2014-03-01T00:00:00\",\"2014-04-01T00:00:00\",\"2014-05-01T00:00:00\",\"2014-06-01T00:00:00\",\"2014-07-01T00:00:00\",\"2014-08-01T00:00:00\",\"2014-09-01T00:00:00\",\"2014-10-01T00:00:00\",\"2014-11-01T00:00:00\",\"2014-12-01T00:00:00\",\"2015-01-01T00:00:00\",\"2015-02-01T00:00:00\",\"2015-03-01T00:00:00\",\"2015-04-01T00:00:00\",\"2015-05-01T00:00:00\",\"2015-06-01T00:00:00\",\"2015-07-01T00:00:00\",\"2015-08-01T00:00:00\",\"2015-09-01T00:00:00\",\"2015-10-01T00:00:00\",\"2015-11-01T00:00:00\",\"2015-12-01T00:00:00\",\"2016-01-01T00:00:00\",\"2016-02-01T00:00:00\",\"2016-03-01T00:00:00\",\"2016-04-01T00:00:00\",\"2016-05-01T00:00:00\",\"2016-06-01T00:00:00\",\"2016-07-01T00:00:00\",\"2016-08-01T00:00:00\",\"2016-09-01T00:00:00\",\"2016-10-01T00:00:00\",\"2016-11-01T00:00:00\",\"2016-12-01T00:00:00\",\"2017-01-01T00:00:00\",\"2017-02-01T00:00:00\",\"2017-03-01T00:00:00\",\"2017-04-01T00:00:00\",\"2017-05-01T00:00:00\",\"2017-06-01T00:00:00\",\"2017-07-01T00:00:00\",\"2017-08-01T00:00:00\",\"2017-09-01T00:00:00\",\"2017-10-01T00:00:00\",\"2017-11-01T00:00:00\",\"2017-12-01T00:00:00\",\"2018-01-01T00:00:00\",\"2018-02-01T00:00:00\",\"2018-03-01T00:00:00\",\"2018-04-01T00:00:00\",\"2018-05-01T00:00:00\",\"2018-06-01T00:00:00\",\"2018-07-01T00:00:00\",\"2018-08-01T00:00:00\",\"2018-09-01T00:00:00\",\"2018-10-01T00:00:00\",\"2018-11-01T00:00:00\",\"2018-12-01T00:00:00\",\"2019-01-01T00:00:00\",\"2019-02-01T00:00:00\",\"2019-03-01T00:00:00\",\"2019-04-01T00:00:00\",\"2019-05-01T00:00:00\",\"2019-06-01T00:00:00\",\"2019-07-01T00:00:00\",\"2019-08-01T00:00:00\",\"2019-09-01T00:00:00\",\"2019-10-01T00:00:00\",\"2019-11-01T00:00:00\",\"2019-12-01T00:00:00\",\"2020-01-01T00:00:00\",\"2020-02-01T00:00:00\",\"2020-03-01T00:00:00\",\"2020-04-01T00:00:00\",\"2020-05-01T00:00:00\",\"2020-06-01T00:00:00\",\"2020-07-01T00:00:00\",\"2020-08-01T00:00:00\",\"2020-09-01T00:00:00\",\"2020-10-01T00:00:00\",\"2020-11-01T00:00:00\",\"2020-12-01T00:00:00\",\"2021-01-01T00:00:00\",\"2021-02-01T00:00:00\",\"2021-03-01T00:00:00\",\"2021-04-01T00:00:00\",\"2021-05-01T00:00:00\",\"2021-06-01T00:00:00\",\"2021-07-01T00:00:00\",\"2021-08-01T00:00:00\",\"2021-09-01T00:00:00\",\"2021-10-01T00:00:00\",\"2021-11-01T00:00:00\",\"2021-12-01T00:00:00\",\"2022-01-01T00:00:00\",\"2022-02-01T00:00:00\",\"2022-03-01T00:00:00\",\"2022-04-01T00:00:00\",\"2022-05-01T00:00:00\",\"2022-06-01T00:00:00\",\"2022-07-01T00:00:00\",\"2022-08-01T00:00:00\",\"2022-09-01T00:00:00\",\"2022-10-01T00:00:00\",\"2022-11-01T00:00:00\",\"2022-12-01T00:00:00\",\"2023-01-01T00:00:00\",\"2023-02-01T00:00:00\",\"2023-03-01T00:00:00\",\"2023-04-01T00:00:00\",\"2023-05-01T00:00:00\",\"2023-06-01T00:00:00\",\"2023-07-01T00:00:00\",\"2023-08-01T00:00:00\",\"2023-09-01T00:00:00\",\"2023-10-01T00:00:00\",\"2023-11-01T00:00:00\",\"2023-12-01T00:00:00\",\"2024-01-01T00:00:00\",\"2024-02-01T00:00:00\",\"2024-03-01T00:00:00\"],\"y\":[227.5,223.75,218.75,221.25,230.0,235.0,230.0,225.0,225.0,225.0,225.0,225.0,225.0,225.0,225.0,220.0,215.0,215.0,212.5,205.0,195.0,190.0,190.0,192.5,196.25,215.0,227.5,215.0,203.75,193.75,188.75,190.0,190.0,212.5,240.0,250.0,255.0,245.0,230.0,220.0,212.5,216.25,223.75,230.0,305.0,297.5,285.0,260.0,240.0,237.5,246.25,287.5,292.5,287.5,263.75,265.0,270.0,271.25,271.25,265.0,256.25,252.5,252.5,257.5,258.75,245.0,227.5,223.75,230.0,228.75,221.25,216.25,210.0,213.75,207.5,190.0,168.75,158.75,162.5,170.0,197.5,212.5,205.0,195.0,200.0,202.5,218.75,236.25,252.5,252.5,282.5,325.0,402.5,507.5,510.0,420.0,330.0,395.0,435.0,435.0,462.5,461.0,417.5,370.0,362.5,363.75,360.0,370.0,377.5,397.5,400.0,387.5,311.0,263.0,317.0,316.0,395.0,313.0,288.0,370.0,285.0,265.0,260.0],\"type\":\"scatter\"},{\"marker\":{\"color\":\"red\",\"size\":11},\"mode\":\"markers\",\"name\":\"Anomalies\",\"x\":[\"2016-10-01T00:00:00\",\"2016-11-01T00:00:00\",\"2017-09-01T00:00:00\",\"2018-04-01T00:00:00\",\"2020-05-01T00:00:00\",\"2020-09-01T00:00:00\",\"2021-07-01T00:00:00\",\"2021-08-01T00:00:00\",\"2021-09-01T00:00:00\",\"2021-10-01T00:00:00\",\"2021-12-01T00:00:00\",\"2022-01-01T00:00:00\",\"2022-02-01T00:00:00\",\"2022-03-01T00:00:00\",\"2022-08-01T00:00:00\",\"2023-05-01T00:00:00\",\"2023-06-01T00:00:00\",\"2023-07-01T00:00:00\",\"2023-09-01T00:00:00\",\"2023-10-01T00:00:00\",\"2023-12-01T00:00:00\",\"2024-01-01T00:00:00\"],\"y\":[212.5,240.0,305.0,287.5,168.75,197.5,282.5,325.0,402.5,507.5,420.0,330.0,395.0,435.0,370.0,311.0,263.0,317.0,395.0,313.0,370.0,285.0],\"type\":\"scatter\"}],                        {\"height\":600,\"showlegend\":true,\"template\":{\"data\":{\"barpolar\":[{\"marker\":{\"line\":{\"color\":\"#E5ECF6\",\"width\":0.5},\"pattern\":{\"fillmode\":\"overlay\",\"size\":10,\"solidity\":0.2}},\"type\":\"barpolar\"}],\"bar\":[{\"error_x\":{\"color\":\"#2a3f5f\"},\"error_y\":{\"color\":\"#2a3f5f\"},\"marker\":{\"line\":{\"color\":\"#E5ECF6\",\"width\":0.5},\"pattern\":{\"fillmode\":\"overlay\",\"size\":10,\"solidity\":0.2}},\"type\":\"bar\"}],\"carpet\":[{\"aaxis\":{\"endlinecolor\":\"#2a3f5f\",\"gridcolor\":\"white\",\"linecolor\":\"white\",\"minorgridcolor\":\"white\",\"startlinecolor\":\"#2a3f5f\"},\"baxis\":{\"endlinecolor\":\"#2a3f5f\",\"gridcolor\":\"white\",\"linecolor\":\"white\",\"minorgridcolor\":\"white\",\"startlinecolor\":\"#2a3f5f\"},\"type\":\"carpet\"}],\"choropleth\":[{\"colorbar\":{\"outlinewidth\":0,\"ticks\":\"\"},\"type\":\"choropleth\"}],\"contourcarpet\":[{\"colorbar\":{\"outlinewidth\":0,\"ticks\":\"\"},\"type\":\"contourcarpet\"}],\"contour\":[{\"colorbar\":{\"outlinewidth\":0,\"ticks\":\"\"},\"colorscale\":[[0.0,\"#0d0887\"],[0.1111111111111111,\"#46039f\"],[0.2222222222222222,\"#7201a8\"],[0.3333333333333333,\"#9c179e\"],[0.4444444444444444,\"#bd3786\"],[0.5555555555555556,\"#d8576b\"],[0.6666666666666666,\"#ed7953\"],[0.7777777777777778,\"#fb9f3a\"],[0.8888888888888888,\"#fdca26\"],[1.0,\"#f0f921\"]],\"type\":\"contour\"}],\"heatmapgl\":[{\"colorbar\":{\"outlinewidth\":0,\"ticks\":\"\"},\"colorscale\":[[0.0,\"#0d0887\"],[0.1111111111111111,\"#46039f\"],[0.2222222222222222,\"#7201a8\"],[0.3333333333333333,\"#9c179e\"],[0.4444444444444444,\"#bd3786\"],[0.5555555555555556,\"#d8576b\"],[0.6666666666666666,\"#ed7953\"],[0.7777777777777778,\"#fb9f3a\"],[0.8888888888888888,\"#fdca26\"],[1.0,\"#f0f921\"]],\"type\":\"heatmapgl\"}],\"heatmap\":[{\"colorbar\":{\"outlinewidth\":0,\"ticks\":\"\"},\"colorscale\":[[0.0,\"#0d0887\"],[0.1111111111111111,\"#46039f\"],[0.2222222222222222,\"#7201a8\"],[0.3333333333333333,\"#9c179e\"],[0.4444444444444444,\"#bd3786\"],[0.5555555555555556,\"#d8576b\"],[0.6666666666666666,\"#ed7953\"],[0.7777777777777778,\"#fb9f3a\"],[0.8888888888888888,\"#fdca26\"],[1.0,\"#f0f921\"]],\"type\":\"heatmap\"}],\"histogram2dcontour\":[{\"colorbar\":{\"outlinewidth\":0,\"ticks\":\"\"},\"colorscale\":[[0.0,\"#0d0887\"],[0.1111111111111111,\"#46039f\"],[0.2222222222222222,\"#7201a8\"],[0.3333333333333333,\"#9c179e\"],[0.4444444444444444,\"#bd3786\"],[0.5555555555555556,\"#d8576b\"],[0.6666666666666666,\"#ed7953\"],[0.7777777777777778,\"#fb9f3a\"],[0.8888888888888888,\"#fdca26\"],[1.0,\"#f0f921\"]],\"type\":\"histogram2dcontour\"}],\"histogram2d\":[{\"colorbar\":{\"outlinewidth\":0,\"ticks\":\"\"},\"colorscale\":[[0.0,\"#0d0887\"],[0.1111111111111111,\"#46039f\"],[0.2222222222222222,\"#7201a8\"],[0.3333333333333333,\"#9c179e\"],[0.4444444444444444,\"#bd3786\"],[0.5555555555555556,\"#d8576b\"],[0.6666666666666666,\"#ed7953\"],[0.7777777777777778,\"#fb9f3a\"],[0.8888888888888888,\"#fdca26\"],[1.0,\"#f0f921\"]],\"type\":\"histogram2d\"}],\"histogram\":[{\"marker\":{\"pattern\":{\"fillmode\":\"overlay\",\"size\":10,\"solidity\":0.2}},\"type\":\"histogram\"}],\"mesh3d\":[{\"colorbar\":{\"outlinewidth\":0,\"ticks\":\"\"},\"type\":\"mesh3d\"}],\"parcoords\":[{\"line\":{\"colorbar\":{\"outlinewidth\":0,\"ticks\":\"\"}},\"type\":\"parcoords\"}],\"pie\":[{\"automargin\":true,\"type\":\"pie\"}],\"scatter3d\":[{\"line\":{\"colorbar\":{\"outlinewidth\":0,\"ticks\":\"\"}},\"marker\":{\"colorbar\":{\"outlinewidth\":0,\"ticks\":\"\"}},\"type\":\"scatter3d\"}],\"scattercarpet\":[{\"marker\":{\"colorbar\":{\"outlinewidth\":0,\"ticks\":\"\"}},\"type\":\"scattercarpet\"}],\"scattergeo\":[{\"marker\":{\"colorbar\":{\"outlinewidth\":0,\"ticks\":\"\"}},\"type\":\"scattergeo\"}],\"scattergl\":[{\"marker\":{\"colorbar\":{\"outlinewidth\":0,\"ticks\":\"\"}},\"type\":\"scattergl\"}],\"scattermapbox\":[{\"marker\":{\"colorbar\":{\"outlinewidth\":0,\"ticks\":\"\"}},\"type\":\"scattermapbox\"}],\"scatterpolargl\":[{\"marker\":{\"colorbar\":{\"outlinewidth\":0,\"ticks\":\"\"}},\"type\":\"scatterpolargl\"}],\"scatterpolar\":[{\"marker\":{\"colorbar\":{\"outlinewidth\":0,\"ticks\":\"\"}},\"type\":\"scatterpolar\"}],\"scatter\":[{\"fillpattern\":{\"fillmode\":\"overlay\",\"size\":10,\"solidity\":0.2},\"type\":\"scatter\"}],\"scatterternary\":[{\"marker\":{\"colorbar\":{\"outlinewidth\":0,\"ticks\":\"\"}},\"type\":\"scatterternary\"}],\"surface\":[{\"colorbar\":{\"outlinewidth\":0,\"ticks\":\"\"},\"colorscale\":[[0.0,\"#0d0887\"],[0.1111111111111111,\"#46039f\"],[0.2222222222222222,\"#7201a8\"],[0.3333333333333333,\"#9c179e\"],[0.4444444444444444,\"#bd3786\"],[0.5555555555555556,\"#d8576b\"],[0.6666666666666666,\"#ed7953\"],[0.7777777777777778,\"#fb9f3a\"],[0.8888888888888888,\"#fdca26\"],[1.0,\"#f0f921\"]],\"type\":\"surface\"}],\"table\":[{\"cells\":{\"fill\":{\"color\":\"#EBF0F8\"},\"line\":{\"color\":\"white\"}},\"header\":{\"fill\":{\"color\":\"#C8D4E3\"},\"line\":{\"color\":\"white\"}},\"type\":\"table\"}]},\"layout\":{\"annotationdefaults\":{\"arrowcolor\":\"#2a3f5f\",\"arrowhead\":0,\"arrowwidth\":1},\"autotypenumbers\":\"strict\",\"coloraxis\":{\"colorbar\":{\"outlinewidth\":0,\"ticks\":\"\"}},\"colorscale\":{\"diverging\":[[0,\"#8e0152\"],[0.1,\"#c51b7d\"],[0.2,\"#de77ae\"],[0.3,\"#f1b6da\"],[0.4,\"#fde0ef\"],[0.5,\"#f7f7f7\"],[0.6,\"#e6f5d0\"],[0.7,\"#b8e186\"],[0.8,\"#7fbc41\"],[0.9,\"#4d9221\"],[1,\"#276419\"]],\"sequential\":[[0.0,\"#0d0887\"],[0.1111111111111111,\"#46039f\"],[0.2222222222222222,\"#7201a8\"],[0.3333333333333333,\"#9c179e\"],[0.4444444444444444,\"#bd3786\"],[0.5555555555555556,\"#d8576b\"],[0.6666666666666666,\"#ed7953\"],[0.7777777777777778,\"#fb9f3a\"],[0.8888888888888888,\"#fdca26\"],[1.0,\"#f0f921\"]],\"sequentialminus\":[[0.0,\"#0d0887\"],[0.1111111111111111,\"#46039f\"],[0.2222222222222222,\"#7201a8\"],[0.3333333333333333,\"#9c179e\"],[0.4444444444444444,\"#bd3786\"],[0.5555555555555556,\"#d8576b\"],[0.6666666666666666,\"#ed7953\"],[0.7777777777777778,\"#fb9f3a\"],[0.8888888888888888,\"#fdca26\"],[1.0,\"#f0f921\"]]},\"colorway\":[\"#636efa\",\"#EF553B\",\"#00cc96\",\"#ab63fa\",\"#FFA15A\",\"#19d3f3\",\"#FF6692\",\"#B6E880\",\"#FF97FF\",\"#FECB52\"],\"font\":{\"color\":\"#2a3f5f\"},\"geo\":{\"bgcolor\":\"white\",\"lakecolor\":\"white\",\"landcolor\":\"#E5ECF6\",\"showlakes\":true,\"showland\":true,\"subunitcolor\":\"white\"},\"hoverlabel\":{\"align\":\"left\"},\"hovermode\":\"closest\",\"mapbox\":{\"style\":\"light\"},\"paper_bgcolor\":\"white\",\"plot_bgcolor\":\"#E5ECF6\",\"polar\":{\"angularaxis\":{\"gridcolor\":\"white\",\"linecolor\":\"white\",\"ticks\":\"\"},\"bgcolor\":\"#E5ECF6\",\"radialaxis\":{\"gridcolor\":\"white\",\"linecolor\":\"white\",\"ticks\":\"\"}},\"scene\":{\"xaxis\":{\"backgroundcolor\":\"#E5ECF6\",\"gridcolor\":\"white\",\"gridwidth\":2,\"linecolor\":\"white\",\"showbackground\":true,\"ticks\":\"\",\"zerolinecolor\":\"white\"},\"yaxis\":{\"backgroundcolor\":\"#E5ECF6\",\"gridcolor\":\"white\",\"gridwidth\":2,\"linecolor\":\"white\",\"showbackground\":true,\"ticks\":\"\",\"zerolinecolor\":\"white\"},\"zaxis\":{\"backgroundcolor\":\"#E5ECF6\",\"gridcolor\":\"white\",\"gridwidth\":2,\"linecolor\":\"white\",\"showbackground\":true,\"ticks\":\"\",\"zerolinecolor\":\"white\"}},\"shapedefaults\":{\"line\":{\"color\":\"#2a3f5f\"}},\"ternary\":{\"aaxis\":{\"gridcolor\":\"white\",\"linecolor\":\"white\",\"ticks\":\"\"},\"baxis\":{\"gridcolor\":\"white\",\"linecolor\":\"white\",\"ticks\":\"\"},\"bgcolor\":\"#E5ECF6\",\"caxis\":{\"gridcolor\":\"white\",\"linecolor\":\"white\",\"ticks\":\"\"}},\"title\":{\"x\":0.05},\"xaxis\":{\"automargin\":true,\"gridcolor\":\"white\",\"linecolor\":\"white\",\"ticks\":\"\",\"title\":{\"standoff\":15},\"zerolinecolor\":\"white\",\"zerolinewidth\":2},\"yaxis\":{\"automargin\":true,\"gridcolor\":\"white\",\"linecolor\":\"white\",\"ticks\":\"\",\"title\":{\"standoff\":15},\"zerolinecolor\":\"white\",\"zerolinewidth\":2}}},\"title\":{\"text\":\"Soda Ash Price Anomaly Detection\"},\"xaxis\":{\"domain\":[0,1]},\"yaxis\":{\"domain\":[0.4,1]}},                        {\"responsive\": true}                    ).then(function(){\n",
       "                            \n",
       "var gd = document.getElementById('e9d1e3b6-f36d-4a13-8554-fd3133fbbb2e');\n",
       "var x = new MutationObserver(function (mutations, observer) {{\n",
       "        var display = window.getComputedStyle(gd).display;\n",
       "        if (!display || display === 'none') {{\n",
       "            console.log([gd, 'removed!']);\n",
       "            Plotly.purge(gd);\n",
       "            observer.disconnect();\n",
       "        }}\n",
       "}});\n",
       "\n",
       "// Listen for the removal of the full notebook cells\n",
       "var notebookContainer = gd.closest('#notebook-container');\n",
       "if (notebookContainer) {{\n",
       "    x.observe(notebookContainer, {childList: true});\n",
       "}}\n",
       "\n",
       "// Listen for the clearing of the current output cell\n",
       "var outputEl = gd.closest('.output');\n",
       "if (outputEl) {{\n",
       "    x.observe(outputEl, {childList: true});\n",
       "}}\n",
       "\n",
       "                        })                };                });            </script>        </div>"
      ]
     },
     "metadata": {},
     "output_type": "display_data"
    }
   ],
   "source": [
    "plot_anomalies(df_sub, 'Period', 'Target_SodaAshLightChinaSpotExportAverageFOBChinaUSperMetricTon', threshold=10)"
   ]
  },
  {
   "cell_type": "code",
   "execution_count": null,
   "metadata": {},
   "outputs": [],
   "source": []
  },
  {
   "cell_type": "code",
   "execution_count": null,
   "metadata": {},
   "outputs": [],
   "source": []
  },
  {
   "cell_type": "code",
   "execution_count": 64,
   "metadata": {},
   "outputs": [
    {
     "name": "stderr",
     "output_type": "stream",
     "text": [
      "c:\\Users\\249881\\AppData\\Local\\anaconda3\\Lib\\site-packages\\_plotly_utils\\basevalidators.py:106: FutureWarning:\n",
      "\n",
      "The behavior of DatetimeProperties.to_pydatetime is deprecated, in a future version this will return a Series containing python datetime objects instead of an ndarray. To retain the old behavior, call `np.array` on the result\n",
      "\n"
     ]
    },
    {
     "data": {
      "application/vnd.plotly.v1+json": {
       "config": {
        "linkText": "Export to plot.ly",
        "plotlyServerURL": "https://plot.ly",
        "showLink": false
       },
       "data": [
        {
         "line": {
          "color": "blue"
         },
         "mode": "lines+markers",
         "name": "Actuals",
         "type": "scatter",
         "x": [
          "2013-01-01T00:00:00",
          "2013-02-01T00:00:00",
          "2013-03-01T00:00:00",
          "2013-04-01T00:00:00",
          "2013-05-01T00:00:00",
          "2013-06-01T00:00:00",
          "2013-07-01T00:00:00",
          "2013-08-01T00:00:00",
          "2013-09-01T00:00:00",
          "2013-10-01T00:00:00",
          "2013-11-01T00:00:00",
          "2013-12-01T00:00:00",
          "2014-01-01T00:00:00",
          "2014-02-01T00:00:00",
          "2014-03-01T00:00:00",
          "2014-04-01T00:00:00",
          "2014-05-01T00:00:00",
          "2014-06-01T00:00:00",
          "2014-07-01T00:00:00",
          "2014-08-01T00:00:00",
          "2014-09-01T00:00:00",
          "2014-10-01T00:00:00",
          "2014-11-01T00:00:00",
          "2014-12-01T00:00:00",
          "2015-01-01T00:00:00",
          "2015-02-01T00:00:00",
          "2015-03-01T00:00:00",
          "2015-04-01T00:00:00",
          "2015-05-01T00:00:00",
          "2015-06-01T00:00:00",
          "2015-07-01T00:00:00",
          "2015-08-01T00:00:00",
          "2015-09-01T00:00:00",
          "2015-10-01T00:00:00",
          "2015-11-01T00:00:00",
          "2015-12-01T00:00:00",
          "2016-01-01T00:00:00",
          "2016-02-01T00:00:00",
          "2016-03-01T00:00:00",
          "2016-04-01T00:00:00",
          "2016-05-01T00:00:00",
          "2016-06-01T00:00:00",
          "2016-07-01T00:00:00",
          "2016-08-01T00:00:00",
          "2016-09-01T00:00:00",
          "2016-10-01T00:00:00",
          "2016-11-01T00:00:00",
          "2016-12-01T00:00:00",
          "2017-01-01T00:00:00",
          "2017-02-01T00:00:00",
          "2017-03-01T00:00:00",
          "2017-04-01T00:00:00",
          "2017-05-01T00:00:00",
          "2017-06-01T00:00:00",
          "2017-07-01T00:00:00",
          "2017-08-01T00:00:00",
          "2017-09-01T00:00:00",
          "2017-10-01T00:00:00",
          "2017-11-01T00:00:00",
          "2017-12-01T00:00:00",
          "2018-01-01T00:00:00",
          "2018-02-01T00:00:00",
          "2018-03-01T00:00:00",
          "2018-04-01T00:00:00",
          "2018-05-01T00:00:00",
          "2018-06-01T00:00:00",
          "2018-07-01T00:00:00",
          "2018-08-01T00:00:00",
          "2018-09-01T00:00:00",
          "2018-10-01T00:00:00",
          "2018-11-01T00:00:00",
          "2018-12-01T00:00:00",
          "2019-01-01T00:00:00",
          "2019-02-01T00:00:00",
          "2019-03-01T00:00:00",
          "2019-04-01T00:00:00",
          "2019-05-01T00:00:00",
          "2019-06-01T00:00:00",
          "2019-07-01T00:00:00",
          "2019-08-01T00:00:00",
          "2019-09-01T00:00:00",
          "2019-10-01T00:00:00",
          "2019-11-01T00:00:00",
          "2019-12-01T00:00:00",
          "2020-01-01T00:00:00",
          "2020-02-01T00:00:00",
          "2020-03-01T00:00:00",
          "2020-04-01T00:00:00",
          "2020-05-01T00:00:00",
          "2020-06-01T00:00:00",
          "2020-07-01T00:00:00",
          "2020-08-01T00:00:00",
          "2020-09-01T00:00:00",
          "2020-10-01T00:00:00",
          "2020-11-01T00:00:00",
          "2020-12-01T00:00:00",
          "2021-01-01T00:00:00",
          "2021-02-01T00:00:00",
          "2021-03-01T00:00:00",
          "2021-04-01T00:00:00",
          "2021-05-01T00:00:00",
          "2021-06-01T00:00:00",
          "2021-07-01T00:00:00",
          "2021-08-01T00:00:00",
          "2021-09-01T00:00:00",
          "2021-10-01T00:00:00",
          "2021-11-01T00:00:00",
          "2021-12-01T00:00:00",
          "2022-01-01T00:00:00",
          "2022-02-01T00:00:00",
          "2022-03-01T00:00:00",
          "2022-04-01T00:00:00",
          "2022-05-01T00:00:00",
          "2022-06-01T00:00:00",
          "2022-07-01T00:00:00",
          "2022-08-01T00:00:00",
          "2022-09-01T00:00:00",
          "2022-10-01T00:00:00",
          "2022-11-01T00:00:00",
          "2022-12-01T00:00:00",
          "2023-01-01T00:00:00",
          "2023-02-01T00:00:00",
          "2023-03-01T00:00:00",
          "2023-04-01T00:00:00",
          "2023-05-01T00:00:00",
          "2023-06-01T00:00:00",
          "2023-07-01T00:00:00",
          "2023-08-01T00:00:00",
          "2023-09-01T00:00:00",
          "2023-10-01T00:00:00",
          "2023-11-01T00:00:00",
          "2023-12-01T00:00:00",
          "2024-01-01T00:00:00",
          "2024-02-01T00:00:00",
          "2024-03-01T00:00:00",
          "2024-04-01T00:00:00",
          "2024-05-01T00:00:00"
         ],
         "y": [
          185,
          180,
          180,
          180,
          180,
          183.75,
          190,
          195,
          205,
          231.25,
          250,
          238.75,
          227.5,
          223.75,
          218.75,
          221.25,
          230,
          235,
          230,
          225,
          225,
          225,
          225,
          225,
          225,
          225,
          225,
          220,
          215,
          215,
          212.5,
          205,
          195,
          190,
          190,
          192.5,
          196.25,
          215,
          227.5,
          215,
          203.75,
          193.75,
          188.75,
          190,
          190,
          212.5,
          240,
          250,
          255,
          245,
          230,
          220,
          212.5,
          216.25,
          223.75,
          230,
          305,
          297.5,
          285,
          260,
          240,
          237.5,
          246.25,
          287.5,
          292.5,
          287.5,
          263.75,
          265,
          270,
          271.25,
          271.25,
          265,
          256.25,
          252.5,
          252.5,
          257.5,
          258.75,
          245,
          227.5,
          223.75,
          230,
          228.75,
          221.25,
          216.25,
          210,
          213.75,
          207.5,
          190,
          168.75,
          158.75,
          162.5,
          170,
          197.5,
          212.5,
          205,
          195,
          200,
          202.5,
          218.75,
          236.25,
          252.5,
          252.5,
          282.5,
          325,
          402.5,
          507.5,
          510,
          420,
          330,
          395,
          435,
          435,
          462.5,
          461,
          417.5,
          370,
          362.5,
          363.75,
          360,
          370,
          377.5,
          397.5,
          400,
          387.5,
          311,
          263,
          317,
          316,
          395,
          313,
          288,
          370,
          285,
          265,
          260,
          252.5,
          null
         ]
        },
        {
         "marker": {
          "color": "orange",
          "size": 11
         },
         "mode": "markers",
         "name": "Pre-Alerts",
         "type": "scatter",
         "x": [
          "2013-11-01T00:00:00",
          "2017-09-01T00:00:00",
          "2020-05-01T00:00:00",
          "2020-06-01T00:00:00",
          "2020-10-01T00:00:00",
          "2021-09-01T00:00:00",
          "2021-10-01T00:00:00",
          "2021-11-01T00:00:00",
          "2022-01-01T00:00:00",
          "2022-08-01T00:00:00",
          "2023-05-01T00:00:00",
          "2023-06-01T00:00:00",
          "2023-09-01T00:00:00",
          "2023-11-01T00:00:00",
          "2023-12-01T00:00:00",
          "2024-02-01T00:00:00",
          "2024-03-01T00:00:00"
         ],
         "y": [
          250,
          305,
          168.75,
          158.75,
          212.5,
          402.5,
          507.5,
          510,
          330,
          370,
          311,
          263,
          395,
          288,
          370,
          265,
          260
         ]
        }
       ],
       "layout": {
        "height": 600,
        "showlegend": true,
        "template": {
         "data": {
          "bar": [
           {
            "error_x": {
             "color": "#2a3f5f"
            },
            "error_y": {
             "color": "#2a3f5f"
            },
            "marker": {
             "line": {
              "color": "#E5ECF6",
              "width": 0.5
             },
             "pattern": {
              "fillmode": "overlay",
              "size": 10,
              "solidity": 0.2
             }
            },
            "type": "bar"
           }
          ],
          "barpolar": [
           {
            "marker": {
             "line": {
              "color": "#E5ECF6",
              "width": 0.5
             },
             "pattern": {
              "fillmode": "overlay",
              "size": 10,
              "solidity": 0.2
             }
            },
            "type": "barpolar"
           }
          ],
          "carpet": [
           {
            "aaxis": {
             "endlinecolor": "#2a3f5f",
             "gridcolor": "white",
             "linecolor": "white",
             "minorgridcolor": "white",
             "startlinecolor": "#2a3f5f"
            },
            "baxis": {
             "endlinecolor": "#2a3f5f",
             "gridcolor": "white",
             "linecolor": "white",
             "minorgridcolor": "white",
             "startlinecolor": "#2a3f5f"
            },
            "type": "carpet"
           }
          ],
          "choropleth": [
           {
            "colorbar": {
             "outlinewidth": 0,
             "ticks": ""
            },
            "type": "choropleth"
           }
          ],
          "contour": [
           {
            "colorbar": {
             "outlinewidth": 0,
             "ticks": ""
            },
            "colorscale": [
             [
              0,
              "#0d0887"
             ],
             [
              0.1111111111111111,
              "#46039f"
             ],
             [
              0.2222222222222222,
              "#7201a8"
             ],
             [
              0.3333333333333333,
              "#9c179e"
             ],
             [
              0.4444444444444444,
              "#bd3786"
             ],
             [
              0.5555555555555556,
              "#d8576b"
             ],
             [
              0.6666666666666666,
              "#ed7953"
             ],
             [
              0.7777777777777778,
              "#fb9f3a"
             ],
             [
              0.8888888888888888,
              "#fdca26"
             ],
             [
              1,
              "#f0f921"
             ]
            ],
            "type": "contour"
           }
          ],
          "contourcarpet": [
           {
            "colorbar": {
             "outlinewidth": 0,
             "ticks": ""
            },
            "type": "contourcarpet"
           }
          ],
          "heatmap": [
           {
            "colorbar": {
             "outlinewidth": 0,
             "ticks": ""
            },
            "colorscale": [
             [
              0,
              "#0d0887"
             ],
             [
              0.1111111111111111,
              "#46039f"
             ],
             [
              0.2222222222222222,
              "#7201a8"
             ],
             [
              0.3333333333333333,
              "#9c179e"
             ],
             [
              0.4444444444444444,
              "#bd3786"
             ],
             [
              0.5555555555555556,
              "#d8576b"
             ],
             [
              0.6666666666666666,
              "#ed7953"
             ],
             [
              0.7777777777777778,
              "#fb9f3a"
             ],
             [
              0.8888888888888888,
              "#fdca26"
             ],
             [
              1,
              "#f0f921"
             ]
            ],
            "type": "heatmap"
           }
          ],
          "heatmapgl": [
           {
            "colorbar": {
             "outlinewidth": 0,
             "ticks": ""
            },
            "colorscale": [
             [
              0,
              "#0d0887"
             ],
             [
              0.1111111111111111,
              "#46039f"
             ],
             [
              0.2222222222222222,
              "#7201a8"
             ],
             [
              0.3333333333333333,
              "#9c179e"
             ],
             [
              0.4444444444444444,
              "#bd3786"
             ],
             [
              0.5555555555555556,
              "#d8576b"
             ],
             [
              0.6666666666666666,
              "#ed7953"
             ],
             [
              0.7777777777777778,
              "#fb9f3a"
             ],
             [
              0.8888888888888888,
              "#fdca26"
             ],
             [
              1,
              "#f0f921"
             ]
            ],
            "type": "heatmapgl"
           }
          ],
          "histogram": [
           {
            "marker": {
             "pattern": {
              "fillmode": "overlay",
              "size": 10,
              "solidity": 0.2
             }
            },
            "type": "histogram"
           }
          ],
          "histogram2d": [
           {
            "colorbar": {
             "outlinewidth": 0,
             "ticks": ""
            },
            "colorscale": [
             [
              0,
              "#0d0887"
             ],
             [
              0.1111111111111111,
              "#46039f"
             ],
             [
              0.2222222222222222,
              "#7201a8"
             ],
             [
              0.3333333333333333,
              "#9c179e"
             ],
             [
              0.4444444444444444,
              "#bd3786"
             ],
             [
              0.5555555555555556,
              "#d8576b"
             ],
             [
              0.6666666666666666,
              "#ed7953"
             ],
             [
              0.7777777777777778,
              "#fb9f3a"
             ],
             [
              0.8888888888888888,
              "#fdca26"
             ],
             [
              1,
              "#f0f921"
             ]
            ],
            "type": "histogram2d"
           }
          ],
          "histogram2dcontour": [
           {
            "colorbar": {
             "outlinewidth": 0,
             "ticks": ""
            },
            "colorscale": [
             [
              0,
              "#0d0887"
             ],
             [
              0.1111111111111111,
              "#46039f"
             ],
             [
              0.2222222222222222,
              "#7201a8"
             ],
             [
              0.3333333333333333,
              "#9c179e"
             ],
             [
              0.4444444444444444,
              "#bd3786"
             ],
             [
              0.5555555555555556,
              "#d8576b"
             ],
             [
              0.6666666666666666,
              "#ed7953"
             ],
             [
              0.7777777777777778,
              "#fb9f3a"
             ],
             [
              0.8888888888888888,
              "#fdca26"
             ],
             [
              1,
              "#f0f921"
             ]
            ],
            "type": "histogram2dcontour"
           }
          ],
          "mesh3d": [
           {
            "colorbar": {
             "outlinewidth": 0,
             "ticks": ""
            },
            "type": "mesh3d"
           }
          ],
          "parcoords": [
           {
            "line": {
             "colorbar": {
              "outlinewidth": 0,
              "ticks": ""
             }
            },
            "type": "parcoords"
           }
          ],
          "pie": [
           {
            "automargin": true,
            "type": "pie"
           }
          ],
          "scatter": [
           {
            "fillpattern": {
             "fillmode": "overlay",
             "size": 10,
             "solidity": 0.2
            },
            "type": "scatter"
           }
          ],
          "scatter3d": [
           {
            "line": {
             "colorbar": {
              "outlinewidth": 0,
              "ticks": ""
             }
            },
            "marker": {
             "colorbar": {
              "outlinewidth": 0,
              "ticks": ""
             }
            },
            "type": "scatter3d"
           }
          ],
          "scattercarpet": [
           {
            "marker": {
             "colorbar": {
              "outlinewidth": 0,
              "ticks": ""
             }
            },
            "type": "scattercarpet"
           }
          ],
          "scattergeo": [
           {
            "marker": {
             "colorbar": {
              "outlinewidth": 0,
              "ticks": ""
             }
            },
            "type": "scattergeo"
           }
          ],
          "scattergl": [
           {
            "marker": {
             "colorbar": {
              "outlinewidth": 0,
              "ticks": ""
             }
            },
            "type": "scattergl"
           }
          ],
          "scattermapbox": [
           {
            "marker": {
             "colorbar": {
              "outlinewidth": 0,
              "ticks": ""
             }
            },
            "type": "scattermapbox"
           }
          ],
          "scatterpolar": [
           {
            "marker": {
             "colorbar": {
              "outlinewidth": 0,
              "ticks": ""
             }
            },
            "type": "scatterpolar"
           }
          ],
          "scatterpolargl": [
           {
            "marker": {
             "colorbar": {
              "outlinewidth": 0,
              "ticks": ""
             }
            },
            "type": "scatterpolargl"
           }
          ],
          "scatterternary": [
           {
            "marker": {
             "colorbar": {
              "outlinewidth": 0,
              "ticks": ""
             }
            },
            "type": "scatterternary"
           }
          ],
          "surface": [
           {
            "colorbar": {
             "outlinewidth": 0,
             "ticks": ""
            },
            "colorscale": [
             [
              0,
              "#0d0887"
             ],
             [
              0.1111111111111111,
              "#46039f"
             ],
             [
              0.2222222222222222,
              "#7201a8"
             ],
             [
              0.3333333333333333,
              "#9c179e"
             ],
             [
              0.4444444444444444,
              "#bd3786"
             ],
             [
              0.5555555555555556,
              "#d8576b"
             ],
             [
              0.6666666666666666,
              "#ed7953"
             ],
             [
              0.7777777777777778,
              "#fb9f3a"
             ],
             [
              0.8888888888888888,
              "#fdca26"
             ],
             [
              1,
              "#f0f921"
             ]
            ],
            "type": "surface"
           }
          ],
          "table": [
           {
            "cells": {
             "fill": {
              "color": "#EBF0F8"
             },
             "line": {
              "color": "white"
             }
            },
            "header": {
             "fill": {
              "color": "#C8D4E3"
             },
             "line": {
              "color": "white"
             }
            },
            "type": "table"
           }
          ]
         },
         "layout": {
          "annotationdefaults": {
           "arrowcolor": "#2a3f5f",
           "arrowhead": 0,
           "arrowwidth": 1
          },
          "autotypenumbers": "strict",
          "coloraxis": {
           "colorbar": {
            "outlinewidth": 0,
            "ticks": ""
           }
          },
          "colorscale": {
           "diverging": [
            [
             0,
             "#8e0152"
            ],
            [
             0.1,
             "#c51b7d"
            ],
            [
             0.2,
             "#de77ae"
            ],
            [
             0.3,
             "#f1b6da"
            ],
            [
             0.4,
             "#fde0ef"
            ],
            [
             0.5,
             "#f7f7f7"
            ],
            [
             0.6,
             "#e6f5d0"
            ],
            [
             0.7,
             "#b8e186"
            ],
            [
             0.8,
             "#7fbc41"
            ],
            [
             0.9,
             "#4d9221"
            ],
            [
             1,
             "#276419"
            ]
           ],
           "sequential": [
            [
             0,
             "#0d0887"
            ],
            [
             0.1111111111111111,
             "#46039f"
            ],
            [
             0.2222222222222222,
             "#7201a8"
            ],
            [
             0.3333333333333333,
             "#9c179e"
            ],
            [
             0.4444444444444444,
             "#bd3786"
            ],
            [
             0.5555555555555556,
             "#d8576b"
            ],
            [
             0.6666666666666666,
             "#ed7953"
            ],
            [
             0.7777777777777778,
             "#fb9f3a"
            ],
            [
             0.8888888888888888,
             "#fdca26"
            ],
            [
             1,
             "#f0f921"
            ]
           ],
           "sequentialminus": [
            [
             0,
             "#0d0887"
            ],
            [
             0.1111111111111111,
             "#46039f"
            ],
            [
             0.2222222222222222,
             "#7201a8"
            ],
            [
             0.3333333333333333,
             "#9c179e"
            ],
            [
             0.4444444444444444,
             "#bd3786"
            ],
            [
             0.5555555555555556,
             "#d8576b"
            ],
            [
             0.6666666666666666,
             "#ed7953"
            ],
            [
             0.7777777777777778,
             "#fb9f3a"
            ],
            [
             0.8888888888888888,
             "#fdca26"
            ],
            [
             1,
             "#f0f921"
            ]
           ]
          },
          "colorway": [
           "#636efa",
           "#EF553B",
           "#00cc96",
           "#ab63fa",
           "#FFA15A",
           "#19d3f3",
           "#FF6692",
           "#B6E880",
           "#FF97FF",
           "#FECB52"
          ],
          "font": {
           "color": "#2a3f5f"
          },
          "geo": {
           "bgcolor": "white",
           "lakecolor": "white",
           "landcolor": "#E5ECF6",
           "showlakes": true,
           "showland": true,
           "subunitcolor": "white"
          },
          "hoverlabel": {
           "align": "left"
          },
          "hovermode": "closest",
          "mapbox": {
           "style": "light"
          },
          "paper_bgcolor": "white",
          "plot_bgcolor": "#E5ECF6",
          "polar": {
           "angularaxis": {
            "gridcolor": "white",
            "linecolor": "white",
            "ticks": ""
           },
           "bgcolor": "#E5ECF6",
           "radialaxis": {
            "gridcolor": "white",
            "linecolor": "white",
            "ticks": ""
           }
          },
          "scene": {
           "xaxis": {
            "backgroundcolor": "#E5ECF6",
            "gridcolor": "white",
            "gridwidth": 2,
            "linecolor": "white",
            "showbackground": true,
            "ticks": "",
            "zerolinecolor": "white"
           },
           "yaxis": {
            "backgroundcolor": "#E5ECF6",
            "gridcolor": "white",
            "gridwidth": 2,
            "linecolor": "white",
            "showbackground": true,
            "ticks": "",
            "zerolinecolor": "white"
           },
           "zaxis": {
            "backgroundcolor": "#E5ECF6",
            "gridcolor": "white",
            "gridwidth": 2,
            "linecolor": "white",
            "showbackground": true,
            "ticks": "",
            "zerolinecolor": "white"
           }
          },
          "shapedefaults": {
           "line": {
            "color": "#2a3f5f"
           }
          },
          "ternary": {
           "aaxis": {
            "gridcolor": "white",
            "linecolor": "white",
            "ticks": ""
           },
           "baxis": {
            "gridcolor": "white",
            "linecolor": "white",
            "ticks": ""
           },
           "bgcolor": "#E5ECF6",
           "caxis": {
            "gridcolor": "white",
            "linecolor": "white",
            "ticks": ""
           }
          },
          "title": {
           "x": 0.05
          },
          "xaxis": {
           "automargin": true,
           "gridcolor": "white",
           "linecolor": "white",
           "ticks": "",
           "title": {
            "standoff": 15
           },
           "zerolinecolor": "white",
           "zerolinewidth": 2
          },
          "yaxis": {
           "automargin": true,
           "gridcolor": "white",
           "linecolor": "white",
           "ticks": "",
           "title": {
            "standoff": 15
           },
           "zerolinecolor": "white",
           "zerolinewidth": 2
          }
         }
        },
        "title": {
         "text": "Soda Ash Price Early Warning System"
        },
        "xaxis": {
         "domain": [
          0,
          1
         ]
        },
        "yaxis": {
         "domain": [
          0,
          1
         ]
        }
       }
      },
      "text/html": [
       "<div>                            <div id=\"de9a6ea4-415a-422a-9fc9-b8eb3439da4d\" class=\"plotly-graph-div\" style=\"height:600px; width:100%;\"></div>            <script type=\"text/javascript\">                require([\"plotly\"], function(Plotly) {                    window.PLOTLYENV=window.PLOTLYENV || {};                                    if (document.getElementById(\"de9a6ea4-415a-422a-9fc9-b8eb3439da4d\")) {                    Plotly.newPlot(                        \"de9a6ea4-415a-422a-9fc9-b8eb3439da4d\",                        [{\"line\":{\"color\":\"blue\"},\"mode\":\"lines+markers\",\"name\":\"Actuals\",\"x\":[\"2013-01-01T00:00:00\",\"2013-02-01T00:00:00\",\"2013-03-01T00:00:00\",\"2013-04-01T00:00:00\",\"2013-05-01T00:00:00\",\"2013-06-01T00:00:00\",\"2013-07-01T00:00:00\",\"2013-08-01T00:00:00\",\"2013-09-01T00:00:00\",\"2013-10-01T00:00:00\",\"2013-11-01T00:00:00\",\"2013-12-01T00:00:00\",\"2014-01-01T00:00:00\",\"2014-02-01T00:00:00\",\"2014-03-01T00:00:00\",\"2014-04-01T00:00:00\",\"2014-05-01T00:00:00\",\"2014-06-01T00:00:00\",\"2014-07-01T00:00:00\",\"2014-08-01T00:00:00\",\"2014-09-01T00:00:00\",\"2014-10-01T00:00:00\",\"2014-11-01T00:00:00\",\"2014-12-01T00:00:00\",\"2015-01-01T00:00:00\",\"2015-02-01T00:00:00\",\"2015-03-01T00:00:00\",\"2015-04-01T00:00:00\",\"2015-05-01T00:00:00\",\"2015-06-01T00:00:00\",\"2015-07-01T00:00:00\",\"2015-08-01T00:00:00\",\"2015-09-01T00:00:00\",\"2015-10-01T00:00:00\",\"2015-11-01T00:00:00\",\"2015-12-01T00:00:00\",\"2016-01-01T00:00:00\",\"2016-02-01T00:00:00\",\"2016-03-01T00:00:00\",\"2016-04-01T00:00:00\",\"2016-05-01T00:00:00\",\"2016-06-01T00:00:00\",\"2016-07-01T00:00:00\",\"2016-08-01T00:00:00\",\"2016-09-01T00:00:00\",\"2016-10-01T00:00:00\",\"2016-11-01T00:00:00\",\"2016-12-01T00:00:00\",\"2017-01-01T00:00:00\",\"2017-02-01T00:00:00\",\"2017-03-01T00:00:00\",\"2017-04-01T00:00:00\",\"2017-05-01T00:00:00\",\"2017-06-01T00:00:00\",\"2017-07-01T00:00:00\",\"2017-08-01T00:00:00\",\"2017-09-01T00:00:00\",\"2017-10-01T00:00:00\",\"2017-11-01T00:00:00\",\"2017-12-01T00:00:00\",\"2018-01-01T00:00:00\",\"2018-02-01T00:00:00\",\"2018-03-01T00:00:00\",\"2018-04-01T00:00:00\",\"2018-05-01T00:00:00\",\"2018-06-01T00:00:00\",\"2018-07-01T00:00:00\",\"2018-08-01T00:00:00\",\"2018-09-01T00:00:00\",\"2018-10-01T00:00:00\",\"2018-11-01T00:00:00\",\"2018-12-01T00:00:00\",\"2019-01-01T00:00:00\",\"2019-02-01T00:00:00\",\"2019-03-01T00:00:00\",\"2019-04-01T00:00:00\",\"2019-05-01T00:00:00\",\"2019-06-01T00:00:00\",\"2019-07-01T00:00:00\",\"2019-08-01T00:00:00\",\"2019-09-01T00:00:00\",\"2019-10-01T00:00:00\",\"2019-11-01T00:00:00\",\"2019-12-01T00:00:00\",\"2020-01-01T00:00:00\",\"2020-02-01T00:00:00\",\"2020-03-01T00:00:00\",\"2020-04-01T00:00:00\",\"2020-05-01T00:00:00\",\"2020-06-01T00:00:00\",\"2020-07-01T00:00:00\",\"2020-08-01T00:00:00\",\"2020-09-01T00:00:00\",\"2020-10-01T00:00:00\",\"2020-11-01T00:00:00\",\"2020-12-01T00:00:00\",\"2021-01-01T00:00:00\",\"2021-02-01T00:00:00\",\"2021-03-01T00:00:00\",\"2021-04-01T00:00:00\",\"2021-05-01T00:00:00\",\"2021-06-01T00:00:00\",\"2021-07-01T00:00:00\",\"2021-08-01T00:00:00\",\"2021-09-01T00:00:00\",\"2021-10-01T00:00:00\",\"2021-11-01T00:00:00\",\"2021-12-01T00:00:00\",\"2022-01-01T00:00:00\",\"2022-02-01T00:00:00\",\"2022-03-01T00:00:00\",\"2022-04-01T00:00:00\",\"2022-05-01T00:00:00\",\"2022-06-01T00:00:00\",\"2022-07-01T00:00:00\",\"2022-08-01T00:00:00\",\"2022-09-01T00:00:00\",\"2022-10-01T00:00:00\",\"2022-11-01T00:00:00\",\"2022-12-01T00:00:00\",\"2023-01-01T00:00:00\",\"2023-02-01T00:00:00\",\"2023-03-01T00:00:00\",\"2023-04-01T00:00:00\",\"2023-05-01T00:00:00\",\"2023-06-01T00:00:00\",\"2023-07-01T00:00:00\",\"2023-08-01T00:00:00\",\"2023-09-01T00:00:00\",\"2023-10-01T00:00:00\",\"2023-11-01T00:00:00\",\"2023-12-01T00:00:00\",\"2024-01-01T00:00:00\",\"2024-02-01T00:00:00\",\"2024-03-01T00:00:00\",\"2024-04-01T00:00:00\",\"2024-05-01T00:00:00\"],\"y\":[185.0,180.0,180.0,180.0,180.0,183.75,190.0,195.0,205.0,231.25,250.0,238.75,227.5,223.75,218.75,221.25,230.0,235.0,230.0,225.0,225.0,225.0,225.0,225.0,225.0,225.0,225.0,220.0,215.0,215.0,212.5,205.0,195.0,190.0,190.0,192.5,196.25,215.0,227.5,215.0,203.75,193.75,188.75,190.0,190.0,212.5,240.0,250.0,255.0,245.0,230.0,220.0,212.5,216.25,223.75,230.0,305.0,297.5,285.0,260.0,240.0,237.5,246.25,287.5,292.5,287.5,263.75,265.0,270.0,271.25,271.25,265.0,256.25,252.5,252.5,257.5,258.75,245.0,227.5,223.75,230.0,228.75,221.25,216.25,210.0,213.75,207.5,190.0,168.75,158.75,162.5,170.0,197.5,212.5,205.0,195.0,200.0,202.5,218.75,236.25,252.5,252.5,282.5,325.0,402.5,507.5,510.0,420.0,330.0,395.0,435.0,435.0,462.5,461.0,417.5,370.0,362.5,363.75,360.0,370.0,377.5,397.5,400.0,387.5,311.0,263.0,317.0,316.0,395.0,313.0,288.0,370.0,285.0,265.0,260.0,252.5,null],\"type\":\"scatter\"},{\"marker\":{\"color\":\"orange\",\"size\":11},\"mode\":\"markers\",\"name\":\"Pre-Alerts\",\"x\":[\"2013-11-01T00:00:00\",\"2017-09-01T00:00:00\",\"2020-05-01T00:00:00\",\"2020-06-01T00:00:00\",\"2020-10-01T00:00:00\",\"2021-09-01T00:00:00\",\"2021-10-01T00:00:00\",\"2021-11-01T00:00:00\",\"2022-01-01T00:00:00\",\"2022-08-01T00:00:00\",\"2023-05-01T00:00:00\",\"2023-06-01T00:00:00\",\"2023-09-01T00:00:00\",\"2023-11-01T00:00:00\",\"2023-12-01T00:00:00\",\"2024-02-01T00:00:00\",\"2024-03-01T00:00:00\"],\"y\":[250.0,305.0,168.75,158.75,212.5,402.5,507.5,510.0,330.0,370.0,311.0,263.0,395.0,288.0,370.0,265.0,260.0],\"type\":\"scatter\"}],                        {\"height\":600,\"showlegend\":true,\"template\":{\"data\":{\"barpolar\":[{\"marker\":{\"line\":{\"color\":\"#E5ECF6\",\"width\":0.5},\"pattern\":{\"fillmode\":\"overlay\",\"size\":10,\"solidity\":0.2}},\"type\":\"barpolar\"}],\"bar\":[{\"error_x\":{\"color\":\"#2a3f5f\"},\"error_y\":{\"color\":\"#2a3f5f\"},\"marker\":{\"line\":{\"color\":\"#E5ECF6\",\"width\":0.5},\"pattern\":{\"fillmode\":\"overlay\",\"size\":10,\"solidity\":0.2}},\"type\":\"bar\"}],\"carpet\":[{\"aaxis\":{\"endlinecolor\":\"#2a3f5f\",\"gridcolor\":\"white\",\"linecolor\":\"white\",\"minorgridcolor\":\"white\",\"startlinecolor\":\"#2a3f5f\"},\"baxis\":{\"endlinecolor\":\"#2a3f5f\",\"gridcolor\":\"white\",\"linecolor\":\"white\",\"minorgridcolor\":\"white\",\"startlinecolor\":\"#2a3f5f\"},\"type\":\"carpet\"}],\"choropleth\":[{\"colorbar\":{\"outlinewidth\":0,\"ticks\":\"\"},\"type\":\"choropleth\"}],\"contourcarpet\":[{\"colorbar\":{\"outlinewidth\":0,\"ticks\":\"\"},\"type\":\"contourcarpet\"}],\"contour\":[{\"colorbar\":{\"outlinewidth\":0,\"ticks\":\"\"},\"colorscale\":[[0.0,\"#0d0887\"],[0.1111111111111111,\"#46039f\"],[0.2222222222222222,\"#7201a8\"],[0.3333333333333333,\"#9c179e\"],[0.4444444444444444,\"#bd3786\"],[0.5555555555555556,\"#d8576b\"],[0.6666666666666666,\"#ed7953\"],[0.7777777777777778,\"#fb9f3a\"],[0.8888888888888888,\"#fdca26\"],[1.0,\"#f0f921\"]],\"type\":\"contour\"}],\"heatmapgl\":[{\"colorbar\":{\"outlinewidth\":0,\"ticks\":\"\"},\"colorscale\":[[0.0,\"#0d0887\"],[0.1111111111111111,\"#46039f\"],[0.2222222222222222,\"#7201a8\"],[0.3333333333333333,\"#9c179e\"],[0.4444444444444444,\"#bd3786\"],[0.5555555555555556,\"#d8576b\"],[0.6666666666666666,\"#ed7953\"],[0.7777777777777778,\"#fb9f3a\"],[0.8888888888888888,\"#fdca26\"],[1.0,\"#f0f921\"]],\"type\":\"heatmapgl\"}],\"heatmap\":[{\"colorbar\":{\"outlinewidth\":0,\"ticks\":\"\"},\"colorscale\":[[0.0,\"#0d0887\"],[0.1111111111111111,\"#46039f\"],[0.2222222222222222,\"#7201a8\"],[0.3333333333333333,\"#9c179e\"],[0.4444444444444444,\"#bd3786\"],[0.5555555555555556,\"#d8576b\"],[0.6666666666666666,\"#ed7953\"],[0.7777777777777778,\"#fb9f3a\"],[0.8888888888888888,\"#fdca26\"],[1.0,\"#f0f921\"]],\"type\":\"heatmap\"}],\"histogram2dcontour\":[{\"colorbar\":{\"outlinewidth\":0,\"ticks\":\"\"},\"colorscale\":[[0.0,\"#0d0887\"],[0.1111111111111111,\"#46039f\"],[0.2222222222222222,\"#7201a8\"],[0.3333333333333333,\"#9c179e\"],[0.4444444444444444,\"#bd3786\"],[0.5555555555555556,\"#d8576b\"],[0.6666666666666666,\"#ed7953\"],[0.7777777777777778,\"#fb9f3a\"],[0.8888888888888888,\"#fdca26\"],[1.0,\"#f0f921\"]],\"type\":\"histogram2dcontour\"}],\"histogram2d\":[{\"colorbar\":{\"outlinewidth\":0,\"ticks\":\"\"},\"colorscale\":[[0.0,\"#0d0887\"],[0.1111111111111111,\"#46039f\"],[0.2222222222222222,\"#7201a8\"],[0.3333333333333333,\"#9c179e\"],[0.4444444444444444,\"#bd3786\"],[0.5555555555555556,\"#d8576b\"],[0.6666666666666666,\"#ed7953\"],[0.7777777777777778,\"#fb9f3a\"],[0.8888888888888888,\"#fdca26\"],[1.0,\"#f0f921\"]],\"type\":\"histogram2d\"}],\"histogram\":[{\"marker\":{\"pattern\":{\"fillmode\":\"overlay\",\"size\":10,\"solidity\":0.2}},\"type\":\"histogram\"}],\"mesh3d\":[{\"colorbar\":{\"outlinewidth\":0,\"ticks\":\"\"},\"type\":\"mesh3d\"}],\"parcoords\":[{\"line\":{\"colorbar\":{\"outlinewidth\":0,\"ticks\":\"\"}},\"type\":\"parcoords\"}],\"pie\":[{\"automargin\":true,\"type\":\"pie\"}],\"scatter3d\":[{\"line\":{\"colorbar\":{\"outlinewidth\":0,\"ticks\":\"\"}},\"marker\":{\"colorbar\":{\"outlinewidth\":0,\"ticks\":\"\"}},\"type\":\"scatter3d\"}],\"scattercarpet\":[{\"marker\":{\"colorbar\":{\"outlinewidth\":0,\"ticks\":\"\"}},\"type\":\"scattercarpet\"}],\"scattergeo\":[{\"marker\":{\"colorbar\":{\"outlinewidth\":0,\"ticks\":\"\"}},\"type\":\"scattergeo\"}],\"scattergl\":[{\"marker\":{\"colorbar\":{\"outlinewidth\":0,\"ticks\":\"\"}},\"type\":\"scattergl\"}],\"scattermapbox\":[{\"marker\":{\"colorbar\":{\"outlinewidth\":0,\"ticks\":\"\"}},\"type\":\"scattermapbox\"}],\"scatterpolargl\":[{\"marker\":{\"colorbar\":{\"outlinewidth\":0,\"ticks\":\"\"}},\"type\":\"scatterpolargl\"}],\"scatterpolar\":[{\"marker\":{\"colorbar\":{\"outlinewidth\":0,\"ticks\":\"\"}},\"type\":\"scatterpolar\"}],\"scatter\":[{\"fillpattern\":{\"fillmode\":\"overlay\",\"size\":10,\"solidity\":0.2},\"type\":\"scatter\"}],\"scatterternary\":[{\"marker\":{\"colorbar\":{\"outlinewidth\":0,\"ticks\":\"\"}},\"type\":\"scatterternary\"}],\"surface\":[{\"colorbar\":{\"outlinewidth\":0,\"ticks\":\"\"},\"colorscale\":[[0.0,\"#0d0887\"],[0.1111111111111111,\"#46039f\"],[0.2222222222222222,\"#7201a8\"],[0.3333333333333333,\"#9c179e\"],[0.4444444444444444,\"#bd3786\"],[0.5555555555555556,\"#d8576b\"],[0.6666666666666666,\"#ed7953\"],[0.7777777777777778,\"#fb9f3a\"],[0.8888888888888888,\"#fdca26\"],[1.0,\"#f0f921\"]],\"type\":\"surface\"}],\"table\":[{\"cells\":{\"fill\":{\"color\":\"#EBF0F8\"},\"line\":{\"color\":\"white\"}},\"header\":{\"fill\":{\"color\":\"#C8D4E3\"},\"line\":{\"color\":\"white\"}},\"type\":\"table\"}]},\"layout\":{\"annotationdefaults\":{\"arrowcolor\":\"#2a3f5f\",\"arrowhead\":0,\"arrowwidth\":1},\"autotypenumbers\":\"strict\",\"coloraxis\":{\"colorbar\":{\"outlinewidth\":0,\"ticks\":\"\"}},\"colorscale\":{\"diverging\":[[0,\"#8e0152\"],[0.1,\"#c51b7d\"],[0.2,\"#de77ae\"],[0.3,\"#f1b6da\"],[0.4,\"#fde0ef\"],[0.5,\"#f7f7f7\"],[0.6,\"#e6f5d0\"],[0.7,\"#b8e186\"],[0.8,\"#7fbc41\"],[0.9,\"#4d9221\"],[1,\"#276419\"]],\"sequential\":[[0.0,\"#0d0887\"],[0.1111111111111111,\"#46039f\"],[0.2222222222222222,\"#7201a8\"],[0.3333333333333333,\"#9c179e\"],[0.4444444444444444,\"#bd3786\"],[0.5555555555555556,\"#d8576b\"],[0.6666666666666666,\"#ed7953\"],[0.7777777777777778,\"#fb9f3a\"],[0.8888888888888888,\"#fdca26\"],[1.0,\"#f0f921\"]],\"sequentialminus\":[[0.0,\"#0d0887\"],[0.1111111111111111,\"#46039f\"],[0.2222222222222222,\"#7201a8\"],[0.3333333333333333,\"#9c179e\"],[0.4444444444444444,\"#bd3786\"],[0.5555555555555556,\"#d8576b\"],[0.6666666666666666,\"#ed7953\"],[0.7777777777777778,\"#fb9f3a\"],[0.8888888888888888,\"#fdca26\"],[1.0,\"#f0f921\"]]},\"colorway\":[\"#636efa\",\"#EF553B\",\"#00cc96\",\"#ab63fa\",\"#FFA15A\",\"#19d3f3\",\"#FF6692\",\"#B6E880\",\"#FF97FF\",\"#FECB52\"],\"font\":{\"color\":\"#2a3f5f\"},\"geo\":{\"bgcolor\":\"white\",\"lakecolor\":\"white\",\"landcolor\":\"#E5ECF6\",\"showlakes\":true,\"showland\":true,\"subunitcolor\":\"white\"},\"hoverlabel\":{\"align\":\"left\"},\"hovermode\":\"closest\",\"mapbox\":{\"style\":\"light\"},\"paper_bgcolor\":\"white\",\"plot_bgcolor\":\"#E5ECF6\",\"polar\":{\"angularaxis\":{\"gridcolor\":\"white\",\"linecolor\":\"white\",\"ticks\":\"\"},\"bgcolor\":\"#E5ECF6\",\"radialaxis\":{\"gridcolor\":\"white\",\"linecolor\":\"white\",\"ticks\":\"\"}},\"scene\":{\"xaxis\":{\"backgroundcolor\":\"#E5ECF6\",\"gridcolor\":\"white\",\"gridwidth\":2,\"linecolor\":\"white\",\"showbackground\":true,\"ticks\":\"\",\"zerolinecolor\":\"white\"},\"yaxis\":{\"backgroundcolor\":\"#E5ECF6\",\"gridcolor\":\"white\",\"gridwidth\":2,\"linecolor\":\"white\",\"showbackground\":true,\"ticks\":\"\",\"zerolinecolor\":\"white\"},\"zaxis\":{\"backgroundcolor\":\"#E5ECF6\",\"gridcolor\":\"white\",\"gridwidth\":2,\"linecolor\":\"white\",\"showbackground\":true,\"ticks\":\"\",\"zerolinecolor\":\"white\"}},\"shapedefaults\":{\"line\":{\"color\":\"#2a3f5f\"}},\"ternary\":{\"aaxis\":{\"gridcolor\":\"white\",\"linecolor\":\"white\",\"ticks\":\"\"},\"baxis\":{\"gridcolor\":\"white\",\"linecolor\":\"white\",\"ticks\":\"\"},\"bgcolor\":\"#E5ECF6\",\"caxis\":{\"gridcolor\":\"white\",\"linecolor\":\"white\",\"ticks\":\"\"}},\"title\":{\"x\":0.05},\"xaxis\":{\"automargin\":true,\"gridcolor\":\"white\",\"linecolor\":\"white\",\"ticks\":\"\",\"title\":{\"standoff\":15},\"zerolinecolor\":\"white\",\"zerolinewidth\":2},\"yaxis\":{\"automargin\":true,\"gridcolor\":\"white\",\"linecolor\":\"white\",\"ticks\":\"\",\"title\":{\"standoff\":15},\"zerolinecolor\":\"white\",\"zerolinewidth\":2}}},\"title\":{\"text\":\"Soda Ash Price Early Warning System\"},\"xaxis\":{\"domain\":[0,1]},\"yaxis\":{\"domain\":[0,1]}},                        {\"responsive\": true}                    ).then(function(){\n",
       "                            \n",
       "var gd = document.getElementById('de9a6ea4-415a-422a-9fc9-b8eb3439da4d');\n",
       "var x = new MutationObserver(function (mutations, observer) {{\n",
       "        var display = window.getComputedStyle(gd).display;\n",
       "        if (!display || display === 'none') {{\n",
       "            console.log([gd, 'removed!']);\n",
       "            Plotly.purge(gd);\n",
       "            observer.disconnect();\n",
       "        }}\n",
       "}});\n",
       "\n",
       "// Listen for the removal of the full notebook cells\n",
       "var notebookContainer = gd.closest('#notebook-container');\n",
       "if (notebookContainer) {{\n",
       "    x.observe(notebookContainer, {childList: true});\n",
       "}}\n",
       "\n",
       "// Listen for the clearing of the current output cell\n",
       "var outputEl = gd.closest('.output');\n",
       "if (outputEl) {{\n",
       "    x.observe(outputEl, {childList: true});\n",
       "}}\n",
       "\n",
       "                        })                };                });            </script>        </div>"
      ]
     },
     "metadata": {},
     "output_type": "display_data"
    }
   ],
   "source": [
    "import pandas as pd\n",
    "import plotly.graph_objs as go\n",
    "from plotly.offline import iplot\n",
    "\n",
    "def plot_anomalies_with_pre_alert(df, date_col, data_col, threshold=10, window_size=5):\n",
    "    # Convert 'date_col' to datetime if not already\n",
    "    df['timestamp'] = pd.to_datetime(df[date_col], format=\"%Y-%m-%d\")\n",
    "    \n",
    "    # Calculate the moving average\n",
    "    df['moving_avg'] = df[data_col].rolling(window=window_size).mean()\n",
    "\n",
    "    # Predict next value assuming continuation of current trend\n",
    "    df['predicted_next_value'] = df['moving_avg'].shift(-1)\n",
    "\n",
    "    # Calculate expected percent change\n",
    "    df['expected_change'] = ((df['predicted_next_value'] - df[data_col]) / df[data_col]) * 100\n",
    "\n",
    "    # Identify where expected change exceeds the threshold\n",
    "    df['pre_alert'] = (df['expected_change'].abs() > threshold).astype(int)\n",
    "\n",
    "    # Plotting\n",
    "    dates = df['timestamp']\n",
    "    actuals = df[data_col]\n",
    "    alerts = df['pre_alert'] == 1\n",
    "\n",
    "    actuals_plot = go.Scatter(\n",
    "        name='Actuals',\n",
    "        x=dates,\n",
    "        y=actuals,\n",
    "        mode='lines+markers',\n",
    "        line=dict(color=\"blue\")\n",
    "    )\n",
    "\n",
    "    # Highlight pre-alert points\n",
    "    pre_alerts_plot = go.Scatter(\n",
    "        name=\"Pre-Alerts\",\n",
    "        x=dates[alerts],\n",
    "        y=actuals[alerts],\n",
    "        mode='markers',\n",
    "        marker=dict(color=\"orange\", size=11)\n",
    "    )\n",
    "\n",
    "    layout = go.Layout(\n",
    "        title='Soda Ash Price Early Warning System',\n",
    "        showlegend=True,\n",
    "        xaxis=dict(domain=[0, 1]),\n",
    "        yaxis=dict(domain=[0, 1]),\n",
    "        height=600\n",
    "    )\n",
    "    \n",
    "    fig = go.Figure(data=[actuals_plot, pre_alerts_plot], layout=layout)\n",
    "    iplot(fig)\n",
    "\n",
    "# Assuming you have your DataFrame ready\n",
    "plot_anomalies_with_pre_alert(df, date_col='Period', data_col='Target_SodaAshLightChinaSpotExportAverageFOBChinaUSperMetricTon', threshold=10, window_size=5)\n"
   ]
  },
  {
   "cell_type": "code",
   "execution_count": 65,
   "metadata": {},
   "outputs": [
    {
     "data": {
      "image/png": "[encoded data removed]",
      "text/plain": [
       "<Figure size 1200x600 with 2 Axes>"
      ]
     },
     "metadata": {},
     "output_type": "display_data"
    }
   ],
   "source": [
    "import numpy as np\n",
    "import matplotlib.pyplot as plt\n",
    "\n",
    "# Generate sample data\n",
    "np.random.seed(42)\n",
    "days = 100\n",
    "time = np.arange(days)\n",
    "price = 100 + np.cumsum(np.random.randn(days))\n",
    "anomaly_score = np.abs(np.random.randn(days) * 10)\n",
    "threshold = 15\n",
    "\n",
    "# Create the plot\n",
    "fig, ax1 = plt.subplots(figsize=(12, 6))\n",
    "\n",
    "# Plot price\n",
    "ax1.plot(time, price, color='blue', label='Price')\n",
    "ax1.set_xlabel('Time')\n",
    "ax1.set_ylabel('Price', color='blue')\n",
    "ax1.tick_params(axis='y', labelcolor='blue')\n",
    "\n",
    "# Create second y-axis for anomaly score\n",
    "ax2 = ax1.twinx()\n",
    "ax2.set_ylabel('Anomaly Score', color='gray')\n",
    "ax2.tick_params(axis='y', labelcolor='gray')\n",
    "\n",
    "# Plot anomaly score with color coding\n",
    "colors = ['green' if score < threshold else 'red' for score in anomaly_score]\n",
    "ax2.bar(time, anomaly_score, alpha=0.3, color=colors, label='Anomaly Score')\n",
    "\n",
    "# Plot threshold line\n",
    "ax2.axhline(y=threshold, color='red', linestyle='--', label='Threshold')\n",
    "\n",
    "# Highlight points where anomaly score exceeds threshold\n",
    "alerts = time[anomaly_score > threshold]\n",
    "ax2.scatter(alerts, [threshold] * len(alerts), color='red', s=100, marker='^', label='Alert')\n",
    "\n",
    "# Add annotations for alerts\n",
    "for alert in alerts:\n",
    "    ax2.annotate('Alert', (alert, threshold), xytext=(0, 10), \n",
    "                 textcoords='offset points', ha='center', va='bottom',\n",
    "                 bbox=dict(boxstyle='round,pad=0.5', fc='yellow', alpha=0.5),\n",
    "                 arrowprops=dict(arrowstyle = '->', connectionstyle='arc3,rad=0'))\n",
    "\n",
    "# Customize the plot\n",
    "plt.title('Early Warning System: Price and Anomaly Score')\n",
    "fig.legend(loc='upper right', bbox_to_anchor=(1,1), bbox_transform=ax1.transAxes)\n",
    "\n",
    "# Show the plot\n",
    "plt.tight_layout()\n",
    "plt.show()"
   ]
  },
  {
   "cell_type": "markdown",
   "metadata": {},
   "source": [
    "### Feature Anomalies"
   ]
  },
  {
   "cell_type": "code",
   "execution_count": 48,
   "metadata": {},
   "outputs": [],
   "source": [
    "# Example usage\n",
    "columns = ['Period', 'Target_SodaAshLightChinaSpotExportAverageFOBChinaUSperMetricTon', 'CCFI', 'CoalIndex', 'Coke', 'MEX_CPI', \n",
    "           'FRA_CPI', 'JPN_CPI', 'NaturalGasIndex', 'USA_CPI', 'US_Export_000_MT', 'GBR_CPI', 'BRA_CPI', 'CHN_CPI', 'InvescoTAN_Price', 'beijing_pm25', 'beijing_pm10', 'shanghai_pm10']"
   ]
  },
  {
   "cell_type": "code",
   "execution_count": 56,
   "metadata": {},
   "outputs": [
    {
     "name": "stderr",
     "output_type": "stream",
     "text": [
      "c:\\Users\\249881\\AppData\\Local\\anaconda3\\Lib\\site-packages\\sklearn\\base.py:439: UserWarning:\n",
      "\n",
      "X does not have valid feature names, but IsolationForest was fitted with feature names\n",
      "\n",
      "c:\\Users\\249881\\AppData\\Local\\anaconda3\\Lib\\site-packages\\_plotly_utils\\basevalidators.py:106: FutureWarning:\n",
      "\n",
      "The behavior of DatetimeProperties.to_pydatetime is deprecated, in a future version this will return a Series containing python datetime objects instead of an ndarray. To retain the old behavior, call `np.array` on the result\n",
      "\n"
     ]
    },
    {
     "data": {
      "application/vnd.plotly.v1+json": {
       "config": {
        "linkText": "Export to plot.ly",
        "plotlyServerURL": "https://plot.ly",
        "showLink": false
       },
       "data": [
        {
         "cells": {
          "align": "center",
          "fill": {
           "color": [
            "rgba(228, 222, 249, 0.65)",
            "rgba(228, 222, 249, 0.65)",
            "rgba(228, 222, 249, 0.65)",
            "rgba(228, 222, 249, 0.65)",
            "rgba(228, 222, 249, 0.65)",
            "rgba(228, 222, 249, 0.65)",
            "rgba(228, 222, 249, 0.65)",
            "rgba(228, 222, 249, 0.65)",
            "rgba(228, 222, 249, 0.65)",
            "rgba(228, 222, 249, 0.65)",
            "rgba(228, 222, 249, 0.65)",
            "rgba(228, 222, 249, 0.65)",
            "rgba(228, 222, 249, 0.65)",
            "rgba(228, 222, 249, 0.65)",
            "rgba(228, 222, 249, 0.65)",
            "rgba(228, 222, 249, 0.65)",
            "rgba(228, 222, 249, 0.65)",
            "rgba(228, 222, 249, 0.65)",
            "rgba(228, 222, 249, 0.65)",
            "rgba(228, 222, 249, 0.65)",
            "rgba(228, 222, 249, 0.65)",
            "rgba(228, 222, 249, 0.65)",
            "rgba(228, 222, 249, 0.65)",
            "rgba(228, 222, 249, 0.65)",
            "rgba(228, 222, 249, 0.65)",
            "rgba(228, 222, 249, 0.65)",
            "rgba(228, 222, 249, 0.65)",
            "rgba(228, 222, 249, 0.65)",
            "rgba(228, 222, 249, 0.65)",
            "rgba(228, 222, 249, 0.65)",
            "rgba(228, 222, 249, 0.65)",
            "rgba(228, 222, 249, 0.65)",
            "rgba(228, 222, 249, 0.65)",
            "rgba(228, 222, 249, 0.65)",
            "rgba(228, 222, 249, 0.65)",
            "rgba(228, 222, 249, 0.65)",
            "rgba(228, 222, 249, 0.65)",
            "rgba(228, 222, 249, 0.65)",
            "rgba(228, 222, 249, 0.65)",
            "rgba(228, 222, 249, 0.65)",
            "rgba(228, 222, 249, 0.65)",
            "rgba(228, 222, 249, 0.65)",
            "rgba(228, 222, 249, 0.65)",
            "rgba(228, 222, 249, 0.65)",
            "rgba(228, 222, 249, 0.65)",
            "rgba(228, 222, 249, 0.65)",
            "rgba(228, 222, 249, 0.65)",
            "rgba(228, 222, 249, 0.65)",
            "rgba(228, 222, 249, 0.65)",
            "rgba(228, 222, 249, 0.65)",
            "rgba(228, 222, 249, 0.65)",
            "rgba(228, 222, 249, 0.65)",
            "rgba(228, 222, 249, 0.65)",
            "rgba(228, 222, 249, 0.65)",
            "rgba(228, 222, 249, 0.65)",
            "rgba(228, 222, 249, 0.65)",
            "rgba(228, 222, 249, 0.65)",
            "rgba(228, 222, 249, 0.65)",
            "rgba(228, 222, 249, 0.65)",
            "rgba(228, 222, 249, 0.65)",
            "rgba(228, 222, 249, 0.65)",
            "rgba(228, 222, 249, 0.65)",
            "rgba(228, 222, 249, 0.65)",
            "rgba(228, 222, 249, 0.65)",
            "rgba(228, 222, 249, 0.65)",
            "rgba(228, 222, 249, 0.65)",
            "rgba(228, 222, 249, 0.65)",
            "red",
            "rgba(228, 222, 249, 0.65)",
            "rgba(228, 222, 249, 0.65)",
            "red",
            "red",
            "rgba(228, 222, 249, 0.65)",
            "red",
            "rgba(228, 222, 249, 0.65)",
            "rgba(228, 222, 249, 0.65)",
            "rgba(228, 222, 249, 0.65)",
            "rgba(228, 222, 249, 0.65)",
            "rgba(228, 222, 249, 0.65)",
            "rgba(228, 222, 249, 0.65)",
            "rgba(228, 222, 249, 0.65)",
            "rgba(228, 222, 249, 0.65)",
            "rgba(228, 222, 249, 0.65)",
            "rgba(228, 222, 249, 0.65)",
            "rgba(228, 222, 249, 0.65)",
            "rgba(228, 222, 249, 0.65)",
            "rgba(228, 222, 249, 0.65)",
            "rgba(228, 222, 249, 0.65)",
            "rgba(228, 222, 249, 0.65)",
            "rgba(228, 222, 249, 0.65)",
            "rgba(228, 222, 249, 0.65)",
            "rgba(228, 222, 249, 0.65)",
            "rgba(228, 222, 249, 0.65)",
            "rgba(228, 222, 249, 0.65)",
            "rgba(228, 222, 249, 0.65)",
            "rgba(228, 222, 249, 0.65)",
            "rgba(228, 222, 249, 0.65)",
            "rgba(228, 222, 249, 0.65)",
            "rgba(228, 222, 249, 0.65)",
            "rgba(228, 222, 249, 0.65)",
            "rgba(228, 222, 249, 0.65)",
            "rgba(228, 222, 249, 0.65)",
            "rgba(228, 222, 249, 0.65)",
            "rgba(228, 222, 249, 0.65)",
            "rgba(228, 222, 249, 0.65)",
            "rgba(228, 222, 249, 0.65)",
            "rgba(228, 222, 249, 0.65)",
            "rgba(228, 222, 249, 0.65)",
            "rgba(228, 222, 249, 0.65)",
            "rgba(228, 222, 249, 0.65)",
            "rgba(228, 222, 249, 0.65)",
            "rgba(228, 222, 249, 0.65)",
            "rgba(228, 222, 249, 0.65)",
            "rgba(228, 222, 249, 0.65)",
            "rgba(228, 222, 249, 0.65)",
            "rgba(228, 222, 249, 0.65)",
            "rgba(228, 222, 249, 0.65)",
            "rgba(228, 222, 249, 0.65)",
            "red",
            "rgba(228, 222, 249, 0.65)",
            "rgba(228, 222, 249, 0.65)",
            "rgba(228, 222, 249, 0.65)",
            "rgba(228, 222, 249, 0.65)"
           ]
          },
          "font": {
           "size": 12
          },
          "values": [
           [
            "2019-08-01",
            "2019-11-01",
            "2019-12-01",
            "2020-02-01",
            "2023-11-01"
           ],
           [
            3.8,
            5.4,
            5.2,
            3.3,
            -0.8
           ]
          ]
         },
         "columnwidth": [
          1,
          2
         ],
         "domain": {
          "x": [
           0,
           1
          ],
          "y": [
           0,
           0.3
          ]
         },
         "header": {
          "fill": {
           "color": "#d562be"
          },
          "font": {
           "size": 14
          },
          "values": [
           "<b>Date</b>",
           "<b>Anomaly Values</b>"
          ]
         },
         "type": "table"
        },
        {
         "line": {
          "color": "blue"
         },
         "mode": "lines+markers",
         "name": "Actuals",
         "type": "scatter",
         "x": [
          "2014-01-01T00:00:00",
          "2014-02-01T00:00:00",
          "2014-03-01T00:00:00",
          "2014-04-01T00:00:00",
          "2014-05-01T00:00:00",
          "2014-06-01T00:00:00",
          "2014-07-01T00:00:00",
          "2014-08-01T00:00:00",
          "2014-09-01T00:00:00",
          "2014-10-01T00:00:00",
          "2014-11-01T00:00:00",
          "2014-12-01T00:00:00",
          "2015-01-01T00:00:00",
          "2015-02-01T00:00:00",
          "2015-03-01T00:00:00",
          "2015-04-01T00:00:00",
          "2015-05-01T00:00:00",
          "2015-06-01T00:00:00",
          "2015-07-01T00:00:00",
          "2015-08-01T00:00:00",
          "2015-09-01T00:00:00",
          "2015-10-01T00:00:00",
          "2015-11-01T00:00:00",
          "2015-12-01T00:00:00",
          "2016-01-01T00:00:00",
          "2016-02-01T00:00:00",
          "2016-03-01T00:00:00",
          "2016-04-01T00:00:00",
          "2016-05-01T00:00:00",
          "2016-06-01T00:00:00",
          "2016-07-01T00:00:00",
          "2016-08-01T00:00:00",
          "2016-09-01T00:00:00",
          "2016-10-01T00:00:00",
          "2016-11-01T00:00:00",
          "2016-12-01T00:00:00",
          "2017-01-01T00:00:00",
          "2017-02-01T00:00:00",
          "2017-03-01T00:00:00",
          "2017-04-01T00:00:00",
          "2017-05-01T00:00:00",
          "2017-06-01T00:00:00",
          "2017-07-01T00:00:00",
          "2017-08-01T00:00:00",
          "2017-09-01T00:00:00",
          "2017-10-01T00:00:00",
          "2017-11-01T00:00:00",
          "2017-12-01T00:00:00",
          "2018-01-01T00:00:00",
          "2018-02-01T00:00:00",
          "2018-03-01T00:00:00",
          "2018-04-01T00:00:00",
          "2018-05-01T00:00:00",
          "2018-06-01T00:00:00",
          "2018-07-01T00:00:00",
          "2018-08-01T00:00:00",
          "2018-09-01T00:00:00",
          "2018-10-01T00:00:00",
          "2018-11-01T00:00:00",
          "2018-12-01T00:00:00",
          "2019-01-01T00:00:00",
          "2019-02-01T00:00:00",
          "2019-03-01T00:00:00",
          "2019-04-01T00:00:00",
          "2019-05-01T00:00:00",
          "2019-06-01T00:00:00",
          "2019-07-01T00:00:00",
          "2019-08-01T00:00:00",
          "2019-09-01T00:00:00",
          "2019-10-01T00:00:00",
          "2019-11-01T00:00:00",
          "2019-12-01T00:00:00",
          "2020-01-01T00:00:00",
          "2020-02-01T00:00:00",
          "2020-03-01T00:00:00",
          "2020-04-01T00:00:00",
          "2020-05-01T00:00:00",
          "2020-06-01T00:00:00",
          "2020-07-01T00:00:00",
          "2020-08-01T00:00:00",
          "2020-09-01T00:00:00",
          "2020-10-01T00:00:00",
          "2020-11-01T00:00:00",
          "2020-12-01T00:00:00",
          "2021-01-01T00:00:00",
          "2021-02-01T00:00:00",
          "2021-03-01T00:00:00",
          "2021-04-01T00:00:00",
          "2021-05-01T00:00:00",
          "2021-06-01T00:00:00",
          "2021-07-01T00:00:00",
          "2021-08-01T00:00:00",
          "2021-09-01T00:00:00",
          "2021-10-01T00:00:00",
          "2021-11-01T00:00:00",
          "2021-12-01T00:00:00",
          "2022-01-01T00:00:00",
          "2022-02-01T00:00:00",
          "2022-03-01T00:00:00",
          "2022-04-01T00:00:00",
          "2022-05-01T00:00:00",
          "2022-06-01T00:00:00",
          "2022-07-01T00:00:00",
          "2022-08-01T00:00:00",
          "2022-09-01T00:00:00",
          "2022-10-01T00:00:00",
          "2022-11-01T00:00:00",
          "2022-12-01T00:00:00",
          "2023-01-01T00:00:00",
          "2023-02-01T00:00:00",
          "2023-03-01T00:00:00",
          "2023-04-01T00:00:00",
          "2023-05-01T00:00:00",
          "2023-06-01T00:00:00",
          "2023-07-01T00:00:00",
          "2023-08-01T00:00:00",
          "2023-09-01T00:00:00",
          "2023-10-01T00:00:00",
          "2023-11-01T00:00:00",
          "2023-12-01T00:00:00",
          "2024-01-01T00:00:00",
          "2024-02-01T00:00:00",
          "2024-03-01T00:00:00"
         ],
         "y": [
          2.5,
          2,
          2.4,
          1.8,
          2.5,
          2.3,
          2.3,
          2,
          1.6,
          1.6,
          1.4,
          1.5,
          0.8,
          1.4,
          1.4,
          1.5,
          1.2,
          1.4,
          1.6,
          2,
          1.6,
          1.3,
          1.5,
          1.6,
          1.8,
          2.3,
          2,
          1.9,
          1.8,
          1.3,
          1.9,
          2.1,
          2.3,
          2.1,
          2.5,
          0.8,
          0.9,
          1.2,
          1.5,
          1.5,
          1.4,
          1.8,
          1.6,
          1.9,
          1.7,
          1.8,
          1.5,
          2.9,
          2.1,
          1.8,
          1.8,
          1.9,
          2.1,
          2.3,
          2.5,
          2.5,
          2.2,
          1.9,
          1.7,
          1.5,
          2.3,
          2.5,
          2.7,
          2.7,
          2.8,
          2.8,
          3,
          3.8,
          4.5,
          4.5,
          5.4,
          5.2,
          4.3,
          3.3,
          2.4,
          2.5,
          2.7,
          2.4,
          1.7,
          0.5,
          -0.5,
          0.2,
          -0.3,
          -0.2,
          0.4,
          0.9,
          1.3,
          1.1,
          1,
          0.8,
          0.7,
          1.5,
          2.3,
          1.5,
          0.9,
          0.9,
          1.5,
          2.1,
          2.1,
          2.5,
          2.7,
          2.5,
          2.8,
          2.1,
          1.6,
          1.8,
          2.1,
          1,
          0.7,
          0.1,
          0.2,
          0,
          -0.3,
          0.1,
          0,
          -0.2,
          -0.5,
          -0.3,
          -0.8,
          0.7,
          0.1,
          0.3,
          0.3
         ]
        },
        {
         "marker": {
          "color": "red",
          "size": 11
         },
         "mode": "markers",
         "name": "Anomalies",
         "type": "scatter",
         "x": [
          "2019-08-01T00:00:00",
          "2019-11-01T00:00:00",
          "2019-12-01T00:00:00",
          "2020-02-01T00:00:00",
          "2023-11-01T00:00:00"
         ],
         "y": [
          3.8,
          5.4,
          5.2,
          3.3,
          -0.8
         ]
        }
       ],
       "layout": {
        "height": 600,
        "showlegend": true,
        "template": {
         "data": {
          "bar": [
           {
            "error_x": {
             "color": "#2a3f5f"
            },
            "error_y": {
             "color": "#2a3f5f"
            },
            "marker": {
             "line": {
              "color": "#E5ECF6",
              "width": 0.5
             },
             "pattern": {
              "fillmode": "overlay",
              "size": 10,
              "solidity": 0.2
             }
            },
            "type": "bar"
           }
          ],
          "barpolar": [
           {
            "marker": {
             "line": {
              "color": "#E5ECF6",
              "width": 0.5
             },
             "pattern": {
              "fillmode": "overlay",
              "size": 10,
              "solidity": 0.2
             }
            },
            "type": "barpolar"
           }
          ],
          "carpet": [
           {
            "aaxis": {
             "endlinecolor": "#2a3f5f",
             "gridcolor": "white",
             "linecolor": "white",
             "minorgridcolor": "white",
             "startlinecolor": "#2a3f5f"
            },
            "baxis": {
             "endlinecolor": "#2a3f5f",
             "gridcolor": "white",
             "linecolor": "white",
             "minorgridcolor": "white",
             "startlinecolor": "#2a3f5f"
            },
            "type": "carpet"
           }
          ],
          "choropleth": [
           {
            "colorbar": {
             "outlinewidth": 0,
             "ticks": ""
            },
            "type": "choropleth"
           }
          ],
          "contour": [
           {
            "colorbar": {
             "outlinewidth": 0,
             "ticks": ""
            },
            "colorscale": [
             [
              0,
              "#0d0887"
             ],
             [
              0.1111111111111111,
              "#46039f"
             ],
             [
              0.2222222222222222,
              "#7201a8"
             ],
             [
              0.3333333333333333,
              "#9c179e"
             ],
             [
              0.4444444444444444,
              "#bd3786"
             ],
             [
              0.5555555555555556,
              "#d8576b"
             ],
             [
              0.6666666666666666,
              "#ed7953"
             ],
             [
              0.7777777777777778,
              "#fb9f3a"
             ],
             [
              0.8888888888888888,
              "#fdca26"
             ],
             [
              1,
              "#f0f921"
             ]
            ],
            "type": "contour"
           }
          ],
          "contourcarpet": [
           {
            "colorbar": {
             "outlinewidth": 0,
             "ticks": ""
            },
            "type": "contourcarpet"
           }
          ],
          "heatmap": [
           {
            "colorbar": {
             "outlinewidth": 0,
             "ticks": ""
            },
            "colorscale": [
             [
              0,
              "#0d0887"
             ],
             [
              0.1111111111111111,
              "#46039f"
             ],
             [
              0.2222222222222222,
              "#7201a8"
             ],
             [
              0.3333333333333333,
              "#9c179e"
             ],
             [
              0.4444444444444444,
              "#bd3786"
             ],
             [
              0.5555555555555556,
              "#d8576b"
             ],
             [
              0.6666666666666666,
              "#ed7953"
             ],
             [
              0.7777777777777778,
              "#fb9f3a"
             ],
             [
              0.8888888888888888,
              "#fdca26"
             ],
             [
              1,
              "#f0f921"
             ]
            ],
            "type": "heatmap"
           }
          ],
          "heatmapgl": [
           {
            "colorbar": {
             "outlinewidth": 0,
             "ticks": ""
            },
            "colorscale": [
             [
              0,
              "#0d0887"
             ],
             [
              0.1111111111111111,
              "#46039f"
             ],
             [
              0.2222222222222222,
              "#7201a8"
             ],
             [
              0.3333333333333333,
              "#9c179e"
             ],
             [
              0.4444444444444444,
              "#bd3786"
             ],
             [
              0.5555555555555556,
              "#d8576b"
             ],
             [
              0.6666666666666666,
              "#ed7953"
             ],
             [
              0.7777777777777778,
              "#fb9f3a"
             ],
             [
              0.8888888888888888,
              "#fdca26"
             ],
             [
              1,
              "#f0f921"
             ]
            ],
            "type": "heatmapgl"
           }
          ],
          "histogram": [
           {
            "marker": {
             "pattern": {
              "fillmode": "overlay",
              "size": 10,
              "solidity": 0.2
             }
            },
            "type": "histogram"
           }
          ],
          "histogram2d": [
           {
            "colorbar": {
             "outlinewidth": 0,
             "ticks": ""
            },
            "colorscale": [
             [
              0,
              "#0d0887"
             ],
             [
              0.1111111111111111,
              "#46039f"
             ],
             [
              0.2222222222222222,
              "#7201a8"
             ],
             [
              0.3333333333333333,
              "#9c179e"
             ],
             [
              0.4444444444444444,
              "#bd3786"
             ],
             [
              0.5555555555555556,
              "#d8576b"
             ],
             [
              0.6666666666666666,
              "#ed7953"
             ],
             [
              0.7777777777777778,
              "#fb9f3a"
             ],
             [
              0.8888888888888888,
              "#fdca26"
             ],
             [
              1,
              "#f0f921"
             ]
            ],
            "type": "histogram2d"
           }
          ],
          "histogram2dcontour": [
           {
            "colorbar": {
             "outlinewidth": 0,
             "ticks": ""
            },
            "colorscale": [
             [
              0,
              "#0d0887"
             ],
             [
              0.1111111111111111,
              "#46039f"
             ],
             [
              0.2222222222222222,
              "#7201a8"
             ],
             [
              0.3333333333333333,
              "#9c179e"
             ],
             [
              0.4444444444444444,
              "#bd3786"
             ],
             [
              0.5555555555555556,
              "#d8576b"
             ],
             [
              0.6666666666666666,
              "#ed7953"
             ],
             [
              0.7777777777777778,
              "#fb9f3a"
             ],
             [
              0.8888888888888888,
              "#fdca26"
             ],
             [
              1,
              "#f0f921"
             ]
            ],
            "type": "histogram2dcontour"
           }
          ],
          "mesh3d": [
           {
            "colorbar": {
             "outlinewidth": 0,
             "ticks": ""
            },
            "type": "mesh3d"
           }
          ],
          "parcoords": [
           {
            "line": {
             "colorbar": {
              "outlinewidth": 0,
              "ticks": ""
             }
            },
            "type": "parcoords"
           }
          ],
          "pie": [
           {
            "automargin": true,
            "type": "pie"
           }
          ],
          "scatter": [
           {
            "fillpattern": {
             "fillmode": "overlay",
             "size": 10,
             "solidity": 0.2
            },
            "type": "scatter"
           }
          ],
          "scatter3d": [
           {
            "line": {
             "colorbar": {
              "outlinewidth": 0,
              "ticks": ""
             }
            },
            "marker": {
             "colorbar": {
              "outlinewidth": 0,
              "ticks": ""
             }
            },
            "type": "scatter3d"
           }
          ],
          "scattercarpet": [
           {
            "marker": {
             "colorbar": {
              "outlinewidth": 0,
              "ticks": ""
             }
            },
            "type": "scattercarpet"
           }
          ],
          "scattergeo": [
           {
            "marker": {
             "colorbar": {
              "outlinewidth": 0,
              "ticks": ""
             }
            },
            "type": "scattergeo"
           }
          ],
          "scattergl": [
           {
            "marker": {
             "colorbar": {
              "outlinewidth": 0,
              "ticks": ""
             }
            },
            "type": "scattergl"
           }
          ],
          "scattermapbox": [
           {
            "marker": {
             "colorbar": {
              "outlinewidth": 0,
              "ticks": ""
             }
            },
            "type": "scattermapbox"
           }
          ],
          "scatterpolar": [
           {
            "marker": {
             "colorbar": {
              "outlinewidth": 0,
              "ticks": ""
             }
            },
            "type": "scatterpolar"
           }
          ],
          "scatterpolargl": [
           {
            "marker": {
             "colorbar": {
              "outlinewidth": 0,
              "ticks": ""
             }
            },
            "type": "scatterpolargl"
           }
          ],
          "scatterternary": [
           {
            "marker": {
             "colorbar": {
              "outlinewidth": 0,
              "ticks": ""
             }
            },
            "type": "scatterternary"
           }
          ],
          "surface": [
           {
            "colorbar": {
             "outlinewidth": 0,
             "ticks": ""
            },
            "colorscale": [
             [
              0,
              "#0d0887"
             ],
             [
              0.1111111111111111,
              "#46039f"
             ],
             [
              0.2222222222222222,
              "#7201a8"
             ],
             [
              0.3333333333333333,
              "#9c179e"
             ],
             [
              0.4444444444444444,
              "#bd3786"
             ],
             [
              0.5555555555555556,
              "#d8576b"
             ],
             [
              0.6666666666666666,
              "#ed7953"
             ],
             [
              0.7777777777777778,
              "#fb9f3a"
             ],
             [
              0.8888888888888888,
              "#fdca26"
             ],
             [
              1,
              "#f0f921"
             ]
            ],
            "type": "surface"
           }
          ],
          "table": [
           {
            "cells": {
             "fill": {
              "color": "#EBF0F8"
             },
             "line": {
              "color": "white"
             }
            },
            "header": {
             "fill": {
              "color": "#C8D4E3"
             },
             "line": {
              "color": "white"
             }
            },
            "type": "table"
           }
          ]
         },
         "layout": {
          "annotationdefaults": {
           "arrowcolor": "#2a3f5f",
           "arrowhead": 0,
           "arrowwidth": 1
          },
          "autotypenumbers": "strict",
          "coloraxis": {
           "colorbar": {
            "outlinewidth": 0,
            "ticks": ""
           }
          },
          "colorscale": {
           "diverging": [
            [
             0,
             "#8e0152"
            ],
            [
             0.1,
             "#c51b7d"
            ],
            [
             0.2,
             "#de77ae"
            ],
            [
             0.3,
             "#f1b6da"
            ],
            [
             0.4,
             "#fde0ef"
            ],
            [
             0.5,
             "#f7f7f7"
            ],
            [
             0.6,
             "#e6f5d0"
            ],
            [
             0.7,
             "#b8e186"
            ],
            [
             0.8,
             "#7fbc41"
            ],
            [
             0.9,
             "#4d9221"
            ],
            [
             1,
             "#276419"
            ]
           ],
           "sequential": [
            [
             0,
             "#0d0887"
            ],
            [
             0.1111111111111111,
             "#46039f"
            ],
            [
             0.2222222222222222,
             "#7201a8"
            ],
            [
             0.3333333333333333,
             "#9c179e"
            ],
            [
             0.4444444444444444,
             "#bd3786"
            ],
            [
             0.5555555555555556,
             "#d8576b"
            ],
            [
             0.6666666666666666,
             "#ed7953"
            ],
            [
             0.7777777777777778,
             "#fb9f3a"
            ],
            [
             0.8888888888888888,
             "#fdca26"
            ],
            [
             1,
             "#f0f921"
            ]
           ],
           "sequentialminus": [
            [
             0,
             "#0d0887"
            ],
            [
             0.1111111111111111,
             "#46039f"
            ],
            [
             0.2222222222222222,
             "#7201a8"
            ],
            [
             0.3333333333333333,
             "#9c179e"
            ],
            [
             0.4444444444444444,
             "#bd3786"
            ],
            [
             0.5555555555555556,
             "#d8576b"
            ],
            [
             0.6666666666666666,
             "#ed7953"
            ],
            [
             0.7777777777777778,
             "#fb9f3a"
            ],
            [
             0.8888888888888888,
             "#fdca26"
            ],
            [
             1,
             "#f0f921"
            ]
           ]
          },
          "colorway": [
           "#636efa",
           "#EF553B",
           "#00cc96",
           "#ab63fa",
           "#FFA15A",
           "#19d3f3",
           "#FF6692",
           "#B6E880",
           "#FF97FF",
           "#FECB52"
          ],
          "font": {
           "color": "#2a3f5f"
          },
          "geo": {
           "bgcolor": "white",
           "lakecolor": "white",
           "landcolor": "#E5ECF6",
           "showlakes": true,
           "showland": true,
           "subunitcolor": "white"
          },
          "hoverlabel": {
           "align": "left"
          },
          "hovermode": "closest",
          "mapbox": {
           "style": "light"
          },
          "paper_bgcolor": "white",
          "plot_bgcolor": "#E5ECF6",
          "polar": {
           "angularaxis": {
            "gridcolor": "white",
            "linecolor": "white",
            "ticks": ""
           },
           "bgcolor": "#E5ECF6",
           "radialaxis": {
            "gridcolor": "white",
            "linecolor": "white",
            "ticks": ""
           }
          },
          "scene": {
           "xaxis": {
            "backgroundcolor": "#E5ECF6",
            "gridcolor": "white",
            "gridwidth": 2,
            "linecolor": "white",
            "showbackground": true,
            "ticks": "",
            "zerolinecolor": "white"
           },
           "yaxis": {
            "backgroundcolor": "#E5ECF6",
            "gridcolor": "white",
            "gridwidth": 2,
            "linecolor": "white",
            "showbackground": true,
            "ticks": "",
            "zerolinecolor": "white"
           },
           "zaxis": {
            "backgroundcolor": "#E5ECF6",
            "gridcolor": "white",
            "gridwidth": 2,
            "linecolor": "white",
            "showbackground": true,
            "ticks": "",
            "zerolinecolor": "white"
           }
          },
          "shapedefaults": {
           "line": {
            "color": "#2a3f5f"
           }
          },
          "ternary": {
           "aaxis": {
            "gridcolor": "white",
            "linecolor": "white",
            "ticks": ""
           },
           "baxis": {
            "gridcolor": "white",
            "linecolor": "white",
            "ticks": ""
           },
           "bgcolor": "#E5ECF6",
           "caxis": {
            "gridcolor": "white",
            "linecolor": "white",
            "ticks": ""
           }
          },
          "title": {
           "x": 0.05
          },
          "xaxis": {
           "automargin": true,
           "gridcolor": "white",
           "linecolor": "white",
           "ticks": "",
           "title": {
            "standoff": 15
           },
           "zerolinecolor": "white",
           "zerolinewidth": 2
          },
          "yaxis": {
           "automargin": true,
           "gridcolor": "white",
           "linecolor": "white",
           "ticks": "",
           "title": {
            "standoff": 15
           },
           "zerolinecolor": "white",
           "zerolinewidth": 2
          }
         }
        },
        "title": {
         "text": "Anomaly Detection for CHN_CPI"
        },
        "xaxis": {
         "domain": [
          0,
          1
         ]
        },
        "yaxis": {
         "domain": [
          0.4,
          1
         ]
        }
       }
      },
      "text/html": [
       "<div>                            <div id=\"663e3bd4-1d4e-4d08-9318-d597c1e7c773\" class=\"plotly-graph-div\" style=\"height:600px; width:100%;\"></div>            <script type=\"text/javascript\">                require([\"plotly\"], function(Plotly) {                    window.PLOTLYENV=window.PLOTLYENV || {};                                    if (document.getElementById(\"663e3bd4-1d4e-4d08-9318-d597c1e7c773\")) {                    Plotly.newPlot(                        \"663e3bd4-1d4e-4d08-9318-d597c1e7c773\",                        [{\"cells\":{\"align\":\"center\",\"fill\":{\"color\":[\"rgba(228, 222, 249, 0.65)\",\"rgba(228, 222, 249, 0.65)\",\"rgba(228, 222, 249, 0.65)\",\"rgba(228, 222, 249, 0.65)\",\"rgba(228, 222, 249, 0.65)\",\"rgba(228, 222, 249, 0.65)\",\"rgba(228, 222, 249, 0.65)\",\"rgba(228, 222, 249, 0.65)\",\"rgba(228, 222, 249, 0.65)\",\"rgba(228, 222, 249, 0.65)\",\"rgba(228, 222, 249, 0.65)\",\"rgba(228, 222, 249, 0.65)\",\"rgba(228, 222, 249, 0.65)\",\"rgba(228, 222, 249, 0.65)\",\"rgba(228, 222, 249, 0.65)\",\"rgba(228, 222, 249, 0.65)\",\"rgba(228, 222, 249, 0.65)\",\"rgba(228, 222, 249, 0.65)\",\"rgba(228, 222, 249, 0.65)\",\"rgba(228, 222, 249, 0.65)\",\"rgba(228, 222, 249, 0.65)\",\"rgba(228, 222, 249, 0.65)\",\"rgba(228, 222, 249, 0.65)\",\"rgba(228, 222, 249, 0.65)\",\"rgba(228, 222, 249, 0.65)\",\"rgba(228, 222, 249, 0.65)\",\"rgba(228, 222, 249, 0.65)\",\"rgba(228, 222, 249, 0.65)\",\"rgba(228, 222, 249, 0.65)\",\"rgba(228, 222, 249, 0.65)\",\"rgba(228, 222, 249, 0.65)\",\"rgba(228, 222, 249, 0.65)\",\"rgba(228, 222, 249, 0.65)\",\"rgba(228, 222, 249, 0.65)\",\"rgba(228, 222, 249, 0.65)\",\"rgba(228, 222, 249, 0.65)\",\"rgba(228, 222, 249, 0.65)\",\"rgba(228, 222, 249, 0.65)\",\"rgba(228, 222, 249, 0.65)\",\"rgba(228, 222, 249, 0.65)\",\"rgba(228, 222, 249, 0.65)\",\"rgba(228, 222, 249, 0.65)\",\"rgba(228, 222, 249, 0.65)\",\"rgba(228, 222, 249, 0.65)\",\"rgba(228, 222, 249, 0.65)\",\"rgba(228, 222, 249, 0.65)\",\"rgba(228, 222, 249, 0.65)\",\"rgba(228, 222, 249, 0.65)\",\"rgba(228, 222, 249, 0.65)\",\"rgba(228, 222, 249, 0.65)\",\"rgba(228, 222, 249, 0.65)\",\"rgba(228, 222, 249, 0.65)\",\"rgba(228, 222, 249, 0.65)\",\"rgba(228, 222, 249, 0.65)\",\"rgba(228, 222, 249, 0.65)\",\"rgba(228, 222, 249, 0.65)\",\"rgba(228, 222, 249, 0.65)\",\"rgba(228, 222, 249, 0.65)\",\"rgba(228, 222, 249, 0.65)\",\"rgba(228, 222, 249, 0.65)\",\"rgba(228, 222, 249, 0.65)\",\"rgba(228, 222, 249, 0.65)\",\"rgba(228, 222, 249, 0.65)\",\"rgba(228, 222, 249, 0.65)\",\"rgba(228, 222, 249, 0.65)\",\"rgba(228, 222, 249, 0.65)\",\"rgba(228, 222, 249, 0.65)\",\"red\",\"rgba(228, 222, 249, 0.65)\",\"rgba(228, 222, 249, 0.65)\",\"red\",\"red\",\"rgba(228, 222, 249, 0.65)\",\"red\",\"rgba(228, 222, 249, 0.65)\",\"rgba(228, 222, 249, 0.65)\",\"rgba(228, 222, 249, 0.65)\",\"rgba(228, 222, 249, 0.65)\",\"rgba(228, 222, 249, 0.65)\",\"rgba(228, 222, 249, 0.65)\",\"rgba(228, 222, 249, 0.65)\",\"rgba(228, 222, 249, 0.65)\",\"rgba(228, 222, 249, 0.65)\",\"rgba(228, 222, 249, 0.65)\",\"rgba(228, 222, 249, 0.65)\",\"rgba(228, 222, 249, 0.65)\",\"rgba(228, 222, 249, 0.65)\",\"rgba(228, 222, 249, 0.65)\",\"rgba(228, 222, 249, 0.65)\",\"rgba(228, 222, 249, 0.65)\",\"rgba(228, 222, 249, 0.65)\",\"rgba(228, 222, 249, 0.65)\",\"rgba(228, 222, 249, 0.65)\",\"rgba(228, 222, 249, 0.65)\",\"rgba(228, 222, 249, 0.65)\",\"rgba(228, 222, 249, 0.65)\",\"rgba(228, 222, 249, 0.65)\",\"rgba(228, 222, 249, 0.65)\",\"rgba(228, 222, 249, 0.65)\",\"rgba(228, 222, 249, 0.65)\",\"rgba(228, 222, 249, 0.65)\",\"rgba(228, 222, 249, 0.65)\",\"rgba(228, 222, 249, 0.65)\",\"rgba(228, 222, 249, 0.65)\",\"rgba(228, 222, 249, 0.65)\",\"rgba(228, 222, 249, 0.65)\",\"rgba(228, 222, 249, 0.65)\",\"rgba(228, 222, 249, 0.65)\",\"rgba(228, 222, 249, 0.65)\",\"rgba(228, 222, 249, 0.65)\",\"rgba(228, 222, 249, 0.65)\",\"rgba(228, 222, 249, 0.65)\",\"rgba(228, 222, 249, 0.65)\",\"rgba(228, 222, 249, 0.65)\",\"rgba(228, 222, 249, 0.65)\",\"rgba(228, 222, 249, 0.65)\",\"rgba(228, 222, 249, 0.65)\",\"rgba(228, 222, 249, 0.65)\",\"red\",\"rgba(228, 222, 249, 0.65)\",\"rgba(228, 222, 249, 0.65)\",\"rgba(228, 222, 249, 0.65)\",\"rgba(228, 222, 249, 0.65)\"]},\"font\":{\"size\":12},\"values\":[[\"2019-08-01\",\"2019-11-01\",\"2019-12-01\",\"2020-02-01\",\"2023-11-01\"],[3.8,5.4,5.2,3.3,-0.8]]},\"columnwidth\":[1,2],\"domain\":{\"x\":[0,1],\"y\":[0,0.3]},\"header\":{\"fill\":{\"color\":\"#d562be\"},\"font\":{\"size\":14},\"values\":[\"<b>Date</b>\",\"<b>Anomaly Values</b>\"]},\"type\":\"table\"},{\"line\":{\"color\":\"blue\"},\"mode\":\"lines+markers\",\"name\":\"Actuals\",\"x\":[\"2014-01-01T00:00:00\",\"2014-02-01T00:00:00\",\"2014-03-01T00:00:00\",\"2014-04-01T00:00:00\",\"2014-05-01T00:00:00\",\"2014-06-01T00:00:00\",\"2014-07-01T00:00:00\",\"2014-08-01T00:00:00\",\"2014-09-01T00:00:00\",\"2014-10-01T00:00:00\",\"2014-11-01T00:00:00\",\"2014-12-01T00:00:00\",\"2015-01-01T00:00:00\",\"2015-02-01T00:00:00\",\"2015-03-01T00:00:00\",\"2015-04-01T00:00:00\",\"2015-05-01T00:00:00\",\"2015-06-01T00:00:00\",\"2015-07-01T00:00:00\",\"2015-08-01T00:00:00\",\"2015-09-01T00:00:00\",\"2015-10-01T00:00:00\",\"2015-11-01T00:00:00\",\"2015-12-01T00:00:00\",\"2016-01-01T00:00:00\",\"2016-02-01T00:00:00\",\"2016-03-01T00:00:00\",\"2016-04-01T00:00:00\",\"2016-05-01T00:00:00\",\"2016-06-01T00:00:00\",\"2016-07-01T00:00:00\",\"2016-08-01T00:00:00\",\"2016-09-01T00:00:00\",\"2016-10-01T00:00:00\",\"2016-11-01T00:00:00\",\"2016-12-01T00:00:00\",\"2017-01-01T00:00:00\",\"2017-02-01T00:00:00\",\"2017-03-01T00:00:00\",\"2017-04-01T00:00:00\",\"2017-05-01T00:00:00\",\"2017-06-01T00:00:00\",\"2017-07-01T00:00:00\",\"2017-08-01T00:00:00\",\"2017-09-01T00:00:00\",\"2017-10-01T00:00:00\",\"2017-11-01T00:00:00\",\"2017-12-01T00:00:00\",\"2018-01-01T00:00:00\",\"2018-02-01T00:00:00\",\"2018-03-01T00:00:00\",\"2018-04-01T00:00:00\",\"2018-05-01T00:00:00\",\"2018-06-01T00:00:00\",\"2018-07-01T00:00:00\",\"2018-08-01T00:00:00\",\"2018-09-01T00:00:00\",\"2018-10-01T00:00:00\",\"2018-11-01T00:00:00\",\"2018-12-01T00:00:00\",\"2019-01-01T00:00:00\",\"2019-02-01T00:00:00\",\"2019-03-01T00:00:00\",\"2019-04-01T00:00:00\",\"2019-05-01T00:00:00\",\"2019-06-01T00:00:00\",\"2019-07-01T00:00:00\",\"2019-08-01T00:00:00\",\"2019-09-01T00:00:00\",\"2019-10-01T00:00:00\",\"2019-11-01T00:00:00\",\"2019-12-01T00:00:00\",\"2020-01-01T00:00:00\",\"2020-02-01T00:00:00\",\"2020-03-01T00:00:00\",\"2020-04-01T00:00:00\",\"2020-05-01T00:00:00\",\"2020-06-01T00:00:00\",\"2020-07-01T00:00:00\",\"2020-08-01T00:00:00\",\"2020-09-01T00:00:00\",\"2020-10-01T00:00:00\",\"2020-11-01T00:00:00\",\"2020-12-01T00:00:00\",\"2021-01-01T00:00:00\",\"2021-02-01T00:00:00\",\"2021-03-01T00:00:00\",\"2021-04-01T00:00:00\",\"2021-05-01T00:00:00\",\"2021-06-01T00:00:00\",\"2021-07-01T00:00:00\",\"2021-08-01T00:00:00\",\"2021-09-01T00:00:00\",\"2021-10-01T00:00:00\",\"2021-11-01T00:00:00\",\"2021-12-01T00:00:00\",\"2022-01-01T00:00:00\",\"2022-02-01T00:00:00\",\"2022-03-01T00:00:00\",\"2022-04-01T00:00:00\",\"2022-05-01T00:00:00\",\"2022-06-01T00:00:00\",\"2022-07-01T00:00:00\",\"2022-08-01T00:00:00\",\"2022-09-01T00:00:00\",\"2022-10-01T00:00:00\",\"2022-11-01T00:00:00\",\"2022-12-01T00:00:00\",\"2023-01-01T00:00:00\",\"2023-02-01T00:00:00\",\"2023-03-01T00:00:00\",\"2023-04-01T00:00:00\",\"2023-05-01T00:00:00\",\"2023-06-01T00:00:00\",\"2023-07-01T00:00:00\",\"2023-08-01T00:00:00\",\"2023-09-01T00:00:00\",\"2023-10-01T00:00:00\",\"2023-11-01T00:00:00\",\"2023-12-01T00:00:00\",\"2024-01-01T00:00:00\",\"2024-02-01T00:00:00\",\"2024-03-01T00:00:00\"],\"y\":[2.5,2.0,2.4,1.8,2.5,2.3,2.3,2.0,1.6,1.6,1.4,1.5,0.8,1.4,1.4,1.5,1.2,1.4,1.6,2.0,1.6,1.3,1.5,1.6,1.8,2.3,2.0,1.9,1.8,1.3,1.9,2.1,2.3,2.1,2.5,0.8,0.9,1.2,1.5,1.5,1.4,1.8,1.6,1.9,1.7,1.8,1.5,2.9,2.1,1.8,1.8,1.9,2.1,2.3,2.5,2.5,2.2,1.9,1.7,1.5,2.3,2.5,2.7,2.7,2.8,2.8,3.0,3.8,4.5,4.5,5.4,5.2,4.3,3.3,2.4,2.5,2.7,2.4,1.7,0.5,-0.5,0.2,-0.3,-0.2,0.4,0.9,1.3,1.1,1.0,0.8,0.7,1.5,2.3,1.5,0.9,0.9,1.5,2.1,2.1,2.5,2.7,2.5,2.8,2.1,1.6,1.8,2.1,1.0,0.7,0.1,0.2,0.0,-0.3,0.1,0.0,-0.2,-0.5,-0.3,-0.8,0.7,0.1,0.3,0.3],\"type\":\"scatter\"},{\"marker\":{\"color\":\"red\",\"size\":11},\"mode\":\"markers\",\"name\":\"Anomalies\",\"x\":[\"2019-08-01T00:00:00\",\"2019-11-01T00:00:00\",\"2019-12-01T00:00:00\",\"2020-02-01T00:00:00\",\"2023-11-01T00:00:00\"],\"y\":[3.8,5.4,5.2,3.3,-0.8],\"type\":\"scatter\"}],                        {\"height\":600,\"showlegend\":true,\"template\":{\"data\":{\"barpolar\":[{\"marker\":{\"line\":{\"color\":\"#E5ECF6\",\"width\":0.5},\"pattern\":{\"fillmode\":\"overlay\",\"size\":10,\"solidity\":0.2}},\"type\":\"barpolar\"}],\"bar\":[{\"error_x\":{\"color\":\"#2a3f5f\"},\"error_y\":{\"color\":\"#2a3f5f\"},\"marker\":{\"line\":{\"color\":\"#E5ECF6\",\"width\":0.5},\"pattern\":{\"fillmode\":\"overlay\",\"size\":10,\"solidity\":0.2}},\"type\":\"bar\"}],\"carpet\":[{\"aaxis\":{\"endlinecolor\":\"#2a3f5f\",\"gridcolor\":\"white\",\"linecolor\":\"white\",\"minorgridcolor\":\"white\",\"startlinecolor\":\"#2a3f5f\"},\"baxis\":{\"endlinecolor\":\"#2a3f5f\",\"gridcolor\":\"white\",\"linecolor\":\"white\",\"minorgridcolor\":\"white\",\"startlinecolor\":\"#2a3f5f\"},\"type\":\"carpet\"}],\"choropleth\":[{\"colorbar\":{\"outlinewidth\":0,\"ticks\":\"\"},\"type\":\"choropleth\"}],\"contourcarpet\":[{\"colorbar\":{\"outlinewidth\":0,\"ticks\":\"\"},\"type\":\"contourcarpet\"}],\"contour\":[{\"colorbar\":{\"outlinewidth\":0,\"ticks\":\"\"},\"colorscale\":[[0.0,\"#0d0887\"],[0.1111111111111111,\"#46039f\"],[0.2222222222222222,\"#7201a8\"],[0.3333333333333333,\"#9c179e\"],[0.4444444444444444,\"#bd3786\"],[0.5555555555555556,\"#d8576b\"],[0.6666666666666666,\"#ed7953\"],[0.7777777777777778,\"#fb9f3a\"],[0.8888888888888888,\"#fdca26\"],[1.0,\"#f0f921\"]],\"type\":\"contour\"}],\"heatmapgl\":[{\"colorbar\":{\"outlinewidth\":0,\"ticks\":\"\"},\"colorscale\":[[0.0,\"#0d0887\"],[0.1111111111111111,\"#46039f\"],[0.2222222222222222,\"#7201a8\"],[0.3333333333333333,\"#9c179e\"],[0.4444444444444444,\"#bd3786\"],[0.5555555555555556,\"#d8576b\"],[0.6666666666666666,\"#ed7953\"],[0.7777777777777778,\"#fb9f3a\"],[0.8888888888888888,\"#fdca26\"],[1.0,\"#f0f921\"]],\"type\":\"heatmapgl\"}],\"heatmap\":[{\"colorbar\":{\"outlinewidth\":0,\"ticks\":\"\"},\"colorscale\":[[0.0,\"#0d0887\"],[0.1111111111111111,\"#46039f\"],[0.2222222222222222,\"#7201a8\"],[0.3333333333333333,\"#9c179e\"],[0.4444444444444444,\"#bd3786\"],[0.5555555555555556,\"#d8576b\"],[0.6666666666666666,\"#ed7953\"],[0.7777777777777778,\"#fb9f3a\"],[0.8888888888888888,\"#fdca26\"],[1.0,\"#f0f921\"]],\"type\":\"heatmap\"}],\"histogram2dcontour\":[{\"colorbar\":{\"outlinewidth\":0,\"ticks\":\"\"},\"colorscale\":[[0.0,\"#0d0887\"],[0.1111111111111111,\"#46039f\"],[0.2222222222222222,\"#7201a8\"],[0.3333333333333333,\"#9c179e\"],[0.4444444444444444,\"#bd3786\"],[0.5555555555555556,\"#d8576b\"],[0.6666666666666666,\"#ed7953\"],[0.7777777777777778,\"#fb9f3a\"],[0.8888888888888888,\"#fdca26\"],[1.0,\"#f0f921\"]],\"type\":\"histogram2dcontour\"}],\"histogram2d\":[{\"colorbar\":{\"outlinewidth\":0,\"ticks\":\"\"},\"colorscale\":[[0.0,\"#0d0887\"],[0.1111111111111111,\"#46039f\"],[0.2222222222222222,\"#7201a8\"],[0.3333333333333333,\"#9c179e\"],[0.4444444444444444,\"#bd3786\"],[0.5555555555555556,\"#d8576b\"],[0.6666666666666666,\"#ed7953\"],[0.7777777777777778,\"#fb9f3a\"],[0.8888888888888888,\"#fdca26\"],[1.0,\"#f0f921\"]],\"type\":\"histogram2d\"}],\"histogram\":[{\"marker\":{\"pattern\":{\"fillmode\":\"overlay\",\"size\":10,\"solidity\":0.2}},\"type\":\"histogram\"}],\"mesh3d\":[{\"colorbar\":{\"outlinewidth\":0,\"ticks\":\"\"},\"type\":\"mesh3d\"}],\"parcoords\":[{\"line\":{\"colorbar\":{\"outlinewidth\":0,\"ticks\":\"\"}},\"type\":\"parcoords\"}],\"pie\":[{\"automargin\":true,\"type\":\"pie\"}],\"scatter3d\":[{\"line\":{\"colorbar\":{\"outlinewidth\":0,\"ticks\":\"\"}},\"marker\":{\"colorbar\":{\"outlinewidth\":0,\"ticks\":\"\"}},\"type\":\"scatter3d\"}],\"scattercarpet\":[{\"marker\":{\"colorbar\":{\"outlinewidth\":0,\"ticks\":\"\"}},\"type\":\"scattercarpet\"}],\"scattergeo\":[{\"marker\":{\"colorbar\":{\"outlinewidth\":0,\"ticks\":\"\"}},\"type\":\"scattergeo\"}],\"scattergl\":[{\"marker\":{\"colorbar\":{\"outlinewidth\":0,\"ticks\":\"\"}},\"type\":\"scattergl\"}],\"scattermapbox\":[{\"marker\":{\"colorbar\":{\"outlinewidth\":0,\"ticks\":\"\"}},\"type\":\"scattermapbox\"}],\"scatterpolargl\":[{\"marker\":{\"colorbar\":{\"outlinewidth\":0,\"ticks\":\"\"}},\"type\":\"scatterpolargl\"}],\"scatterpolar\":[{\"marker\":{\"colorbar\":{\"outlinewidth\":0,\"ticks\":\"\"}},\"type\":\"scatterpolar\"}],\"scatter\":[{\"fillpattern\":{\"fillmode\":\"overlay\",\"size\":10,\"solidity\":0.2},\"type\":\"scatter\"}],\"scatterternary\":[{\"marker\":{\"colorbar\":{\"outlinewidth\":0,\"ticks\":\"\"}},\"type\":\"scatterternary\"}],\"surface\":[{\"colorbar\":{\"outlinewidth\":0,\"ticks\":\"\"},\"colorscale\":[[0.0,\"#0d0887\"],[0.1111111111111111,\"#46039f\"],[0.2222222222222222,\"#7201a8\"],[0.3333333333333333,\"#9c179e\"],[0.4444444444444444,\"#bd3786\"],[0.5555555555555556,\"#d8576b\"],[0.6666666666666666,\"#ed7953\"],[0.7777777777777778,\"#fb9f3a\"],[0.8888888888888888,\"#fdca26\"],[1.0,\"#f0f921\"]],\"type\":\"surface\"}],\"table\":[{\"cells\":{\"fill\":{\"color\":\"#EBF0F8\"},\"line\":{\"color\":\"white\"}},\"header\":{\"fill\":{\"color\":\"#C8D4E3\"},\"line\":{\"color\":\"white\"}},\"type\":\"table\"}]},\"layout\":{\"annotationdefaults\":{\"arrowcolor\":\"#2a3f5f\",\"arrowhead\":0,\"arrowwidth\":1},\"autotypenumbers\":\"strict\",\"coloraxis\":{\"colorbar\":{\"outlinewidth\":0,\"ticks\":\"\"}},\"colorscale\":{\"diverging\":[[0,\"#8e0152\"],[0.1,\"#c51b7d\"],[0.2,\"#de77ae\"],[0.3,\"#f1b6da\"],[0.4,\"#fde0ef\"],[0.5,\"#f7f7f7\"],[0.6,\"#e6f5d0\"],[0.7,\"#b8e186\"],[0.8,\"#7fbc41\"],[0.9,\"#4d9221\"],[1,\"#276419\"]],\"sequential\":[[0.0,\"#0d0887\"],[0.1111111111111111,\"#46039f\"],[0.2222222222222222,\"#7201a8\"],[0.3333333333333333,\"#9c179e\"],[0.4444444444444444,\"#bd3786\"],[0.5555555555555556,\"#d8576b\"],[0.6666666666666666,\"#ed7953\"],[0.7777777777777778,\"#fb9f3a\"],[0.8888888888888888,\"#fdca26\"],[1.0,\"#f0f921\"]],\"sequentialminus\":[[0.0,\"#0d0887\"],[0.1111111111111111,\"#46039f\"],[0.2222222222222222,\"#7201a8\"],[0.3333333333333333,\"#9c179e\"],[0.4444444444444444,\"#bd3786\"],[0.5555555555555556,\"#d8576b\"],[0.6666666666666666,\"#ed7953\"],[0.7777777777777778,\"#fb9f3a\"],[0.8888888888888888,\"#fdca26\"],[1.0,\"#f0f921\"]]},\"colorway\":[\"#636efa\",\"#EF553B\",\"#00cc96\",\"#ab63fa\",\"#FFA15A\",\"#19d3f3\",\"#FF6692\",\"#B6E880\",\"#FF97FF\",\"#FECB52\"],\"font\":{\"color\":\"#2a3f5f\"},\"geo\":{\"bgcolor\":\"white\",\"lakecolor\":\"white\",\"landcolor\":\"#E5ECF6\",\"showlakes\":true,\"showland\":true,\"subunitcolor\":\"white\"},\"hoverlabel\":{\"align\":\"left\"},\"hovermode\":\"closest\",\"mapbox\":{\"style\":\"light\"},\"paper_bgcolor\":\"white\",\"plot_bgcolor\":\"#E5ECF6\",\"polar\":{\"angularaxis\":{\"gridcolor\":\"white\",\"linecolor\":\"white\",\"ticks\":\"\"},\"bgcolor\":\"#E5ECF6\",\"radialaxis\":{\"gridcolor\":\"white\",\"linecolor\":\"white\",\"ticks\":\"\"}},\"scene\":{\"xaxis\":{\"backgroundcolor\":\"#E5ECF6\",\"gridcolor\":\"white\",\"gridwidth\":2,\"linecolor\":\"white\",\"showbackground\":true,\"ticks\":\"\",\"zerolinecolor\":\"white\"},\"yaxis\":{\"backgroundcolor\":\"#E5ECF6\",\"gridcolor\":\"white\",\"gridwidth\":2,\"linecolor\":\"white\",\"showbackground\":true,\"ticks\":\"\",\"zerolinecolor\":\"white\"},\"zaxis\":{\"backgroundcolor\":\"#E5ECF6\",\"gridcolor\":\"white\",\"gridwidth\":2,\"linecolor\":\"white\",\"showbackground\":true,\"ticks\":\"\",\"zerolinecolor\":\"white\"}},\"shapedefaults\":{\"line\":{\"color\":\"#2a3f5f\"}},\"ternary\":{\"aaxis\":{\"gridcolor\":\"white\",\"linecolor\":\"white\",\"ticks\":\"\"},\"baxis\":{\"gridcolor\":\"white\",\"linecolor\":\"white\",\"ticks\":\"\"},\"bgcolor\":\"#E5ECF6\",\"caxis\":{\"gridcolor\":\"white\",\"linecolor\":\"white\",\"ticks\":\"\"}},\"title\":{\"x\":0.05},\"xaxis\":{\"automargin\":true,\"gridcolor\":\"white\",\"linecolor\":\"white\",\"ticks\":\"\",\"title\":{\"standoff\":15},\"zerolinecolor\":\"white\",\"zerolinewidth\":2},\"yaxis\":{\"automargin\":true,\"gridcolor\":\"white\",\"linecolor\":\"white\",\"ticks\":\"\",\"title\":{\"standoff\":15},\"zerolinecolor\":\"white\",\"zerolinewidth\":2}}},\"title\":{\"text\":\"Anomaly Detection for CHN_CPI\"},\"xaxis\":{\"domain\":[0,1]},\"yaxis\":{\"domain\":[0.4,1]}},                        {\"responsive\": true}                    ).then(function(){\n",
       "                            \n",
       "var gd = document.getElementById('663e3bd4-1d4e-4d08-9318-d597c1e7c773');\n",
       "var x = new MutationObserver(function (mutations, observer) {{\n",
       "        var display = window.getComputedStyle(gd).display;\n",
       "        if (!display || display === 'none') {{\n",
       "            console.log([gd, 'removed!']);\n",
       "            Plotly.purge(gd);\n",
       "            observer.disconnect();\n",
       "        }}\n",
       "}});\n",
       "\n",
       "// Listen for the removal of the full notebook cells\n",
       "var notebookContainer = gd.closest('#notebook-container');\n",
       "if (notebookContainer) {{\n",
       "    x.observe(notebookContainer, {childList: true});\n",
       "}}\n",
       "\n",
       "// Listen for the clearing of the current output cell\n",
       "var outputEl = gd.closest('.output');\n",
       "if (outputEl) {{\n",
       "    x.observe(outputEl, {childList: true});\n",
       "}}\n",
       "\n",
       "                        })                };                });            </script>        </div>"
      ]
     },
     "metadata": {},
     "output_type": "display_data"
    }
   ],
   "source": [
    "df_plot = detect_anomalies(df_sub, 'CHN_CPI')\n",
    "\n",
    "plot_anomalies(df_sub, 'Period', 'CHN_CPI', 'anomaly', 'Anomaly Detection for CHN_CPI')\n"
   ]
  },
  {
   "cell_type": "code",
   "execution_count": 58,
   "metadata": {},
   "outputs": [],
   "source": [
    "df['Target_SodaAshLightChinaSpotExportAverageFOBChinaUSperMetricTon'].to_clipboard()"
   ]
  }
 ],
 "metadata": {
  "kernelspec": {
   "display_name": "Python 3",
   "language": "python",
   "name": "python3"
  },
  "language_info": {
   "codemirror_mode": {
    "name": "ipython",
    "version": 3
   },
   "file_extension": ".py",
   "mimetype": "text/x-python",
   "name": "python",
   "nbconvert_exporter": "python",
   "pygments_lexer": "ipython3",
   "version": "3.11.7"
  }
 },
 "nbformat": 4,
 "nbformat_minor": 2
}
